{
 "metadata": {
  "name": ""
 },
 "nbformat": 3,
 "nbformat_minor": 0,
 "worksheets": [
  {
   "cells": [
    {
     "cell_type": "markdown",
     "metadata": {},
     "source": [
      "---\n",
      "\n",
      "## Intermediate Natural Language Processing, Part 1\n",
      "\n",
      "---"
     ]
    },
    {
     "cell_type": "code",
     "collapsed": false,
     "input": [
      "import cPickle\n",
      "from hiPy import hi_nyt\n",
      "reload(hi_nyt)\n",
      "import yaml"
     ],
     "language": "python",
     "metadata": {},
     "outputs": [],
     "prompt_number": 1
    },
    {
     "cell_type": "code",
     "collapsed": false,
     "input": [
      "config = yaml.load(open('config.yaml').read())"
     ],
     "language": "python",
     "metadata": {},
     "outputs": [],
     "prompt_number": 2
    },
    {
     "cell_type": "markdown",
     "metadata": {},
     "source": [
      "### Fetch NYT API Data"
     ]
    },
    {
     "cell_type": "code",
     "collapsed": false,
     "input": [
      "all_docs = hi_nyt.query_nyt_article_search('\"thomas l. friedman\"',\n",
      "                                           config['nyt_api_key'],\n",
      "                                           max_pages=1000)"
     ],
     "language": "python",
     "metadata": {},
     "outputs": [
      {
       "output_type": "stream",
       "stream": "stdout",
       "text": [
        "\n",
        "*INFO: query = \"thomas l. friedman\"\n",
        "*INFO: url = http://api.nytimes.com/svc/search/v2/articlesearch.json?q=%22thomas+l.+friedman%22&sort=newest&begin_date=18510918&api-key=f28d40af5370f79078fc5eb7ffd97049%3A17%3A49171679&end_date=20130822&facet_filter=true&fl=web_url%2Csnippet%2Clead_paragraph%2Cabstract%2Cprint_page%2Cblog%2Csource%2Cmultimedia%2Cheadline%2Ckeywords%2Cpub_date%2Cdocument_type%2Cnews_desk%2Cbyline%2Ctype_of_material%2C_id%2Cword_count&page=0&facet_field=source%2Csection_name%2Cdocument_type%2Ctype_of_material%2Cday_of_week\n",
        "*INFO: n_total_results = 6853 \n",
        "\n",
        "facet                           count \n",
        "-------------------------------------\n",
        "type_of_material..............   6847\n",
        "   News.......................   1977\n",
        "   Op-Ed......................   1912\n",
        "   Letter.....................   1089\n",
        "   Summary....................   1073\n",
        "   List.......................    304\n",
        "source........................   6847\n",
        "   The New York Times.........   6841\n",
        "   ...........................      3\n",
        "   International Herald Tribu*      2\n",
        "   CNBC.......................      1\n",
        "document_type.................   6853\n",
        "   article....................   6651\n",
        "   blogpost...................    187\n",
        "   multimedia.................     15\n",
        "section_name..................   6838\n",
        "   Opinion....................   3119\n",
        "   New York and Region........   1097\n",
        "   World......................    553\n",
        "   World; Washington..........    483\n",
        "   Arts; Books................    361\n",
        "day_of_week...................   6853\n",
        "   Sunday.....................   1755\n",
        "   Wednesday..................   1559\n",
        "   Friday.....................   1049\n",
        "   Tuesday....................    833\n",
        "   Thursday...................    748\n",
        "\n",
        "... n_results = 0\n",
        "... url = http://api.nytimes.com/svc/search/v2/articlesearch.json?q=%22thomas+l.+friedman%22&sort=newest&begin_date=18510918&api-key=f28d40af5370f79078fc5eb7ffd97049%3A17%3A49171679&end_date=20130822&facet_filter=true&fl=web_url%2Csnippet%2Clead_paragraph%2Cabstract%2Cprint_page%2Cblog%2Csource%2Cmultimedia%2Cheadline%2Ckeywords%2Cpub_date%2Cdocument_type%2Cnews_desk%2Cbyline%2Ctype_of_material%2C_id%2Cword_count&page=0&facet_field=source%2Csection_name%2Cdocument_type%2Ctype_of_material%2Cday_of_week\n",
        "... last_date = 2013-08-21T00:00:00Z\n",
        "\n",
        "... n_results ="
       ]
      },
      {
       "output_type": "stream",
       "stream": "stdout",
       "text": [
        " 60\n",
        "... url = http://api.nytimes.com/svc/search/v2/articlesearch.json?q=%22thomas+l.+friedman%22&sort=newest&begin_date=18510918&api-key=f28d40af5370f79078fc5eb7ffd97049%3A17%3A49171679&end_date=20130822&facet_filter=true&fl=web_url%2Csnippet%2Clead_paragraph%2Cabstract%2Cprint_page%2Cblog%2Csource%2Cmultimedia%2Cheadline%2Ckeywords%2Cpub_date%2Cdocument_type%2Cnews_desk%2Cbyline%2Ctype_of_material%2C_id%2Cword_count&page=6&facet_field=source%2Csection_name%2Cdocument_type%2Ctype_of_material%2Cday_of_week\n",
        "... last_date = 2013-02-06T00:00:00Z\n",
        "\n",
        "... n_results ="
       ]
      },
      {
       "output_type": "stream",
       "stream": "stdout",
       "text": [
        " 120\n",
        "... url = http://api.nytimes.com/svc/search/v2/articlesearch.json?q=%22thomas+l.+friedman%22&sort=newest&begin_date=18510918&api-key=f28d40af5370f79078fc5eb7ffd97049%3A17%3A49171679&end_date=20130822&facet_filter=true&fl=web_url%2Csnippet%2Clead_paragraph%2Cabstract%2Cprint_page%2Cblog%2Csource%2Cmultimedia%2Cheadline%2Ckeywords%2Cpub_date%2Cdocument_type%2Cnews_desk%2Cbyline%2Ctype_of_material%2C_id%2Cword_count&page=12&facet_field=source%2Csection_name%2Cdocument_type%2Ctype_of_material%2Cday_of_week\n",
        "... last_date = 2012-08-29T00:00:00Z\n",
        "\n",
        "... n_results ="
       ]
      },
      {
       "output_type": "stream",
       "stream": "stdout",
       "text": [
        " 180\n",
        "... url = http://api.nytimes.com/svc/search/v2/articlesearch.json?q=%22thomas+l.+friedman%22&sort=newest&begin_date=18510918&api-key=f28d40af5370f79078fc5eb7ffd97049%3A17%3A49171679&end_date=20130822&facet_filter=true&fl=web_url%2Csnippet%2Clead_paragraph%2Cabstract%2Cprint_page%2Cblog%2Csource%2Cmultimedia%2Cheadline%2Ckeywords%2Cpub_date%2Cdocument_type%2Cnews_desk%2Cbyline%2Ctype_of_material%2C_id%2Cword_count&page=18&facet_field=source%2Csection_name%2Cdocument_type%2Ctype_of_material%2Cday_of_week\n",
        "... last_date = 2012-05-30T00:00:00Z\n",
        "\n",
        "... n_results ="
       ]
      },
      {
       "output_type": "stream",
       "stream": "stdout",
       "text": [
        " 240\n",
        "... url = http://api.nytimes.com/svc/search/v2/articlesearch.json?q=%22thomas+l.+friedman%22&sort=newest&begin_date=18510918&api-key=f28d40af5370f79078fc5eb7ffd97049%3A17%3A49171679&end_date=20130822&facet_filter=true&fl=web_url%2Csnippet%2Clead_paragraph%2Cabstract%2Cprint_page%2Cblog%2Csource%2Cmultimedia%2Cheadline%2Ckeywords%2Cpub_date%2Cdocument_type%2Cnews_desk%2Cbyline%2Ctype_of_material%2C_id%2Cword_count&page=24&facet_field=source%2Csection_name%2Cdocument_type%2Ctype_of_material%2Cday_of_week\n",
        "... last_date = 2012-03-14T00:00:00Z\n",
        "\n",
        "... n_results ="
       ]
      },
      {
       "output_type": "stream",
       "stream": "stdout",
       "text": [
        " 300\n",
        "... url = http://api.nytimes.com/svc/search/v2/articlesearch.json?q=%22thomas+l.+friedman%22&sort=newest&begin_date=18510918&api-key=f28d40af5370f79078fc5eb7ffd97049%3A17%3A49171679&end_date=20130822&facet_filter=true&fl=web_url%2Csnippet%2Clead_paragraph%2Cabstract%2Cprint_page%2Cblog%2Csource%2Cmultimedia%2Cheadline%2Ckeywords%2Cpub_date%2Cdocument_type%2Cnews_desk%2Cbyline%2Ctype_of_material%2C_id%2Cword_count&page=30&facet_field=source%2Csection_name%2Cdocument_type%2Ctype_of_material%2Cday_of_week\n",
        "... last_date = 2012-01-10T21:08:23Z\n",
        "\n",
        "... n_results ="
       ]
      },
      {
       "output_type": "stream",
       "stream": "stdout",
       "text": [
        " 360\n",
        "... url = http://api.nytimes.com/svc/search/v2/articlesearch.json?q=%22thomas+l.+friedman%22&sort=newest&begin_date=18510918&api-key=f28d40af5370f79078fc5eb7ffd97049%3A17%3A49171679&end_date=20130822&facet_filter=true&fl=web_url%2Csnippet%2Clead_paragraph%2Cabstract%2Cprint_page%2Cblog%2Csource%2Cmultimedia%2Cheadline%2Ckeywords%2Cpub_date%2Cdocument_type%2Cnews_desk%2Cbyline%2Ctype_of_material%2C_id%2Cword_count&page=36&facet_field=source%2Csection_name%2Cdocument_type%2Ctype_of_material%2Cday_of_week\n",
        "... last_date = 2011-11-13T00:00:00Z\n",
        "\n",
        "... n_results ="
       ]
      },
      {
       "output_type": "stream",
       "stream": "stdout",
       "text": [
        " 420\n",
        "... url = http://api.nytimes.com/svc/search/v2/articlesearch.json?q=%22thomas+l.+friedman%22&sort=newest&begin_date=18510918&api-key=f28d40af5370f79078fc5eb7ffd97049%3A17%3A49171679&end_date=20130822&facet_filter=true&fl=web_url%2Csnippet%2Clead_paragraph%2Cabstract%2Cprint_page%2Cblog%2Csource%2Cmultimedia%2Cheadline%2Ckeywords%2Cpub_date%2Cdocument_type%2Cnews_desk%2Cbyline%2Ctype_of_material%2C_id%2Cword_count&page=42&facet_field=source%2Csection_name%2Cdocument_type%2Ctype_of_material%2Cday_of_week\n",
        "... last_date = 2011-09-28T00:00:00Z\n",
        "\n",
        "... n_results ="
       ]
      },
      {
       "output_type": "stream",
       "stream": "stdout",
       "text": [
        " 480\n",
        "... url = http://api.nytimes.com/svc/search/v2/articlesearch.json?q=%22thomas+l.+friedman%22&sort=newest&begin_date=18510918&api-key=f28d40af5370f79078fc5eb7ffd97049%3A17%3A49171679&end_date=20130822&facet_filter=true&fl=web_url%2Csnippet%2Clead_paragraph%2Cabstract%2Cprint_page%2Cblog%2Csource%2Cmultimedia%2Cheadline%2Ckeywords%2Cpub_date%2Cdocument_type%2Cnews_desk%2Cbyline%2Ctype_of_material%2C_id%2Cword_count&page=48&facet_field=source%2Csection_name%2Cdocument_type%2Ctype_of_material%2Cday_of_week\n",
        "... last_date = 2011-06-22T00:00:00Z\n",
        "\n",
        "... n_results ="
       ]
      },
      {
       "output_type": "stream",
       "stream": "stdout",
       "text": [
        " 540\n",
        "... url = http://api.nytimes.com/svc/search/v2/articlesearch.json?q=%22thomas+l.+friedman%22&sort=newest&begin_date=18510918&api-key=f28d40af5370f79078fc5eb7ffd97049%3A17%3A49171679&end_date=20130822&facet_filter=true&fl=web_url%2Csnippet%2Clead_paragraph%2Cabstract%2Cprint_page%2Cblog%2Csource%2Cmultimedia%2Cheadline%2Ckeywords%2Cpub_date%2Cdocument_type%2Cnews_desk%2Cbyline%2Ctype_of_material%2C_id%2Cword_count&page=54&facet_field=source%2Csection_name%2Cdocument_type%2Ctype_of_material%2Cday_of_week\n",
        "... last_date = 2011-02-11T00:00:00Z\n",
        "\n",
        "... n_results ="
       ]
      },
      {
       "output_type": "stream",
       "stream": "stdout",
       "text": [
        " 600\n",
        "... url = http://api.nytimes.com/svc/search/v2/articlesearch.json?q=%22thomas+l.+friedman%22&sort=newest&begin_date=18510918&api-key=f28d40af5370f79078fc5eb7ffd97049%3A17%3A49171679&end_date=20130822&facet_filter=true&fl=web_url%2Csnippet%2Clead_paragraph%2Cabstract%2Cprint_page%2Cblog%2Csource%2Cmultimedia%2Cheadline%2Ckeywords%2Cpub_date%2Cdocument_type%2Cnews_desk%2Cbyline%2Ctype_of_material%2C_id%2Cword_count&page=60&facet_field=source%2Csection_name%2Cdocument_type%2Ctype_of_material%2Cday_of_week\n",
        "... last_date = 2010-09-29T00:00:00Z\n",
        "\n",
        "... n_results ="
       ]
      },
      {
       "output_type": "stream",
       "stream": "stdout",
       "text": [
        " 660\n",
        "... url = http://api.nytimes.com/svc/search/v2/articlesearch.json?q=%22thomas+l.+friedman%22&sort=newest&begin_date=18510918&api-key=f28d40af5370f79078fc5eb7ffd97049%3A17%3A49171679&end_date=20130822&facet_filter=true&fl=web_url%2Csnippet%2Clead_paragraph%2Cabstract%2Cprint_page%2Cblog%2Csource%2Cmultimedia%2Cheadline%2Ckeywords%2Cpub_date%2Cdocument_type%2Cnews_desk%2Cbyline%2Ctype_of_material%2C_id%2Cword_count&page=66&facet_field=source%2Csection_name%2Cdocument_type%2Ctype_of_material%2Cday_of_week\n",
        "... last_date = 2010-05-02T00:00:00Z\n",
        "\n",
        "... n_results ="
       ]
      },
      {
       "output_type": "stream",
       "stream": "stdout",
       "text": [
        " 720\n",
        "... url = http://api.nytimes.com/svc/search/v2/articlesearch.json?q=%22thomas+l.+friedman%22&sort=newest&begin_date=18510918&api-key=f28d40af5370f79078fc5eb7ffd97049%3A17%3A49171679&end_date=20130822&facet_filter=true&fl=web_url%2Csnippet%2Clead_paragraph%2Cabstract%2Cprint_page%2Cblog%2Csource%2Cmultimedia%2Cheadline%2Ckeywords%2Cpub_date%2Cdocument_type%2Cnews_desk%2Cbyline%2Ctype_of_material%2C_id%2Cword_count&page=72&facet_field=source%2Csection_name%2Cdocument_type%2Ctype_of_material%2Cday_of_week\n",
        "... last_date = 2009-12-27T00:00:00Z\n",
        "\n",
        "... n_results ="
       ]
      },
      {
       "output_type": "stream",
       "stream": "stdout",
       "text": [
        " 780\n",
        "... url = http://api.nytimes.com/svc/search/v2/articlesearch.json?q=%22thomas+l.+friedman%22&sort=newest&begin_date=18510918&api-key=f28d40af5370f79078fc5eb7ffd97049%3A17%3A49171679&end_date=20130822&facet_filter=true&fl=web_url%2Csnippet%2Clead_paragraph%2Cabstract%2Cprint_page%2Cblog%2Csource%2Cmultimedia%2Cheadline%2Ckeywords%2Cpub_date%2Cdocument_type%2Cnews_desk%2Cbyline%2Ctype_of_material%2C_id%2Cword_count&page=78&facet_field=source%2Csection_name%2Cdocument_type%2Ctype_of_material%2Cday_of_week\n",
        "... last_date = 2009-08-26T00:00:00Z\n",
        "\n",
        "... n_results ="
       ]
      },
      {
       "output_type": "stream",
       "stream": "stdout",
       "text": [
        " 840\n",
        "... url = http://api.nytimes.com/svc/search/v2/articlesearch.json?q=%22thomas+l.+friedman%22&sort=newest&begin_date=18510918&api-key=f28d40af5370f79078fc5eb7ffd97049%3A17%3A49171679&end_date=20130822&facet_filter=true&fl=web_url%2Csnippet%2Clead_paragraph%2Cabstract%2Cprint_page%2Cblog%2Csource%2Cmultimedia%2Cheadline%2Ckeywords%2Cpub_date%2Cdocument_type%2Cnews_desk%2Cbyline%2Ctype_of_material%2C_id%2Cword_count&page=84&facet_field=source%2Csection_name%2Cdocument_type%2Ctype_of_material%2Cday_of_week\n",
        "... last_date = 2009-04-26T00:00:00Z\n",
        "\n",
        "... n_results ="
       ]
      },
      {
       "output_type": "stream",
       "stream": "stdout",
       "text": [
        " 900\n",
        "... url = http://api.nytimes.com/svc/search/v2/articlesearch.json?q=%22thomas+l.+friedman%22&sort=newest&begin_date=18510918&api-key=f28d40af5370f79078fc5eb7ffd97049%3A17%3A49171679&end_date=20130822&facet_filter=true&fl=web_url%2Csnippet%2Clead_paragraph%2Cabstract%2Cprint_page%2Cblog%2Csource%2Cmultimedia%2Cheadline%2Ckeywords%2Cpub_date%2Cdocument_type%2Cnews_desk%2Cbyline%2Ctype_of_material%2C_id%2Cword_count&page=90&facet_field=source%2Csection_name%2Cdocument_type%2Ctype_of_material%2Cday_of_week\n",
        "... last_date = 2009-01-25T00:00:00Z\n",
        "\n",
        "... n_results ="
       ]
      },
      {
       "output_type": "stream",
       "stream": "stdout",
       "text": [
        " 960\n",
        "... url = http://api.nytimes.com/svc/search/v2/articlesearch.json?q=%22thomas+l.+friedman%22&sort=newest&begin_date=18510918&api-key=f28d40af5370f79078fc5eb7ffd97049%3A17%3A49171679&end_date=20130822&facet_filter=true&fl=web_url%2Csnippet%2Clead_paragraph%2Cabstract%2Cprint_page%2Cblog%2Csource%2Cmultimedia%2Cheadline%2Ckeywords%2Cpub_date%2Cdocument_type%2Cnews_desk%2Cbyline%2Ctype_of_material%2C_id%2Cword_count&page=96&facet_field=source%2Csection_name%2Cdocument_type%2Ctype_of_material%2Cday_of_week\n",
        "... last_date = 2008-11-19T00:00:00Z\n",
        "***ERROR: status_code ="
       ]
      },
      {
       "output_type": "stream",
       "stream": "stdout",
       "text": [
        " 400 !\n",
        "http://api.nytimes.com/svc/search/v2/articlesearch.json?q=%22thomas+l.+friedman%22&sort=newest&begin_date=18510918&api-key=f28d40af5370f79078fc5eb7ffd97049%3A17%3A49171679&end_date=20130822&facet_filter=true&fl=web_url%2Csnippet%2Clead_paragraph%2Cabstract%2Cprint_page%2Cblog%2Csource%2Cmultimedia%2Cheadline%2Ckeywords%2Cpub_date%2Cdocument_type%2Cnews_desk%2Cbyline%2Ctype_of_material%2C_id%2Cword_count&page=101&facet_field=source%2Csection_name%2Cdocument_type%2Ctype_of_material%2Cday_of_week\n",
        "***ERROR: status_code ="
       ]
      },
      {
       "output_type": "stream",
       "stream": "stdout",
       "text": [
        " 400 !\n",
        "http://api.nytimes.com/svc/search/v2/articlesearch.json?q=%22thomas+l.+friedman%22&sort=newest&begin_date=18510918&api-key=f28d40af5370f79078fc5eb7ffd97049%3A17%3A49171679&end_date=20130822&facet_filter=true&fl=web_url%2Csnippet%2Clead_paragraph%2Cabstract%2Cprint_page%2Cblog%2Csource%2Cmultimedia%2Cheadline%2Ckeywords%2Cpub_date%2Cdocument_type%2Cnews_desk%2Cbyline%2Ctype_of_material%2C_id%2Cword_count&page=102&facet_field=source%2Csection_name%2Cdocument_type%2Ctype_of_material%2Cday_of_week\n",
        "***ERROR: status_code ="
       ]
      },
      {
       "output_type": "stream",
       "stream": "stdout",
       "text": [
        " 400 !\n",
        "http://api.nytimes.com/svc/search/v2/articlesearch.json?q=%22thomas+l.+friedman%22&sort=newest&begin_date=18510918&api-key=f28d40af5370f79078fc5eb7ffd97049%3A17%3A49171679&end_date=20130822&facet_filter=true&fl=web_url%2Csnippet%2Clead_paragraph%2Cabstract%2Cprint_page%2Cblog%2Csource%2Cmultimedia%2Cheadline%2Ckeywords%2Cpub_date%2Cdocument_type%2Cnews_desk%2Cbyline%2Ctype_of_material%2C_id%2Cword_count&page=103&facet_field=source%2Csection_name%2Cdocument_type%2Ctype_of_material%2Cday_of_week\n",
        "***ERROR: status_code ="
       ]
      },
      {
       "output_type": "stream",
       "stream": "stdout",
       "text": [
        " 400 !\n",
        "http://api.nytimes.com/svc/search/v2/articlesearch.json?q=%22thomas+l.+friedman%22&sort=newest&begin_date=18510918&api-key=f28d40af5370f79078fc5eb7ffd97049%3A17%3A49171679&end_date=20130822&facet_filter=true&fl=web_url%2Csnippet%2Clead_paragraph%2Cabstract%2Cprint_page%2Cblog%2Csource%2Cmultimedia%2Cheadline%2Ckeywords%2Cpub_date%2Cdocument_type%2Cnews_desk%2Cbyline%2Ctype_of_material%2C_id%2Cword_count&page=104&facet_field=source%2Csection_name%2Cdocument_type%2Ctype_of_material%2Cday_of_week\n",
        "***ERROR: status_code ="
       ]
      },
      {
       "output_type": "stream",
       "stream": "stdout",
       "text": [
        " 400 !\n",
        "http://api.nytimes.com/svc/search/v2/articlesearch.json?q=%22thomas+l.+friedman%22&sort=newest&begin_date=18510918&api-key=f28d40af5370f79078fc5eb7ffd97049%3A17%3A49171679&end_date=20130822&facet_filter=true&fl=web_url%2Csnippet%2Clead_paragraph%2Cabstract%2Cprint_page%2Cblog%2Csource%2Cmultimedia%2Cheadline%2Ckeywords%2Cpub_date%2Cdocument_type%2Cnews_desk%2Cbyline%2Ctype_of_material%2C_id%2Cword_count&page=105&facet_field=source%2Csection_name%2Cdocument_type%2Ctype_of_material%2Cday_of_week\n",
        "***ERROR: status_code ="
       ]
      },
      {
       "output_type": "stream",
       "stream": "stdout",
       "text": [
        " 400 !\n",
        "http://api.nytimes.com/svc/search/v2/articlesearch.json?q=%22thomas+l.+friedman%22&sort=newest&begin_date=18510918&api-key=f28d40af5370f79078fc5eb7ffd97049%3A17%3A49171679&end_date=20130822&facet_filter=true&fl=web_url%2Csnippet%2Clead_paragraph%2Cabstract%2Cprint_page%2Cblog%2Csource%2Cmultimedia%2Cheadline%2Ckeywords%2Cpub_date%2Cdocument_type%2Cnews_desk%2Cbyline%2Ctype_of_material%2C_id%2Cword_count&page=106&facet_field=source%2Csection_name%2Cdocument_type%2Ctype_of_material%2Cday_of_week\n",
        "***ERROR: status_code ="
       ]
      },
      {
       "output_type": "stream",
       "stream": "stdout",
       "text": [
        " 400 !\n",
        "http://api.nytimes.com/svc/search/v2/articlesearch.json?q=%22thomas+l.+friedman%22&sort=newest&begin_date=18510918&api-key=f28d40af5370f79078fc5eb7ffd97049%3A17%3A49171679&end_date=20130822&facet_filter=true&fl=web_url%2Csnippet%2Clead_paragraph%2Cabstract%2Cprint_page%2Cblog%2Csource%2Cmultimedia%2Cheadline%2Ckeywords%2Cpub_date%2Cdocument_type%2Cnews_desk%2Cbyline%2Ctype_of_material%2C_id%2Cword_count&page=107&facet_field=source%2Csection_name%2Cdocument_type%2Ctype_of_material%2Cday_of_week\n",
        "***ERROR: status_code ="
       ]
      },
      {
       "output_type": "stream",
       "stream": "stdout",
       "text": [
        " 400 !\n",
        "http://api.nytimes.com/svc/search/v2/articlesearch.json?q=%22thomas+l.+friedman%22&sort=newest&begin_date=18510918&api-key=f28d40af5370f79078fc5eb7ffd97049%3A17%3A49171679&end_date=20130822&facet_filter=true&fl=web_url%2Csnippet%2Clead_paragraph%2Cabstract%2Cprint_page%2Cblog%2Csource%2Cmultimedia%2Cheadline%2Ckeywords%2Cpub_date%2Cdocument_type%2Cnews_desk%2Cbyline%2Ctype_of_material%2C_id%2Cword_count&page=108&facet_field=source%2Csection_name%2Cdocument_type%2Ctype_of_material%2Cday_of_week\n",
        "***ERROR: status_code ="
       ]
      },
      {
       "output_type": "stream",
       "stream": "stdout",
       "text": [
        " 400 !\n",
        "http://api.nytimes.com/svc/search/v2/articlesearch.json?q=%22thomas+l.+friedman%22&sort=newest&begin_date=18510918&api-key=f28d40af5370f79078fc5eb7ffd97049%3A17%3A49171679&end_date=20130822&facet_filter=true&fl=web_url%2Csnippet%2Clead_paragraph%2Cabstract%2Cprint_page%2Cblog%2Csource%2Cmultimedia%2Cheadline%2Ckeywords%2Cpub_date%2Cdocument_type%2Cnews_desk%2Cbyline%2Ctype_of_material%2C_id%2Cword_count&page=109&facet_field=source%2Csection_name%2Cdocument_type%2Ctype_of_material%2Cday_of_week\n",
        "***ERROR: status_code ="
       ]
      },
      {
       "output_type": "stream",
       "stream": "stdout",
       "text": [
        " 400 !\n",
        "http://api.nytimes.com/svc/search/v2/articlesearch.json?q=%22thomas+l.+friedman%22&sort=newest&begin_date=18510918&api-key=f28d40af5370f79078fc5eb7ffd97049%3A17%3A49171679&end_date=20130822&facet_filter=true&fl=web_url%2Csnippet%2Clead_paragraph%2Cabstract%2Cprint_page%2Cblog%2Csource%2Cmultimedia%2Cheadline%2Ckeywords%2Cpub_date%2Cdocument_type%2Cnews_desk%2Cbyline%2Ctype_of_material%2C_id%2Cword_count&page=110&facet_field=source%2Csection_name%2Cdocument_type%2Ctype_of_material%2Cday_of_week\n",
        "***ERROR: status_code ="
       ]
      },
      {
       "output_type": "stream",
       "stream": "stdout",
       "text": [
        " 400 !\n",
        "http://api.nytimes.com/svc/search/v2/articlesearch.json?q=%22thomas+l.+friedman%22&sort=newest&begin_date=18510918&api-key=f28d40af5370f79078fc5eb7ffd97049%3A17%3A49171679&end_date=20130822&facet_filter=true&fl=web_url%2Csnippet%2Clead_paragraph%2Cabstract%2Cprint_page%2Cblog%2Csource%2Cmultimedia%2Cheadline%2Ckeywords%2Cpub_date%2Cdocument_type%2Cnews_desk%2Cbyline%2Ctype_of_material%2C_id%2Cword_count&page=111&facet_field=source%2Csection_name%2Cdocument_type%2Ctype_of_material%2Cday_of_week\n",
        "***ERROR: status_code ="
       ]
      },
      {
       "output_type": "stream",
       "stream": "stdout",
       "text": [
        " 400 !\n",
        "http://api.nytimes.com/svc/search/v2/articlesearch.json?q=%22thomas+l.+friedman%22&sort=newest&begin_date=18510918&api-key=f28d40af5370f79078fc5eb7ffd97049%3A17%3A49171679&end_date=20130822&facet_filter=true&fl=web_url%2Csnippet%2Clead_paragraph%2Cabstract%2Cprint_page%2Cblog%2Csource%2Cmultimedia%2Cheadline%2Ckeywords%2Cpub_date%2Cdocument_type%2Cnews_desk%2Cbyline%2Ctype_of_material%2C_id%2Cword_count&page=112&facet_field=source%2Csection_name%2Cdocument_type%2Ctype_of_material%2Cday_of_week\n",
        "***ERROR: status_code ="
       ]
      },
      {
       "output_type": "stream",
       "stream": "stdout",
       "text": [
        " 400 !\n",
        "http://api.nytimes.com/svc/search/v2/articlesearch.json?q=%22thomas+l.+friedman%22&sort=newest&begin_date=18510918&api-key=f28d40af5370f79078fc5eb7ffd97049%3A17%3A49171679&end_date=20130822&facet_filter=true&fl=web_url%2Csnippet%2Clead_paragraph%2Cabstract%2Cprint_page%2Cblog%2Csource%2Cmultimedia%2Cheadline%2Ckeywords%2Cpub_date%2Cdocument_type%2Cnews_desk%2Cbyline%2Ctype_of_material%2C_id%2Cword_count&page=113&facet_field=source%2Csection_name%2Cdocument_type%2Ctype_of_material%2Cday_of_week\n",
        "***ERROR: status_code ="
       ]
      },
      {
       "output_type": "stream",
       "stream": "stdout",
       "text": [
        " 400 !\n",
        "http://api.nytimes.com/svc/search/v2/articlesearch.json?q=%22thomas+l.+friedman%22&sort=newest&begin_date=18510918&api-key=f28d40af5370f79078fc5eb7ffd97049%3A17%3A49171679&end_date=20130822&facet_filter=true&fl=web_url%2Csnippet%2Clead_paragraph%2Cabstract%2Cprint_page%2Cblog%2Csource%2Cmultimedia%2Cheadline%2Ckeywords%2Cpub_date%2Cdocument_type%2Cnews_desk%2Cbyline%2Ctype_of_material%2C_id%2Cword_count&page=114&facet_field=source%2Csection_name%2Cdocument_type%2Ctype_of_material%2Cday_of_week\n",
        "***ERROR: status_code ="
       ]
      },
      {
       "output_type": "stream",
       "stream": "stdout",
       "text": [
        " 400 !\n",
        "http://api.nytimes.com/svc/search/v2/articlesearch.json?q=%22thomas+l.+friedman%22&sort=newest&begin_date=18510918&api-key=f28d40af5370f79078fc5eb7ffd97049%3A17%3A49171679&end_date=20130822&facet_filter=true&fl=web_url%2Csnippet%2Clead_paragraph%2Cabstract%2Cprint_page%2Cblog%2Csource%2Cmultimedia%2Cheadline%2Ckeywords%2Cpub_date%2Cdocument_type%2Cnews_desk%2Cbyline%2Ctype_of_material%2C_id%2Cword_count&page=115&facet_field=source%2Csection_name%2Cdocument_type%2Ctype_of_material%2Cday_of_week\n",
        "***ERROR: status_code ="
       ]
      },
      {
       "output_type": "stream",
       "stream": "stdout",
       "text": [
        " 400 !\n",
        "http://api.nytimes.com/svc/search/v2/articlesearch.json?q=%22thomas+l.+friedman%22&sort=newest&begin_date=18510918&api-key=f28d40af5370f79078fc5eb7ffd97049%3A17%3A49171679&end_date=20130822&facet_filter=true&fl=web_url%2Csnippet%2Clead_paragraph%2Cabstract%2Cprint_page%2Cblog%2Csource%2Cmultimedia%2Cheadline%2Ckeywords%2Cpub_date%2Cdocument_type%2Cnews_desk%2Cbyline%2Ctype_of_material%2C_id%2Cword_count&page=116&facet_field=source%2Csection_name%2Cdocument_type%2Ctype_of_material%2Cday_of_week\n",
        "***ERROR: status_code ="
       ]
      },
      {
       "output_type": "stream",
       "stream": "stdout",
       "text": [
        " 400 !\n",
        "http://api.nytimes.com/svc/search/v2/articlesearch.json?q=%22thomas+l.+friedman%22&sort=newest&begin_date=18510918&api-key=f28d40af5370f79078fc5eb7ffd97049%3A17%3A49171679&end_date=20130822&facet_filter=true&fl=web_url%2Csnippet%2Clead_paragraph%2Cabstract%2Cprint_page%2Cblog%2Csource%2Cmultimedia%2Cheadline%2Ckeywords%2Cpub_date%2Cdocument_type%2Cnews_desk%2Cbyline%2Ctype_of_material%2C_id%2Cword_count&page=117&facet_field=source%2Csection_name%2Cdocument_type%2Ctype_of_material%2Cday_of_week\n",
        "***ERROR: status_code ="
       ]
      },
      {
       "output_type": "stream",
       "stream": "stdout",
       "text": [
        " 400 !\n",
        "http://api.nytimes.com/svc/search/v2/articlesearch.json?q=%22thomas+l.+friedman%22&sort=newest&begin_date=18510918&api-key=f28d40af5370f79078fc5eb7ffd97049%3A17%3A49171679&end_date=20130822&facet_filter=true&fl=web_url%2Csnippet%2Clead_paragraph%2Cabstract%2Cprint_page%2Cblog%2Csource%2Cmultimedia%2Cheadline%2Ckeywords%2Cpub_date%2Cdocument_type%2Cnews_desk%2Cbyline%2Ctype_of_material%2C_id%2Cword_count&page=118&facet_field=source%2Csection_name%2Cdocument_type%2Ctype_of_material%2Cday_of_week\n",
        "***ERROR: status_code ="
       ]
      },
      {
       "output_type": "stream",
       "stream": "stdout",
       "text": [
        " 400 !\n",
        "http://api.nytimes.com/svc/search/v2/articlesearch.json?q=%22thomas+l.+friedman%22&sort=newest&begin_date=18510918&api-key=f28d40af5370f79078fc5eb7ffd97049%3A17%3A49171679&end_date=20130822&facet_filter=true&fl=web_url%2Csnippet%2Clead_paragraph%2Cabstract%2Cprint_page%2Cblog%2Csource%2Cmultimedia%2Cheadline%2Ckeywords%2Cpub_date%2Cdocument_type%2Cnews_desk%2Cbyline%2Ctype_of_material%2C_id%2Cword_count&page=119&facet_field=source%2Csection_name%2Cdocument_type%2Ctype_of_material%2Cday_of_week\n",
        "***ERROR: status_code ="
       ]
      },
      {
       "output_type": "stream",
       "stream": "stdout",
       "text": [
        " 400 !\n",
        "http://api.nytimes.com/svc/search/v2/articlesearch.json?q=%22thomas+l.+friedman%22&sort=newest&begin_date=18510918&api-key=f28d40af5370f79078fc5eb7ffd97049%3A17%3A49171679&end_date=20130822&facet_filter=true&fl=web_url%2Csnippet%2Clead_paragraph%2Cabstract%2Cprint_page%2Cblog%2Csource%2Cmultimedia%2Cheadline%2Ckeywords%2Cpub_date%2Cdocument_type%2Cnews_desk%2Cbyline%2Ctype_of_material%2C_id%2Cword_count&page=120&facet_field=source%2Csection_name%2Cdocument_type%2Ctype_of_material%2Cday_of_week\n",
        "***ERROR: status_code ="
       ]
      },
      {
       "output_type": "stream",
       "stream": "stdout",
       "text": [
        " 400 !\n",
        "http://api.nytimes.com/svc/search/v2/articlesearch.json?q=%22thomas+l.+friedman%22&sort=newest&begin_date=18510918&api-key=f28d40af5370f79078fc5eb7ffd97049%3A17%3A49171679&end_date=20130822&facet_filter=true&fl=web_url%2Csnippet%2Clead_paragraph%2Cabstract%2Cprint_page%2Cblog%2Csource%2Cmultimedia%2Cheadline%2Ckeywords%2Cpub_date%2Cdocument_type%2Cnews_desk%2Cbyline%2Ctype_of_material%2C_id%2Cword_count&page=121&facet_field=source%2Csection_name%2Cdocument_type%2Ctype_of_material%2Cday_of_week\n",
        "***ERROR: status_code ="
       ]
      },
      {
       "output_type": "stream",
       "stream": "stdout",
       "text": [
        " 400 !\n",
        "http://api.nytimes.com/svc/search/v2/articlesearch.json?q=%22thomas+l.+friedman%22&sort=newest&begin_date=18510918&api-key=f28d40af5370f79078fc5eb7ffd97049%3A17%3A49171679&end_date=20130822&facet_filter=true&fl=web_url%2Csnippet%2Clead_paragraph%2Cabstract%2Cprint_page%2Cblog%2Csource%2Cmultimedia%2Cheadline%2Ckeywords%2Cpub_date%2Cdocument_type%2Cnews_desk%2Cbyline%2Ctype_of_material%2C_id%2Cword_count&page=122&facet_field=source%2Csection_name%2Cdocument_type%2Ctype_of_material%2Cday_of_week\n",
        "***ERROR: status_code ="
       ]
      },
      {
       "output_type": "stream",
       "stream": "stdout",
       "text": [
        " 400 !\n",
        "http://api.nytimes.com/svc/search/v2/articlesearch.json?q=%22thomas+l.+friedman%22&sort=newest&begin_date=18510918&api-key=f28d40af5370f79078fc5eb7ffd97049%3A17%3A49171679&end_date=20130822&facet_filter=true&fl=web_url%2Csnippet%2Clead_paragraph%2Cabstract%2Cprint_page%2Cblog%2Csource%2Cmultimedia%2Cheadline%2Ckeywords%2Cpub_date%2Cdocument_type%2Cnews_desk%2Cbyline%2Ctype_of_material%2C_id%2Cword_count&page=123&facet_field=source%2Csection_name%2Cdocument_type%2Ctype_of_material%2Cday_of_week\n",
        "***ERROR: status_code ="
       ]
      },
      {
       "output_type": "stream",
       "stream": "stdout",
       "text": [
        " 400 !\n",
        "http://api.nytimes.com/svc/search/v2/articlesearch.json?q=%22thomas+l.+friedman%22&sort=newest&begin_date=18510918&api-key=f28d40af5370f79078fc5eb7ffd97049%3A17%3A49171679&end_date=20130822&facet_filter=true&fl=web_url%2Csnippet%2Clead_paragraph%2Cabstract%2Cprint_page%2Cblog%2Csource%2Cmultimedia%2Cheadline%2Ckeywords%2Cpub_date%2Cdocument_type%2Cnews_desk%2Cbyline%2Ctype_of_material%2C_id%2Cword_count&page=124&facet_field=source%2Csection_name%2Cdocument_type%2Ctype_of_material%2Cday_of_week\n",
        "***ERROR: status_code ="
       ]
      },
      {
       "output_type": "stream",
       "stream": "stdout",
       "text": [
        " 400 !\n",
        "http://api.nytimes.com/svc/search/v2/articlesearch.json?q=%22thomas+l.+friedman%22&sort=newest&begin_date=18510918&api-key=f28d40af5370f79078fc5eb7ffd97049%3A17%3A49171679&end_date=20130822&facet_filter=true&fl=web_url%2Csnippet%2Clead_paragraph%2Cabstract%2Cprint_page%2Cblog%2Csource%2Cmultimedia%2Cheadline%2Ckeywords%2Cpub_date%2Cdocument_type%2Cnews_desk%2Cbyline%2Ctype_of_material%2C_id%2Cword_count&page=125&facet_field=source%2Csection_name%2Cdocument_type%2Ctype_of_material%2Cday_of_week\n",
        "***ERROR: too many consecutive errors (25)!\n"
       ]
      }
     ],
     "prompt_number": 13
    },
    {
     "cell_type": "code",
     "collapsed": false,
     "input": [
      "print len(all_docs)\n",
      "print min(doc['pub_date'] for doc in all_docs)"
     ],
     "language": "python",
     "metadata": {},
     "outputs": [
      {
       "output_type": "stream",
       "stream": "stdout",
       "text": [
        "1010\n",
        "2008-09-21T00:00:00Z\n"
       ]
      }
     ],
     "prompt_number": 17
    },
    {
     "cell_type": "code",
     "collapsed": false,
     "input": [
      "all_docs_2 = hi_nyt.query_nyt_article_search('\"thomas l. friedman\"',\n",
      "                                             config['nyt_api_key'],\n",
      "                                             end_date='2008-09-20',\n",
      "                                             max_pages=1000)"
     ],
     "language": "python",
     "metadata": {},
     "outputs": [
      {
       "output_type": "stream",
       "stream": "stdout",
       "text": [
        "\n",
        "*INFO: query = \"thomas l. friedman\"\n",
        "*INFO: url = http://api.nytimes.com/svc/search/v2/articlesearch.json?q=%22thomas+l.+friedman%22&sort=newest&begin_date=18510918&api-key=f28d40af5370f79078fc5eb7ffd97049%3A17%3A49171679&end_date=20080920&facet_filter=true&fl=web_url%2Csnippet%2Clead_paragraph%2Cabstract%2Cprint_page%2Cblog%2Csource%2Cmultimedia%2Cheadline%2Ckeywords%2Cpub_date%2Cdocument_type%2Cnews_desk%2Cbyline%2Ctype_of_material%2C_id%2Cword_count&page=0&facet_field=source%2Csection_name%2Cdocument_type%2Ctype_of_material%2Cday_of_week\n",
        "*INFO: n_total_results = 5842 \n",
        "\n",
        "facet                           count \n",
        "-------------------------------------\n",
        "type_of_material..............   5836\n",
        "   News.......................   1947\n",
        "   Op-Ed......................   1332\n",
        "   Letter.....................   1000\n",
        "   Summary....................    899\n",
        "   List.......................    237\n",
        "source........................   5836\n",
        "   The New York Times.........   5836\n",
        "document_type.................   5842\n",
        "   article....................   5690\n",
        "   blogpost...................    146\n",
        "   multimedia.................      6\n",
        "section_name..................   5828\n",
        "   Opinion....................   2450\n",
        "   New York and Region........    916\n",
        "   World......................    549\n",
        "   World; Washington..........    483\n",
        "   Arts; Books................    245\n",
        "day_of_week...................   5842\n",
        "   Sunday.....................   1257\n",
        "   Wednesday..................   1200\n",
        "   Friday.....................   1021\n",
        "   Tuesday....................    791\n",
        "   Thursday...................    727\n",
        "\n",
        "... n_results = 0\n",
        "... url = http://api.nytimes.com/svc/search/v2/articlesearch.json?q=%22thomas+l.+friedman%22&sort=newest&begin_date=18510918&api-key=f28d40af5370f79078fc5eb7ffd97049%3A17%3A49171679&end_date=20080920&facet_filter=true&fl=web_url%2Csnippet%2Clead_paragraph%2Cabstract%2Cprint_page%2Cblog%2Csource%2Cmultimedia%2Cheadline%2Ckeywords%2Cpub_date%2Cdocument_type%2Cnews_desk%2Cbyline%2Ctype_of_material%2C_id%2Cword_count&page=0&facet_field=source%2Csection_name%2Cdocument_type%2Ctype_of_material%2Cday_of_week\n",
        "... last_date = 2008-09-17T00:00:00Z\n",
        "\n",
        "... n_results ="
       ]
      },
      {
       "output_type": "stream",
       "stream": "stdout",
       "text": [
        " 50\n",
        "... url = http://api.nytimes.com/svc/search/v2/articlesearch.json?q=%22thomas+l.+friedman%22&sort=newest&begin_date=18510918&api-key=f28d40af5370f79078fc5eb7ffd97049%3A17%3A49171679&end_date=20080920&facet_filter=true&fl=web_url%2Csnippet%2Clead_paragraph%2Cabstract%2Cprint_page%2Cblog%2Csource%2Cmultimedia%2Cheadline%2Ckeywords%2Cpub_date%2Cdocument_type%2Cnews_desk%2Cbyline%2Ctype_of_material%2C_id%2Cword_count&page=5&facet_field=source%2Csection_name%2Cdocument_type%2Ctype_of_material%2Cday_of_week\n",
        "... last_date = 2008-07-20T00:00:00Z\n",
        "\n",
        "... n_results ="
       ]
      },
      {
       "output_type": "stream",
       "stream": "stdout",
       "text": [
        " 100\n",
        "... url = http://api.nytimes.com/svc/search/v2/articlesearch.json?q=%22thomas+l.+friedman%22&sort=newest&begin_date=18510918&api-key=f28d40af5370f79078fc5eb7ffd97049%3A17%3A49171679&end_date=20080920&facet_filter=true&fl=web_url%2Csnippet%2Clead_paragraph%2Cabstract%2Cprint_page%2Cblog%2Csource%2Cmultimedia%2Cheadline%2Ckeywords%2Cpub_date%2Cdocument_type%2Cnews_desk%2Cbyline%2Ctype_of_material%2C_id%2Cword_count&page=10&facet_field=source%2Csection_name%2Cdocument_type%2Ctype_of_material%2Cday_of_week\n",
        "... last_date = 2008-05-13T00:00:00Z\n",
        "\n",
        "... n_results ="
       ]
      },
      {
       "output_type": "stream",
       "stream": "stdout",
       "text": [
        " 150\n",
        "... url = http://api.nytimes.com/svc/search/v2/articlesearch.json?q=%22thomas+l.+friedman%22&sort=newest&begin_date=18510918&api-key=f28d40af5370f79078fc5eb7ffd97049%3A17%3A49171679&end_date=20080920&facet_filter=true&fl=web_url%2Csnippet%2Clead_paragraph%2Cabstract%2Cprint_page%2Cblog%2Csource%2Cmultimedia%2Cheadline%2Ckeywords%2Cpub_date%2Cdocument_type%2Cnews_desk%2Cbyline%2Ctype_of_material%2C_id%2Cword_count&page=15&facet_field=source%2Csection_name%2Cdocument_type%2Ctype_of_material%2Cday_of_week\n",
        "... last_date = 2007-12-02T00:00:00Z\n",
        "\n",
        "... n_results ="
       ]
      },
      {
       "output_type": "stream",
       "stream": "stdout",
       "text": [
        " 200\n",
        "... url = http://api.nytimes.com/svc/search/v2/articlesearch.json?q=%22thomas+l.+friedman%22&sort=newest&begin_date=18510918&api-key=f28d40af5370f79078fc5eb7ffd97049%3A17%3A49171679&end_date=20080920&facet_filter=true&fl=web_url%2Csnippet%2Clead_paragraph%2Cabstract%2Cprint_page%2Cblog%2Csource%2Cmultimedia%2Cheadline%2Ckeywords%2Cpub_date%2Cdocument_type%2Cnews_desk%2Cbyline%2Ctype_of_material%2C_id%2Cword_count&page=20&facet_field=source%2Csection_name%2Cdocument_type%2Ctype_of_material%2Cday_of_week\n",
        "... last_date = 2007-09-19T00:00:00Z\n",
        "\n",
        "... n_results ="
       ]
      },
      {
       "output_type": "stream",
       "stream": "stdout",
       "text": [
        " 250\n",
        "... url = http://api.nytimes.com/svc/search/v2/articlesearch.json?q=%22thomas+l.+friedman%22&sort=newest&begin_date=18510918&api-key=f28d40af5370f79078fc5eb7ffd97049%3A17%3A49171679&end_date=20080920&facet_filter=true&fl=web_url%2Csnippet%2Clead_paragraph%2Cabstract%2Cprint_page%2Cblog%2Csource%2Cmultimedia%2Cheadline%2Ckeywords%2Cpub_date%2Cdocument_type%2Cnews_desk%2Cbyline%2Ctype_of_material%2C_id%2Cword_count&page=25&facet_field=source%2Csection_name%2Cdocument_type%2Ctype_of_material%2Cday_of_week\n",
        "... last_date = 2007-06-24T00:00:00Z\n",
        "\n",
        "... n_results ="
       ]
      },
      {
       "output_type": "stream",
       "stream": "stdout",
       "text": [
        " 300\n",
        "... url = http://api.nytimes.com/svc/search/v2/articlesearch.json?q=%22thomas+l.+friedman%22&sort=newest&begin_date=18510918&api-key=f28d40af5370f79078fc5eb7ffd97049%3A17%3A49171679&end_date=20080920&facet_filter=true&fl=web_url%2Csnippet%2Clead_paragraph%2Cabstract%2Cprint_page%2Cblog%2Csource%2Cmultimedia%2Cheadline%2Ckeywords%2Cpub_date%2Cdocument_type%2Cnews_desk%2Cbyline%2Ctype_of_material%2C_id%2Cword_count&page=30&facet_field=source%2Csection_name%2Cdocument_type%2Ctype_of_material%2Cday_of_week\n",
        "... last_date = 2007-04-27T15:12:46Z\n",
        "\n",
        "... n_results ="
       ]
      },
      {
       "output_type": "stream",
       "stream": "stdout",
       "text": [
        " 350\n",
        "... url = http://api.nytimes.com/svc/search/v2/articlesearch.json?q=%22thomas+l.+friedman%22&sort=newest&begin_date=18510918&api-key=f28d40af5370f79078fc5eb7ffd97049%3A17%3A49171679&end_date=20080920&facet_filter=true&fl=web_url%2Csnippet%2Clead_paragraph%2Cabstract%2Cprint_page%2Cblog%2Csource%2Cmultimedia%2Cheadline%2Ckeywords%2Cpub_date%2Cdocument_type%2Cnews_desk%2Cbyline%2Ctype_of_material%2C_id%2Cword_count&page=35&facet_field=source%2Csection_name%2Cdocument_type%2Ctype_of_material%2Cday_of_week\n",
        "... last_date = 2007-03-09T00:00:00Z\n",
        "\n",
        "... n_results ="
       ]
      },
      {
       "output_type": "stream",
       "stream": "stdout",
       "text": [
        " 400\n",
        "... url = http://api.nytimes.com/svc/search/v2/articlesearch.json?q=%22thomas+l.+friedman%22&sort=newest&begin_date=18510918&api-key=f28d40af5370f79078fc5eb7ffd97049%3A17%3A49171679&end_date=20080920&facet_filter=true&fl=web_url%2Csnippet%2Clead_paragraph%2Cabstract%2Cprint_page%2Cblog%2Csource%2Cmultimedia%2Cheadline%2Ckeywords%2Cpub_date%2Cdocument_type%2Cnews_desk%2Cbyline%2Ctype_of_material%2C_id%2Cword_count&page=40&facet_field=source%2Csection_name%2Cdocument_type%2Ctype_of_material%2Cday_of_week\n",
        "... last_date = 2007-01-19T17:11:41Z\n",
        "\n",
        "... n_results ="
       ]
      },
      {
       "output_type": "stream",
       "stream": "stdout",
       "text": [
        " 450\n",
        "... url = http://api.nytimes.com/svc/search/v2/articlesearch.json?q=%22thomas+l.+friedman%22&sort=newest&begin_date=18510918&api-key=f28d40af5370f79078fc5eb7ffd97049%3A17%3A49171679&end_date=20080920&facet_filter=true&fl=web_url%2Csnippet%2Clead_paragraph%2Cabstract%2Cprint_page%2Cblog%2Csource%2Cmultimedia%2Cheadline%2Ckeywords%2Cpub_date%2Cdocument_type%2Cnews_desk%2Cbyline%2Ctype_of_material%2C_id%2Cword_count&page=45&facet_field=source%2Csection_name%2Cdocument_type%2Ctype_of_material%2Cday_of_week\n",
        "... last_date = 2006-12-01T00:00:00Z\n",
        "\n",
        "... n_results ="
       ]
      },
      {
       "output_type": "stream",
       "stream": "stdout",
       "text": [
        " 500\n",
        "... url = http://api.nytimes.com/svc/search/v2/articlesearch.json?q=%22thomas+l.+friedman%22&sort=newest&begin_date=18510918&api-key=f28d40af5370f79078fc5eb7ffd97049%3A17%3A49171679&end_date=20080920&facet_filter=true&fl=web_url%2Csnippet%2Clead_paragraph%2Cabstract%2Cprint_page%2Cblog%2Csource%2Cmultimedia%2Cheadline%2Ckeywords%2Cpub_date%2Cdocument_type%2Cnews_desk%2Cbyline%2Ctype_of_material%2C_id%2Cword_count&page=50&facet_field=source%2Csection_name%2Cdocument_type%2Ctype_of_material%2Cday_of_week\n",
        "... last_date = 2006-10-15T00:00:00Z\n",
        "\n",
        "... n_results ="
       ]
      },
      {
       "output_type": "stream",
       "stream": "stdout",
       "text": [
        " 550\n",
        "... url = http://api.nytimes.com/svc/search/v2/articlesearch.json?q=%22thomas+l.+friedman%22&sort=newest&begin_date=18510918&api-key=f28d40af5370f79078fc5eb7ffd97049%3A17%3A49171679&end_date=20080920&facet_filter=true&fl=web_url%2Csnippet%2Clead_paragraph%2Cabstract%2Cprint_page%2Cblog%2Csource%2Cmultimedia%2Cheadline%2Ckeywords%2Cpub_date%2Cdocument_type%2Cnews_desk%2Cbyline%2Ctype_of_material%2C_id%2Cword_count&page=55&facet_field=source%2Csection_name%2Cdocument_type%2Ctype_of_material%2Cday_of_week\n",
        "... last_date = 2006-08-25T00:00:00Z\n",
        "\n",
        "... n_results ="
       ]
      },
      {
       "output_type": "stream",
       "stream": "stdout",
       "text": [
        " 600\n",
        "... url = http://api.nytimes.com/svc/search/v2/articlesearch.json?q=%22thomas+l.+friedman%22&sort=newest&begin_date=18510918&api-key=f28d40af5370f79078fc5eb7ffd97049%3A17%3A49171679&end_date=20080920&facet_filter=true&fl=web_url%2Csnippet%2Clead_paragraph%2Cabstract%2Cprint_page%2Cblog%2Csource%2Cmultimedia%2Cheadline%2Ckeywords%2Cpub_date%2Cdocument_type%2Cnews_desk%2Cbyline%2Ctype_of_material%2C_id%2Cword_count&page=60&facet_field=source%2Csection_name%2Cdocument_type%2Ctype_of_material%2Cday_of_week\n",
        "... last_date = 2006-07-05T11:56:47Z\n",
        "\n",
        "... n_results ="
       ]
      },
      {
       "output_type": "stream",
       "stream": "stdout",
       "text": [
        " 650\n",
        "... url = http://api.nytimes.com/svc/search/v2/articlesearch.json?q=%22thomas+l.+friedman%22&sort=newest&begin_date=18510918&api-key=f28d40af5370f79078fc5eb7ffd97049%3A17%3A49171679&end_date=20080920&facet_filter=true&fl=web_url%2Csnippet%2Clead_paragraph%2Cabstract%2Cprint_page%2Cblog%2Csource%2Cmultimedia%2Cheadline%2Ckeywords%2Cpub_date%2Cdocument_type%2Cnews_desk%2Cbyline%2Ctype_of_material%2C_id%2Cword_count&page=65&facet_field=source%2Csection_name%2Cdocument_type%2Ctype_of_material%2Cday_of_week\n",
        "... last_date = 2006-05-26T00:00:00Z\n",
        "\n",
        "... n_results ="
       ]
      },
      {
       "output_type": "stream",
       "stream": "stdout",
       "text": [
        " 700\n",
        "... url = http://api.nytimes.com/svc/search/v2/articlesearch.json?q=%22thomas+l.+friedman%22&sort=newest&begin_date=18510918&api-key=f28d40af5370f79078fc5eb7ffd97049%3A17%3A49171679&end_date=20080920&facet_filter=true&fl=web_url%2Csnippet%2Clead_paragraph%2Cabstract%2Cprint_page%2Cblog%2Csource%2Cmultimedia%2Cheadline%2Ckeywords%2Cpub_date%2Cdocument_type%2Cnews_desk%2Cbyline%2Ctype_of_material%2C_id%2Cword_count&page=70&facet_field=source%2Csection_name%2Cdocument_type%2Ctype_of_material%2Cday_of_week\n",
        "... last_date = 2006-04-19T00:00:00Z\n",
        "\n",
        "... n_results ="
       ]
      },
      {
       "output_type": "stream",
       "stream": "stdout",
       "text": [
        " 750\n",
        "... url = http://api.nytimes.com/svc/search/v2/articlesearch.json?q=%22thomas+l.+friedman%22&sort=newest&begin_date=18510918&api-key=f28d40af5370f79078fc5eb7ffd97049%3A17%3A49171679&end_date=20080920&facet_filter=true&fl=web_url%2Csnippet%2Clead_paragraph%2Cabstract%2Cprint_page%2Cblog%2Csource%2Cmultimedia%2Cheadline%2Ckeywords%2Cpub_date%2Cdocument_type%2Cnews_desk%2Cbyline%2Ctype_of_material%2C_id%2Cword_count&page=75&facet_field=source%2Csection_name%2Cdocument_type%2Ctype_of_material%2Cday_of_week\n",
        "... last_date = 2006-03-10T00:00:00Z\n",
        "\n",
        "... n_results ="
       ]
      },
      {
       "output_type": "stream",
       "stream": "stdout",
       "text": [
        " 800\n",
        "... url = http://api.nytimes.com/svc/search/v2/articlesearch.json?q=%22thomas+l.+friedman%22&sort=newest&begin_date=18510918&api-key=f28d40af5370f79078fc5eb7ffd97049%3A17%3A49171679&end_date=20080920&facet_filter=true&fl=web_url%2Csnippet%2Clead_paragraph%2Cabstract%2Cprint_page%2Cblog%2Csource%2Cmultimedia%2Cheadline%2Ckeywords%2Cpub_date%2Cdocument_type%2Cnews_desk%2Cbyline%2Ctype_of_material%2C_id%2Cword_count&page=80&facet_field=source%2Csection_name%2Cdocument_type%2Ctype_of_material%2Cday_of_week\n",
        "... last_date = 2006-01-25T00:00:00Z\n",
        "\n",
        "... n_results ="
       ]
      },
      {
       "output_type": "stream",
       "stream": "stdout",
       "text": [
        " 850\n",
        "... url = http://api.nytimes.com/svc/search/v2/articlesearch.json?q=%22thomas+l.+friedman%22&sort=newest&begin_date=18510918&api-key=f28d40af5370f79078fc5eb7ffd97049%3A17%3A49171679&end_date=20080920&facet_filter=true&fl=web_url%2Csnippet%2Clead_paragraph%2Cabstract%2Cprint_page%2Cblog%2Csource%2Cmultimedia%2Cheadline%2Ckeywords%2Cpub_date%2Cdocument_type%2Cnews_desk%2Cbyline%2Ctype_of_material%2C_id%2Cword_count&page=85&facet_field=source%2Csection_name%2Cdocument_type%2Ctype_of_material%2Cday_of_week\n",
        "... last_date = 2005-12-04T00:00:00Z\n",
        "\n",
        "... n_results ="
       ]
      },
      {
       "output_type": "stream",
       "stream": "stdout",
       "text": [
        " 900\n",
        "... url = http://api.nytimes.com/svc/search/v2/articlesearch.json?q=%22thomas+l.+friedman%22&sort=newest&begin_date=18510918&api-key=f28d40af5370f79078fc5eb7ffd97049%3A17%3A49171679&end_date=20080920&facet_filter=true&fl=web_url%2Csnippet%2Clead_paragraph%2Cabstract%2Cprint_page%2Cblog%2Csource%2Cmultimedia%2Cheadline%2Ckeywords%2Cpub_date%2Cdocument_type%2Cnews_desk%2Cbyline%2Ctype_of_material%2C_id%2Cword_count&page=90&facet_field=source%2Csection_name%2Cdocument_type%2Ctype_of_material%2Cday_of_week\n",
        "... last_date = 2005-10-14T00:00:00Z\n",
        "\n",
        "... n_results ="
       ]
      },
      {
       "output_type": "stream",
       "stream": "stdout",
       "text": [
        " 950\n",
        "... url = http://api.nytimes.com/svc/search/v2/articlesearch.json?q=%22thomas+l.+friedman%22&sort=newest&begin_date=18510918&api-key=f28d40af5370f79078fc5eb7ffd97049%3A17%3A49171679&end_date=20080920&facet_filter=true&fl=web_url%2Csnippet%2Clead_paragraph%2Cabstract%2Cprint_page%2Cblog%2Csource%2Cmultimedia%2Cheadline%2Ckeywords%2Cpub_date%2Cdocument_type%2Cnews_desk%2Cbyline%2Ctype_of_material%2C_id%2Cword_count&page=95&facet_field=source%2Csection_name%2Cdocument_type%2Ctype_of_material%2Cday_of_week\n",
        "... last_date = 2005-08-28T00:00:00Z\n",
        "\n",
        "... n_results ="
       ]
      },
      {
       "output_type": "stream",
       "stream": "stdout",
       "text": [
        " 1000\n",
        "... url = http://api.nytimes.com/svc/search/v2/articlesearch.json?q=%22thomas+l.+friedman%22&sort=newest&begin_date=18510918&api-key=f28d40af5370f79078fc5eb7ffd97049%3A17%3A49171679&end_date=20080920&facet_filter=true&fl=web_url%2Csnippet%2Clead_paragraph%2Cabstract%2Cprint_page%2Cblog%2Csource%2Cmultimedia%2Cheadline%2Ckeywords%2Cpub_date%2Cdocument_type%2Cnews_desk%2Cbyline%2Ctype_of_material%2C_id%2Cword_count&page=100&facet_field=source%2Csection_name%2Cdocument_type%2Ctype_of_material%2Cday_of_week\n",
        "... last_date = 2005-07-09T00:00:00Z\n",
        "***ERROR: status_code ="
       ]
      },
      {
       "output_type": "stream",
       "stream": "stdout",
       "text": [
        " 400 !\n",
        "http://api.nytimes.com/svc/search/v2/articlesearch.json?q=%22thomas+l.+friedman%22&sort=newest&begin_date=18510918&api-key=f28d40af5370f79078fc5eb7ffd97049%3A17%3A49171679&end_date=20080920&facet_filter=true&fl=web_url%2Csnippet%2Clead_paragraph%2Cabstract%2Cprint_page%2Cblog%2Csource%2Cmultimedia%2Cheadline%2Ckeywords%2Cpub_date%2Cdocument_type%2Cnews_desk%2Cbyline%2Ctype_of_material%2C_id%2Cword_count&page=101&facet_field=source%2Csection_name%2Cdocument_type%2Ctype_of_material%2Cday_of_week\n",
        "***ERROR: status_code ="
       ]
      },
      {
       "output_type": "stream",
       "stream": "stdout",
       "text": [
        " 400 !\n",
        "http://api.nytimes.com/svc/search/v2/articlesearch.json?q=%22thomas+l.+friedman%22&sort=newest&begin_date=18510918&api-key=f28d40af5370f79078fc5eb7ffd97049%3A17%3A49171679&end_date=20080920&facet_filter=true&fl=web_url%2Csnippet%2Clead_paragraph%2Cabstract%2Cprint_page%2Cblog%2Csource%2Cmultimedia%2Cheadline%2Ckeywords%2Cpub_date%2Cdocument_type%2Cnews_desk%2Cbyline%2Ctype_of_material%2C_id%2Cword_count&page=102&facet_field=source%2Csection_name%2Cdocument_type%2Ctype_of_material%2Cday_of_week\n",
        "***ERROR: status_code ="
       ]
      },
      {
       "output_type": "stream",
       "stream": "stdout",
       "text": [
        " 400 !\n",
        "http://api.nytimes.com/svc/search/v2/articlesearch.json?q=%22thomas+l.+friedman%22&sort=newest&begin_date=18510918&api-key=f28d40af5370f79078fc5eb7ffd97049%3A17%3A49171679&end_date=20080920&facet_filter=true&fl=web_url%2Csnippet%2Clead_paragraph%2Cabstract%2Cprint_page%2Cblog%2Csource%2Cmultimedia%2Cheadline%2Ckeywords%2Cpub_date%2Cdocument_type%2Cnews_desk%2Cbyline%2Ctype_of_material%2C_id%2Cword_count&page=103&facet_field=source%2Csection_name%2Cdocument_type%2Ctype_of_material%2Cday_of_week\n",
        "***ERROR: status_code ="
       ]
      },
      {
       "output_type": "stream",
       "stream": "stdout",
       "text": [
        " 400 !\n",
        "http://api.nytimes.com/svc/search/v2/articlesearch.json?q=%22thomas+l.+friedman%22&sort=newest&begin_date=18510918&api-key=f28d40af5370f79078fc5eb7ffd97049%3A17%3A49171679&end_date=20080920&facet_filter=true&fl=web_url%2Csnippet%2Clead_paragraph%2Cabstract%2Cprint_page%2Cblog%2Csource%2Cmultimedia%2Cheadline%2Ckeywords%2Cpub_date%2Cdocument_type%2Cnews_desk%2Cbyline%2Ctype_of_material%2C_id%2Cword_count&page=104&facet_field=source%2Csection_name%2Cdocument_type%2Ctype_of_material%2Cday_of_week\n",
        "***ERROR: status_code ="
       ]
      },
      {
       "output_type": "stream",
       "stream": "stdout",
       "text": [
        " 400 !\n",
        "http://api.nytimes.com/svc/search/v2/articlesearch.json?q=%22thomas+l.+friedman%22&sort=newest&begin_date=18510918&api-key=f28d40af5370f79078fc5eb7ffd97049%3A17%3A49171679&end_date=20080920&facet_filter=true&fl=web_url%2Csnippet%2Clead_paragraph%2Cabstract%2Cprint_page%2Cblog%2Csource%2Cmultimedia%2Cheadline%2Ckeywords%2Cpub_date%2Cdocument_type%2Cnews_desk%2Cbyline%2Ctype_of_material%2C_id%2Cword_count&page=105&facet_field=source%2Csection_name%2Cdocument_type%2Ctype_of_material%2Cday_of_week\n",
        "***ERROR: status_code ="
       ]
      },
      {
       "output_type": "stream",
       "stream": "stdout",
       "text": [
        " 400 !\n",
        "http://api.nytimes.com/svc/search/v2/articlesearch.json?q=%22thomas+l.+friedman%22&sort=newest&begin_date=18510918&api-key=f28d40af5370f79078fc5eb7ffd97049%3A17%3A49171679&end_date=20080920&facet_filter=true&fl=web_url%2Csnippet%2Clead_paragraph%2Cabstract%2Cprint_page%2Cblog%2Csource%2Cmultimedia%2Cheadline%2Ckeywords%2Cpub_date%2Cdocument_type%2Cnews_desk%2Cbyline%2Ctype_of_material%2C_id%2Cword_count&page=106&facet_field=source%2Csection_name%2Cdocument_type%2Ctype_of_material%2Cday_of_week\n",
        "***ERROR: status_code ="
       ]
      },
      {
       "output_type": "stream",
       "stream": "stdout",
       "text": [
        " 400 !\n",
        "http://api.nytimes.com/svc/search/v2/articlesearch.json?q=%22thomas+l.+friedman%22&sort=newest&begin_date=18510918&api-key=f28d40af5370f79078fc5eb7ffd97049%3A17%3A49171679&end_date=20080920&facet_filter=true&fl=web_url%2Csnippet%2Clead_paragraph%2Cabstract%2Cprint_page%2Cblog%2Csource%2Cmultimedia%2Cheadline%2Ckeywords%2Cpub_date%2Cdocument_type%2Cnews_desk%2Cbyline%2Ctype_of_material%2C_id%2Cword_count&page=107&facet_field=source%2Csection_name%2Cdocument_type%2Ctype_of_material%2Cday_of_week\n",
        "***ERROR: status_code ="
       ]
      },
      {
       "output_type": "stream",
       "stream": "stdout",
       "text": [
        " 400 !\n",
        "http://api.nytimes.com/svc/search/v2/articlesearch.json?q=%22thomas+l.+friedman%22&sort=newest&begin_date=18510918&api-key=f28d40af5370f79078fc5eb7ffd97049%3A17%3A49171679&end_date=20080920&facet_filter=true&fl=web_url%2Csnippet%2Clead_paragraph%2Cabstract%2Cprint_page%2Cblog%2Csource%2Cmultimedia%2Cheadline%2Ckeywords%2Cpub_date%2Cdocument_type%2Cnews_desk%2Cbyline%2Ctype_of_material%2C_id%2Cword_count&page=108&facet_field=source%2Csection_name%2Cdocument_type%2Ctype_of_material%2Cday_of_week\n",
        "***ERROR: status_code ="
       ]
      },
      {
       "output_type": "stream",
       "stream": "stdout",
       "text": [
        " 400 !\n",
        "http://api.nytimes.com/svc/search/v2/articlesearch.json?q=%22thomas+l.+friedman%22&sort=newest&begin_date=18510918&api-key=f28d40af5370f79078fc5eb7ffd97049%3A17%3A49171679&end_date=20080920&facet_filter=true&fl=web_url%2Csnippet%2Clead_paragraph%2Cabstract%2Cprint_page%2Cblog%2Csource%2Cmultimedia%2Cheadline%2Ckeywords%2Cpub_date%2Cdocument_type%2Cnews_desk%2Cbyline%2Ctype_of_material%2C_id%2Cword_count&page=109&facet_field=source%2Csection_name%2Cdocument_type%2Ctype_of_material%2Cday_of_week\n",
        "***ERROR: status_code ="
       ]
      },
      {
       "output_type": "stream",
       "stream": "stdout",
       "text": [
        " 400 !\n",
        "http://api.nytimes.com/svc/search/v2/articlesearch.json?q=%22thomas+l.+friedman%22&sort=newest&begin_date=18510918&api-key=f28d40af5370f79078fc5eb7ffd97049%3A17%3A49171679&end_date=20080920&facet_filter=true&fl=web_url%2Csnippet%2Clead_paragraph%2Cabstract%2Cprint_page%2Cblog%2Csource%2Cmultimedia%2Cheadline%2Ckeywords%2Cpub_date%2Cdocument_type%2Cnews_desk%2Cbyline%2Ctype_of_material%2C_id%2Cword_count&page=110&facet_field=source%2Csection_name%2Cdocument_type%2Ctype_of_material%2Cday_of_week\n",
        "***ERROR: status_code ="
       ]
      },
      {
       "output_type": "stream",
       "stream": "stdout",
       "text": [
        " 400 !\n",
        "http://api.nytimes.com/svc/search/v2/articlesearch.json?q=%22thomas+l.+friedman%22&sort=newest&begin_date=18510918&api-key=f28d40af5370f79078fc5eb7ffd97049%3A17%3A49171679&end_date=20080920&facet_filter=true&fl=web_url%2Csnippet%2Clead_paragraph%2Cabstract%2Cprint_page%2Cblog%2Csource%2Cmultimedia%2Cheadline%2Ckeywords%2Cpub_date%2Cdocument_type%2Cnews_desk%2Cbyline%2Ctype_of_material%2C_id%2Cword_count&page=111&facet_field=source%2Csection_name%2Cdocument_type%2Ctype_of_material%2Cday_of_week\n",
        "***ERROR: status_code ="
       ]
      },
      {
       "output_type": "stream",
       "stream": "stdout",
       "text": [
        " 400 !\n",
        "http://api.nytimes.com/svc/search/v2/articlesearch.json?q=%22thomas+l.+friedman%22&sort=newest&begin_date=18510918&api-key=f28d40af5370f79078fc5eb7ffd97049%3A17%3A49171679&end_date=20080920&facet_filter=true&fl=web_url%2Csnippet%2Clead_paragraph%2Cabstract%2Cprint_page%2Cblog%2Csource%2Cmultimedia%2Cheadline%2Ckeywords%2Cpub_date%2Cdocument_type%2Cnews_desk%2Cbyline%2Ctype_of_material%2C_id%2Cword_count&page=112&facet_field=source%2Csection_name%2Cdocument_type%2Ctype_of_material%2Cday_of_week\n",
        "***ERROR: status_code ="
       ]
      },
      {
       "output_type": "stream",
       "stream": "stdout",
       "text": [
        " 400 !\n",
        "http://api.nytimes.com/svc/search/v2/articlesearch.json?q=%22thomas+l.+friedman%22&sort=newest&begin_date=18510918&api-key=f28d40af5370f79078fc5eb7ffd97049%3A17%3A49171679&end_date=20080920&facet_filter=true&fl=web_url%2Csnippet%2Clead_paragraph%2Cabstract%2Cprint_page%2Cblog%2Csource%2Cmultimedia%2Cheadline%2Ckeywords%2Cpub_date%2Cdocument_type%2Cnews_desk%2Cbyline%2Ctype_of_material%2C_id%2Cword_count&page=113&facet_field=source%2Csection_name%2Cdocument_type%2Ctype_of_material%2Cday_of_week\n",
        "***ERROR: status_code ="
       ]
      },
      {
       "output_type": "stream",
       "stream": "stdout",
       "text": [
        " 400 !\n",
        "http://api.nytimes.com/svc/search/v2/articlesearch.json?q=%22thomas+l.+friedman%22&sort=newest&begin_date=18510918&api-key=f28d40af5370f79078fc5eb7ffd97049%3A17%3A49171679&end_date=20080920&facet_filter=true&fl=web_url%2Csnippet%2Clead_paragraph%2Cabstract%2Cprint_page%2Cblog%2Csource%2Cmultimedia%2Cheadline%2Ckeywords%2Cpub_date%2Cdocument_type%2Cnews_desk%2Cbyline%2Ctype_of_material%2C_id%2Cword_count&page=114&facet_field=source%2Csection_name%2Cdocument_type%2Ctype_of_material%2Cday_of_week\n",
        "***ERROR: status_code ="
       ]
      },
      {
       "output_type": "stream",
       "stream": "stdout",
       "text": [
        " 400 !\n",
        "http://api.nytimes.com/svc/search/v2/articlesearch.json?q=%22thomas+l.+friedman%22&sort=newest&begin_date=18510918&api-key=f28d40af5370f79078fc5eb7ffd97049%3A17%3A49171679&end_date=20080920&facet_filter=true&fl=web_url%2Csnippet%2Clead_paragraph%2Cabstract%2Cprint_page%2Cblog%2Csource%2Cmultimedia%2Cheadline%2Ckeywords%2Cpub_date%2Cdocument_type%2Cnews_desk%2Cbyline%2Ctype_of_material%2C_id%2Cword_count&page=115&facet_field=source%2Csection_name%2Cdocument_type%2Ctype_of_material%2Cday_of_week\n",
        "***ERROR: status_code ="
       ]
      },
      {
       "output_type": "stream",
       "stream": "stdout",
       "text": [
        " 400 !\n",
        "http://api.nytimes.com/svc/search/v2/articlesearch.json?q=%22thomas+l.+friedman%22&sort=newest&begin_date=18510918&api-key=f28d40af5370f79078fc5eb7ffd97049%3A17%3A49171679&end_date=20080920&facet_filter=true&fl=web_url%2Csnippet%2Clead_paragraph%2Cabstract%2Cprint_page%2Cblog%2Csource%2Cmultimedia%2Cheadline%2Ckeywords%2Cpub_date%2Cdocument_type%2Cnews_desk%2Cbyline%2Ctype_of_material%2C_id%2Cword_count&page=116&facet_field=source%2Csection_name%2Cdocument_type%2Ctype_of_material%2Cday_of_week\n",
        "***ERROR: status_code ="
       ]
      },
      {
       "output_type": "stream",
       "stream": "stdout",
       "text": [
        " 400 !\n",
        "http://api.nytimes.com/svc/search/v2/articlesearch.json?q=%22thomas+l.+friedman%22&sort=newest&begin_date=18510918&api-key=f28d40af5370f79078fc5eb7ffd97049%3A17%3A49171679&end_date=20080920&facet_filter=true&fl=web_url%2Csnippet%2Clead_paragraph%2Cabstract%2Cprint_page%2Cblog%2Csource%2Cmultimedia%2Cheadline%2Ckeywords%2Cpub_date%2Cdocument_type%2Cnews_desk%2Cbyline%2Ctype_of_material%2C_id%2Cword_count&page=117&facet_field=source%2Csection_name%2Cdocument_type%2Ctype_of_material%2Cday_of_week\n",
        "***ERROR: status_code ="
       ]
      },
      {
       "output_type": "stream",
       "stream": "stdout",
       "text": [
        " 400 !\n",
        "http://api.nytimes.com/svc/search/v2/articlesearch.json?q=%22thomas+l.+friedman%22&sort=newest&begin_date=18510918&api-key=f28d40af5370f79078fc5eb7ffd97049%3A17%3A49171679&end_date=20080920&facet_filter=true&fl=web_url%2Csnippet%2Clead_paragraph%2Cabstract%2Cprint_page%2Cblog%2Csource%2Cmultimedia%2Cheadline%2Ckeywords%2Cpub_date%2Cdocument_type%2Cnews_desk%2Cbyline%2Ctype_of_material%2C_id%2Cword_count&page=118&facet_field=source%2Csection_name%2Cdocument_type%2Ctype_of_material%2Cday_of_week\n",
        "***ERROR: status_code ="
       ]
      },
      {
       "output_type": "stream",
       "stream": "stdout",
       "text": [
        " 400 !\n",
        "http://api.nytimes.com/svc/search/v2/articlesearch.json?q=%22thomas+l.+friedman%22&sort=newest&begin_date=18510918&api-key=f28d40af5370f79078fc5eb7ffd97049%3A17%3A49171679&end_date=20080920&facet_filter=true&fl=web_url%2Csnippet%2Clead_paragraph%2Cabstract%2Cprint_page%2Cblog%2Csource%2Cmultimedia%2Cheadline%2Ckeywords%2Cpub_date%2Cdocument_type%2Cnews_desk%2Cbyline%2Ctype_of_material%2C_id%2Cword_count&page=119&facet_field=source%2Csection_name%2Cdocument_type%2Ctype_of_material%2Cday_of_week\n",
        "***ERROR: status_code ="
       ]
      },
      {
       "output_type": "stream",
       "stream": "stdout",
       "text": [
        " 400 !\n",
        "http://api.nytimes.com/svc/search/v2/articlesearch.json?q=%22thomas+l.+friedman%22&sort=newest&begin_date=18510918&api-key=f28d40af5370f79078fc5eb7ffd97049%3A17%3A49171679&end_date=20080920&facet_filter=true&fl=web_url%2Csnippet%2Clead_paragraph%2Cabstract%2Cprint_page%2Cblog%2Csource%2Cmultimedia%2Cheadline%2Ckeywords%2Cpub_date%2Cdocument_type%2Cnews_desk%2Cbyline%2Ctype_of_material%2C_id%2Cword_count&page=120&facet_field=source%2Csection_name%2Cdocument_type%2Ctype_of_material%2Cday_of_week\n",
        "***ERROR: status_code ="
       ]
      },
      {
       "output_type": "stream",
       "stream": "stdout",
       "text": [
        " 400 !\n",
        "http://api.nytimes.com/svc/search/v2/articlesearch.json?q=%22thomas+l.+friedman%22&sort=newest&begin_date=18510918&api-key=f28d40af5370f79078fc5eb7ffd97049%3A17%3A49171679&end_date=20080920&facet_filter=true&fl=web_url%2Csnippet%2Clead_paragraph%2Cabstract%2Cprint_page%2Cblog%2Csource%2Cmultimedia%2Cheadline%2Ckeywords%2Cpub_date%2Cdocument_type%2Cnews_desk%2Cbyline%2Ctype_of_material%2C_id%2Cword_count&page=121&facet_field=source%2Csection_name%2Cdocument_type%2Ctype_of_material%2Cday_of_week\n",
        "***ERROR: status_code ="
       ]
      },
      {
       "output_type": "stream",
       "stream": "stdout",
       "text": [
        " 400 !\n",
        "http://api.nytimes.com/svc/search/v2/articlesearch.json?q=%22thomas+l.+friedman%22&sort=newest&begin_date=18510918&api-key=f28d40af5370f79078fc5eb7ffd97049%3A17%3A49171679&end_date=20080920&facet_filter=true&fl=web_url%2Csnippet%2Clead_paragraph%2Cabstract%2Cprint_page%2Cblog%2Csource%2Cmultimedia%2Cheadline%2Ckeywords%2Cpub_date%2Cdocument_type%2Cnews_desk%2Cbyline%2Ctype_of_material%2C_id%2Cword_count&page=122&facet_field=source%2Csection_name%2Cdocument_type%2Ctype_of_material%2Cday_of_week\n",
        "***ERROR: status_code ="
       ]
      },
      {
       "output_type": "stream",
       "stream": "stdout",
       "text": [
        " 400 !\n",
        "http://api.nytimes.com/svc/search/v2/articlesearch.json?q=%22thomas+l.+friedman%22&sort=newest&begin_date=18510918&api-key=f28d40af5370f79078fc5eb7ffd97049%3A17%3A49171679&end_date=20080920&facet_filter=true&fl=web_url%2Csnippet%2Clead_paragraph%2Cabstract%2Cprint_page%2Cblog%2Csource%2Cmultimedia%2Cheadline%2Ckeywords%2Cpub_date%2Cdocument_type%2Cnews_desk%2Cbyline%2Ctype_of_material%2C_id%2Cword_count&page=123&facet_field=source%2Csection_name%2Cdocument_type%2Ctype_of_material%2Cday_of_week\n",
        "***ERROR: status_code ="
       ]
      },
      {
       "output_type": "stream",
       "stream": "stdout",
       "text": [
        " 400 !\n",
        "http://api.nytimes.com/svc/search/v2/articlesearch.json?q=%22thomas+l.+friedman%22&sort=newest&begin_date=18510918&api-key=f28d40af5370f79078fc5eb7ffd97049%3A17%3A49171679&end_date=20080920&facet_filter=true&fl=web_url%2Csnippet%2Clead_paragraph%2Cabstract%2Cprint_page%2Cblog%2Csource%2Cmultimedia%2Cheadline%2Ckeywords%2Cpub_date%2Cdocument_type%2Cnews_desk%2Cbyline%2Ctype_of_material%2C_id%2Cword_count&page=124&facet_field=source%2Csection_name%2Cdocument_type%2Ctype_of_material%2Cday_of_week\n",
        "***ERROR: status_code ="
       ]
      },
      {
       "output_type": "stream",
       "stream": "stdout",
       "text": [
        " 400 !\n",
        "http://api.nytimes.com/svc/search/v2/articlesearch.json?q=%22thomas+l.+friedman%22&sort=newest&begin_date=18510918&api-key=f28d40af5370f79078fc5eb7ffd97049%3A17%3A49171679&end_date=20080920&facet_filter=true&fl=web_url%2Csnippet%2Clead_paragraph%2Cabstract%2Cprint_page%2Cblog%2Csource%2Cmultimedia%2Cheadline%2Ckeywords%2Cpub_date%2Cdocument_type%2Cnews_desk%2Cbyline%2Ctype_of_material%2C_id%2Cword_count&page=125&facet_field=source%2Csection_name%2Cdocument_type%2Ctype_of_material%2Cday_of_week\n",
        "***ERROR: too many consecutive errors (25)!\n"
       ]
      }
     ],
     "prompt_number": 19
    },
    {
     "cell_type": "code",
     "collapsed": false,
     "input": [
      "print len(all_docs_2)\n",
      "print min(doc['pub_date'] for doc in all_docs_2)"
     ],
     "language": "python",
     "metadata": {},
     "outputs": [
      {
       "output_type": "stream",
       "stream": "stdout",
       "text": [
        "1010\n",
        "2005-07-03T00:00:00Z\n"
       ]
      }
     ],
     "prompt_number": 20
    },
    {
     "cell_type": "code",
     "collapsed": false,
     "input": [
      "all_docs_3 = hi_nyt.query_nyt_article_search('\"thomas l. friedman\"',\n",
      "                                             config['nyt_api_key'],\n",
      "                                             end_date='2005-07-02',\n",
      "                                             max_pages=1000)"
     ],
     "language": "python",
     "metadata": {},
     "outputs": [
      {
       "output_type": "stream",
       "stream": "stdout",
       "text": [
        "\n",
        "*INFO: query = \"thomas l. friedman\"\n",
        "*INFO: url = http://api.nytimes.com/svc/search/v2/articlesearch.json?q=%22thomas+l.+friedman%22&sort=newest&begin_date=18510918&api-key=f28d40af5370f79078fc5eb7ffd97049%3A17%3A49171679&end_date=20050702&facet_filter=true&fl=web_url%2Csnippet%2Clead_paragraph%2Cabstract%2Cprint_page%2Cblog%2Csource%2Cmultimedia%2Cheadline%2Ckeywords%2Cpub_date%2Cdocument_type%2Cnews_desk%2Cbyline%2Ctype_of_material%2C_id%2Cword_count&page=0&facet_field=source%2Csection_name%2Cdocument_type%2Ctype_of_material%2Cday_of_week\n",
        "*INFO: n_total_results = 4831 \n",
        "\n",
        "facet                           count \n",
        "-------------------------------------\n",
        "type_of_material..............   4826\n",
        "   News.......................   1889\n",
        "   Op-Ed......................   1030\n",
        "   Letter.....................    814\n",
        "   Summary....................    688\n",
        "   List.......................    140\n",
        "source........................   4826\n",
        "   The New York Times.........   4826\n",
        "document_type.................   4831\n",
        "   article....................   4826\n",
        "   multimedia.................      5\n",
        "section_name..................   4819\n",
        "   Opinion....................   1836\n",
        "   New York and Region........    695\n",
        "   World......................    549\n",
        "   World; Washington..........    482\n",
        "   World; Front Page; Washing*    171\n",
        "day_of_week...................   4831\n",
        "   Sunday.....................   1029\n",
        "   Wednesday..................    827\n",
        "   Tuesday....................    767\n",
        "   Friday.....................    726\n",
        "   Thursday...................    700\n",
        "\n",
        "... n_results = 0\n",
        "... url = http://api.nytimes.com/svc/search/v2/articlesearch.json?q=%22thomas+l.+friedman%22&sort=newest&begin_date=18510918&api-key=f28d40af5370f79078fc5eb7ffd97049%3A17%3A49171679&end_date=20050702&facet_filter=true&fl=web_url%2Csnippet%2Clead_paragraph%2Cabstract%2Cprint_page%2Cblog%2Csource%2Cmultimedia%2Cheadline%2Ckeywords%2Cpub_date%2Cdocument_type%2Cnews_desk%2Cbyline%2Ctype_of_material%2C_id%2Cword_count&page=0&facet_field=source%2Csection_name%2Cdocument_type%2Ctype_of_material%2Cday_of_week\n",
        "... last_date = 2005-07-01T00:00:00Z\n",
        "\n",
        "... n_results ="
       ]
      },
      {
       "output_type": "stream",
       "stream": "stdout",
       "text": [
        " 40\n",
        "... url = http://api.nytimes.com/svc/search/v2/articlesearch.json?q=%22thomas+l.+friedman%22&sort=newest&begin_date=18510918&api-key=f28d40af5370f79078fc5eb7ffd97049%3A17%3A49171679&end_date=20050702&facet_filter=true&fl=web_url%2Csnippet%2Clead_paragraph%2Cabstract%2Cprint_page%2Cblog%2Csource%2Cmultimedia%2Cheadline%2Ckeywords%2Cpub_date%2Cdocument_type%2Cnews_desk%2Cbyline%2Ctype_of_material%2C_id%2Cword_count&page=4&facet_field=source%2Csection_name%2Cdocument_type%2Ctype_of_material%2Cday_of_week\n",
        "... last_date = 2005-06-03T00:00:00Z\n",
        "\n",
        "... n_results ="
       ]
      },
      {
       "output_type": "stream",
       "stream": "stdout",
       "text": [
        " 80\n",
        "... url = http://api.nytimes.com/svc/search/v2/articlesearch.json?q=%22thomas+l.+friedman%22&sort=newest&begin_date=18510918&api-key=f28d40af5370f79078fc5eb7ffd97049%3A17%3A49171679&end_date=20050702&facet_filter=true&fl=web_url%2Csnippet%2Clead_paragraph%2Cabstract%2Cprint_page%2Cblog%2Csource%2Cmultimedia%2Cheadline%2Ckeywords%2Cpub_date%2Cdocument_type%2Cnews_desk%2Cbyline%2Ctype_of_material%2C_id%2Cword_count&page=8&facet_field=source%2Csection_name%2Cdocument_type%2Ctype_of_material%2Cday_of_week\n",
        "... last_date = 2005-05-01T00:00:00Z\n",
        "\n",
        "... n_results ="
       ]
      },
      {
       "output_type": "stream",
       "stream": "stdout",
       "text": [
        " 120\n",
        "... url = http://api.nytimes.com/svc/search/v2/articlesearch.json?q=%22thomas+l.+friedman%22&sort=newest&begin_date=18510918&api-key=f28d40af5370f79078fc5eb7ffd97049%3A17%3A49171679&end_date=20050702&facet_filter=true&fl=web_url%2Csnippet%2Clead_paragraph%2Cabstract%2Cprint_page%2Cblog%2Csource%2Cmultimedia%2Cheadline%2Ckeywords%2Cpub_date%2Cdocument_type%2Cnews_desk%2Cbyline%2Ctype_of_material%2C_id%2Cword_count&page=12&facet_field=source%2Csection_name%2Cdocument_type%2Ctype_of_material%2Cday_of_week\n",
        "... last_date = 2005-03-31T00:00:00Z\n",
        "\n",
        "... n_results ="
       ]
      },
      {
       "output_type": "stream",
       "stream": "stdout",
       "text": [
        " 160\n",
        "... url = http://api.nytimes.com/svc/search/v2/articlesearch.json?q=%22thomas+l.+friedman%22&sort=newest&begin_date=18510918&api-key=f28d40af5370f79078fc5eb7ffd97049%3A17%3A49171679&end_date=20050702&facet_filter=true&fl=web_url%2Csnippet%2Clead_paragraph%2Cabstract%2Cprint_page%2Cblog%2Csource%2Cmultimedia%2Cheadline%2Ckeywords%2Cpub_date%2Cdocument_type%2Cnews_desk%2Cbyline%2Ctype_of_material%2C_id%2Cword_count&page=16&facet_field=source%2Csection_name%2Cdocument_type%2Ctype_of_material%2Cday_of_week\n",
        "... last_date = 2005-01-30T00:00:00Z\n",
        "\n",
        "... n_results ="
       ]
      },
      {
       "output_type": "stream",
       "stream": "stdout",
       "text": [
        " 200\n",
        "... url = http://api.nytimes.com/svc/search/v2/articlesearch.json?q=%22thomas+l.+friedman%22&sort=newest&begin_date=18510918&api-key=f28d40af5370f79078fc5eb7ffd97049%3A17%3A49171679&end_date=20050702&facet_filter=true&fl=web_url%2Csnippet%2Clead_paragraph%2Cabstract%2Cprint_page%2Cblog%2Csource%2Cmultimedia%2Cheadline%2Ckeywords%2Cpub_date%2Cdocument_type%2Cnews_desk%2Cbyline%2Ctype_of_material%2C_id%2Cword_count&page=20&facet_field=source%2Csection_name%2Cdocument_type%2Ctype_of_material%2Cday_of_week\n",
        "... last_date = 2004-12-14T00:00:00Z\n",
        "\n",
        "... n_results ="
       ]
      },
      {
       "output_type": "stream",
       "stream": "stdout",
       "text": [
        " 240\n",
        "... url = http://api.nytimes.com/svc/search/v2/articlesearch.json?q=%22thomas+l.+friedman%22&sort=newest&begin_date=18510918&api-key=f28d40af5370f79078fc5eb7ffd97049%3A17%3A49171679&end_date=20050702&facet_filter=true&fl=web_url%2Csnippet%2Clead_paragraph%2Cabstract%2Cprint_page%2Cblog%2Csource%2Cmultimedia%2Cheadline%2Ckeywords%2Cpub_date%2Cdocument_type%2Cnews_desk%2Cbyline%2Ctype_of_material%2C_id%2Cword_count&page=24&facet_field=source%2Csection_name%2Cdocument_type%2Ctype_of_material%2Cday_of_week\n",
        "... last_date = 2004-10-24T00:00:00Z\n",
        "\n",
        "... n_results ="
       ]
      },
      {
       "output_type": "stream",
       "stream": "stdout",
       "text": [
        " 280\n",
        "... url = http://api.nytimes.com/svc/search/v2/articlesearch.json?q=%22thomas+l.+friedman%22&sort=newest&begin_date=18510918&api-key=f28d40af5370f79078fc5eb7ffd97049%3A17%3A49171679&end_date=20050702&facet_filter=true&fl=web_url%2Csnippet%2Clead_paragraph%2Cabstract%2Cprint_page%2Cblog%2Csource%2Cmultimedia%2Cheadline%2Ckeywords%2Cpub_date%2Cdocument_type%2Cnews_desk%2Cbyline%2Ctype_of_material%2C_id%2Cword_count&page=28&facet_field=source%2Csection_name%2Cdocument_type%2Ctype_of_material%2Cday_of_week\n",
        "... last_date = 2004-07-25T00:00:00Z\n",
        "\n",
        "... n_results ="
       ]
      },
      {
       "output_type": "stream",
       "stream": "stdout",
       "text": [
        " 320\n",
        "... url = http://api.nytimes.com/svc/search/v2/articlesearch.json?q=%22thomas+l.+friedman%22&sort=newest&begin_date=18510918&api-key=f28d40af5370f79078fc5eb7ffd97049%3A17%3A49171679&end_date=20050702&facet_filter=true&fl=web_url%2Csnippet%2Clead_paragraph%2Cabstract%2Cprint_page%2Cblog%2Csource%2Cmultimedia%2Cheadline%2Ckeywords%2Cpub_date%2Cdocument_type%2Cnews_desk%2Cbyline%2Ctype_of_material%2C_id%2Cword_count&page=32&facet_field=source%2Csection_name%2Cdocument_type%2Ctype_of_material%2Cday_of_week\n",
        "... last_date = 2004-05-14T00:00:00Z\n",
        "\n",
        "... n_results ="
       ]
      },
      {
       "output_type": "stream",
       "stream": "stdout",
       "text": [
        " 360\n",
        "... url = http://api.nytimes.com/svc/search/v2/articlesearch.json?q=%22thomas+l.+friedman%22&sort=newest&begin_date=18510918&api-key=f28d40af5370f79078fc5eb7ffd97049%3A17%3A49171679&end_date=20050702&facet_filter=true&fl=web_url%2Csnippet%2Clead_paragraph%2Cabstract%2Cprint_page%2Cblog%2Csource%2Cmultimedia%2Cheadline%2Ckeywords%2Cpub_date%2Cdocument_type%2Cnews_desk%2Cbyline%2Ctype_of_material%2C_id%2Cword_count&page=36&facet_field=source%2Csection_name%2Cdocument_type%2Ctype_of_material%2Cday_of_week\n",
        "... last_date = 2004-03-31T00:00:00Z\n",
        "\n",
        "... n_results ="
       ]
      },
      {
       "output_type": "stream",
       "stream": "stdout",
       "text": [
        " 400\n",
        "... url = http://api.nytimes.com/svc/search/v2/articlesearch.json?q=%22thomas+l.+friedman%22&sort=newest&begin_date=18510918&api-key=f28d40af5370f79078fc5eb7ffd97049%3A17%3A49171679&end_date=20050702&facet_filter=true&fl=web_url%2Csnippet%2Clead_paragraph%2Cabstract%2Cprint_page%2Cblog%2Csource%2Cmultimedia%2Cheadline%2Ckeywords%2Cpub_date%2Cdocument_type%2Cnews_desk%2Cbyline%2Ctype_of_material%2C_id%2Cword_count&page=40&facet_field=source%2Csection_name%2Cdocument_type%2Ctype_of_material%2Cday_of_week\n",
        "... last_date = 2004-02-19T00:00:00Z\n",
        "\n",
        "... n_results ="
       ]
      },
      {
       "output_type": "stream",
       "stream": "stdout",
       "text": [
        " 440\n",
        "... url = http://api.nytimes.com/svc/search/v2/articlesearch.json?q=%22thomas+l.+friedman%22&sort=newest&begin_date=18510918&api-key=f28d40af5370f79078fc5eb7ffd97049%3A17%3A49171679&end_date=20050702&facet_filter=true&fl=web_url%2Csnippet%2Clead_paragraph%2Cabstract%2Cprint_page%2Cblog%2Csource%2Cmultimedia%2Cheadline%2Ckeywords%2Cpub_date%2Cdocument_type%2Cnews_desk%2Cbyline%2Ctype_of_material%2C_id%2Cword_count&page=44&facet_field=source%2Csection_name%2Cdocument_type%2Ctype_of_material%2Cday_of_week\n",
        "... last_date = 2003-12-26T00:00:00Z\n",
        "\n",
        "... n_results ="
       ]
      },
      {
       "output_type": "stream",
       "stream": "stdout",
       "text": [
        " 480\n",
        "... url = http://api.nytimes.com/svc/search/v2/articlesearch.json?q=%22thomas+l.+friedman%22&sort=newest&begin_date=18510918&api-key=f28d40af5370f79078fc5eb7ffd97049%3A17%3A49171679&end_date=20050702&facet_filter=true&fl=web_url%2Csnippet%2Clead_paragraph%2Cabstract%2Cprint_page%2Cblog%2Csource%2Cmultimedia%2Cheadline%2Ckeywords%2Cpub_date%2Cdocument_type%2Cnews_desk%2Cbyline%2Ctype_of_material%2C_id%2Cword_count&page=48&facet_field=source%2Csection_name%2Cdocument_type%2Ctype_of_material%2Cday_of_week\n",
        "... last_date = 2003-11-13T00:00:00Z\n",
        "\n",
        "... n_results ="
       ]
      },
      {
       "output_type": "stream",
       "stream": "stdout",
       "text": [
        " 520\n",
        "... url = http://api.nytimes.com/svc/search/v2/articlesearch.json?q=%22thomas+l.+friedman%22&sort=newest&begin_date=18510918&api-key=f28d40af5370f79078fc5eb7ffd97049%3A17%3A49171679&end_date=20050702&facet_filter=true&fl=web_url%2Csnippet%2Clead_paragraph%2Cabstract%2Cprint_page%2Cblog%2Csource%2Cmultimedia%2Cheadline%2Ckeywords%2Cpub_date%2Cdocument_type%2Cnews_desk%2Cbyline%2Ctype_of_material%2C_id%2Cword_count&page=52&facet_field=source%2Csection_name%2Cdocument_type%2Ctype_of_material%2Cday_of_week\n",
        "... last_date = 2003-10-04T00:00:00Z\n",
        "\n",
        "... n_results ="
       ]
      },
      {
       "output_type": "stream",
       "stream": "stdout",
       "text": [
        " 560\n",
        "... url = http://api.nytimes.com/svc/search/v2/articlesearch.json?q=%22thomas+l.+friedman%22&sort=newest&begin_date=18510918&api-key=f28d40af5370f79078fc5eb7ffd97049%3A17%3A49171679&end_date=20050702&facet_filter=true&fl=web_url%2Csnippet%2Clead_paragraph%2Cabstract%2Cprint_page%2Cblog%2Csource%2Cmultimedia%2Cheadline%2Ckeywords%2Cpub_date%2Cdocument_type%2Cnews_desk%2Cbyline%2Ctype_of_material%2C_id%2Cword_count&page=56&facet_field=source%2Csection_name%2Cdocument_type%2Ctype_of_material%2Cday_of_week\n",
        "... last_date = 2003-09-03T00:00:00Z\n",
        "\n",
        "... n_results ="
       ]
      },
      {
       "output_type": "stream",
       "stream": "stdout",
       "text": [
        " 600\n",
        "... url = http://api.nytimes.com/svc/search/v2/articlesearch.json?q=%22thomas+l.+friedman%22&sort=newest&begin_date=18510918&api-key=f28d40af5370f79078fc5eb7ffd97049%3A17%3A49171679&end_date=20050702&facet_filter=true&fl=web_url%2Csnippet%2Clead_paragraph%2Cabstract%2Cprint_page%2Cblog%2Csource%2Cmultimedia%2Cheadline%2Ckeywords%2Cpub_date%2Cdocument_type%2Cnews_desk%2Cbyline%2Ctype_of_material%2C_id%2Cword_count&page=60&facet_field=source%2Csection_name%2Cdocument_type%2Ctype_of_material%2Cday_of_week\n",
        "... last_date = 2003-07-20T00:00:00Z\n",
        "\n",
        "... n_results ="
       ]
      },
      {
       "output_type": "stream",
       "stream": "stdout",
       "text": [
        " 640\n",
        "... url = http://api.nytimes.com/svc/search/v2/articlesearch.json?q=%22thomas+l.+friedman%22&sort=newest&begin_date=18510918&api-key=f28d40af5370f79078fc5eb7ffd97049%3A17%3A49171679&end_date=20050702&facet_filter=true&fl=web_url%2Csnippet%2Clead_paragraph%2Cabstract%2Cprint_page%2Cblog%2Csource%2Cmultimedia%2Cheadline%2Ckeywords%2Cpub_date%2Cdocument_type%2Cnews_desk%2Cbyline%2Ctype_of_material%2C_id%2Cword_count&page=64&facet_field=source%2Csection_name%2Cdocument_type%2Ctype_of_material%2Cday_of_week\n",
        "... last_date = 2003-06-04T00:00:00Z\n",
        "\n",
        "... n_results ="
       ]
      },
      {
       "output_type": "stream",
       "stream": "stdout",
       "text": [
        " 680\n",
        "... url = http://api.nytimes.com/svc/search/v2/articlesearch.json?q=%22thomas+l.+friedman%22&sort=newest&begin_date=18510918&api-key=f28d40af5370f79078fc5eb7ffd97049%3A17%3A49171679&end_date=20050702&facet_filter=true&fl=web_url%2Csnippet%2Clead_paragraph%2Cabstract%2Cprint_page%2Cblog%2Csource%2Cmultimedia%2Cheadline%2Ckeywords%2Cpub_date%2Cdocument_type%2Cnews_desk%2Cbyline%2Ctype_of_material%2C_id%2Cword_count&page=68&facet_field=source%2Csection_name%2Cdocument_type%2Ctype_of_material%2Cday_of_week\n",
        "... last_date = 2003-04-17T00:00:00Z\n",
        "\n",
        "... n_results ="
       ]
      },
      {
       "output_type": "stream",
       "stream": "stdout",
       "text": [
        " 720\n",
        "... url = http://api.nytimes.com/svc/search/v2/articlesearch.json?q=%22thomas+l.+friedman%22&sort=newest&begin_date=18510918&api-key=f28d40af5370f79078fc5eb7ffd97049%3A17%3A49171679&end_date=20050702&facet_filter=true&fl=web_url%2Csnippet%2Clead_paragraph%2Cabstract%2Cprint_page%2Cblog%2Csource%2Cmultimedia%2Cheadline%2Ckeywords%2Cpub_date%2Cdocument_type%2Cnews_desk%2Cbyline%2Ctype_of_material%2C_id%2Cword_count&page=72&facet_field=source%2Csection_name%2Cdocument_type%2Ctype_of_material%2Cday_of_week\n",
        "... last_date = 2003-03-06T00:00:00Z\n",
        "\n",
        "... n_results ="
       ]
      },
      {
       "output_type": "stream",
       "stream": "stdout",
       "text": [
        " 760\n",
        "... url = http://api.nytimes.com/svc/search/v2/articlesearch.json?q=%22thomas+l.+friedman%22&sort=newest&begin_date=18510918&api-key=f28d40af5370f79078fc5eb7ffd97049%3A17%3A49171679&end_date=20050702&facet_filter=true&fl=web_url%2Csnippet%2Clead_paragraph%2Cabstract%2Cprint_page%2Cblog%2Csource%2Cmultimedia%2Cheadline%2Ckeywords%2Cpub_date%2Cdocument_type%2Cnews_desk%2Cbyline%2Ctype_of_material%2C_id%2Cword_count&page=76&facet_field=source%2Csection_name%2Cdocument_type%2Ctype_of_material%2Cday_of_week\n",
        "... last_date = 2003-01-23T00:00:00Z\n",
        "\n",
        "... n_results ="
       ]
      },
      {
       "output_type": "stream",
       "stream": "stdout",
       "text": [
        " 800\n",
        "... url = http://api.nytimes.com/svc/search/v2/articlesearch.json?q=%22thomas+l.+friedman%22&sort=newest&begin_date=18510918&api-key=f28d40af5370f79078fc5eb7ffd97049%3A17%3A49171679&end_date=20050702&facet_filter=true&fl=web_url%2Csnippet%2Clead_paragraph%2Cabstract%2Cprint_page%2Cblog%2Csource%2Cmultimedia%2Cheadline%2Ckeywords%2Cpub_date%2Cdocument_type%2Cnews_desk%2Cbyline%2Ctype_of_material%2C_id%2Cword_count&page=80&facet_field=source%2Csection_name%2Cdocument_type%2Ctype_of_material%2Cday_of_week\n",
        "... last_date = 2002-11-24T00:00:00Z\n",
        "\n",
        "... n_results ="
       ]
      },
      {
       "output_type": "stream",
       "stream": "stdout",
       "text": [
        " 840\n",
        "... url = http://api.nytimes.com/svc/search/v2/articlesearch.json?q=%22thomas+l.+friedman%22&sort=newest&begin_date=18510918&api-key=f28d40af5370f79078fc5eb7ffd97049%3A17%3A49171679&end_date=20050702&facet_filter=true&fl=web_url%2Csnippet%2Clead_paragraph%2Cabstract%2Cprint_page%2Cblog%2Csource%2Cmultimedia%2Cheadline%2Ckeywords%2Cpub_date%2Cdocument_type%2Cnews_desk%2Cbyline%2Ctype_of_material%2C_id%2Cword_count&page=84&facet_field=source%2Csection_name%2Cdocument_type%2Ctype_of_material%2Cday_of_week\n",
        "... last_date = 2002-10-15T00:00:00Z\n",
        "\n",
        "... n_results ="
       ]
      },
      {
       "output_type": "stream",
       "stream": "stdout",
       "text": [
        " 880\n",
        "... url = http://api.nytimes.com/svc/search/v2/articlesearch.json?q=%22thomas+l.+friedman%22&sort=newest&begin_date=18510918&api-key=f28d40af5370f79078fc5eb7ffd97049%3A17%3A49171679&end_date=20050702&facet_filter=true&fl=web_url%2Csnippet%2Clead_paragraph%2Cabstract%2Cprint_page%2Cblog%2Csource%2Cmultimedia%2Cheadline%2Ckeywords%2Cpub_date%2Cdocument_type%2Cnews_desk%2Cbyline%2Ctype_of_material%2C_id%2Cword_count&page=88&facet_field=source%2Csection_name%2Cdocument_type%2Ctype_of_material%2Cday_of_week\n",
        "... last_date = 2002-09-03T00:00:00Z\n",
        "\n",
        "... n_results ="
       ]
      },
      {
       "output_type": "stream",
       "stream": "stdout",
       "text": [
        " 920\n",
        "... url = http://api.nytimes.com/svc/search/v2/articlesearch.json?q=%22thomas+l.+friedman%22&sort=newest&begin_date=18510918&api-key=f28d40af5370f79078fc5eb7ffd97049%3A17%3A49171679&end_date=20050702&facet_filter=true&fl=web_url%2Csnippet%2Clead_paragraph%2Cabstract%2Cprint_page%2Cblog%2Csource%2Cmultimedia%2Cheadline%2Ckeywords%2Cpub_date%2Cdocument_type%2Cnews_desk%2Cbyline%2Ctype_of_material%2C_id%2Cword_count&page=92&facet_field=source%2Csection_name%2Cdocument_type%2Ctype_of_material%2Cday_of_week\n",
        "... last_date = 2002-06-12T00:00:00Z\n",
        "\n",
        "... n_results ="
       ]
      },
      {
       "output_type": "stream",
       "stream": "stdout",
       "text": [
        " 960\n",
        "... url = http://api.nytimes.com/svc/search/v2/articlesearch.json?q=%22thomas+l.+friedman%22&sort=newest&begin_date=18510918&api-key=f28d40af5370f79078fc5eb7ffd97049%3A17%3A49171679&end_date=20050702&facet_filter=true&fl=web_url%2Csnippet%2Clead_paragraph%2Cabstract%2Cprint_page%2Cblog%2Csource%2Cmultimedia%2Cheadline%2Ckeywords%2Cpub_date%2Cdocument_type%2Cnews_desk%2Cbyline%2Ctype_of_material%2C_id%2Cword_count&page=96&facet_field=source%2Csection_name%2Cdocument_type%2Ctype_of_material%2Cday_of_week\n",
        "... last_date = 2002-04-04T00:00:00Z\n",
        "\n",
        "... n_results ="
       ]
      },
      {
       "output_type": "stream",
       "stream": "stdout",
       "text": [
        " 1000\n",
        "... url = http://api.nytimes.com/svc/search/v2/articlesearch.json?q=%22thomas+l.+friedman%22&sort=newest&begin_date=18510918&api-key=f28d40af5370f79078fc5eb7ffd97049%3A17%3A49171679&end_date=20050702&facet_filter=true&fl=web_url%2Csnippet%2Clead_paragraph%2Cabstract%2Cprint_page%2Cblog%2Csource%2Cmultimedia%2Cheadline%2Ckeywords%2Cpub_date%2Cdocument_type%2Cnews_desk%2Cbyline%2Ctype_of_material%2C_id%2Cword_count&page=100&facet_field=source%2Csection_name%2Cdocument_type%2Ctype_of_material%2Cday_of_week\n",
        "... last_date = 2002-02-19T00:00:00Z\n",
        "***ERROR: status_code ="
       ]
      },
      {
       "output_type": "stream",
       "stream": "stdout",
       "text": [
        " 400 !\n",
        "http://api.nytimes.com/svc/search/v2/articlesearch.json?q=%22thomas+l.+friedman%22&sort=newest&begin_date=18510918&api-key=f28d40af5370f79078fc5eb7ffd97049%3A17%3A49171679&end_date=20050702&facet_filter=true&fl=web_url%2Csnippet%2Clead_paragraph%2Cabstract%2Cprint_page%2Cblog%2Csource%2Cmultimedia%2Cheadline%2Ckeywords%2Cpub_date%2Cdocument_type%2Cnews_desk%2Cbyline%2Ctype_of_material%2C_id%2Cword_count&page=101&facet_field=source%2Csection_name%2Cdocument_type%2Ctype_of_material%2Cday_of_week\n",
        "***ERROR: status_code ="
       ]
      },
      {
       "output_type": "stream",
       "stream": "stdout",
       "text": [
        " 400 !\n",
        "http://api.nytimes.com/svc/search/v2/articlesearch.json?q=%22thomas+l.+friedman%22&sort=newest&begin_date=18510918&api-key=f28d40af5370f79078fc5eb7ffd97049%3A17%3A49171679&end_date=20050702&facet_filter=true&fl=web_url%2Csnippet%2Clead_paragraph%2Cabstract%2Cprint_page%2Cblog%2Csource%2Cmultimedia%2Cheadline%2Ckeywords%2Cpub_date%2Cdocument_type%2Cnews_desk%2Cbyline%2Ctype_of_material%2C_id%2Cword_count&page=102&facet_field=source%2Csection_name%2Cdocument_type%2Ctype_of_material%2Cday_of_week\n",
        "***ERROR: status_code ="
       ]
      },
      {
       "output_type": "stream",
       "stream": "stdout",
       "text": [
        " 400 !\n",
        "http://api.nytimes.com/svc/search/v2/articlesearch.json?q=%22thomas+l.+friedman%22&sort=newest&begin_date=18510918&api-key=f28d40af5370f79078fc5eb7ffd97049%3A17%3A49171679&end_date=20050702&facet_filter=true&fl=web_url%2Csnippet%2Clead_paragraph%2Cabstract%2Cprint_page%2Cblog%2Csource%2Cmultimedia%2Cheadline%2Ckeywords%2Cpub_date%2Cdocument_type%2Cnews_desk%2Cbyline%2Ctype_of_material%2C_id%2Cword_count&page=103&facet_field=source%2Csection_name%2Cdocument_type%2Ctype_of_material%2Cday_of_week\n",
        "***ERROR: status_code ="
       ]
      },
      {
       "output_type": "stream",
       "stream": "stdout",
       "text": [
        " 400 !\n",
        "http://api.nytimes.com/svc/search/v2/articlesearch.json?q=%22thomas+l.+friedman%22&sort=newest&begin_date=18510918&api-key=f28d40af5370f79078fc5eb7ffd97049%3A17%3A49171679&end_date=20050702&facet_filter=true&fl=web_url%2Csnippet%2Clead_paragraph%2Cabstract%2Cprint_page%2Cblog%2Csource%2Cmultimedia%2Cheadline%2Ckeywords%2Cpub_date%2Cdocument_type%2Cnews_desk%2Cbyline%2Ctype_of_material%2C_id%2Cword_count&page=104&facet_field=source%2Csection_name%2Cdocument_type%2Ctype_of_material%2Cday_of_week\n",
        "***ERROR: status_code ="
       ]
      },
      {
       "output_type": "stream",
       "stream": "stdout",
       "text": [
        " 400 !\n",
        "http://api.nytimes.com/svc/search/v2/articlesearch.json?q=%22thomas+l.+friedman%22&sort=newest&begin_date=18510918&api-key=f28d40af5370f79078fc5eb7ffd97049%3A17%3A49171679&end_date=20050702&facet_filter=true&fl=web_url%2Csnippet%2Clead_paragraph%2Cabstract%2Cprint_page%2Cblog%2Csource%2Cmultimedia%2Cheadline%2Ckeywords%2Cpub_date%2Cdocument_type%2Cnews_desk%2Cbyline%2Ctype_of_material%2C_id%2Cword_count&page=105&facet_field=source%2Csection_name%2Cdocument_type%2Ctype_of_material%2Cday_of_week\n",
        "***ERROR: status_code ="
       ]
      },
      {
       "output_type": "stream",
       "stream": "stdout",
       "text": [
        " 400 !\n",
        "http://api.nytimes.com/svc/search/v2/articlesearch.json?q=%22thomas+l.+friedman%22&sort=newest&begin_date=18510918&api-key=f28d40af5370f79078fc5eb7ffd97049%3A17%3A49171679&end_date=20050702&facet_filter=true&fl=web_url%2Csnippet%2Clead_paragraph%2Cabstract%2Cprint_page%2Cblog%2Csource%2Cmultimedia%2Cheadline%2Ckeywords%2Cpub_date%2Cdocument_type%2Cnews_desk%2Cbyline%2Ctype_of_material%2C_id%2Cword_count&page=106&facet_field=source%2Csection_name%2Cdocument_type%2Ctype_of_material%2Cday_of_week\n",
        "***ERROR: status_code ="
       ]
      },
      {
       "output_type": "stream",
       "stream": "stdout",
       "text": [
        " 400 !\n",
        "http://api.nytimes.com/svc/search/v2/articlesearch.json?q=%22thomas+l.+friedman%22&sort=newest&begin_date=18510918&api-key=f28d40af5370f79078fc5eb7ffd97049%3A17%3A49171679&end_date=20050702&facet_filter=true&fl=web_url%2Csnippet%2Clead_paragraph%2Cabstract%2Cprint_page%2Cblog%2Csource%2Cmultimedia%2Cheadline%2Ckeywords%2Cpub_date%2Cdocument_type%2Cnews_desk%2Cbyline%2Ctype_of_material%2C_id%2Cword_count&page=107&facet_field=source%2Csection_name%2Cdocument_type%2Ctype_of_material%2Cday_of_week\n",
        "***ERROR: status_code ="
       ]
      },
      {
       "output_type": "stream",
       "stream": "stdout",
       "text": [
        " 400 !\n",
        "http://api.nytimes.com/svc/search/v2/articlesearch.json?q=%22thomas+l.+friedman%22&sort=newest&begin_date=18510918&api-key=f28d40af5370f79078fc5eb7ffd97049%3A17%3A49171679&end_date=20050702&facet_filter=true&fl=web_url%2Csnippet%2Clead_paragraph%2Cabstract%2Cprint_page%2Cblog%2Csource%2Cmultimedia%2Cheadline%2Ckeywords%2Cpub_date%2Cdocument_type%2Cnews_desk%2Cbyline%2Ctype_of_material%2C_id%2Cword_count&page=108&facet_field=source%2Csection_name%2Cdocument_type%2Ctype_of_material%2Cday_of_week\n",
        "***ERROR: status_code ="
       ]
      },
      {
       "output_type": "stream",
       "stream": "stdout",
       "text": [
        " 400 !\n",
        "http://api.nytimes.com/svc/search/v2/articlesearch.json?q=%22thomas+l.+friedman%22&sort=newest&begin_date=18510918&api-key=f28d40af5370f79078fc5eb7ffd97049%3A17%3A49171679&end_date=20050702&facet_filter=true&fl=web_url%2Csnippet%2Clead_paragraph%2Cabstract%2Cprint_page%2Cblog%2Csource%2Cmultimedia%2Cheadline%2Ckeywords%2Cpub_date%2Cdocument_type%2Cnews_desk%2Cbyline%2Ctype_of_material%2C_id%2Cword_count&page=109&facet_field=source%2Csection_name%2Cdocument_type%2Ctype_of_material%2Cday_of_week\n",
        "***ERROR: status_code ="
       ]
      },
      {
       "output_type": "stream",
       "stream": "stdout",
       "text": [
        " 400 !\n",
        "http://api.nytimes.com/svc/search/v2/articlesearch.json?q=%22thomas+l.+friedman%22&sort=newest&begin_date=18510918&api-key=f28d40af5370f79078fc5eb7ffd97049%3A17%3A49171679&end_date=20050702&facet_filter=true&fl=web_url%2Csnippet%2Clead_paragraph%2Cabstract%2Cprint_page%2Cblog%2Csource%2Cmultimedia%2Cheadline%2Ckeywords%2Cpub_date%2Cdocument_type%2Cnews_desk%2Cbyline%2Ctype_of_material%2C_id%2Cword_count&page=110&facet_field=source%2Csection_name%2Cdocument_type%2Ctype_of_material%2Cday_of_week\n",
        "***ERROR: status_code ="
       ]
      },
      {
       "output_type": "stream",
       "stream": "stdout",
       "text": [
        " 400 !\n",
        "http://api.nytimes.com/svc/search/v2/articlesearch.json?q=%22thomas+l.+friedman%22&sort=newest&begin_date=18510918&api-key=f28d40af5370f79078fc5eb7ffd97049%3A17%3A49171679&end_date=20050702&facet_filter=true&fl=web_url%2Csnippet%2Clead_paragraph%2Cabstract%2Cprint_page%2Cblog%2Csource%2Cmultimedia%2Cheadline%2Ckeywords%2Cpub_date%2Cdocument_type%2Cnews_desk%2Cbyline%2Ctype_of_material%2C_id%2Cword_count&page=111&facet_field=source%2Csection_name%2Cdocument_type%2Ctype_of_material%2Cday_of_week\n",
        "***ERROR: status_code ="
       ]
      },
      {
       "output_type": "stream",
       "stream": "stdout",
       "text": [
        " 400 !\n",
        "http://api.nytimes.com/svc/search/v2/articlesearch.json?q=%22thomas+l.+friedman%22&sort=newest&begin_date=18510918&api-key=f28d40af5370f79078fc5eb7ffd97049%3A17%3A49171679&end_date=20050702&facet_filter=true&fl=web_url%2Csnippet%2Clead_paragraph%2Cabstract%2Cprint_page%2Cblog%2Csource%2Cmultimedia%2Cheadline%2Ckeywords%2Cpub_date%2Cdocument_type%2Cnews_desk%2Cbyline%2Ctype_of_material%2C_id%2Cword_count&page=112&facet_field=source%2Csection_name%2Cdocument_type%2Ctype_of_material%2Cday_of_week\n",
        "***ERROR: status_code ="
       ]
      },
      {
       "output_type": "stream",
       "stream": "stdout",
       "text": [
        " 400 !\n",
        "http://api.nytimes.com/svc/search/v2/articlesearch.json?q=%22thomas+l.+friedman%22&sort=newest&begin_date=18510918&api-key=f28d40af5370f79078fc5eb7ffd97049%3A17%3A49171679&end_date=20050702&facet_filter=true&fl=web_url%2Csnippet%2Clead_paragraph%2Cabstract%2Cprint_page%2Cblog%2Csource%2Cmultimedia%2Cheadline%2Ckeywords%2Cpub_date%2Cdocument_type%2Cnews_desk%2Cbyline%2Ctype_of_material%2C_id%2Cword_count&page=113&facet_field=source%2Csection_name%2Cdocument_type%2Ctype_of_material%2Cday_of_week\n",
        "***ERROR: status_code ="
       ]
      },
      {
       "output_type": "stream",
       "stream": "stdout",
       "text": [
        " 400 !\n",
        "http://api.nytimes.com/svc/search/v2/articlesearch.json?q=%22thomas+l.+friedman%22&sort=newest&begin_date=18510918&api-key=f28d40af5370f79078fc5eb7ffd97049%3A17%3A49171679&end_date=20050702&facet_filter=true&fl=web_url%2Csnippet%2Clead_paragraph%2Cabstract%2Cprint_page%2Cblog%2Csource%2Cmultimedia%2Cheadline%2Ckeywords%2Cpub_date%2Cdocument_type%2Cnews_desk%2Cbyline%2Ctype_of_material%2C_id%2Cword_count&page=114&facet_field=source%2Csection_name%2Cdocument_type%2Ctype_of_material%2Cday_of_week\n",
        "***ERROR: status_code ="
       ]
      },
      {
       "output_type": "stream",
       "stream": "stdout",
       "text": [
        " 400 !\n",
        "http://api.nytimes.com/svc/search/v2/articlesearch.json?q=%22thomas+l.+friedman%22&sort=newest&begin_date=18510918&api-key=f28d40af5370f79078fc5eb7ffd97049%3A17%3A49171679&end_date=20050702&facet_filter=true&fl=web_url%2Csnippet%2Clead_paragraph%2Cabstract%2Cprint_page%2Cblog%2Csource%2Cmultimedia%2Cheadline%2Ckeywords%2Cpub_date%2Cdocument_type%2Cnews_desk%2Cbyline%2Ctype_of_material%2C_id%2Cword_count&page=115&facet_field=source%2Csection_name%2Cdocument_type%2Ctype_of_material%2Cday_of_week\n",
        "***ERROR: status_code ="
       ]
      },
      {
       "output_type": "stream",
       "stream": "stdout",
       "text": [
        " 400 !\n",
        "http://api.nytimes.com/svc/search/v2/articlesearch.json?q=%22thomas+l.+friedman%22&sort=newest&begin_date=18510918&api-key=f28d40af5370f79078fc5eb7ffd97049%3A17%3A49171679&end_date=20050702&facet_filter=true&fl=web_url%2Csnippet%2Clead_paragraph%2Cabstract%2Cprint_page%2Cblog%2Csource%2Cmultimedia%2Cheadline%2Ckeywords%2Cpub_date%2Cdocument_type%2Cnews_desk%2Cbyline%2Ctype_of_material%2C_id%2Cword_count&page=116&facet_field=source%2Csection_name%2Cdocument_type%2Ctype_of_material%2Cday_of_week\n",
        "***ERROR: status_code ="
       ]
      },
      {
       "output_type": "stream",
       "stream": "stdout",
       "text": [
        " 400 !\n",
        "http://api.nytimes.com/svc/search/v2/articlesearch.json?q=%22thomas+l.+friedman%22&sort=newest&begin_date=18510918&api-key=f28d40af5370f79078fc5eb7ffd97049%3A17%3A49171679&end_date=20050702&facet_filter=true&fl=web_url%2Csnippet%2Clead_paragraph%2Cabstract%2Cprint_page%2Cblog%2Csource%2Cmultimedia%2Cheadline%2Ckeywords%2Cpub_date%2Cdocument_type%2Cnews_desk%2Cbyline%2Ctype_of_material%2C_id%2Cword_count&page=117&facet_field=source%2Csection_name%2Cdocument_type%2Ctype_of_material%2Cday_of_week\n",
        "***ERROR: status_code ="
       ]
      },
      {
       "output_type": "stream",
       "stream": "stdout",
       "text": [
        " 400 !\n",
        "http://api.nytimes.com/svc/search/v2/articlesearch.json?q=%22thomas+l.+friedman%22&sort=newest&begin_date=18510918&api-key=f28d40af5370f79078fc5eb7ffd97049%3A17%3A49171679&end_date=20050702&facet_filter=true&fl=web_url%2Csnippet%2Clead_paragraph%2Cabstract%2Cprint_page%2Cblog%2Csource%2Cmultimedia%2Cheadline%2Ckeywords%2Cpub_date%2Cdocument_type%2Cnews_desk%2Cbyline%2Ctype_of_material%2C_id%2Cword_count&page=118&facet_field=source%2Csection_name%2Cdocument_type%2Ctype_of_material%2Cday_of_week\n",
        "***ERROR: status_code ="
       ]
      },
      {
       "output_type": "stream",
       "stream": "stdout",
       "text": [
        " 400 !\n",
        "http://api.nytimes.com/svc/search/v2/articlesearch.json?q=%22thomas+l.+friedman%22&sort=newest&begin_date=18510918&api-key=f28d40af5370f79078fc5eb7ffd97049%3A17%3A49171679&end_date=20050702&facet_filter=true&fl=web_url%2Csnippet%2Clead_paragraph%2Cabstract%2Cprint_page%2Cblog%2Csource%2Cmultimedia%2Cheadline%2Ckeywords%2Cpub_date%2Cdocument_type%2Cnews_desk%2Cbyline%2Ctype_of_material%2C_id%2Cword_count&page=119&facet_field=source%2Csection_name%2Cdocument_type%2Ctype_of_material%2Cday_of_week\n",
        "***ERROR: status_code ="
       ]
      },
      {
       "output_type": "stream",
       "stream": "stdout",
       "text": [
        " 400 !\n",
        "http://api.nytimes.com/svc/search/v2/articlesearch.json?q=%22thomas+l.+friedman%22&sort=newest&begin_date=18510918&api-key=f28d40af5370f79078fc5eb7ffd97049%3A17%3A49171679&end_date=20050702&facet_filter=true&fl=web_url%2Csnippet%2Clead_paragraph%2Cabstract%2Cprint_page%2Cblog%2Csource%2Cmultimedia%2Cheadline%2Ckeywords%2Cpub_date%2Cdocument_type%2Cnews_desk%2Cbyline%2Ctype_of_material%2C_id%2Cword_count&page=120&facet_field=source%2Csection_name%2Cdocument_type%2Ctype_of_material%2Cday_of_week\n",
        "***ERROR: status_code ="
       ]
      },
      {
       "output_type": "stream",
       "stream": "stdout",
       "text": [
        " 400 !\n",
        "http://api.nytimes.com/svc/search/v2/articlesearch.json?q=%22thomas+l.+friedman%22&sort=newest&begin_date=18510918&api-key=f28d40af5370f79078fc5eb7ffd97049%3A17%3A49171679&end_date=20050702&facet_filter=true&fl=web_url%2Csnippet%2Clead_paragraph%2Cabstract%2Cprint_page%2Cblog%2Csource%2Cmultimedia%2Cheadline%2Ckeywords%2Cpub_date%2Cdocument_type%2Cnews_desk%2Cbyline%2Ctype_of_material%2C_id%2Cword_count&page=121&facet_field=source%2Csection_name%2Cdocument_type%2Ctype_of_material%2Cday_of_week\n",
        "***ERROR: status_code ="
       ]
      },
      {
       "output_type": "stream",
       "stream": "stdout",
       "text": [
        " 400 !\n",
        "http://api.nytimes.com/svc/search/v2/articlesearch.json?q=%22thomas+l.+friedman%22&sort=newest&begin_date=18510918&api-key=f28d40af5370f79078fc5eb7ffd97049%3A17%3A49171679&end_date=20050702&facet_filter=true&fl=web_url%2Csnippet%2Clead_paragraph%2Cabstract%2Cprint_page%2Cblog%2Csource%2Cmultimedia%2Cheadline%2Ckeywords%2Cpub_date%2Cdocument_type%2Cnews_desk%2Cbyline%2Ctype_of_material%2C_id%2Cword_count&page=122&facet_field=source%2Csection_name%2Cdocument_type%2Ctype_of_material%2Cday_of_week\n",
        "***ERROR: status_code ="
       ]
      },
      {
       "output_type": "stream",
       "stream": "stdout",
       "text": [
        " 400 !\n",
        "http://api.nytimes.com/svc/search/v2/articlesearch.json?q=%22thomas+l.+friedman%22&sort=newest&begin_date=18510918&api-key=f28d40af5370f79078fc5eb7ffd97049%3A17%3A49171679&end_date=20050702&facet_filter=true&fl=web_url%2Csnippet%2Clead_paragraph%2Cabstract%2Cprint_page%2Cblog%2Csource%2Cmultimedia%2Cheadline%2Ckeywords%2Cpub_date%2Cdocument_type%2Cnews_desk%2Cbyline%2Ctype_of_material%2C_id%2Cword_count&page=123&facet_field=source%2Csection_name%2Cdocument_type%2Ctype_of_material%2Cday_of_week\n",
        "***ERROR: status_code ="
       ]
      },
      {
       "output_type": "stream",
       "stream": "stdout",
       "text": [
        " 400 !\n",
        "http://api.nytimes.com/svc/search/v2/articlesearch.json?q=%22thomas+l.+friedman%22&sort=newest&begin_date=18510918&api-key=f28d40af5370f79078fc5eb7ffd97049%3A17%3A49171679&end_date=20050702&facet_filter=true&fl=web_url%2Csnippet%2Clead_paragraph%2Cabstract%2Cprint_page%2Cblog%2Csource%2Cmultimedia%2Cheadline%2Ckeywords%2Cpub_date%2Cdocument_type%2Cnews_desk%2Cbyline%2Ctype_of_material%2C_id%2Cword_count&page=124&facet_field=source%2Csection_name%2Cdocument_type%2Ctype_of_material%2Cday_of_week\n",
        "***ERROR: status_code ="
       ]
      },
      {
       "output_type": "stream",
       "stream": "stdout",
       "text": [
        " 400 !\n",
        "http://api.nytimes.com/svc/search/v2/articlesearch.json?q=%22thomas+l.+friedman%22&sort=newest&begin_date=18510918&api-key=f28d40af5370f79078fc5eb7ffd97049%3A17%3A49171679&end_date=20050702&facet_filter=true&fl=web_url%2Csnippet%2Clead_paragraph%2Cabstract%2Cprint_page%2Cblog%2Csource%2Cmultimedia%2Cheadline%2Ckeywords%2Cpub_date%2Cdocument_type%2Cnews_desk%2Cbyline%2Ctype_of_material%2C_id%2Cword_count&page=125&facet_field=source%2Csection_name%2Cdocument_type%2Ctype_of_material%2Cday_of_week\n",
        "***ERROR: too many consecutive errors (25)!\n"
       ]
      }
     ],
     "prompt_number": 21
    },
    {
     "cell_type": "code",
     "collapsed": false,
     "input": [
      "print len(all_docs_3)\n",
      "print min(doc['pub_date'] for doc in all_docs_3)"
     ],
     "language": "python",
     "metadata": {},
     "outputs": [
      {
       "output_type": "stream",
       "stream": "stdout",
       "text": [
        "1010\n",
        "2002-02-13T00:00:00Z\n"
       ]
      }
     ],
     "prompt_number": 22
    },
    {
     "cell_type": "code",
     "collapsed": false,
     "input": [
      "all_docs_4 = hi_nyt.query_nyt_article_search('\"thomas l. friedman\"',\n",
      "                                             config['nyt_api_key'],\n",
      "                                             end_date='2002-02-12',\n",
      "                                             max_pages=1000)"
     ],
     "language": "python",
     "metadata": {},
     "outputs": [
      {
       "output_type": "stream",
       "stream": "stdout",
       "text": [
        "\n",
        "*INFO: query = \"thomas l. friedman\"\n",
        "*INFO: url = http://api.nytimes.com/svc/search/v2/articlesearch.json?q=%22thomas+l.+friedman%22&sort=newest&begin_date=18510918&api-key=f28d40af5370f79078fc5eb7ffd97049%3A17%3A49171679&end_date=20020212&facet_filter=true&fl=web_url%2Csnippet%2Clead_paragraph%2Cabstract%2Cprint_page%2Cblog%2Csource%2Cmultimedia%2Cheadline%2Ckeywords%2Cpub_date%2Cdocument_type%2Cnews_desk%2Cbyline%2Ctype_of_material%2C_id%2Cword_count&page=0&facet_field=source%2Csection_name%2Cdocument_type%2Ctype_of_material%2Cday_of_week\n",
        "*INFO: n_total_results = 3820 \n",
        "\n",
        "facet                           count \n",
        "-------------------------------------\n",
        "type_of_material..............   3820\n",
        "   News.......................   1874\n",
        "   Op-Ed......................    684\n",
        "   Summary....................    526\n",
        "   Letter.....................    399\n",
        "   List.......................     91\n",
        "source........................   3820\n",
        "   The New York Times.........   3820\n",
        "document_type.................   3820\n",
        "   article....................   3820\n",
        "section_name..................   3813\n",
        "   Opinion....................   1075\n",
        "   World......................    546\n",
        "   New York and Region........    528\n",
        "   World; Washington..........    479\n",
        "   World; Front Page; Washing*    171\n",
        "day_of_week...................   3820\n",
        "   Sunday.....................    766\n",
        "   Tuesday....................    649\n",
        "   Friday.....................    618\n",
        "   Wednesday..................    607\n",
        "   Thursday...................    368\n",
        "\n",
        "... n_results = 0\n",
        "... url = http://api.nytimes.com/svc/search/v2/articlesearch.json?q=%22thomas+l.+friedman%22&sort=newest&begin_date=18510918&api-key=f28d40af5370f79078fc5eb7ffd97049%3A17%3A49171679&end_date=20020212&facet_filter=true&fl=web_url%2Csnippet%2Clead_paragraph%2Cabstract%2Cprint_page%2Cblog%2Csource%2Cmultimedia%2Cheadline%2Ckeywords%2Cpub_date%2Cdocument_type%2Cnews_desk%2Cbyline%2Ctype_of_material%2C_id%2Cword_count&page=0&facet_field=source%2Csection_name%2Cdocument_type%2Ctype_of_material%2Cday_of_week\n",
        "... last_date = 2002-02-10T00:00:00Z\n",
        "\n",
        "... n_results ="
       ]
      },
      {
       "output_type": "stream",
       "stream": "stdout",
       "text": [
        " 30\n",
        "... url = http://api.nytimes.com/svc/search/v2/articlesearch.json?q=%22thomas+l.+friedman%22&sort=newest&begin_date=18510918&api-key=f28d40af5370f79078fc5eb7ffd97049%3A17%3A49171679&end_date=20020212&facet_filter=true&fl=web_url%2Csnippet%2Clead_paragraph%2Cabstract%2Cprint_page%2Cblog%2Csource%2Cmultimedia%2Cheadline%2Ckeywords%2Cpub_date%2Cdocument_type%2Cnews_desk%2Cbyline%2Ctype_of_material%2C_id%2Cword_count&page=3&facet_field=source%2Csection_name%2Cdocument_type%2Ctype_of_material%2Cday_of_week\n",
        "... last_date = 2002-01-04T00:00:00Z\n",
        "\n",
        "... n_results ="
       ]
      },
      {
       "output_type": "stream",
       "stream": "stdout",
       "text": [
        " 60\n",
        "... url = http://api.nytimes.com/svc/search/v2/articlesearch.json?q=%22thomas+l.+friedman%22&sort=newest&begin_date=18510918&api-key=f28d40af5370f79078fc5eb7ffd97049%3A17%3A49171679&end_date=20020212&facet_filter=true&fl=web_url%2Csnippet%2Clead_paragraph%2Cabstract%2Cprint_page%2Cblog%2Csource%2Cmultimedia%2Cheadline%2Ckeywords%2Cpub_date%2Cdocument_type%2Cnews_desk%2Cbyline%2Ctype_of_material%2C_id%2Cword_count&page=6&facet_field=source%2Csection_name%2Cdocument_type%2Ctype_of_material%2Cday_of_week\n",
        "... last_date = 2001-12-02T00:00:00Z\n",
        "\n",
        "... n_results ="
       ]
      },
      {
       "output_type": "stream",
       "stream": "stdout",
       "text": [
        " 90\n",
        "... url = http://api.nytimes.com/svc/search/v2/articlesearch.json?q=%22thomas+l.+friedman%22&sort=newest&begin_date=18510918&api-key=f28d40af5370f79078fc5eb7ffd97049%3A17%3A49171679&end_date=20020212&facet_filter=true&fl=web_url%2Csnippet%2Clead_paragraph%2Cabstract%2Cprint_page%2Cblog%2Csource%2Cmultimedia%2Cheadline%2Ckeywords%2Cpub_date%2Cdocument_type%2Cnews_desk%2Cbyline%2Ctype_of_material%2C_id%2Cword_count&page=9&facet_field=source%2Csection_name%2Cdocument_type%2Ctype_of_material%2Cday_of_week\n",
        "... last_date = 2001-11-02T00:00:00Z\n",
        "\n",
        "... n_results ="
       ]
      },
      {
       "output_type": "stream",
       "stream": "stdout",
       "text": [
        " 120\n",
        "... url = http://api.nytimes.com/svc/search/v2/articlesearch.json?q=%22thomas+l.+friedman%22&sort=newest&begin_date=18510918&api-key=f28d40af5370f79078fc5eb7ffd97049%3A17%3A49171679&end_date=20020212&facet_filter=true&fl=web_url%2Csnippet%2Clead_paragraph%2Cabstract%2Cprint_page%2Cblog%2Csource%2Cmultimedia%2Cheadline%2Ckeywords%2Cpub_date%2Cdocument_type%2Cnews_desk%2Cbyline%2Ctype_of_material%2C_id%2Cword_count&page=12&facet_field=source%2Csection_name%2Cdocument_type%2Ctype_of_material%2Cday_of_week\n",
        "... last_date = 2001-10-14T00:00:00Z\n",
        "\n",
        "... n_results ="
       ]
      },
      {
       "output_type": "stream",
       "stream": "stdout",
       "text": [
        " 150\n",
        "... url = http://api.nytimes.com/svc/search/v2/articlesearch.json?q=%22thomas+l.+friedman%22&sort=newest&begin_date=18510918&api-key=f28d40af5370f79078fc5eb7ffd97049%3A17%3A49171679&end_date=20020212&facet_filter=true&fl=web_url%2Csnippet%2Clead_paragraph%2Cabstract%2Cprint_page%2Cblog%2Csource%2Cmultimedia%2Cheadline%2Ckeywords%2Cpub_date%2Cdocument_type%2Cnews_desk%2Cbyline%2Ctype_of_material%2C_id%2Cword_count&page=15&facet_field=source%2Csection_name%2Cdocument_type%2Ctype_of_material%2Cday_of_week\n",
        "... last_date = 2001-09-14T00:00:00Z\n",
        "\n",
        "... n_results ="
       ]
      },
      {
       "output_type": "stream",
       "stream": "stdout",
       "text": [
        " 180\n",
        "... url = http://api.nytimes.com/svc/search/v2/articlesearch.json?q=%22thomas+l.+friedman%22&sort=newest&begin_date=18510918&api-key=f28d40af5370f79078fc5eb7ffd97049%3A17%3A49171679&end_date=20020212&facet_filter=true&fl=web_url%2Csnippet%2Clead_paragraph%2Cabstract%2Cprint_page%2Cblog%2Csource%2Cmultimedia%2Cheadline%2Ckeywords%2Cpub_date%2Cdocument_type%2Cnews_desk%2Cbyline%2Ctype_of_material%2C_id%2Cword_count&page=18&facet_field=source%2Csection_name%2Cdocument_type%2Ctype_of_material%2Cday_of_week\n",
        "... last_date = 2001-07-31T00:00:00Z\n",
        "\n",
        "... n_results ="
       ]
      },
      {
       "output_type": "stream",
       "stream": "stdout",
       "text": [
        " 210\n",
        "... url = http://api.nytimes.com/svc/search/v2/articlesearch.json?q=%22thomas+l.+friedman%22&sort=newest&begin_date=18510918&api-key=f28d40af5370f79078fc5eb7ffd97049%3A17%3A49171679&end_date=20020212&facet_filter=true&fl=web_url%2Csnippet%2Clead_paragraph%2Cabstract%2Cprint_page%2Cblog%2Csource%2Cmultimedia%2Cheadline%2Ckeywords%2Cpub_date%2Cdocument_type%2Cnews_desk%2Cbyline%2Ctype_of_material%2C_id%2Cword_count&page=21&facet_field=source%2Csection_name%2Cdocument_type%2Ctype_of_material%2Cday_of_week\n",
        "... last_date = 2001-07-04T00:00:00Z\n",
        "\n",
        "... n_results ="
       ]
      },
      {
       "output_type": "stream",
       "stream": "stdout",
       "text": [
        " 240\n",
        "... url = http://api.nytimes.com/svc/search/v2/articlesearch.json?q=%22thomas+l.+friedman%22&sort=newest&begin_date=18510918&api-key=f28d40af5370f79078fc5eb7ffd97049%3A17%3A49171679&end_date=20020212&facet_filter=true&fl=web_url%2Csnippet%2Clead_paragraph%2Cabstract%2Cprint_page%2Cblog%2Csource%2Cmultimedia%2Cheadline%2Ckeywords%2Cpub_date%2Cdocument_type%2Cnews_desk%2Cbyline%2Ctype_of_material%2C_id%2Cword_count&page=24&facet_field=source%2Csection_name%2Cdocument_type%2Ctype_of_material%2Cday_of_week\n",
        "... last_date = 2001-05-25T00:00:00Z\n",
        "\n",
        "... n_results ="
       ]
      },
      {
       "output_type": "stream",
       "stream": "stdout",
       "text": [
        " 270\n",
        "... url = http://api.nytimes.com/svc/search/v2/articlesearch.json?q=%22thomas+l.+friedman%22&sort=newest&begin_date=18510918&api-key=f28d40af5370f79078fc5eb7ffd97049%3A17%3A49171679&end_date=20020212&facet_filter=true&fl=web_url%2Csnippet%2Clead_paragraph%2Cabstract%2Cprint_page%2Cblog%2Csource%2Cmultimedia%2Cheadline%2Ckeywords%2Cpub_date%2Cdocument_type%2Cnews_desk%2Cbyline%2Ctype_of_material%2C_id%2Cword_count&page=27&facet_field=source%2Csection_name%2Cdocument_type%2Ctype_of_material%2Cday_of_week\n",
        "... last_date = 2001-04-17T00:00:00Z\n",
        "\n",
        "... n_results ="
       ]
      },
      {
       "output_type": "stream",
       "stream": "stdout",
       "text": [
        " 300\n",
        "... url = http://api.nytimes.com/svc/search/v2/articlesearch.json?q=%22thomas+l.+friedman%22&sort=newest&begin_date=18510918&api-key=f28d40af5370f79078fc5eb7ffd97049%3A17%3A49171679&end_date=20020212&facet_filter=true&fl=web_url%2Csnippet%2Clead_paragraph%2Cabstract%2Cprint_page%2Cblog%2Csource%2Cmultimedia%2Cheadline%2Ckeywords%2Cpub_date%2Cdocument_type%2Cnews_desk%2Cbyline%2Ctype_of_material%2C_id%2Cword_count&page=30&facet_field=source%2Csection_name%2Cdocument_type%2Ctype_of_material%2Cday_of_week\n",
        "... last_date = 2001-03-09T00:00:00Z\n",
        "\n",
        "... n_results ="
       ]
      },
      {
       "output_type": "stream",
       "stream": "stdout",
       "text": [
        " 330\n",
        "... url = http://api.nytimes.com/svc/search/v2/articlesearch.json?q=%22thomas+l.+friedman%22&sort=newest&begin_date=18510918&api-key=f28d40af5370f79078fc5eb7ffd97049%3A17%3A49171679&end_date=20020212&facet_filter=true&fl=web_url%2Csnippet%2Clead_paragraph%2Cabstract%2Cprint_page%2Cblog%2Csource%2Cmultimedia%2Cheadline%2Ckeywords%2Cpub_date%2Cdocument_type%2Cnews_desk%2Cbyline%2Ctype_of_material%2C_id%2Cword_count&page=33&facet_field=source%2Csection_name%2Cdocument_type%2Ctype_of_material%2Cday_of_week\n",
        "... last_date = 2001-01-26T00:00:00Z\n",
        "\n",
        "... n_results ="
       ]
      },
      {
       "output_type": "stream",
       "stream": "stdout",
       "text": [
        " 360\n",
        "... url = http://api.nytimes.com/svc/search/v2/articlesearch.json?q=%22thomas+l.+friedman%22&sort=newest&begin_date=18510918&api-key=f28d40af5370f79078fc5eb7ffd97049%3A17%3A49171679&end_date=20020212&facet_filter=true&fl=web_url%2Csnippet%2Clead_paragraph%2Cabstract%2Cprint_page%2Cblog%2Csource%2Cmultimedia%2Cheadline%2Ckeywords%2Cpub_date%2Cdocument_type%2Cnews_desk%2Cbyline%2Ctype_of_material%2C_id%2Cword_count&page=36&facet_field=source%2Csection_name%2Cdocument_type%2Ctype_of_material%2Cday_of_week\n",
        "... last_date = 2000-12-15T00:00:00Z\n",
        "\n",
        "... n_results ="
       ]
      },
      {
       "output_type": "stream",
       "stream": "stdout",
       "text": [
        " 390\n",
        "... url = http://api.nytimes.com/svc/search/v2/articlesearch.json?q=%22thomas+l.+friedman%22&sort=newest&begin_date=18510918&api-key=f28d40af5370f79078fc5eb7ffd97049%3A17%3A49171679&end_date=20020212&facet_filter=true&fl=web_url%2Csnippet%2Clead_paragraph%2Cabstract%2Cprint_page%2Cblog%2Csource%2Cmultimedia%2Cheadline%2Ckeywords%2Cpub_date%2Cdocument_type%2Cnews_desk%2Cbyline%2Ctype_of_material%2C_id%2Cword_count&page=39&facet_field=source%2Csection_name%2Cdocument_type%2Ctype_of_material%2Cday_of_week\n",
        "... last_date = 2000-11-17T00:00:00Z\n",
        "\n",
        "... n_results ="
       ]
      },
      {
       "output_type": "stream",
       "stream": "stdout",
       "text": [
        " 420\n",
        "... url = http://api.nytimes.com/svc/search/v2/articlesearch.json?q=%22thomas+l.+friedman%22&sort=newest&begin_date=18510918&api-key=f28d40af5370f79078fc5eb7ffd97049%3A17%3A49171679&end_date=20020212&facet_filter=true&fl=web_url%2Csnippet%2Clead_paragraph%2Cabstract%2Cprint_page%2Cblog%2Csource%2Cmultimedia%2Cheadline%2Ckeywords%2Cpub_date%2Cdocument_type%2Cnews_desk%2Cbyline%2Ctype_of_material%2C_id%2Cword_count&page=42&facet_field=source%2Csection_name%2Cdocument_type%2Ctype_of_material%2Cday_of_week\n",
        "... last_date = 2000-10-14T00:00:00Z\n",
        "\n",
        "... n_results ="
       ]
      },
      {
       "output_type": "stream",
       "stream": "stdout",
       "text": [
        " 450\n",
        "... url = http://api.nytimes.com/svc/search/v2/articlesearch.json?q=%22thomas+l.+friedman%22&sort=newest&begin_date=18510918&api-key=f28d40af5370f79078fc5eb7ffd97049%3A17%3A49171679&end_date=20020212&facet_filter=true&fl=web_url%2Csnippet%2Clead_paragraph%2Cabstract%2Cprint_page%2Cblog%2Csource%2Cmultimedia%2Cheadline%2Ckeywords%2Cpub_date%2Cdocument_type%2Cnews_desk%2Cbyline%2Ctype_of_material%2C_id%2Cword_count&page=45&facet_field=source%2Csection_name%2Cdocument_type%2Ctype_of_material%2Cday_of_week\n",
        "... last_date = 2000-09-08T00:00:00Z\n",
        "\n",
        "... n_results ="
       ]
      },
      {
       "output_type": "stream",
       "stream": "stdout",
       "text": [
        " 480\n",
        "... url = http://api.nytimes.com/svc/search/v2/articlesearch.json?q=%22thomas+l.+friedman%22&sort=newest&begin_date=18510918&api-key=f28d40af5370f79078fc5eb7ffd97049%3A17%3A49171679&end_date=20020212&facet_filter=true&fl=web_url%2Csnippet%2Clead_paragraph%2Cabstract%2Cprint_page%2Cblog%2Csource%2Cmultimedia%2Cheadline%2Ckeywords%2Cpub_date%2Cdocument_type%2Cnews_desk%2Cbyline%2Ctype_of_material%2C_id%2Cword_count&page=48&facet_field=source%2Csection_name%2Cdocument_type%2Ctype_of_material%2Cday_of_week\n",
        "... last_date = 2000-07-30T00:00:00Z\n",
        "\n",
        "... n_results ="
       ]
      },
      {
       "output_type": "stream",
       "stream": "stdout",
       "text": [
        " 510\n",
        "... url = http://api.nytimes.com/svc/search/v2/articlesearch.json?q=%22thomas+l.+friedman%22&sort=newest&begin_date=18510918&api-key=f28d40af5370f79078fc5eb7ffd97049%3A17%3A49171679&end_date=20020212&facet_filter=true&fl=web_url%2Csnippet%2Clead_paragraph%2Cabstract%2Cprint_page%2Cblog%2Csource%2Cmultimedia%2Cheadline%2Ckeywords%2Cpub_date%2Cdocument_type%2Cnews_desk%2Cbyline%2Ctype_of_material%2C_id%2Cword_count&page=51&facet_field=source%2Csection_name%2Cdocument_type%2Ctype_of_material%2Cday_of_week\n",
        "... last_date = 2000-06-25T00:00:00Z\n",
        "\n",
        "... n_results ="
       ]
      },
      {
       "output_type": "stream",
       "stream": "stdout",
       "text": [
        " 540\n",
        "... url = http://api.nytimes.com/svc/search/v2/articlesearch.json?q=%22thomas+l.+friedman%22&sort=newest&begin_date=18510918&api-key=f28d40af5370f79078fc5eb7ffd97049%3A17%3A49171679&end_date=20020212&facet_filter=true&fl=web_url%2Csnippet%2Clead_paragraph%2Cabstract%2Cprint_page%2Cblog%2Csource%2Cmultimedia%2Cheadline%2Ckeywords%2Cpub_date%2Cdocument_type%2Cnews_desk%2Cbyline%2Ctype_of_material%2C_id%2Cword_count&page=54&facet_field=source%2Csection_name%2Cdocument_type%2Ctype_of_material%2Cday_of_week\n",
        "... last_date = 2000-05-21T00:00:00Z\n",
        "\n",
        "... n_results ="
       ]
      },
      {
       "output_type": "stream",
       "stream": "stdout",
       "text": [
        " 570\n",
        "... url = http://api.nytimes.com/svc/search/v2/articlesearch.json?q=%22thomas+l.+friedman%22&sort=newest&begin_date=18510918&api-key=f28d40af5370f79078fc5eb7ffd97049%3A17%3A49171679&end_date=20020212&facet_filter=true&fl=web_url%2Csnippet%2Clead_paragraph%2Cabstract%2Cprint_page%2Cblog%2Csource%2Cmultimedia%2Cheadline%2Ckeywords%2Cpub_date%2Cdocument_type%2Cnews_desk%2Cbyline%2Ctype_of_material%2C_id%2Cword_count&page=57&facet_field=source%2Csection_name%2Cdocument_type%2Ctype_of_material%2Cday_of_week\n",
        "... last_date = 2000-04-17T00:00:00Z\n",
        "***ERROR: status_code ="
       ]
      },
      {
       "output_type": "stream",
       "stream": "stdout",
       "text": [
        " 504 !\n",
        "http://api.nytimes.com/svc/search/v2/articlesearch.json?q=%22thomas+l.+friedman%22&sort=newest&begin_date=18510918&api-key=f28d40af5370f79078fc5eb7ffd97049%3A17%3A49171679&end_date=20020212&facet_filter=true&fl=web_url%2Csnippet%2Clead_paragraph%2Cabstract%2Cprint_page%2Cblog%2Csource%2Cmultimedia%2Cheadline%2Ckeywords%2Cpub_date%2Cdocument_type%2Cnews_desk%2Cbyline%2Ctype_of_material%2C_id%2Cword_count&page=59&facet_field=source%2Csection_name%2Cdocument_type%2Ctype_of_material%2Cday_of_week\n",
        "\n",
        "... n_results ="
       ]
      },
      {
       "output_type": "stream",
       "stream": "stdout",
       "text": [
        " 600\n",
        "... url = http://api.nytimes.com/svc/search/v2/articlesearch.json?q=%22thomas+l.+friedman%22&sort=newest&begin_date=18510918&api-key=f28d40af5370f79078fc5eb7ffd97049%3A17%3A49171679&end_date=20020212&facet_filter=true&fl=web_url%2Csnippet%2Clead_paragraph%2Cabstract%2Cprint_page%2Cblog%2Csource%2Cmultimedia%2Cheadline%2Ckeywords%2Cpub_date%2Cdocument_type%2Cnews_desk%2Cbyline%2Ctype_of_material%2C_id%2Cword_count&page=60&facet_field=source%2Csection_name%2Cdocument_type%2Ctype_of_material%2Cday_of_week\n",
        "... last_date = 2000-03-10T00:00:00Z\n",
        "\n",
        "... n_results ="
       ]
      },
      {
       "output_type": "stream",
       "stream": "stdout",
       "text": [
        " 630\n",
        "... url = http://api.nytimes.com/svc/search/v2/articlesearch.json?q=%22thomas+l.+friedman%22&sort=newest&begin_date=18510918&api-key=f28d40af5370f79078fc5eb7ffd97049%3A17%3A49171679&end_date=20020212&facet_filter=true&fl=web_url%2Csnippet%2Clead_paragraph%2Cabstract%2Cprint_page%2Cblog%2Csource%2Cmultimedia%2Cheadline%2Ckeywords%2Cpub_date%2Cdocument_type%2Cnews_desk%2Cbyline%2Ctype_of_material%2C_id%2Cword_count&page=63&facet_field=source%2Csection_name%2Cdocument_type%2Ctype_of_material%2Cday_of_week\n",
        "... last_date = 2000-01-28T00:00:00Z\n",
        "\n",
        "... n_results ="
       ]
      },
      {
       "output_type": "stream",
       "stream": "stdout",
       "text": [
        " 660\n",
        "... url = http://api.nytimes.com/svc/search/v2/articlesearch.json?q=%22thomas+l.+friedman%22&sort=newest&begin_date=18510918&api-key=f28d40af5370f79078fc5eb7ffd97049%3A17%3A49171679&end_date=20020212&facet_filter=true&fl=web_url%2Csnippet%2Clead_paragraph%2Cabstract%2Cprint_page%2Cblog%2Csource%2Cmultimedia%2Cheadline%2Ckeywords%2Cpub_date%2Cdocument_type%2Cnews_desk%2Cbyline%2Ctype_of_material%2C_id%2Cword_count&page=66&facet_field=source%2Csection_name%2Cdocument_type%2Ctype_of_material%2Cday_of_week\n",
        "... last_date = 1999-12-08T00:00:00Z\n",
        "\n",
        "... n_results ="
       ]
      },
      {
       "output_type": "stream",
       "stream": "stdout",
       "text": [
        " 690\n",
        "... url = http://api.nytimes.com/svc/search/v2/articlesearch.json?q=%22thomas+l.+friedman%22&sort=newest&begin_date=18510918&api-key=f28d40af5370f79078fc5eb7ffd97049%3A17%3A49171679&end_date=20020212&facet_filter=true&fl=web_url%2Csnippet%2Clead_paragraph%2Cabstract%2Cprint_page%2Cblog%2Csource%2Cmultimedia%2Cheadline%2Ckeywords%2Cpub_date%2Cdocument_type%2Cnews_desk%2Cbyline%2Ctype_of_material%2C_id%2Cword_count&page=69&facet_field=source%2Csection_name%2Cdocument_type%2Ctype_of_material%2Cday_of_week\n",
        "... last_date = 1999-10-27T00:00:00Z\n",
        "\n",
        "... n_results ="
       ]
      },
      {
       "output_type": "stream",
       "stream": "stdout",
       "text": [
        " 720\n",
        "... url = http://api.nytimes.com/svc/search/v2/articlesearch.json?q=%22thomas+l.+friedman%22&sort=newest&begin_date=18510918&api-key=f28d40af5370f79078fc5eb7ffd97049%3A17%3A49171679&end_date=20020212&facet_filter=true&fl=web_url%2Csnippet%2Clead_paragraph%2Cabstract%2Cprint_page%2Cblog%2Csource%2Cmultimedia%2Cheadline%2Ckeywords%2Cpub_date%2Cdocument_type%2Cnews_desk%2Cbyline%2Ctype_of_material%2C_id%2Cword_count&page=72&facet_field=source%2Csection_name%2Cdocument_type%2Ctype_of_material%2Cday_of_week\n",
        "... last_date = 1999-09-12T00:00:00Z\n",
        "\n",
        "... n_results ="
       ]
      },
      {
       "output_type": "stream",
       "stream": "stdout",
       "text": [
        " 750\n",
        "... url = http://api.nytimes.com/svc/search/v2/articlesearch.json?q=%22thomas+l.+friedman%22&sort=newest&begin_date=18510918&api-key=f28d40af5370f79078fc5eb7ffd97049%3A17%3A49171679&end_date=20020212&facet_filter=true&fl=web_url%2Csnippet%2Clead_paragraph%2Cabstract%2Cprint_page%2Cblog%2Csource%2Cmultimedia%2Cheadline%2Ckeywords%2Cpub_date%2Cdocument_type%2Cnews_desk%2Cbyline%2Ctype_of_material%2C_id%2Cword_count&page=75&facet_field=source%2Csection_name%2Cdocument_type%2Ctype_of_material%2Cday_of_week\n",
        "... last_date = 1999-08-06T00:00:00Z\n",
        "\n",
        "... n_results ="
       ]
      },
      {
       "output_type": "stream",
       "stream": "stdout",
       "text": [
        " 780\n",
        "... url = http://api.nytimes.com/svc/search/v2/articlesearch.json?q=%22thomas+l.+friedman%22&sort=newest&begin_date=18510918&api-key=f28d40af5370f79078fc5eb7ffd97049%3A17%3A49171679&end_date=20020212&facet_filter=true&fl=web_url%2Csnippet%2Clead_paragraph%2Cabstract%2Cprint_page%2Cblog%2Csource%2Cmultimedia%2Cheadline%2Ckeywords%2Cpub_date%2Cdocument_type%2Cnews_desk%2Cbyline%2Ctype_of_material%2C_id%2Cword_count&page=78&facet_field=source%2Csection_name%2Cdocument_type%2Ctype_of_material%2Cday_of_week\n",
        "... last_date = 1999-06-25T00:00:00Z\n",
        "\n",
        "... n_results ="
       ]
      },
      {
       "output_type": "stream",
       "stream": "stdout",
       "text": [
        " 810\n",
        "... url = http://api.nytimes.com/svc/search/v2/articlesearch.json?q=%22thomas+l.+friedman%22&sort=newest&begin_date=18510918&api-key=f28d40af5370f79078fc5eb7ffd97049%3A17%3A49171679&end_date=20020212&facet_filter=true&fl=web_url%2Csnippet%2Clead_paragraph%2Cabstract%2Cprint_page%2Cblog%2Csource%2Cmultimedia%2Cheadline%2Ckeywords%2Cpub_date%2Cdocument_type%2Cnews_desk%2Cbyline%2Ctype_of_material%2C_id%2Cword_count&page=81&facet_field=source%2Csection_name%2Cdocument_type%2Ctype_of_material%2Cday_of_week\n",
        "... last_date = 1999-05-21T00:00:00Z\n",
        "\n",
        "... n_results ="
       ]
      },
      {
       "output_type": "stream",
       "stream": "stdout",
       "text": [
        " 840\n",
        "... url = http://api.nytimes.com/svc/search/v2/articlesearch.json?q=%22thomas+l.+friedman%22&sort=newest&begin_date=18510918&api-key=f28d40af5370f79078fc5eb7ffd97049%3A17%3A49171679&end_date=20020212&facet_filter=true&fl=web_url%2Csnippet%2Clead_paragraph%2Cabstract%2Cprint_page%2Cblog%2Csource%2Cmultimedia%2Cheadline%2Ckeywords%2Cpub_date%2Cdocument_type%2Cnews_desk%2Cbyline%2Ctype_of_material%2C_id%2Cword_count&page=84&facet_field=source%2Csection_name%2Cdocument_type%2Ctype_of_material%2Cday_of_week\n",
        "... last_date = 1999-04-23T00:00:00Z\n",
        "\n",
        "... n_results ="
       ]
      },
      {
       "output_type": "stream",
       "stream": "stdout",
       "text": [
        " 870\n",
        "... url = http://api.nytimes.com/svc/search/v2/articlesearch.json?q=%22thomas+l.+friedman%22&sort=newest&begin_date=18510918&api-key=f28d40af5370f79078fc5eb7ffd97049%3A17%3A49171679&end_date=20020212&facet_filter=true&fl=web_url%2Csnippet%2Clead_paragraph%2Cabstract%2Cprint_page%2Cblog%2Csource%2Cmultimedia%2Cheadline%2Ckeywords%2Cpub_date%2Cdocument_type%2Cnews_desk%2Cbyline%2Ctype_of_material%2C_id%2Cword_count&page=87&facet_field=source%2Csection_name%2Cdocument_type%2Ctype_of_material%2Cday_of_week\n",
        "... last_date = 1999-03-16T00:00:00Z\n",
        "\n",
        "... n_results ="
       ]
      },
      {
       "output_type": "stream",
       "stream": "stdout",
       "text": [
        " 900\n",
        "... url = http://api.nytimes.com/svc/search/v2/articlesearch.json?q=%22thomas+l.+friedman%22&sort=newest&begin_date=18510918&api-key=f28d40af5370f79078fc5eb7ffd97049%3A17%3A49171679&end_date=20020212&facet_filter=true&fl=web_url%2Csnippet%2Clead_paragraph%2Cabstract%2Cprint_page%2Cblog%2Csource%2Cmultimedia%2Cheadline%2Ckeywords%2Cpub_date%2Cdocument_type%2Cnews_desk%2Cbyline%2Ctype_of_material%2C_id%2Cword_count&page=90&facet_field=source%2Csection_name%2Cdocument_type%2Ctype_of_material%2Cday_of_week\n",
        "... last_date = 1999-02-08T00:00:00Z\n",
        "\n",
        "... n_results ="
       ]
      },
      {
       "output_type": "stream",
       "stream": "stdout",
       "text": [
        " 930\n",
        "... url = http://api.nytimes.com/svc/search/v2/articlesearch.json?q=%22thomas+l.+friedman%22&sort=newest&begin_date=18510918&api-key=f28d40af5370f79078fc5eb7ffd97049%3A17%3A49171679&end_date=20020212&facet_filter=true&fl=web_url%2Csnippet%2Clead_paragraph%2Cabstract%2Cprint_page%2Cblog%2Csource%2Cmultimedia%2Cheadline%2Ckeywords%2Cpub_date%2Cdocument_type%2Cnews_desk%2Cbyline%2Ctype_of_material%2C_id%2Cword_count&page=93&facet_field=source%2Csection_name%2Cdocument_type%2Ctype_of_material%2Cday_of_week\n",
        "... last_date = 1998-08-29T00:00:00Z\n",
        "\n",
        "... n_results ="
       ]
      },
      {
       "output_type": "stream",
       "stream": "stdout",
       "text": [
        " 960\n",
        "... url = http://api.nytimes.com/svc/search/v2/articlesearch.json?q=%22thomas+l.+friedman%22&sort=newest&begin_date=18510918&api-key=f28d40af5370f79078fc5eb7ffd97049%3A17%3A49171679&end_date=20020212&facet_filter=true&fl=web_url%2Csnippet%2Clead_paragraph%2Cabstract%2Cprint_page%2Cblog%2Csource%2Cmultimedia%2Cheadline%2Ckeywords%2Cpub_date%2Cdocument_type%2Cnews_desk%2Cbyline%2Ctype_of_material%2C_id%2Cword_count&page=96&facet_field=source%2Csection_name%2Cdocument_type%2Ctype_of_material%2Cday_of_week\n",
        "... last_date = 1998-07-11T00:00:00Z\n",
        "\n",
        "... n_results ="
       ]
      },
      {
       "output_type": "stream",
       "stream": "stdout",
       "text": [
        " 990\n",
        "... url = http://api.nytimes.com/svc/search/v2/articlesearch.json?q=%22thomas+l.+friedman%22&sort=newest&begin_date=18510918&api-key=f28d40af5370f79078fc5eb7ffd97049%3A17%3A49171679&end_date=20020212&facet_filter=true&fl=web_url%2Csnippet%2Clead_paragraph%2Cabstract%2Cprint_page%2Cblog%2Csource%2Cmultimedia%2Cheadline%2Ckeywords%2Cpub_date%2Cdocument_type%2Cnews_desk%2Cbyline%2Ctype_of_material%2C_id%2Cword_count&page=99&facet_field=source%2Csection_name%2Cdocument_type%2Ctype_of_material%2Cday_of_week\n",
        "... last_date = 1998-05-28T00:00:00Z\n",
        "***ERROR: status_code ="
       ]
      },
      {
       "output_type": "stream",
       "stream": "stdout",
       "text": [
        " 400 !\n",
        "http://api.nytimes.com/svc/search/v2/articlesearch.json?q=%22thomas+l.+friedman%22&sort=newest&begin_date=18510918&api-key=f28d40af5370f79078fc5eb7ffd97049%3A17%3A49171679&end_date=20020212&facet_filter=true&fl=web_url%2Csnippet%2Clead_paragraph%2Cabstract%2Cprint_page%2Cblog%2Csource%2Cmultimedia%2Cheadline%2Ckeywords%2Cpub_date%2Cdocument_type%2Cnews_desk%2Cbyline%2Ctype_of_material%2C_id%2Cword_count&page=101&facet_field=source%2Csection_name%2Cdocument_type%2Ctype_of_material%2Cday_of_week\n",
        "***ERROR: status_code ="
       ]
      },
      {
       "output_type": "stream",
       "stream": "stdout",
       "text": [
        " 400 !\n",
        "http://api.nytimes.com/svc/search/v2/articlesearch.json?q=%22thomas+l.+friedman%22&sort=newest&begin_date=18510918&api-key=f28d40af5370f79078fc5eb7ffd97049%3A17%3A49171679&end_date=20020212&facet_filter=true&fl=web_url%2Csnippet%2Clead_paragraph%2Cabstract%2Cprint_page%2Cblog%2Csource%2Cmultimedia%2Cheadline%2Ckeywords%2Cpub_date%2Cdocument_type%2Cnews_desk%2Cbyline%2Ctype_of_material%2C_id%2Cword_count&page=102&facet_field=source%2Csection_name%2Cdocument_type%2Ctype_of_material%2Cday_of_week\n",
        "***ERROR: status_code ="
       ]
      },
      {
       "output_type": "stream",
       "stream": "stdout",
       "text": [
        " 400 !\n",
        "http://api.nytimes.com/svc/search/v2/articlesearch.json?q=%22thomas+l.+friedman%22&sort=newest&begin_date=18510918&api-key=f28d40af5370f79078fc5eb7ffd97049%3A17%3A49171679&end_date=20020212&facet_filter=true&fl=web_url%2Csnippet%2Clead_paragraph%2Cabstract%2Cprint_page%2Cblog%2Csource%2Cmultimedia%2Cheadline%2Ckeywords%2Cpub_date%2Cdocument_type%2Cnews_desk%2Cbyline%2Ctype_of_material%2C_id%2Cword_count&page=103&facet_field=source%2Csection_name%2Cdocument_type%2Ctype_of_material%2Cday_of_week\n",
        "***ERROR: status_code ="
       ]
      },
      {
       "output_type": "stream",
       "stream": "stdout",
       "text": [
        " 400 !\n",
        "http://api.nytimes.com/svc/search/v2/articlesearch.json?q=%22thomas+l.+friedman%22&sort=newest&begin_date=18510918&api-key=f28d40af5370f79078fc5eb7ffd97049%3A17%3A49171679&end_date=20020212&facet_filter=true&fl=web_url%2Csnippet%2Clead_paragraph%2Cabstract%2Cprint_page%2Cblog%2Csource%2Cmultimedia%2Cheadline%2Ckeywords%2Cpub_date%2Cdocument_type%2Cnews_desk%2Cbyline%2Ctype_of_material%2C_id%2Cword_count&page=104&facet_field=source%2Csection_name%2Cdocument_type%2Ctype_of_material%2Cday_of_week\n",
        "***ERROR: status_code ="
       ]
      },
      {
       "output_type": "stream",
       "stream": "stdout",
       "text": [
        " 400 !\n",
        "http://api.nytimes.com/svc/search/v2/articlesearch.json?q=%22thomas+l.+friedman%22&sort=newest&begin_date=18510918&api-key=f28d40af5370f79078fc5eb7ffd97049%3A17%3A49171679&end_date=20020212&facet_filter=true&fl=web_url%2Csnippet%2Clead_paragraph%2Cabstract%2Cprint_page%2Cblog%2Csource%2Cmultimedia%2Cheadline%2Ckeywords%2Cpub_date%2Cdocument_type%2Cnews_desk%2Cbyline%2Ctype_of_material%2C_id%2Cword_count&page=105&facet_field=source%2Csection_name%2Cdocument_type%2Ctype_of_material%2Cday_of_week\n",
        "***ERROR: status_code ="
       ]
      },
      {
       "output_type": "stream",
       "stream": "stdout",
       "text": [
        " 400 !\n",
        "http://api.nytimes.com/svc/search/v2/articlesearch.json?q=%22thomas+l.+friedman%22&sort=newest&begin_date=18510918&api-key=f28d40af5370f79078fc5eb7ffd97049%3A17%3A49171679&end_date=20020212&facet_filter=true&fl=web_url%2Csnippet%2Clead_paragraph%2Cabstract%2Cprint_page%2Cblog%2Csource%2Cmultimedia%2Cheadline%2Ckeywords%2Cpub_date%2Cdocument_type%2Cnews_desk%2Cbyline%2Ctype_of_material%2C_id%2Cword_count&page=106&facet_field=source%2Csection_name%2Cdocument_type%2Ctype_of_material%2Cday_of_week\n",
        "***ERROR: status_code ="
       ]
      },
      {
       "output_type": "stream",
       "stream": "stdout",
       "text": [
        " 400 !\n",
        "http://api.nytimes.com/svc/search/v2/articlesearch.json?q=%22thomas+l.+friedman%22&sort=newest&begin_date=18510918&api-key=f28d40af5370f79078fc5eb7ffd97049%3A17%3A49171679&end_date=20020212&facet_filter=true&fl=web_url%2Csnippet%2Clead_paragraph%2Cabstract%2Cprint_page%2Cblog%2Csource%2Cmultimedia%2Cheadline%2Ckeywords%2Cpub_date%2Cdocument_type%2Cnews_desk%2Cbyline%2Ctype_of_material%2C_id%2Cword_count&page=107&facet_field=source%2Csection_name%2Cdocument_type%2Ctype_of_material%2Cday_of_week\n",
        "***ERROR: status_code ="
       ]
      },
      {
       "output_type": "stream",
       "stream": "stdout",
       "text": [
        " 400 !\n",
        "http://api.nytimes.com/svc/search/v2/articlesearch.json?q=%22thomas+l.+friedman%22&sort=newest&begin_date=18510918&api-key=f28d40af5370f79078fc5eb7ffd97049%3A17%3A49171679&end_date=20020212&facet_filter=true&fl=web_url%2Csnippet%2Clead_paragraph%2Cabstract%2Cprint_page%2Cblog%2Csource%2Cmultimedia%2Cheadline%2Ckeywords%2Cpub_date%2Cdocument_type%2Cnews_desk%2Cbyline%2Ctype_of_material%2C_id%2Cword_count&page=108&facet_field=source%2Csection_name%2Cdocument_type%2Ctype_of_material%2Cday_of_week\n",
        "***ERROR: status_code ="
       ]
      },
      {
       "output_type": "stream",
       "stream": "stdout",
       "text": [
        " 400 !\n",
        "http://api.nytimes.com/svc/search/v2/articlesearch.json?q=%22thomas+l.+friedman%22&sort=newest&begin_date=18510918&api-key=f28d40af5370f79078fc5eb7ffd97049%3A17%3A49171679&end_date=20020212&facet_filter=true&fl=web_url%2Csnippet%2Clead_paragraph%2Cabstract%2Cprint_page%2Cblog%2Csource%2Cmultimedia%2Cheadline%2Ckeywords%2Cpub_date%2Cdocument_type%2Cnews_desk%2Cbyline%2Ctype_of_material%2C_id%2Cword_count&page=109&facet_field=source%2Csection_name%2Cdocument_type%2Ctype_of_material%2Cday_of_week\n",
        "***ERROR: status_code ="
       ]
      },
      {
       "output_type": "stream",
       "stream": "stdout",
       "text": [
        " 400 !\n",
        "http://api.nytimes.com/svc/search/v2/articlesearch.json?q=%22thomas+l.+friedman%22&sort=newest&begin_date=18510918&api-key=f28d40af5370f79078fc5eb7ffd97049%3A17%3A49171679&end_date=20020212&facet_filter=true&fl=web_url%2Csnippet%2Clead_paragraph%2Cabstract%2Cprint_page%2Cblog%2Csource%2Cmultimedia%2Cheadline%2Ckeywords%2Cpub_date%2Cdocument_type%2Cnews_desk%2Cbyline%2Ctype_of_material%2C_id%2Cword_count&page=110&facet_field=source%2Csection_name%2Cdocument_type%2Ctype_of_material%2Cday_of_week\n",
        "***ERROR: status_code ="
       ]
      },
      {
       "output_type": "stream",
       "stream": "stdout",
       "text": [
        " 400 !\n",
        "http://api.nytimes.com/svc/search/v2/articlesearch.json?q=%22thomas+l.+friedman%22&sort=newest&begin_date=18510918&api-key=f28d40af5370f79078fc5eb7ffd97049%3A17%3A49171679&end_date=20020212&facet_filter=true&fl=web_url%2Csnippet%2Clead_paragraph%2Cabstract%2Cprint_page%2Cblog%2Csource%2Cmultimedia%2Cheadline%2Ckeywords%2Cpub_date%2Cdocument_type%2Cnews_desk%2Cbyline%2Ctype_of_material%2C_id%2Cword_count&page=111&facet_field=source%2Csection_name%2Cdocument_type%2Ctype_of_material%2Cday_of_week\n",
        "***ERROR: status_code ="
       ]
      },
      {
       "output_type": "stream",
       "stream": "stdout",
       "text": [
        " 400 !\n",
        "http://api.nytimes.com/svc/search/v2/articlesearch.json?q=%22thomas+l.+friedman%22&sort=newest&begin_date=18510918&api-key=f28d40af5370f79078fc5eb7ffd97049%3A17%3A49171679&end_date=20020212&facet_filter=true&fl=web_url%2Csnippet%2Clead_paragraph%2Cabstract%2Cprint_page%2Cblog%2Csource%2Cmultimedia%2Cheadline%2Ckeywords%2Cpub_date%2Cdocument_type%2Cnews_desk%2Cbyline%2Ctype_of_material%2C_id%2Cword_count&page=112&facet_field=source%2Csection_name%2Cdocument_type%2Ctype_of_material%2Cday_of_week\n",
        "***ERROR: status_code ="
       ]
      },
      {
       "output_type": "stream",
       "stream": "stdout",
       "text": [
        " 400 !\n",
        "http://api.nytimes.com/svc/search/v2/articlesearch.json?q=%22thomas+l.+friedman%22&sort=newest&begin_date=18510918&api-key=f28d40af5370f79078fc5eb7ffd97049%3A17%3A49171679&end_date=20020212&facet_filter=true&fl=web_url%2Csnippet%2Clead_paragraph%2Cabstract%2Cprint_page%2Cblog%2Csource%2Cmultimedia%2Cheadline%2Ckeywords%2Cpub_date%2Cdocument_type%2Cnews_desk%2Cbyline%2Ctype_of_material%2C_id%2Cword_count&page=113&facet_field=source%2Csection_name%2Cdocument_type%2Ctype_of_material%2Cday_of_week\n",
        "***ERROR: status_code ="
       ]
      },
      {
       "output_type": "stream",
       "stream": "stdout",
       "text": [
        " 400 !\n",
        "http://api.nytimes.com/svc/search/v2/articlesearch.json?q=%22thomas+l.+friedman%22&sort=newest&begin_date=18510918&api-key=f28d40af5370f79078fc5eb7ffd97049%3A17%3A49171679&end_date=20020212&facet_filter=true&fl=web_url%2Csnippet%2Clead_paragraph%2Cabstract%2Cprint_page%2Cblog%2Csource%2Cmultimedia%2Cheadline%2Ckeywords%2Cpub_date%2Cdocument_type%2Cnews_desk%2Cbyline%2Ctype_of_material%2C_id%2Cword_count&page=114&facet_field=source%2Csection_name%2Cdocument_type%2Ctype_of_material%2Cday_of_week\n",
        "***ERROR: status_code ="
       ]
      },
      {
       "output_type": "stream",
       "stream": "stdout",
       "text": [
        " 400 !\n",
        "http://api.nytimes.com/svc/search/v2/articlesearch.json?q=%22thomas+l.+friedman%22&sort=newest&begin_date=18510918&api-key=f28d40af5370f79078fc5eb7ffd97049%3A17%3A49171679&end_date=20020212&facet_filter=true&fl=web_url%2Csnippet%2Clead_paragraph%2Cabstract%2Cprint_page%2Cblog%2Csource%2Cmultimedia%2Cheadline%2Ckeywords%2Cpub_date%2Cdocument_type%2Cnews_desk%2Cbyline%2Ctype_of_material%2C_id%2Cword_count&page=115&facet_field=source%2Csection_name%2Cdocument_type%2Ctype_of_material%2Cday_of_week\n",
        "***ERROR: status_code ="
       ]
      },
      {
       "output_type": "stream",
       "stream": "stdout",
       "text": [
        " 400 !\n",
        "http://api.nytimes.com/svc/search/v2/articlesearch.json?q=%22thomas+l.+friedman%22&sort=newest&begin_date=18510918&api-key=f28d40af5370f79078fc5eb7ffd97049%3A17%3A49171679&end_date=20020212&facet_filter=true&fl=web_url%2Csnippet%2Clead_paragraph%2Cabstract%2Cprint_page%2Cblog%2Csource%2Cmultimedia%2Cheadline%2Ckeywords%2Cpub_date%2Cdocument_type%2Cnews_desk%2Cbyline%2Ctype_of_material%2C_id%2Cword_count&page=116&facet_field=source%2Csection_name%2Cdocument_type%2Ctype_of_material%2Cday_of_week\n",
        "***ERROR: status_code ="
       ]
      },
      {
       "output_type": "stream",
       "stream": "stdout",
       "text": [
        " 400 !\n",
        "http://api.nytimes.com/svc/search/v2/articlesearch.json?q=%22thomas+l.+friedman%22&sort=newest&begin_date=18510918&api-key=f28d40af5370f79078fc5eb7ffd97049%3A17%3A49171679&end_date=20020212&facet_filter=true&fl=web_url%2Csnippet%2Clead_paragraph%2Cabstract%2Cprint_page%2Cblog%2Csource%2Cmultimedia%2Cheadline%2Ckeywords%2Cpub_date%2Cdocument_type%2Cnews_desk%2Cbyline%2Ctype_of_material%2C_id%2Cword_count&page=117&facet_field=source%2Csection_name%2Cdocument_type%2Ctype_of_material%2Cday_of_week\n",
        "***ERROR: status_code ="
       ]
      },
      {
       "output_type": "stream",
       "stream": "stdout",
       "text": [
        " 400 !\n",
        "http://api.nytimes.com/svc/search/v2/articlesearch.json?q=%22thomas+l.+friedman%22&sort=newest&begin_date=18510918&api-key=f28d40af5370f79078fc5eb7ffd97049%3A17%3A49171679&end_date=20020212&facet_filter=true&fl=web_url%2Csnippet%2Clead_paragraph%2Cabstract%2Cprint_page%2Cblog%2Csource%2Cmultimedia%2Cheadline%2Ckeywords%2Cpub_date%2Cdocument_type%2Cnews_desk%2Cbyline%2Ctype_of_material%2C_id%2Cword_count&page=118&facet_field=source%2Csection_name%2Cdocument_type%2Ctype_of_material%2Cday_of_week\n",
        "***ERROR: status_code ="
       ]
      },
      {
       "output_type": "stream",
       "stream": "stdout",
       "text": [
        " 400 !\n",
        "http://api.nytimes.com/svc/search/v2/articlesearch.json?q=%22thomas+l.+friedman%22&sort=newest&begin_date=18510918&api-key=f28d40af5370f79078fc5eb7ffd97049%3A17%3A49171679&end_date=20020212&facet_filter=true&fl=web_url%2Csnippet%2Clead_paragraph%2Cabstract%2Cprint_page%2Cblog%2Csource%2Cmultimedia%2Cheadline%2Ckeywords%2Cpub_date%2Cdocument_type%2Cnews_desk%2Cbyline%2Ctype_of_material%2C_id%2Cword_count&page=119&facet_field=source%2Csection_name%2Cdocument_type%2Ctype_of_material%2Cday_of_week\n",
        "***ERROR: status_code ="
       ]
      },
      {
       "output_type": "stream",
       "stream": "stdout",
       "text": [
        " 400 !\n",
        "http://api.nytimes.com/svc/search/v2/articlesearch.json?q=%22thomas+l.+friedman%22&sort=newest&begin_date=18510918&api-key=f28d40af5370f79078fc5eb7ffd97049%3A17%3A49171679&end_date=20020212&facet_filter=true&fl=web_url%2Csnippet%2Clead_paragraph%2Cabstract%2Cprint_page%2Cblog%2Csource%2Cmultimedia%2Cheadline%2Ckeywords%2Cpub_date%2Cdocument_type%2Cnews_desk%2Cbyline%2Ctype_of_material%2C_id%2Cword_count&page=120&facet_field=source%2Csection_name%2Cdocument_type%2Ctype_of_material%2Cday_of_week\n",
        "***ERROR: status_code ="
       ]
      },
      {
       "output_type": "stream",
       "stream": "stdout",
       "text": [
        " 400 !\n",
        "http://api.nytimes.com/svc/search/v2/articlesearch.json?q=%22thomas+l.+friedman%22&sort=newest&begin_date=18510918&api-key=f28d40af5370f79078fc5eb7ffd97049%3A17%3A49171679&end_date=20020212&facet_filter=true&fl=web_url%2Csnippet%2Clead_paragraph%2Cabstract%2Cprint_page%2Cblog%2Csource%2Cmultimedia%2Cheadline%2Ckeywords%2Cpub_date%2Cdocument_type%2Cnews_desk%2Cbyline%2Ctype_of_material%2C_id%2Cword_count&page=121&facet_field=source%2Csection_name%2Cdocument_type%2Ctype_of_material%2Cday_of_week\n",
        "***ERROR: status_code ="
       ]
      },
      {
       "output_type": "stream",
       "stream": "stdout",
       "text": [
        " 400 !\n",
        "http://api.nytimes.com/svc/search/v2/articlesearch.json?q=%22thomas+l.+friedman%22&sort=newest&begin_date=18510918&api-key=f28d40af5370f79078fc5eb7ffd97049%3A17%3A49171679&end_date=20020212&facet_filter=true&fl=web_url%2Csnippet%2Clead_paragraph%2Cabstract%2Cprint_page%2Cblog%2Csource%2Cmultimedia%2Cheadline%2Ckeywords%2Cpub_date%2Cdocument_type%2Cnews_desk%2Cbyline%2Ctype_of_material%2C_id%2Cword_count&page=122&facet_field=source%2Csection_name%2Cdocument_type%2Ctype_of_material%2Cday_of_week\n",
        "***ERROR: status_code ="
       ]
      },
      {
       "output_type": "stream",
       "stream": "stdout",
       "text": [
        " 400 !\n",
        "http://api.nytimes.com/svc/search/v2/articlesearch.json?q=%22thomas+l.+friedman%22&sort=newest&begin_date=18510918&api-key=f28d40af5370f79078fc5eb7ffd97049%3A17%3A49171679&end_date=20020212&facet_filter=true&fl=web_url%2Csnippet%2Clead_paragraph%2Cabstract%2Cprint_page%2Cblog%2Csource%2Cmultimedia%2Cheadline%2Ckeywords%2Cpub_date%2Cdocument_type%2Cnews_desk%2Cbyline%2Ctype_of_material%2C_id%2Cword_count&page=123&facet_field=source%2Csection_name%2Cdocument_type%2Ctype_of_material%2Cday_of_week\n",
        "***ERROR: status_code ="
       ]
      },
      {
       "output_type": "stream",
       "stream": "stdout",
       "text": [
        " 400 !\n",
        "http://api.nytimes.com/svc/search/v2/articlesearch.json?q=%22thomas+l.+friedman%22&sort=newest&begin_date=18510918&api-key=f28d40af5370f79078fc5eb7ffd97049%3A17%3A49171679&end_date=20020212&facet_filter=true&fl=web_url%2Csnippet%2Clead_paragraph%2Cabstract%2Cprint_page%2Cblog%2Csource%2Cmultimedia%2Cheadline%2Ckeywords%2Cpub_date%2Cdocument_type%2Cnews_desk%2Cbyline%2Ctype_of_material%2C_id%2Cword_count&page=124&facet_field=source%2Csection_name%2Cdocument_type%2Ctype_of_material%2Cday_of_week\n",
        "***ERROR: status_code ="
       ]
      },
      {
       "output_type": "stream",
       "stream": "stdout",
       "text": [
        " 400 !\n",
        "http://api.nytimes.com/svc/search/v2/articlesearch.json?q=%22thomas+l.+friedman%22&sort=newest&begin_date=18510918&api-key=f28d40af5370f79078fc5eb7ffd97049%3A17%3A49171679&end_date=20020212&facet_filter=true&fl=web_url%2Csnippet%2Clead_paragraph%2Cabstract%2Cprint_page%2Cblog%2Csource%2Cmultimedia%2Cheadline%2Ckeywords%2Cpub_date%2Cdocument_type%2Cnews_desk%2Cbyline%2Ctype_of_material%2C_id%2Cword_count&page=125&facet_field=source%2Csection_name%2Cdocument_type%2Ctype_of_material%2Cday_of_week\n",
        "***ERROR: too many consecutive errors (25)!\n"
       ]
      }
     ],
     "prompt_number": 23
    },
    {
     "cell_type": "code",
     "collapsed": false,
     "input": [
      "print len(all_docs_4)\n",
      "print min(doc['pub_date'] for doc in all_docs_4)"
     ],
     "language": "python",
     "metadata": {},
     "outputs": [
      {
       "output_type": "stream",
       "stream": "stdout",
       "text": [
        "1000\n",
        "1998-05-06T00:00:00Z\n"
       ]
      }
     ],
     "prompt_number": 24
    },
    {
     "cell_type": "code",
     "collapsed": false,
     "input": [
      "all_docs_5 = hi_nyt.query_nyt_article_search('\"thomas l. friedman\"',\n",
      "                                             config['nyt_api_key'],\n",
      "                                             end_date='1998-05-05',\n",
      "                                             max_pages=1000)"
     ],
     "language": "python",
     "metadata": {},
     "outputs": [
      {
       "output_type": "stream",
       "stream": "stdout",
       "text": [
        "\n",
        "*INFO: query = \"thomas l. friedman\"\n",
        "*INFO: url = http://api.nytimes.com/svc/search/v2/articlesearch.json?q=%22thomas+l.+friedman%22&sort=newest&begin_date=18510918&api-key=f28d40af5370f79078fc5eb7ffd97049%3A17%3A49171679&end_date=19980505&facet_filter=true&fl=web_url%2Csnippet%2Clead_paragraph%2Cabstract%2Cprint_page%2Cblog%2Csource%2Cmultimedia%2Cheadline%2Ckeywords%2Cpub_date%2Cdocument_type%2Cnews_desk%2Cbyline%2Ctype_of_material%2C_id%2Cword_count&page=0&facet_field=source%2Csection_name%2Cdocument_type%2Ctype_of_material%2Cday_of_week\n",
        "*INFO: n_total_results = 2810 \n",
        "\n",
        "facet                           count \n",
        "-------------------------------------\n",
        "type_of_material..............   2810\n",
        "   News.......................   1866\n",
        "   Op-Ed......................    329\n",
        "   Summary....................    219\n",
        "   Letter.....................    111\n",
        "   An Analysis; News Analysis.     81\n",
        "source........................   2810\n",
        "   The New York Times.........   2810\n",
        "document_type.................   2810\n",
        "   article....................   2810\n",
        "section_name..................   2803\n",
        "   World......................    545\n",
        "   World; Washington..........    478\n",
        "   Opinion....................    452\n",
        "   World; Front Page; Washing*    197\n",
        "   New York and Region........    176\n",
        "day_of_week...................   2810\n",
        "   Sunday.....................    640\n",
        "   Wednesday..................    517\n",
        "   Thursday...................    389\n",
        "   Tuesday....................    286\n",
        "   Monday.....................    237\n",
        "\n",
        "... n_results = 0\n",
        "... url = http://api.nytimes.com/svc/search/v2/articlesearch.json?q=%22thomas+l.+friedman%22&sort=newest&begin_date=18510918&api-key=f28d40af5370f79078fc5eb7ffd97049%3A17%3A49171679&end_date=19980505&facet_filter=true&fl=web_url%2Csnippet%2Clead_paragraph%2Cabstract%2Cprint_page%2Cblog%2Csource%2Cmultimedia%2Cheadline%2Ckeywords%2Cpub_date%2Cdocument_type%2Cnews_desk%2Cbyline%2Ctype_of_material%2C_id%2Cword_count&page=0&facet_field=source%2Csection_name%2Cdocument_type%2Ctype_of_material%2Cday_of_week\n",
        "... last_date = 1998-05-05T00:00:00Z\n",
        "\n",
        "... n_results ="
       ]
      },
      {
       "output_type": "stream",
       "stream": "stdout",
       "text": [
        " 20\n",
        "... url = http://api.nytimes.com/svc/search/v2/articlesearch.json?q=%22thomas+l.+friedman%22&sort=newest&begin_date=18510918&api-key=f28d40af5370f79078fc5eb7ffd97049%3A17%3A49171679&end_date=19980505&facet_filter=true&fl=web_url%2Csnippet%2Clead_paragraph%2Cabstract%2Cprint_page%2Cblog%2Csource%2Cmultimedia%2Cheadline%2Ckeywords%2Cpub_date%2Cdocument_type%2Cnews_desk%2Cbyline%2Ctype_of_material%2C_id%2Cword_count&page=2&facet_field=source%2Csection_name%2Cdocument_type%2Ctype_of_material%2Cday_of_week\n",
        "... last_date = 1998-04-14T00:00:00Z\n",
        "\n",
        "... n_results ="
       ]
      },
      {
       "output_type": "stream",
       "stream": "stdout",
       "text": [
        " 40\n",
        "... url = http://api.nytimes.com/svc/search/v2/articlesearch.json?q=%22thomas+l.+friedman%22&sort=newest&begin_date=18510918&api-key=f28d40af5370f79078fc5eb7ffd97049%3A17%3A49171679&end_date=19980505&facet_filter=true&fl=web_url%2Csnippet%2Clead_paragraph%2Cabstract%2Cprint_page%2Cblog%2Csource%2Cmultimedia%2Cheadline%2Ckeywords%2Cpub_date%2Cdocument_type%2Cnews_desk%2Cbyline%2Ctype_of_material%2C_id%2Cword_count&page=4&facet_field=source%2Csection_name%2Cdocument_type%2Ctype_of_material%2Cday_of_week\n",
        "... last_date = 1998-03-14T00:00:00Z\n",
        "\n",
        "... n_results ="
       ]
      },
      {
       "output_type": "stream",
       "stream": "stdout",
       "text": [
        " 60\n",
        "... url = http://api.nytimes.com/svc/search/v2/articlesearch.json?q=%22thomas+l.+friedman%22&sort=newest&begin_date=18510918&api-key=f28d40af5370f79078fc5eb7ffd97049%3A17%3A49171679&end_date=19980505&facet_filter=true&fl=web_url%2Csnippet%2Clead_paragraph%2Cabstract%2Cprint_page%2Cblog%2Csource%2Cmultimedia%2Cheadline%2Ckeywords%2Cpub_date%2Cdocument_type%2Cnews_desk%2Cbyline%2Ctype_of_material%2C_id%2Cword_count&page=6&facet_field=source%2Csection_name%2Cdocument_type%2Ctype_of_material%2Cday_of_week\n",
        "... last_date = 1998-02-14T00:00:00Z\n",
        "\n",
        "... n_results ="
       ]
      },
      {
       "output_type": "stream",
       "stream": "stdout",
       "text": [
        " 80\n",
        "... url = http://api.nytimes.com/svc/search/v2/articlesearch.json?q=%22thomas+l.+friedman%22&sort=newest&begin_date=18510918&api-key=f28d40af5370f79078fc5eb7ffd97049%3A17%3A49171679&end_date=19980505&facet_filter=true&fl=web_url%2Csnippet%2Clead_paragraph%2Cabstract%2Cprint_page%2Cblog%2Csource%2Cmultimedia%2Cheadline%2Ckeywords%2Cpub_date%2Cdocument_type%2Cnews_desk%2Cbyline%2Ctype_of_material%2C_id%2Cword_count&page=8&facet_field=source%2Csection_name%2Cdocument_type%2Ctype_of_material%2Cday_of_week\n",
        "... last_date = 1998-01-10T00:00:00Z\n",
        "\n",
        "... n_results ="
       ]
      },
      {
       "output_type": "stream",
       "stream": "stdout",
       "text": [
        " 100\n",
        "... url = http://api.nytimes.com/svc/search/v2/articlesearch.json?q=%22thomas+l.+friedman%22&sort=newest&begin_date=18510918&api-key=f28d40af5370f79078fc5eb7ffd97049%3A17%3A49171679&end_date=19980505&facet_filter=true&fl=web_url%2Csnippet%2Clead_paragraph%2Cabstract%2Cprint_page%2Cblog%2Csource%2Cmultimedia%2Cheadline%2Ckeywords%2Cpub_date%2Cdocument_type%2Cnews_desk%2Cbyline%2Ctype_of_material%2C_id%2Cword_count&page=10&facet_field=source%2Csection_name%2Cdocument_type%2Ctype_of_material%2Cday_of_week\n",
        "... last_date = 1997-12-04T00:00:00Z\n",
        "\n",
        "... n_results ="
       ]
      },
      {
       "output_type": "stream",
       "stream": "stdout",
       "text": [
        " 120\n",
        "... url = http://api.nytimes.com/svc/search/v2/articlesearch.json?q=%22thomas+l.+friedman%22&sort=newest&begin_date=18510918&api-key=f28d40af5370f79078fc5eb7ffd97049%3A17%3A49171679&end_date=19980505&facet_filter=true&fl=web_url%2Csnippet%2Clead_paragraph%2Cabstract%2Cprint_page%2Cblog%2Csource%2Cmultimedia%2Cheadline%2Ckeywords%2Cpub_date%2Cdocument_type%2Cnews_desk%2Cbyline%2Ctype_of_material%2C_id%2Cword_count&page=12&facet_field=source%2Csection_name%2Cdocument_type%2Ctype_of_material%2Cday_of_week\n",
        "... last_date = 1997-11-06T00:00:00Z\n",
        "\n",
        "... n_results ="
       ]
      },
      {
       "output_type": "stream",
       "stream": "stdout",
       "text": [
        " 140\n",
        "... url = http://api.nytimes.com/svc/search/v2/articlesearch.json?q=%22thomas+l.+friedman%22&sort=newest&begin_date=18510918&api-key=f28d40af5370f79078fc5eb7ffd97049%3A17%3A49171679&end_date=19980505&facet_filter=true&fl=web_url%2Csnippet%2Clead_paragraph%2Cabstract%2Cprint_page%2Cblog%2Csource%2Cmultimedia%2Cheadline%2Ckeywords%2Cpub_date%2Cdocument_type%2Cnews_desk%2Cbyline%2Ctype_of_material%2C_id%2Cword_count&page=14&facet_field=source%2Csection_name%2Cdocument_type%2Ctype_of_material%2Cday_of_week\n",
        "... last_date = 1997-10-13T00:00:00Z\n",
        "\n",
        "... n_results ="
       ]
      },
      {
       "output_type": "stream",
       "stream": "stdout",
       "text": [
        " 160\n",
        "... url = http://api.nytimes.com/svc/search/v2/articlesearch.json?q=%22thomas+l.+friedman%22&sort=newest&begin_date=18510918&api-key=f28d40af5370f79078fc5eb7ffd97049%3A17%3A49171679&end_date=19980505&facet_filter=true&fl=web_url%2Csnippet%2Clead_paragraph%2Cabstract%2Cprint_page%2Cblog%2Csource%2Cmultimedia%2Cheadline%2Ckeywords%2Cpub_date%2Cdocument_type%2Cnews_desk%2Cbyline%2Ctype_of_material%2C_id%2Cword_count&page=16&facet_field=source%2Csection_name%2Cdocument_type%2Ctype_of_material%2Cday_of_week\n",
        "... last_date = 1997-09-15T00:00:00Z\n",
        "\n",
        "... n_results ="
       ]
      },
      {
       "output_type": "stream",
       "stream": "stdout",
       "text": [
        " 180\n",
        "... url = http://api.nytimes.com/svc/search/v2/articlesearch.json?q=%22thomas+l.+friedman%22&sort=newest&begin_date=18510918&api-key=f28d40af5370f79078fc5eb7ffd97049%3A17%3A49171679&end_date=19980505&facet_filter=true&fl=web_url%2Csnippet%2Clead_paragraph%2Cabstract%2Cprint_page%2Cblog%2Csource%2Cmultimedia%2Cheadline%2Ckeywords%2Cpub_date%2Cdocument_type%2Cnews_desk%2Cbyline%2Ctype_of_material%2C_id%2Cword_count&page=18&facet_field=source%2Csection_name%2Cdocument_type%2Ctype_of_material%2Cday_of_week\n",
        "... last_date = 1997-07-28T00:00:00Z\n",
        "\n",
        "... n_results ="
       ]
      },
      {
       "output_type": "stream",
       "stream": "stdout",
       "text": [
        " 200\n",
        "... url = http://api.nytimes.com/svc/search/v2/articlesearch.json?q=%22thomas+l.+friedman%22&sort=newest&begin_date=18510918&api-key=f28d40af5370f79078fc5eb7ffd97049%3A17%3A49171679&end_date=19980505&facet_filter=true&fl=web_url%2Csnippet%2Clead_paragraph%2Cabstract%2Cprint_page%2Cblog%2Csource%2Cmultimedia%2Cheadline%2Ckeywords%2Cpub_date%2Cdocument_type%2Cnews_desk%2Cbyline%2Ctype_of_material%2C_id%2Cword_count&page=20&facet_field=source%2Csection_name%2Cdocument_type%2Ctype_of_material%2Cday_of_week\n",
        "... last_date = 1997-07-01T00:00:00Z\n",
        "\n",
        "... n_results ="
       ]
      },
      {
       "output_type": "stream",
       "stream": "stdout",
       "text": [
        " 220\n",
        "... url = http://api.nytimes.com/svc/search/v2/articlesearch.json?q=%22thomas+l.+friedman%22&sort=newest&begin_date=18510918&api-key=f28d40af5370f79078fc5eb7ffd97049%3A17%3A49171679&end_date=19980505&facet_filter=true&fl=web_url%2Csnippet%2Clead_paragraph%2Cabstract%2Cprint_page%2Cblog%2Csource%2Cmultimedia%2Cheadline%2Ckeywords%2Cpub_date%2Cdocument_type%2Cnews_desk%2Cbyline%2Ctype_of_material%2C_id%2Cword_count&page=22&facet_field=source%2Csection_name%2Cdocument_type%2Ctype_of_material%2Cday_of_week\n",
        "... last_date = 1997-06-02T00:00:00Z\n",
        "\n",
        "... n_results ="
       ]
      },
      {
       "output_type": "stream",
       "stream": "stdout",
       "text": [
        " 240\n",
        "... url = http://api.nytimes.com/svc/search/v2/articlesearch.json?q=%22thomas+l.+friedman%22&sort=newest&begin_date=18510918&api-key=f28d40af5370f79078fc5eb7ffd97049%3A17%3A49171679&end_date=19980505&facet_filter=true&fl=web_url%2Csnippet%2Clead_paragraph%2Cabstract%2Cprint_page%2Cblog%2Csource%2Cmultimedia%2Cheadline%2Ckeywords%2Cpub_date%2Cdocument_type%2Cnews_desk%2Cbyline%2Ctype_of_material%2C_id%2Cword_count&page=24&facet_field=source%2Csection_name%2Cdocument_type%2Ctype_of_material%2Cday_of_week\n",
        "... last_date = 1997-05-05T00:00:00Z\n",
        "\n",
        "... n_results ="
       ]
      },
      {
       "output_type": "stream",
       "stream": "stdout",
       "text": [
        " 260\n",
        "... url = http://api.nytimes.com/svc/search/v2/articlesearch.json?q=%22thomas+l.+friedman%22&sort=newest&begin_date=18510918&api-key=f28d40af5370f79078fc5eb7ffd97049%3A17%3A49171679&end_date=19980505&facet_filter=true&fl=web_url%2Csnippet%2Clead_paragraph%2Cabstract%2Cprint_page%2Cblog%2Csource%2Cmultimedia%2Cheadline%2Ckeywords%2Cpub_date%2Cdocument_type%2Cnews_desk%2Cbyline%2Ctype_of_material%2C_id%2Cword_count&page=26&facet_field=source%2Csection_name%2Cdocument_type%2Ctype_of_material%2Cday_of_week\n",
        "... last_date = 1997-04-07T00:00:00Z\n",
        "\n",
        "... n_results ="
       ]
      },
      {
       "output_type": "stream",
       "stream": "stdout",
       "text": [
        " 280\n",
        "... url = http://api.nytimes.com/svc/search/v2/articlesearch.json?q=%22thomas+l.+friedman%22&sort=newest&begin_date=18510918&api-key=f28d40af5370f79078fc5eb7ffd97049%3A17%3A49171679&end_date=19980505&facet_filter=true&fl=web_url%2Csnippet%2Clead_paragraph%2Cabstract%2Cprint_page%2Cblog%2Csource%2Cmultimedia%2Cheadline%2Ckeywords%2Cpub_date%2Cdocument_type%2Cnews_desk%2Cbyline%2Ctype_of_material%2C_id%2Cword_count&page=28&facet_field=source%2Csection_name%2Cdocument_type%2Ctype_of_material%2Cday_of_week\n",
        "... last_date = 1997-03-13T00:00:00Z\n",
        "\n",
        "... n_results ="
       ]
      },
      {
       "output_type": "stream",
       "stream": "stdout",
       "text": [
        " 300\n",
        "... url = http://api.nytimes.com/svc/search/v2/articlesearch.json?q=%22thomas+l.+friedman%22&sort=newest&begin_date=18510918&api-key=f28d40af5370f79078fc5eb7ffd97049%3A17%3A49171679&end_date=19980505&facet_filter=true&fl=web_url%2Csnippet%2Clead_paragraph%2Cabstract%2Cprint_page%2Cblog%2Csource%2Cmultimedia%2Cheadline%2Ckeywords%2Cpub_date%2Cdocument_type%2Cnews_desk%2Cbyline%2Ctype_of_material%2C_id%2Cword_count&page=30&facet_field=source%2Csection_name%2Cdocument_type%2Ctype_of_material%2Cday_of_week\n",
        "... last_date = 1997-02-05T00:00:00Z\n",
        "\n",
        "... n_results ="
       ]
      },
      {
       "output_type": "stream",
       "stream": "stdout",
       "text": [
        " 320\n",
        "... url = http://api.nytimes.com/svc/search/v2/articlesearch.json?q=%22thomas+l.+friedman%22&sort=newest&begin_date=18510918&api-key=f28d40af5370f79078fc5eb7ffd97049%3A17%3A49171679&end_date=19980505&facet_filter=true&fl=web_url%2Csnippet%2Clead_paragraph%2Cabstract%2Cprint_page%2Cblog%2Csource%2Cmultimedia%2Cheadline%2Ckeywords%2Cpub_date%2Cdocument_type%2Cnews_desk%2Cbyline%2Ctype_of_material%2C_id%2Cword_count&page=32&facet_field=source%2Csection_name%2Cdocument_type%2Ctype_of_material%2Cday_of_week\n",
        "... last_date = 1996-12-25T00:00:00Z\n",
        "\n",
        "... n_results ="
       ]
      },
      {
       "output_type": "stream",
       "stream": "stdout",
       "text": [
        " 340\n",
        "... url = http://api.nytimes.com/svc/search/v2/articlesearch.json?q=%22thomas+l.+friedman%22&sort=newest&begin_date=18510918&api-key=f28d40af5370f79078fc5eb7ffd97049%3A17%3A49171679&end_date=19980505&facet_filter=true&fl=web_url%2Csnippet%2Clead_paragraph%2Cabstract%2Cprint_page%2Cblog%2Csource%2Cmultimedia%2Cheadline%2Ckeywords%2Cpub_date%2Cdocument_type%2Cnews_desk%2Cbyline%2Ctype_of_material%2C_id%2Cword_count&page=34&facet_field=source%2Csection_name%2Cdocument_type%2Ctype_of_material%2Cday_of_week\n",
        "... last_date = 1996-11-20T00:00:00Z\n",
        "\n",
        "... n_results ="
       ]
      },
      {
       "output_type": "stream",
       "stream": "stdout",
       "text": [
        " 360\n",
        "... url = http://api.nytimes.com/svc/search/v2/articlesearch.json?q=%22thomas+l.+friedman%22&sort=newest&begin_date=18510918&api-key=f28d40af5370f79078fc5eb7ffd97049%3A17%3A49171679&end_date=19980505&facet_filter=true&fl=web_url%2Csnippet%2Clead_paragraph%2Cabstract%2Cprint_page%2Cblog%2Csource%2Cmultimedia%2Cheadline%2Ckeywords%2Cpub_date%2Cdocument_type%2Cnews_desk%2Cbyline%2Ctype_of_material%2C_id%2Cword_count&page=36&facet_field=source%2Csection_name%2Cdocument_type%2Ctype_of_material%2Cday_of_week\n",
        "... last_date = 1996-10-16T00:00:00Z\n",
        "\n",
        "... n_results ="
       ]
      },
      {
       "output_type": "stream",
       "stream": "stdout",
       "text": [
        " 380\n",
        "... url = http://api.nytimes.com/svc/search/v2/articlesearch.json?q=%22thomas+l.+friedman%22&sort=newest&begin_date=18510918&api-key=f28d40af5370f79078fc5eb7ffd97049%3A17%3A49171679&end_date=19980505&facet_filter=true&fl=web_url%2Csnippet%2Clead_paragraph%2Cabstract%2Cprint_page%2Cblog%2Csource%2Cmultimedia%2Cheadline%2Ckeywords%2Cpub_date%2Cdocument_type%2Cnews_desk%2Cbyline%2Ctype_of_material%2C_id%2Cword_count&page=38&facet_field=source%2Csection_name%2Cdocument_type%2Ctype_of_material%2Cday_of_week\n",
        "... last_date = 1996-09-11T00:00:00Z\n",
        "\n",
        "... n_results ="
       ]
      },
      {
       "output_type": "stream",
       "stream": "stdout",
       "text": [
        " 400\n",
        "... url = http://api.nytimes.com/svc/search/v2/articlesearch.json?q=%22thomas+l.+friedman%22&sort=newest&begin_date=18510918&api-key=f28d40af5370f79078fc5eb7ffd97049%3A17%3A49171679&end_date=19980505&facet_filter=true&fl=web_url%2Csnippet%2Clead_paragraph%2Cabstract%2Cprint_page%2Cblog%2Csource%2Cmultimedia%2Cheadline%2Ckeywords%2Cpub_date%2Cdocument_type%2Cnews_desk%2Cbyline%2Ctype_of_material%2C_id%2Cword_count&page=40&facet_field=source%2Csection_name%2Cdocument_type%2Ctype_of_material%2Cday_of_week\n",
        "... last_date = 1996-07-24T00:00:00Z\n",
        "\n",
        "... n_results ="
       ]
      },
      {
       "output_type": "stream",
       "stream": "stdout",
       "text": [
        " 420\n",
        "... url = http://api.nytimes.com/svc/search/v2/articlesearch.json?q=%22thomas+l.+friedman%22&sort=newest&begin_date=18510918&api-key=f28d40af5370f79078fc5eb7ffd97049%3A17%3A49171679&end_date=19980505&facet_filter=true&fl=web_url%2Csnippet%2Clead_paragraph%2Cabstract%2Cprint_page%2Cblog%2Csource%2Cmultimedia%2Cheadline%2Ckeywords%2Cpub_date%2Cdocument_type%2Cnews_desk%2Cbyline%2Ctype_of_material%2C_id%2Cword_count&page=42&facet_field=source%2Csection_name%2Cdocument_type%2Ctype_of_material%2Cday_of_week\n",
        "... last_date = 1996-06-16T00:00:00Z\n",
        "\n",
        "... n_results ="
       ]
      },
      {
       "output_type": "stream",
       "stream": "stdout",
       "text": [
        " 440\n",
        "... url = http://api.nytimes.com/svc/search/v2/articlesearch.json?q=%22thomas+l.+friedman%22&sort=newest&begin_date=18510918&api-key=f28d40af5370f79078fc5eb7ffd97049%3A17%3A49171679&end_date=19980505&facet_filter=true&fl=web_url%2Csnippet%2Clead_paragraph%2Cabstract%2Cprint_page%2Cblog%2Csource%2Cmultimedia%2Cheadline%2Ckeywords%2Cpub_date%2Cdocument_type%2Cnews_desk%2Cbyline%2Ctype_of_material%2C_id%2Cword_count&page=44&facet_field=source%2Csection_name%2Cdocument_type%2Ctype_of_material%2Cday_of_week\n",
        "... last_date = 1996-05-12T00:00:00Z\n",
        "\n",
        "... n_results ="
       ]
      },
      {
       "output_type": "stream",
       "stream": "stdout",
       "text": [
        " 460\n",
        "... url = http://api.nytimes.com/svc/search/v2/articlesearch.json?q=%22thomas+l.+friedman%22&sort=newest&begin_date=18510918&api-key=f28d40af5370f79078fc5eb7ffd97049%3A17%3A49171679&end_date=19980505&facet_filter=true&fl=web_url%2Csnippet%2Clead_paragraph%2Cabstract%2Cprint_page%2Cblog%2Csource%2Cmultimedia%2Cheadline%2Ckeywords%2Cpub_date%2Cdocument_type%2Cnews_desk%2Cbyline%2Ctype_of_material%2C_id%2Cword_count&page=46&facet_field=source%2Csection_name%2Cdocument_type%2Ctype_of_material%2Cday_of_week\n",
        "... last_date = 1996-04-03T00:00:00Z\n",
        "\n",
        "... n_results ="
       ]
      },
      {
       "output_type": "stream",
       "stream": "stdout",
       "text": [
        " 480\n",
        "... url = http://api.nytimes.com/svc/search/v2/articlesearch.json?q=%22thomas+l.+friedman%22&sort=newest&begin_date=18510918&api-key=f28d40af5370f79078fc5eb7ffd97049%3A17%3A49171679&end_date=19980505&facet_filter=true&fl=web_url%2Csnippet%2Clead_paragraph%2Cabstract%2Cprint_page%2Cblog%2Csource%2Cmultimedia%2Cheadline%2Ckeywords%2Cpub_date%2Cdocument_type%2Cnews_desk%2Cbyline%2Ctype_of_material%2C_id%2Cword_count&page=48&facet_field=source%2Csection_name%2Cdocument_type%2Ctype_of_material%2Cday_of_week\n",
        "... last_date = 1996-02-14T00:00:00Z\n",
        "\n",
        "... n_results ="
       ]
      },
      {
       "output_type": "stream",
       "stream": "stdout",
       "text": [
        " 500\n",
        "... url = http://api.nytimes.com/svc/search/v2/articlesearch.json?q=%22thomas+l.+friedman%22&sort=newest&begin_date=18510918&api-key=f28d40af5370f79078fc5eb7ffd97049%3A17%3A49171679&end_date=19980505&facet_filter=true&fl=web_url%2Csnippet%2Clead_paragraph%2Cabstract%2Cprint_page%2Cblog%2Csource%2Cmultimedia%2Cheadline%2Ckeywords%2Cpub_date%2Cdocument_type%2Cnews_desk%2Cbyline%2Ctype_of_material%2C_id%2Cword_count&page=50&facet_field=source%2Csection_name%2Cdocument_type%2Ctype_of_material%2Cday_of_week\n",
        "... last_date = 1995-12-27T00:00:00Z\n",
        "\n",
        "... n_results ="
       ]
      },
      {
       "output_type": "stream",
       "stream": "stdout",
       "text": [
        " 520\n",
        "... url = http://api.nytimes.com/svc/search/v2/articlesearch.json?q=%22thomas+l.+friedman%22&sort=newest&begin_date=18510918&api-key=f28d40af5370f79078fc5eb7ffd97049%3A17%3A49171679&end_date=19980505&facet_filter=true&fl=web_url%2Csnippet%2Clead_paragraph%2Cabstract%2Cprint_page%2Cblog%2Csource%2Cmultimedia%2Cheadline%2Ckeywords%2Cpub_date%2Cdocument_type%2Cnews_desk%2Cbyline%2Ctype_of_material%2C_id%2Cword_count&page=52&facet_field=source%2Csection_name%2Cdocument_type%2Ctype_of_material%2Cday_of_week\n",
        "... last_date = 1995-11-15T00:00:00Z\n",
        "\n",
        "... n_results ="
       ]
      },
      {
       "output_type": "stream",
       "stream": "stdout",
       "text": [
        " 540\n",
        "... url = http://api.nytimes.com/svc/search/v2/articlesearch.json?q=%22thomas+l.+friedman%22&sort=newest&begin_date=18510918&api-key=f28d40af5370f79078fc5eb7ffd97049%3A17%3A49171679&end_date=19980505&facet_filter=true&fl=web_url%2Csnippet%2Clead_paragraph%2Cabstract%2Cprint_page%2Cblog%2Csource%2Cmultimedia%2Cheadline%2Ckeywords%2Cpub_date%2Cdocument_type%2Cnews_desk%2Cbyline%2Ctype_of_material%2C_id%2Cword_count&page=54&facet_field=source%2Csection_name%2Cdocument_type%2Ctype_of_material%2Cday_of_week\n",
        "... last_date = 1995-10-11T00:00:00Z\n",
        "\n",
        "... n_results ="
       ]
      },
      {
       "output_type": "stream",
       "stream": "stdout",
       "text": [
        " 560\n",
        "... url = http://api.nytimes.com/svc/search/v2/articlesearch.json?q=%22thomas+l.+friedman%22&sort=newest&begin_date=18510918&api-key=f28d40af5370f79078fc5eb7ffd97049%3A17%3A49171679&end_date=19980505&facet_filter=true&fl=web_url%2Csnippet%2Clead_paragraph%2Cabstract%2Cprint_page%2Cblog%2Csource%2Cmultimedia%2Cheadline%2Ckeywords%2Cpub_date%2Cdocument_type%2Cnews_desk%2Cbyline%2Ctype_of_material%2C_id%2Cword_count&page=56&facet_field=source%2Csection_name%2Cdocument_type%2Ctype_of_material%2Cday_of_week\n",
        "... last_date = 1995-08-27T00:00:00Z\n",
        "\n",
        "... n_results ="
       ]
      },
      {
       "output_type": "stream",
       "stream": "stdout",
       "text": [
        " 580\n",
        "... url = http://api.nytimes.com/svc/search/v2/articlesearch.json?q=%22thomas+l.+friedman%22&sort=newest&begin_date=18510918&api-key=f28d40af5370f79078fc5eb7ffd97049%3A17%3A49171679&end_date=19980505&facet_filter=true&fl=web_url%2Csnippet%2Clead_paragraph%2Cabstract%2Cprint_page%2Cblog%2Csource%2Cmultimedia%2Cheadline%2Ckeywords%2Cpub_date%2Cdocument_type%2Cnews_desk%2Cbyline%2Ctype_of_material%2C_id%2Cword_count&page=58&facet_field=source%2Csection_name%2Cdocument_type%2Ctype_of_material%2Cday_of_week\n",
        "... last_date = 1995-06-28T00:00:00Z\n",
        "\n",
        "... n_results ="
       ]
      },
      {
       "output_type": "stream",
       "stream": "stdout",
       "text": [
        " 600\n",
        "... url = http://api.nytimes.com/svc/search/v2/articlesearch.json?q=%22thomas+l.+friedman%22&sort=newest&begin_date=18510918&api-key=f28d40af5370f79078fc5eb7ffd97049%3A17%3A49171679&end_date=19980505&facet_filter=true&fl=web_url%2Csnippet%2Clead_paragraph%2Cabstract%2Cprint_page%2Cblog%2Csource%2Cmultimedia%2Cheadline%2Ckeywords%2Cpub_date%2Cdocument_type%2Cnews_desk%2Cbyline%2Ctype_of_material%2C_id%2Cword_count&page=60&facet_field=source%2Csection_name%2Cdocument_type%2Ctype_of_material%2Cday_of_week\n",
        "... last_date = 1995-05-17T00:00:00Z\n",
        "\n",
        "... n_results ="
       ]
      },
      {
       "output_type": "stream",
       "stream": "stdout",
       "text": [
        " 620\n",
        "... url = http://api.nytimes.com/svc/search/v2/articlesearch.json?q=%22thomas+l.+friedman%22&sort=newest&begin_date=18510918&api-key=f28d40af5370f79078fc5eb7ffd97049%3A17%3A49171679&end_date=19980505&facet_filter=true&fl=web_url%2Csnippet%2Clead_paragraph%2Cabstract%2Cprint_page%2Cblog%2Csource%2Cmultimedia%2Cheadline%2Ckeywords%2Cpub_date%2Cdocument_type%2Cnews_desk%2Cbyline%2Ctype_of_material%2C_id%2Cword_count&page=62&facet_field=source%2Csection_name%2Cdocument_type%2Ctype_of_material%2Cday_of_week\n",
        "... last_date = 1995-04-12T00:00:00Z\n",
        "\n",
        "... n_results ="
       ]
      },
      {
       "output_type": "stream",
       "stream": "stdout",
       "text": [
        " 640\n",
        "... url = http://api.nytimes.com/svc/search/v2/articlesearch.json?q=%22thomas+l.+friedman%22&sort=newest&begin_date=18510918&api-key=f28d40af5370f79078fc5eb7ffd97049%3A17%3A49171679&end_date=19980505&facet_filter=true&fl=web_url%2Csnippet%2Clead_paragraph%2Cabstract%2Cprint_page%2Cblog%2Csource%2Cmultimedia%2Cheadline%2Ckeywords%2Cpub_date%2Cdocument_type%2Cnews_desk%2Cbyline%2Ctype_of_material%2C_id%2Cword_count&page=64&facet_field=source%2Csection_name%2Cdocument_type%2Ctype_of_material%2Cday_of_week\n",
        "... last_date = 1995-03-01T00:00:00Z\n",
        "\n",
        "... n_results ="
       ]
      },
      {
       "output_type": "stream",
       "stream": "stdout",
       "text": [
        " 660\n",
        "... url = http://api.nytimes.com/svc/search/v2/articlesearch.json?q=%22thomas+l.+friedman%22&sort=newest&begin_date=18510918&api-key=f28d40af5370f79078fc5eb7ffd97049%3A17%3A49171679&end_date=19980505&facet_filter=true&fl=web_url%2Csnippet%2Clead_paragraph%2Cabstract%2Cprint_page%2Cblog%2Csource%2Cmultimedia%2Cheadline%2Ckeywords%2Cpub_date%2Cdocument_type%2Cnews_desk%2Cbyline%2Ctype_of_material%2C_id%2Cword_count&page=66&facet_field=source%2Csection_name%2Cdocument_type%2Ctype_of_material%2Cday_of_week\n",
        "... last_date = 1995-01-18T00:00:00Z\n",
        "\n",
        "... n_results ="
       ]
      },
      {
       "output_type": "stream",
       "stream": "stdout",
       "text": [
        " 680\n",
        "... url = http://api.nytimes.com/svc/search/v2/articlesearch.json?q=%22thomas+l.+friedman%22&sort=newest&begin_date=18510918&api-key=f28d40af5370f79078fc5eb7ffd97049%3A17%3A49171679&end_date=19980505&facet_filter=true&fl=web_url%2Csnippet%2Clead_paragraph%2Cabstract%2Cprint_page%2Cblog%2Csource%2Cmultimedia%2Cheadline%2Ckeywords%2Cpub_date%2Cdocument_type%2Cnews_desk%2Cbyline%2Ctype_of_material%2C_id%2Cword_count&page=68&facet_field=source%2Csection_name%2Cdocument_type%2Ctype_of_material%2Cday_of_week\n",
        "... last_date = 1994-09-28T00:00:00Z\n",
        "\n",
        "... n_results ="
       ]
      },
      {
       "output_type": "stream",
       "stream": "stdout",
       "text": [
        " 700\n",
        "... url = http://api.nytimes.com/svc/search/v2/articlesearch.json?q=%22thomas+l.+friedman%22&sort=newest&begin_date=18510918&api-key=f28d40af5370f79078fc5eb7ffd97049%3A17%3A49171679&end_date=19980505&facet_filter=true&fl=web_url%2Csnippet%2Clead_paragraph%2Cabstract%2Cprint_page%2Cblog%2Csource%2Cmultimedia%2Cheadline%2Ckeywords%2Cpub_date%2Cdocument_type%2Cnews_desk%2Cbyline%2Ctype_of_material%2C_id%2Cword_count&page=70&facet_field=source%2Csection_name%2Cdocument_type%2Ctype_of_material%2Cday_of_week\n",
        "... last_date = 1994-07-07T00:00:00Z\n",
        "\n",
        "... n_results ="
       ]
      },
      {
       "output_type": "stream",
       "stream": "stdout",
       "text": [
        " 720\n",
        "... url = http://api.nytimes.com/svc/search/v2/articlesearch.json?q=%22thomas+l.+friedman%22&sort=newest&begin_date=18510918&api-key=f28d40af5370f79078fc5eb7ffd97049%3A17%3A49171679&end_date=19980505&facet_filter=true&fl=web_url%2Csnippet%2Clead_paragraph%2Cabstract%2Cprint_page%2Cblog%2Csource%2Cmultimedia%2Cheadline%2Ckeywords%2Cpub_date%2Cdocument_type%2Cnews_desk%2Cbyline%2Ctype_of_material%2C_id%2Cword_count&page=72&facet_field=source%2Csection_name%2Cdocument_type%2Ctype_of_material%2Cday_of_week\n",
        "... last_date = 1994-05-14T00:00:00Z\n",
        "\n",
        "... n_results ="
       ]
      },
      {
       "output_type": "stream",
       "stream": "stdout",
       "text": [
        " 740\n",
        "... url = http://api.nytimes.com/svc/search/v2/articlesearch.json?q=%22thomas+l.+friedman%22&sort=newest&begin_date=18510918&api-key=f28d40af5370f79078fc5eb7ffd97049%3A17%3A49171679&end_date=19980505&facet_filter=true&fl=web_url%2Csnippet%2Clead_paragraph%2Cabstract%2Cprint_page%2Cblog%2Csource%2Cmultimedia%2Cheadline%2Ckeywords%2Cpub_date%2Cdocument_type%2Cnews_desk%2Cbyline%2Ctype_of_material%2C_id%2Cword_count&page=74&facet_field=source%2Csection_name%2Cdocument_type%2Ctype_of_material%2Cday_of_week\n",
        "... last_date = 1994-04-03T00:00:00Z\n",
        "\n",
        "... n_results ="
       ]
      },
      {
       "output_type": "stream",
       "stream": "stdout",
       "text": [
        " 760\n",
        "... url = http://api.nytimes.com/svc/search/v2/articlesearch.json?q=%22thomas+l.+friedman%22&sort=newest&begin_date=18510918&api-key=f28d40af5370f79078fc5eb7ffd97049%3A17%3A49171679&end_date=19980505&facet_filter=true&fl=web_url%2Csnippet%2Clead_paragraph%2Cabstract%2Cprint_page%2Cblog%2Csource%2Cmultimedia%2Cheadline%2Ckeywords%2Cpub_date%2Cdocument_type%2Cnews_desk%2Cbyline%2Ctype_of_material%2C_id%2Cword_count&page=76&facet_field=source%2Csection_name%2Cdocument_type%2Ctype_of_material%2Cday_of_week\n",
        "... last_date = 1994-02-16T00:00:00Z\n",
        "\n",
        "... n_results ="
       ]
      },
      {
       "output_type": "stream",
       "stream": "stdout",
       "text": [
        " 780\n",
        "... url = http://api.nytimes.com/svc/search/v2/articlesearch.json?q=%22thomas+l.+friedman%22&sort=newest&begin_date=18510918&api-key=f28d40af5370f79078fc5eb7ffd97049%3A17%3A49171679&end_date=19980505&facet_filter=true&fl=web_url%2Csnippet%2Clead_paragraph%2Cabstract%2Cprint_page%2Cblog%2Csource%2Cmultimedia%2Cheadline%2Ckeywords%2Cpub_date%2Cdocument_type%2Cnews_desk%2Cbyline%2Ctype_of_material%2C_id%2Cword_count&page=78&facet_field=source%2Csection_name%2Cdocument_type%2Ctype_of_material%2Cday_of_week\n",
        "... last_date = 1994-01-16T00:00:00Z\n",
        "\n",
        "... n_results ="
       ]
      },
      {
       "output_type": "stream",
       "stream": "stdout",
       "text": [
        " 800\n",
        "... url = http://api.nytimes.com/svc/search/v2/articlesearch.json?q=%22thomas+l.+friedman%22&sort=newest&begin_date=18510918&api-key=f28d40af5370f79078fc5eb7ffd97049%3A17%3A49171679&end_date=19980505&facet_filter=true&fl=web_url%2Csnippet%2Clead_paragraph%2Cabstract%2Cprint_page%2Cblog%2Csource%2Cmultimedia%2Cheadline%2Ckeywords%2Cpub_date%2Cdocument_type%2Cnews_desk%2Cbyline%2Ctype_of_material%2C_id%2Cword_count&page=80&facet_field=source%2Csection_name%2Cdocument_type%2Ctype_of_material%2Cday_of_week\n",
        "... last_date = 1993-11-16T00:00:00Z\n",
        "\n",
        "... n_results ="
       ]
      },
      {
       "output_type": "stream",
       "stream": "stdout",
       "text": [
        " 820\n",
        "... url = http://api.nytimes.com/svc/search/v2/articlesearch.json?q=%22thomas+l.+friedman%22&sort=newest&begin_date=18510918&api-key=f28d40af5370f79078fc5eb7ffd97049%3A17%3A49171679&end_date=19980505&facet_filter=true&fl=web_url%2Csnippet%2Clead_paragraph%2Cabstract%2Cprint_page%2Cblog%2Csource%2Cmultimedia%2Cheadline%2Ckeywords%2Cpub_date%2Cdocument_type%2Cnews_desk%2Cbyline%2Ctype_of_material%2C_id%2Cword_count&page=82&facet_field=source%2Csection_name%2Cdocument_type%2Ctype_of_material%2Cday_of_week\n",
        "... last_date = 1993-10-06T00:00:00Z\n",
        "\n",
        "... n_results ="
       ]
      },
      {
       "output_type": "stream",
       "stream": "stdout",
       "text": [
        " 840\n",
        "... url = http://api.nytimes.com/svc/search/v2/articlesearch.json?q=%22thomas+l.+friedman%22&sort=newest&begin_date=18510918&api-key=f28d40af5370f79078fc5eb7ffd97049%3A17%3A49171679&end_date=19980505&facet_filter=true&fl=web_url%2Csnippet%2Clead_paragraph%2Cabstract%2Cprint_page%2Cblog%2Csource%2Cmultimedia%2Cheadline%2Ckeywords%2Cpub_date%2Cdocument_type%2Cnews_desk%2Cbyline%2Ctype_of_material%2C_id%2Cword_count&page=84&facet_field=source%2Csection_name%2Cdocument_type%2Ctype_of_material%2Cday_of_week\n",
        "... last_date = 1993-09-03T00:00:00Z\n",
        "\n",
        "... n_results ="
       ]
      },
      {
       "output_type": "stream",
       "stream": "stdout",
       "text": [
        " 860\n",
        "... url = http://api.nytimes.com/svc/search/v2/articlesearch.json?q=%22thomas+l.+friedman%22&sort=newest&begin_date=18510918&api-key=f28d40af5370f79078fc5eb7ffd97049%3A17%3A49171679&end_date=19980505&facet_filter=true&fl=web_url%2Csnippet%2Clead_paragraph%2Cabstract%2Cprint_page%2Cblog%2Csource%2Cmultimedia%2Cheadline%2Ckeywords%2Cpub_date%2Cdocument_type%2Cnews_desk%2Cbyline%2Ctype_of_material%2C_id%2Cword_count&page=86&facet_field=source%2Csection_name%2Cdocument_type%2Ctype_of_material%2Cday_of_week\n",
        "... last_date = 1993-06-29T00:00:00Z\n",
        "\n",
        "... n_results ="
       ]
      },
      {
       "output_type": "stream",
       "stream": "stdout",
       "text": [
        " 880\n",
        "... url = http://api.nytimes.com/svc/search/v2/articlesearch.json?q=%22thomas+l.+friedman%22&sort=newest&begin_date=18510918&api-key=f28d40af5370f79078fc5eb7ffd97049%3A17%3A49171679&end_date=19980505&facet_filter=true&fl=web_url%2Csnippet%2Clead_paragraph%2Cabstract%2Cprint_page%2Cblog%2Csource%2Cmultimedia%2Cheadline%2Ckeywords%2Cpub_date%2Cdocument_type%2Cnews_desk%2Cbyline%2Ctype_of_material%2C_id%2Cword_count&page=88&facet_field=source%2Csection_name%2Cdocument_type%2Ctype_of_material%2Cday_of_week\n",
        "... last_date = 1993-05-21T00:00:00Z\n",
        "\n",
        "... n_results ="
       ]
      },
      {
       "output_type": "stream",
       "stream": "stdout",
       "text": [
        " 900\n",
        "... url = http://api.nytimes.com/svc/search/v2/articlesearch.json?q=%22thomas+l.+friedman%22&sort=newest&begin_date=18510918&api-key=f28d40af5370f79078fc5eb7ffd97049%3A17%3A49171679&end_date=19980505&facet_filter=true&fl=web_url%2Csnippet%2Clead_paragraph%2Cabstract%2Cprint_page%2Cblog%2Csource%2Cmultimedia%2Cheadline%2Ckeywords%2Cpub_date%2Cdocument_type%2Cnews_desk%2Cbyline%2Ctype_of_material%2C_id%2Cword_count&page=90&facet_field=source%2Csection_name%2Cdocument_type%2Ctype_of_material%2Cday_of_week\n",
        "... last_date = 1993-04-04T00:00:00Z\n",
        "\n",
        "... n_results ="
       ]
      },
      {
       "output_type": "stream",
       "stream": "stdout",
       "text": [
        " 920\n",
        "... url = http://api.nytimes.com/svc/search/v2/articlesearch.json?q=%22thomas+l.+friedman%22&sort=newest&begin_date=18510918&api-key=f28d40af5370f79078fc5eb7ffd97049%3A17%3A49171679&end_date=19980505&facet_filter=true&fl=web_url%2Csnippet%2Clead_paragraph%2Cabstract%2Cprint_page%2Cblog%2Csource%2Cmultimedia%2Cheadline%2Ckeywords%2Cpub_date%2Cdocument_type%2Cnews_desk%2Cbyline%2Ctype_of_material%2C_id%2Cword_count&page=92&facet_field=source%2Csection_name%2Cdocument_type%2Ctype_of_material%2Cday_of_week\n",
        "... last_date = 1993-02-19T00:00:00Z\n",
        "\n",
        "... n_results ="
       ]
      },
      {
       "output_type": "stream",
       "stream": "stdout",
       "text": [
        " 940\n",
        "... url = http://api.nytimes.com/svc/search/v2/articlesearch.json?q=%22thomas+l.+friedman%22&sort=newest&begin_date=18510918&api-key=f28d40af5370f79078fc5eb7ffd97049%3A17%3A49171679&end_date=19980505&facet_filter=true&fl=web_url%2Csnippet%2Clead_paragraph%2Cabstract%2Cprint_page%2Cblog%2Csource%2Cmultimedia%2Cheadline%2Ckeywords%2Cpub_date%2Cdocument_type%2Cnews_desk%2Cbyline%2Ctype_of_material%2C_id%2Cword_count&page=94&facet_field=source%2Csection_name%2Cdocument_type%2Ctype_of_material%2Cday_of_week\n",
        "... last_date = 1993-01-17T00:00:00Z\n",
        "\n",
        "... n_results ="
       ]
      },
      {
       "output_type": "stream",
       "stream": "stdout",
       "text": [
        " 960\n",
        "... url = http://api.nytimes.com/svc/search/v2/articlesearch.json?q=%22thomas+l.+friedman%22&sort=newest&begin_date=18510918&api-key=f28d40af5370f79078fc5eb7ffd97049%3A17%3A49171679&end_date=19980505&facet_filter=true&fl=web_url%2Csnippet%2Clead_paragraph%2Cabstract%2Cprint_page%2Cblog%2Csource%2Cmultimedia%2Cheadline%2Ckeywords%2Cpub_date%2Cdocument_type%2Cnews_desk%2Cbyline%2Ctype_of_material%2C_id%2Cword_count&page=96&facet_field=source%2Csection_name%2Cdocument_type%2Ctype_of_material%2Cday_of_week\n",
        "... last_date = 1992-12-14T00:00:00Z\n",
        "\n",
        "... n_results ="
       ]
      },
      {
       "output_type": "stream",
       "stream": "stdout",
       "text": [
        " 980\n",
        "... url = http://api.nytimes.com/svc/search/v2/articlesearch.json?q=%22thomas+l.+friedman%22&sort=newest&begin_date=18510918&api-key=f28d40af5370f79078fc5eb7ffd97049%3A17%3A49171679&end_date=19980505&facet_filter=true&fl=web_url%2Csnippet%2Clead_paragraph%2Cabstract%2Cprint_page%2Cblog%2Csource%2Cmultimedia%2Cheadline%2Ckeywords%2Cpub_date%2Cdocument_type%2Cnews_desk%2Cbyline%2Ctype_of_material%2C_id%2Cword_count&page=98&facet_field=source%2Csection_name%2Cdocument_type%2Ctype_of_material%2Cday_of_week\n",
        "... last_date = 1992-11-12T00:00:00Z\n",
        "\n",
        "... n_results ="
       ]
      },
      {
       "output_type": "stream",
       "stream": "stdout",
       "text": [
        " 1000\n",
        "... url = http://api.nytimes.com/svc/search/v2/articlesearch.json?q=%22thomas+l.+friedman%22&sort=newest&begin_date=18510918&api-key=f28d40af5370f79078fc5eb7ffd97049%3A17%3A49171679&end_date=19980505&facet_filter=true&fl=web_url%2Csnippet%2Clead_paragraph%2Cabstract%2Cprint_page%2Cblog%2Csource%2Cmultimedia%2Cheadline%2Ckeywords%2Cpub_date%2Cdocument_type%2Cnews_desk%2Cbyline%2Ctype_of_material%2C_id%2Cword_count&page=100&facet_field=source%2Csection_name%2Cdocument_type%2Ctype_of_material%2Cday_of_week\n",
        "... last_date = 1992-09-20T00:00:00Z\n",
        "***ERROR: status_code ="
       ]
      },
      {
       "output_type": "stream",
       "stream": "stdout",
       "text": [
        " 400 !\n",
        "http://api.nytimes.com/svc/search/v2/articlesearch.json?q=%22thomas+l.+friedman%22&sort=newest&begin_date=18510918&api-key=f28d40af5370f79078fc5eb7ffd97049%3A17%3A49171679&end_date=19980505&facet_filter=true&fl=web_url%2Csnippet%2Clead_paragraph%2Cabstract%2Cprint_page%2Cblog%2Csource%2Cmultimedia%2Cheadline%2Ckeywords%2Cpub_date%2Cdocument_type%2Cnews_desk%2Cbyline%2Ctype_of_material%2C_id%2Cword_count&page=101&facet_field=source%2Csection_name%2Cdocument_type%2Ctype_of_material%2Cday_of_week\n",
        "***ERROR: status_code ="
       ]
      },
      {
       "output_type": "stream",
       "stream": "stdout",
       "text": [
        " 400 !\n",
        "http://api.nytimes.com/svc/search/v2/articlesearch.json?q=%22thomas+l.+friedman%22&sort=newest&begin_date=18510918&api-key=f28d40af5370f79078fc5eb7ffd97049%3A17%3A49171679&end_date=19980505&facet_filter=true&fl=web_url%2Csnippet%2Clead_paragraph%2Cabstract%2Cprint_page%2Cblog%2Csource%2Cmultimedia%2Cheadline%2Ckeywords%2Cpub_date%2Cdocument_type%2Cnews_desk%2Cbyline%2Ctype_of_material%2C_id%2Cword_count&page=102&facet_field=source%2Csection_name%2Cdocument_type%2Ctype_of_material%2Cday_of_week\n",
        "***ERROR: status_code ="
       ]
      },
      {
       "output_type": "stream",
       "stream": "stdout",
       "text": [
        " 400 !\n",
        "http://api.nytimes.com/svc/search/v2/articlesearch.json?q=%22thomas+l.+friedman%22&sort=newest&begin_date=18510918&api-key=f28d40af5370f79078fc5eb7ffd97049%3A17%3A49171679&end_date=19980505&facet_filter=true&fl=web_url%2Csnippet%2Clead_paragraph%2Cabstract%2Cprint_page%2Cblog%2Csource%2Cmultimedia%2Cheadline%2Ckeywords%2Cpub_date%2Cdocument_type%2Cnews_desk%2Cbyline%2Ctype_of_material%2C_id%2Cword_count&page=103&facet_field=source%2Csection_name%2Cdocument_type%2Ctype_of_material%2Cday_of_week\n",
        "***ERROR: status_code ="
       ]
      },
      {
       "output_type": "stream",
       "stream": "stdout",
       "text": [
        " 400 !\n",
        "http://api.nytimes.com/svc/search/v2/articlesearch.json?q=%22thomas+l.+friedman%22&sort=newest&begin_date=18510918&api-key=f28d40af5370f79078fc5eb7ffd97049%3A17%3A49171679&end_date=19980505&facet_filter=true&fl=web_url%2Csnippet%2Clead_paragraph%2Cabstract%2Cprint_page%2Cblog%2Csource%2Cmultimedia%2Cheadline%2Ckeywords%2Cpub_date%2Cdocument_type%2Cnews_desk%2Cbyline%2Ctype_of_material%2C_id%2Cword_count&page=104&facet_field=source%2Csection_name%2Cdocument_type%2Ctype_of_material%2Cday_of_week\n",
        "***ERROR: status_code ="
       ]
      },
      {
       "output_type": "stream",
       "stream": "stdout",
       "text": [
        " 400 !\n",
        "http://api.nytimes.com/svc/search/v2/articlesearch.json?q=%22thomas+l.+friedman%22&sort=newest&begin_date=18510918&api-key=f28d40af5370f79078fc5eb7ffd97049%3A17%3A49171679&end_date=19980505&facet_filter=true&fl=web_url%2Csnippet%2Clead_paragraph%2Cabstract%2Cprint_page%2Cblog%2Csource%2Cmultimedia%2Cheadline%2Ckeywords%2Cpub_date%2Cdocument_type%2Cnews_desk%2Cbyline%2Ctype_of_material%2C_id%2Cword_count&page=105&facet_field=source%2Csection_name%2Cdocument_type%2Ctype_of_material%2Cday_of_week\n",
        "***ERROR: status_code ="
       ]
      },
      {
       "output_type": "stream",
       "stream": "stdout",
       "text": [
        " 400 !\n",
        "http://api.nytimes.com/svc/search/v2/articlesearch.json?q=%22thomas+l.+friedman%22&sort=newest&begin_date=18510918&api-key=f28d40af5370f79078fc5eb7ffd97049%3A17%3A49171679&end_date=19980505&facet_filter=true&fl=web_url%2Csnippet%2Clead_paragraph%2Cabstract%2Cprint_page%2Cblog%2Csource%2Cmultimedia%2Cheadline%2Ckeywords%2Cpub_date%2Cdocument_type%2Cnews_desk%2Cbyline%2Ctype_of_material%2C_id%2Cword_count&page=106&facet_field=source%2Csection_name%2Cdocument_type%2Ctype_of_material%2Cday_of_week\n",
        "***ERROR: status_code ="
       ]
      },
      {
       "output_type": "stream",
       "stream": "stdout",
       "text": [
        " 400 !\n",
        "http://api.nytimes.com/svc/search/v2/articlesearch.json?q=%22thomas+l.+friedman%22&sort=newest&begin_date=18510918&api-key=f28d40af5370f79078fc5eb7ffd97049%3A17%3A49171679&end_date=19980505&facet_filter=true&fl=web_url%2Csnippet%2Clead_paragraph%2Cabstract%2Cprint_page%2Cblog%2Csource%2Cmultimedia%2Cheadline%2Ckeywords%2Cpub_date%2Cdocument_type%2Cnews_desk%2Cbyline%2Ctype_of_material%2C_id%2Cword_count&page=107&facet_field=source%2Csection_name%2Cdocument_type%2Ctype_of_material%2Cday_of_week\n",
        "***ERROR: status_code ="
       ]
      },
      {
       "output_type": "stream",
       "stream": "stdout",
       "text": [
        " 400 !\n",
        "http://api.nytimes.com/svc/search/v2/articlesearch.json?q=%22thomas+l.+friedman%22&sort=newest&begin_date=18510918&api-key=f28d40af5370f79078fc5eb7ffd97049%3A17%3A49171679&end_date=19980505&facet_filter=true&fl=web_url%2Csnippet%2Clead_paragraph%2Cabstract%2Cprint_page%2Cblog%2Csource%2Cmultimedia%2Cheadline%2Ckeywords%2Cpub_date%2Cdocument_type%2Cnews_desk%2Cbyline%2Ctype_of_material%2C_id%2Cword_count&page=108&facet_field=source%2Csection_name%2Cdocument_type%2Ctype_of_material%2Cday_of_week\n",
        "***ERROR: status_code ="
       ]
      },
      {
       "output_type": "stream",
       "stream": "stdout",
       "text": [
        " 400 !\n",
        "http://api.nytimes.com/svc/search/v2/articlesearch.json?q=%22thomas+l.+friedman%22&sort=newest&begin_date=18510918&api-key=f28d40af5370f79078fc5eb7ffd97049%3A17%3A49171679&end_date=19980505&facet_filter=true&fl=web_url%2Csnippet%2Clead_paragraph%2Cabstract%2Cprint_page%2Cblog%2Csource%2Cmultimedia%2Cheadline%2Ckeywords%2Cpub_date%2Cdocument_type%2Cnews_desk%2Cbyline%2Ctype_of_material%2C_id%2Cword_count&page=109&facet_field=source%2Csection_name%2Cdocument_type%2Ctype_of_material%2Cday_of_week\n",
        "***ERROR: status_code ="
       ]
      },
      {
       "output_type": "stream",
       "stream": "stdout",
       "text": [
        " 400 !\n",
        "http://api.nytimes.com/svc/search/v2/articlesearch.json?q=%22thomas+l.+friedman%22&sort=newest&begin_date=18510918&api-key=f28d40af5370f79078fc5eb7ffd97049%3A17%3A49171679&end_date=19980505&facet_filter=true&fl=web_url%2Csnippet%2Clead_paragraph%2Cabstract%2Cprint_page%2Cblog%2Csource%2Cmultimedia%2Cheadline%2Ckeywords%2Cpub_date%2Cdocument_type%2Cnews_desk%2Cbyline%2Ctype_of_material%2C_id%2Cword_count&page=110&facet_field=source%2Csection_name%2Cdocument_type%2Ctype_of_material%2Cday_of_week\n",
        "***ERROR: status_code ="
       ]
      },
      {
       "output_type": "stream",
       "stream": "stdout",
       "text": [
        " 400 !\n",
        "http://api.nytimes.com/svc/search/v2/articlesearch.json?q=%22thomas+l.+friedman%22&sort=newest&begin_date=18510918&api-key=f28d40af5370f79078fc5eb7ffd97049%3A17%3A49171679&end_date=19980505&facet_filter=true&fl=web_url%2Csnippet%2Clead_paragraph%2Cabstract%2Cprint_page%2Cblog%2Csource%2Cmultimedia%2Cheadline%2Ckeywords%2Cpub_date%2Cdocument_type%2Cnews_desk%2Cbyline%2Ctype_of_material%2C_id%2Cword_count&page=111&facet_field=source%2Csection_name%2Cdocument_type%2Ctype_of_material%2Cday_of_week\n",
        "***ERROR: status_code ="
       ]
      },
      {
       "output_type": "stream",
       "stream": "stdout",
       "text": [
        " 400 !\n",
        "http://api.nytimes.com/svc/search/v2/articlesearch.json?q=%22thomas+l.+friedman%22&sort=newest&begin_date=18510918&api-key=f28d40af5370f79078fc5eb7ffd97049%3A17%3A49171679&end_date=19980505&facet_filter=true&fl=web_url%2Csnippet%2Clead_paragraph%2Cabstract%2Cprint_page%2Cblog%2Csource%2Cmultimedia%2Cheadline%2Ckeywords%2Cpub_date%2Cdocument_type%2Cnews_desk%2Cbyline%2Ctype_of_material%2C_id%2Cword_count&page=112&facet_field=source%2Csection_name%2Cdocument_type%2Ctype_of_material%2Cday_of_week\n",
        "***ERROR: status_code ="
       ]
      },
      {
       "output_type": "stream",
       "stream": "stdout",
       "text": [
        " 400 !\n",
        "http://api.nytimes.com/svc/search/v2/articlesearch.json?q=%22thomas+l.+friedman%22&sort=newest&begin_date=18510918&api-key=f28d40af5370f79078fc5eb7ffd97049%3A17%3A49171679&end_date=19980505&facet_filter=true&fl=web_url%2Csnippet%2Clead_paragraph%2Cabstract%2Cprint_page%2Cblog%2Csource%2Cmultimedia%2Cheadline%2Ckeywords%2Cpub_date%2Cdocument_type%2Cnews_desk%2Cbyline%2Ctype_of_material%2C_id%2Cword_count&page=113&facet_field=source%2Csection_name%2Cdocument_type%2Ctype_of_material%2Cday_of_week\n",
        "***ERROR: status_code ="
       ]
      },
      {
       "output_type": "stream",
       "stream": "stdout",
       "text": [
        " 400 !\n",
        "http://api.nytimes.com/svc/search/v2/articlesearch.json?q=%22thomas+l.+friedman%22&sort=newest&begin_date=18510918&api-key=f28d40af5370f79078fc5eb7ffd97049%3A17%3A49171679&end_date=19980505&facet_filter=true&fl=web_url%2Csnippet%2Clead_paragraph%2Cabstract%2Cprint_page%2Cblog%2Csource%2Cmultimedia%2Cheadline%2Ckeywords%2Cpub_date%2Cdocument_type%2Cnews_desk%2Cbyline%2Ctype_of_material%2C_id%2Cword_count&page=114&facet_field=source%2Csection_name%2Cdocument_type%2Ctype_of_material%2Cday_of_week\n",
        "***ERROR: status_code ="
       ]
      },
      {
       "output_type": "stream",
       "stream": "stdout",
       "text": [
        " 400 !\n",
        "http://api.nytimes.com/svc/search/v2/articlesearch.json?q=%22thomas+l.+friedman%22&sort=newest&begin_date=18510918&api-key=f28d40af5370f79078fc5eb7ffd97049%3A17%3A49171679&end_date=19980505&facet_filter=true&fl=web_url%2Csnippet%2Clead_paragraph%2Cabstract%2Cprint_page%2Cblog%2Csource%2Cmultimedia%2Cheadline%2Ckeywords%2Cpub_date%2Cdocument_type%2Cnews_desk%2Cbyline%2Ctype_of_material%2C_id%2Cword_count&page=115&facet_field=source%2Csection_name%2Cdocument_type%2Ctype_of_material%2Cday_of_week\n",
        "***ERROR: status_code ="
       ]
      },
      {
       "output_type": "stream",
       "stream": "stdout",
       "text": [
        " 400 !\n",
        "http://api.nytimes.com/svc/search/v2/articlesearch.json?q=%22thomas+l.+friedman%22&sort=newest&begin_date=18510918&api-key=f28d40af5370f79078fc5eb7ffd97049%3A17%3A49171679&end_date=19980505&facet_filter=true&fl=web_url%2Csnippet%2Clead_paragraph%2Cabstract%2Cprint_page%2Cblog%2Csource%2Cmultimedia%2Cheadline%2Ckeywords%2Cpub_date%2Cdocument_type%2Cnews_desk%2Cbyline%2Ctype_of_material%2C_id%2Cword_count&page=116&facet_field=source%2Csection_name%2Cdocument_type%2Ctype_of_material%2Cday_of_week\n",
        "***ERROR: status_code ="
       ]
      },
      {
       "output_type": "stream",
       "stream": "stdout",
       "text": [
        " 400 !\n",
        "http://api.nytimes.com/svc/search/v2/articlesearch.json?q=%22thomas+l.+friedman%22&sort=newest&begin_date=18510918&api-key=f28d40af5370f79078fc5eb7ffd97049%3A17%3A49171679&end_date=19980505&facet_filter=true&fl=web_url%2Csnippet%2Clead_paragraph%2Cabstract%2Cprint_page%2Cblog%2Csource%2Cmultimedia%2Cheadline%2Ckeywords%2Cpub_date%2Cdocument_type%2Cnews_desk%2Cbyline%2Ctype_of_material%2C_id%2Cword_count&page=117&facet_field=source%2Csection_name%2Cdocument_type%2Ctype_of_material%2Cday_of_week\n",
        "***ERROR: status_code ="
       ]
      },
      {
       "output_type": "stream",
       "stream": "stdout",
       "text": [
        " 400 !\n",
        "http://api.nytimes.com/svc/search/v2/articlesearch.json?q=%22thomas+l.+friedman%22&sort=newest&begin_date=18510918&api-key=f28d40af5370f79078fc5eb7ffd97049%3A17%3A49171679&end_date=19980505&facet_filter=true&fl=web_url%2Csnippet%2Clead_paragraph%2Cabstract%2Cprint_page%2Cblog%2Csource%2Cmultimedia%2Cheadline%2Ckeywords%2Cpub_date%2Cdocument_type%2Cnews_desk%2Cbyline%2Ctype_of_material%2C_id%2Cword_count&page=118&facet_field=source%2Csection_name%2Cdocument_type%2Ctype_of_material%2Cday_of_week\n",
        "***ERROR: status_code ="
       ]
      },
      {
       "output_type": "stream",
       "stream": "stdout",
       "text": [
        " 400 !\n",
        "http://api.nytimes.com/svc/search/v2/articlesearch.json?q=%22thomas+l.+friedman%22&sort=newest&begin_date=18510918&api-key=f28d40af5370f79078fc5eb7ffd97049%3A17%3A49171679&end_date=19980505&facet_filter=true&fl=web_url%2Csnippet%2Clead_paragraph%2Cabstract%2Cprint_page%2Cblog%2Csource%2Cmultimedia%2Cheadline%2Ckeywords%2Cpub_date%2Cdocument_type%2Cnews_desk%2Cbyline%2Ctype_of_material%2C_id%2Cword_count&page=119&facet_field=source%2Csection_name%2Cdocument_type%2Ctype_of_material%2Cday_of_week\n",
        "***ERROR: status_code ="
       ]
      },
      {
       "output_type": "stream",
       "stream": "stdout",
       "text": [
        " 400 !\n",
        "http://api.nytimes.com/svc/search/v2/articlesearch.json?q=%22thomas+l.+friedman%22&sort=newest&begin_date=18510918&api-key=f28d40af5370f79078fc5eb7ffd97049%3A17%3A49171679&end_date=19980505&facet_filter=true&fl=web_url%2Csnippet%2Clead_paragraph%2Cabstract%2Cprint_page%2Cblog%2Csource%2Cmultimedia%2Cheadline%2Ckeywords%2Cpub_date%2Cdocument_type%2Cnews_desk%2Cbyline%2Ctype_of_material%2C_id%2Cword_count&page=120&facet_field=source%2Csection_name%2Cdocument_type%2Ctype_of_material%2Cday_of_week\n",
        "***ERROR: status_code ="
       ]
      },
      {
       "output_type": "stream",
       "stream": "stdout",
       "text": [
        " 400 !\n",
        "http://api.nytimes.com/svc/search/v2/articlesearch.json?q=%22thomas+l.+friedman%22&sort=newest&begin_date=18510918&api-key=f28d40af5370f79078fc5eb7ffd97049%3A17%3A49171679&end_date=19980505&facet_filter=true&fl=web_url%2Csnippet%2Clead_paragraph%2Cabstract%2Cprint_page%2Cblog%2Csource%2Cmultimedia%2Cheadline%2Ckeywords%2Cpub_date%2Cdocument_type%2Cnews_desk%2Cbyline%2Ctype_of_material%2C_id%2Cword_count&page=121&facet_field=source%2Csection_name%2Cdocument_type%2Ctype_of_material%2Cday_of_week\n",
        "***ERROR: status_code ="
       ]
      },
      {
       "output_type": "stream",
       "stream": "stdout",
       "text": [
        " 400 !\n",
        "http://api.nytimes.com/svc/search/v2/articlesearch.json?q=%22thomas+l.+friedman%22&sort=newest&begin_date=18510918&api-key=f28d40af5370f79078fc5eb7ffd97049%3A17%3A49171679&end_date=19980505&facet_filter=true&fl=web_url%2Csnippet%2Clead_paragraph%2Cabstract%2Cprint_page%2Cblog%2Csource%2Cmultimedia%2Cheadline%2Ckeywords%2Cpub_date%2Cdocument_type%2Cnews_desk%2Cbyline%2Ctype_of_material%2C_id%2Cword_count&page=122&facet_field=source%2Csection_name%2Cdocument_type%2Ctype_of_material%2Cday_of_week\n",
        "***ERROR: status_code ="
       ]
      },
      {
       "output_type": "stream",
       "stream": "stdout",
       "text": [
        " 400 !\n",
        "http://api.nytimes.com/svc/search/v2/articlesearch.json?q=%22thomas+l.+friedman%22&sort=newest&begin_date=18510918&api-key=f28d40af5370f79078fc5eb7ffd97049%3A17%3A49171679&end_date=19980505&facet_filter=true&fl=web_url%2Csnippet%2Clead_paragraph%2Cabstract%2Cprint_page%2Cblog%2Csource%2Cmultimedia%2Cheadline%2Ckeywords%2Cpub_date%2Cdocument_type%2Cnews_desk%2Cbyline%2Ctype_of_material%2C_id%2Cword_count&page=123&facet_field=source%2Csection_name%2Cdocument_type%2Ctype_of_material%2Cday_of_week\n",
        "***ERROR: status_code ="
       ]
      },
      {
       "output_type": "stream",
       "stream": "stdout",
       "text": [
        " 400 !\n",
        "http://api.nytimes.com/svc/search/v2/articlesearch.json?q=%22thomas+l.+friedman%22&sort=newest&begin_date=18510918&api-key=f28d40af5370f79078fc5eb7ffd97049%3A17%3A49171679&end_date=19980505&facet_filter=true&fl=web_url%2Csnippet%2Clead_paragraph%2Cabstract%2Cprint_page%2Cblog%2Csource%2Cmultimedia%2Cheadline%2Ckeywords%2Cpub_date%2Cdocument_type%2Cnews_desk%2Cbyline%2Ctype_of_material%2C_id%2Cword_count&page=124&facet_field=source%2Csection_name%2Cdocument_type%2Ctype_of_material%2Cday_of_week\n",
        "***ERROR: status_code ="
       ]
      },
      {
       "output_type": "stream",
       "stream": "stdout",
       "text": [
        " 400 !\n",
        "http://api.nytimes.com/svc/search/v2/articlesearch.json?q=%22thomas+l.+friedman%22&sort=newest&begin_date=18510918&api-key=f28d40af5370f79078fc5eb7ffd97049%3A17%3A49171679&end_date=19980505&facet_filter=true&fl=web_url%2Csnippet%2Clead_paragraph%2Cabstract%2Cprint_page%2Cblog%2Csource%2Cmultimedia%2Cheadline%2Ckeywords%2Cpub_date%2Cdocument_type%2Cnews_desk%2Cbyline%2Ctype_of_material%2C_id%2Cword_count&page=125&facet_field=source%2Csection_name%2Cdocument_type%2Ctype_of_material%2Cday_of_week\n",
        "***ERROR: too many consecutive errors (25)!\n"
       ]
      }
     ],
     "prompt_number": 25
    },
    {
     "cell_type": "code",
     "collapsed": false,
     "input": [
      "print len(all_docs_5)\n",
      "print min(doc['pub_date'] for doc in all_docs_5)"
     ],
     "language": "python",
     "metadata": {},
     "outputs": [
      {
       "output_type": "stream",
       "stream": "stdout",
       "text": [
        "1010\n",
        "1992-09-06T00:00:00Z\n"
       ]
      }
     ],
     "prompt_number": 26
    },
    {
     "cell_type": "code",
     "collapsed": false,
     "input": [
      "all_docs_6 = hi_nyt.query_nyt_article_search('\"thomas l. friedman\"',\n",
      "                                             config['nyt_api_key'],\n",
      "                                             end_date='1992-09-05',\n",
      "                                             max_pages=1000)"
     ],
     "language": "python",
     "metadata": {},
     "outputs": [
      {
       "output_type": "stream",
       "stream": "stdout",
       "text": [
        "\n",
        "*INFO: query = \"thomas l. friedman\"\n",
        "*INFO: url = http://api.nytimes.com/svc/search/v2/articlesearch.json?q=%22thomas+l.+friedman%22&sort=newest&begin_date=18510918&api-key=f28d40af5370f79078fc5eb7ffd97049%3A17%3A49171679&end_date=19920905&facet_filter=true&fl=web_url%2Csnippet%2Clead_paragraph%2Cabstract%2Cprint_page%2Cblog%2Csource%2Cmultimedia%2Cheadline%2Ckeywords%2Cpub_date%2Cdocument_type%2Cnews_desk%2Cbyline%2Ctype_of_material%2C_id%2Cword_count&page=0&facet_field=source%2Csection_name%2Cdocument_type%2Ctype_of_material%2Cday_of_week\n",
        "*INFO: n_total_results = 1800 \n",
        "\n",
        "facet                           count \n",
        "-------------------------------------\n",
        "type_of_material..............   1800\n",
        "   News.......................   1573\n",
        "   An Analysis; News Analysis.     61\n",
        "   List.......................     57\n",
        "   An Analysis................     52\n",
        "   Series.....................      9\n",
        "source........................   1800\n",
        "   The New York Times.........   1800\n",
        "document_type.................   1800\n",
        "   article....................   1800\n",
        "section_name..................   1797\n",
        "   World......................    524\n",
        "   World; Washington..........    418\n",
        "   World; Front Page..........    192\n",
        "   World; Front Page; Washing*    177\n",
        "   Week in Review.............     62\n",
        "day_of_week...................   1800\n",
        "   Sunday.....................    435\n",
        "   Thursday...................    244\n",
        "   Wednesday..................    198\n",
        "   Friday.....................    198\n",
        "   Tuesday....................    182\n",
        "\n",
        "... n_results = 0\n",
        "... url = http://api.nytimes.com/svc/search/v2/articlesearch.json?q=%22thomas+l.+friedman%22&sort=newest&begin_date=18510918&api-key=f28d40af5370f79078fc5eb7ffd97049%3A17%3A49171679&end_date=19920905&facet_filter=true&fl=web_url%2Csnippet%2Clead_paragraph%2Cabstract%2Cprint_page%2Cblog%2Csource%2Cmultimedia%2Cheadline%2Ckeywords%2Cpub_date%2Cdocument_type%2Cnews_desk%2Cbyline%2Ctype_of_material%2C_id%2Cword_count&page=0&facet_field=source%2Csection_name%2Cdocument_type%2Ctype_of_material%2Cday_of_week\n",
        "... last_date = 1992-09-04T00:00:00Z\n",
        "\n",
        "... n_results ="
       ]
      },
      {
       "output_type": "stream",
       "stream": "stdout",
       "text": [
        " 10\n",
        "... url = http://api.nytimes.com/svc/search/v2/articlesearch.json?q=%22thomas+l.+friedman%22&sort=newest&begin_date=18510918&api-key=f28d40af5370f79078fc5eb7ffd97049%3A17%3A49171679&end_date=19920905&facet_filter=true&fl=web_url%2Csnippet%2Clead_paragraph%2Cabstract%2Cprint_page%2Cblog%2Csource%2Cmultimedia%2Cheadline%2Ckeywords%2Cpub_date%2Cdocument_type%2Cnews_desk%2Cbyline%2Ctype_of_material%2C_id%2Cword_count&page=1&facet_field=source%2Csection_name%2Cdocument_type%2Ctype_of_material%2Cday_of_week\n",
        "... last_date = 1992-07-22T00:00:00Z\n",
        "\n",
        "... n_results ="
       ]
      },
      {
       "output_type": "stream",
       "stream": "stdout",
       "text": [
        " 20\n",
        "... url = http://api.nytimes.com/svc/search/v2/articlesearch.json?q=%22thomas+l.+friedman%22&sort=newest&begin_date=18510918&api-key=f28d40af5370f79078fc5eb7ffd97049%3A17%3A49171679&end_date=19920905&facet_filter=true&fl=web_url%2Csnippet%2Clead_paragraph%2Cabstract%2Cprint_page%2Cblog%2Csource%2Cmultimedia%2Cheadline%2Ckeywords%2Cpub_date%2Cdocument_type%2Cnews_desk%2Cbyline%2Ctype_of_material%2C_id%2Cword_count&page=2&facet_field=source%2Csection_name%2Cdocument_type%2Ctype_of_material%2Cday_of_week\n",
        "... last_date = 1992-06-25T00:00:00Z\n",
        "\n",
        "... n_results ="
       ]
      },
      {
       "output_type": "stream",
       "stream": "stdout",
       "text": [
        " 30\n",
        "... url = http://api.nytimes.com/svc/search/v2/articlesearch.json?q=%22thomas+l.+friedman%22&sort=newest&begin_date=18510918&api-key=f28d40af5370f79078fc5eb7ffd97049%3A17%3A49171679&end_date=19920905&facet_filter=true&fl=web_url%2Csnippet%2Clead_paragraph%2Cabstract%2Cprint_page%2Cblog%2Csource%2Cmultimedia%2Cheadline%2Ckeywords%2Cpub_date%2Cdocument_type%2Cnews_desk%2Cbyline%2Ctype_of_material%2C_id%2Cword_count&page=3&facet_field=source%2Csection_name%2Cdocument_type%2Ctype_of_material%2Cday_of_week\n",
        "... last_date = 1992-06-11T00:00:00Z\n",
        "\n",
        "... n_results ="
       ]
      },
      {
       "output_type": "stream",
       "stream": "stdout",
       "text": [
        " 40\n",
        "... url = http://api.nytimes.com/svc/search/v2/articlesearch.json?q=%22thomas+l.+friedman%22&sort=newest&begin_date=18510918&api-key=f28d40af5370f79078fc5eb7ffd97049%3A17%3A49171679&end_date=19920905&facet_filter=true&fl=web_url%2Csnippet%2Clead_paragraph%2Cabstract%2Cprint_page%2Cblog%2Csource%2Cmultimedia%2Cheadline%2Ckeywords%2Cpub_date%2Cdocument_type%2Cnews_desk%2Cbyline%2Ctype_of_material%2C_id%2Cword_count&page=4&facet_field=source%2Csection_name%2Cdocument_type%2Ctype_of_material%2Cday_of_week\n",
        "... last_date = 1992-05-19T00:00:00Z\n",
        "\n",
        "... n_results ="
       ]
      },
      {
       "output_type": "stream",
       "stream": "stdout",
       "text": [
        " 50\n",
        "... url = http://api.nytimes.com/svc/search/v2/articlesearch.json?q=%22thomas+l.+friedman%22&sort=newest&begin_date=18510918&api-key=f28d40af5370f79078fc5eb7ffd97049%3A17%3A49171679&end_date=19920905&facet_filter=true&fl=web_url%2Csnippet%2Clead_paragraph%2Cabstract%2Cprint_page%2Cblog%2Csource%2Cmultimedia%2Cheadline%2Ckeywords%2Cpub_date%2Cdocument_type%2Cnews_desk%2Cbyline%2Ctype_of_material%2C_id%2Cword_count&page=5&facet_field=source%2Csection_name%2Cdocument_type%2Ctype_of_material%2Cday_of_week\n",
        "... last_date = 1992-04-17T00:00:00Z\n",
        "\n",
        "... n_results ="
       ]
      },
      {
       "output_type": "stream",
       "stream": "stdout",
       "text": [
        " 60\n",
        "... url = http://api.nytimes.com/svc/search/v2/articlesearch.json?q=%22thomas+l.+friedman%22&sort=newest&begin_date=18510918&api-key=f28d40af5370f79078fc5eb7ffd97049%3A17%3A49171679&end_date=19920905&facet_filter=true&fl=web_url%2Csnippet%2Clead_paragraph%2Cabstract%2Cprint_page%2Cblog%2Csource%2Cmultimedia%2Cheadline%2Ckeywords%2Cpub_date%2Cdocument_type%2Cnews_desk%2Cbyline%2Ctype_of_material%2C_id%2Cword_count&page=6&facet_field=source%2Csection_name%2Cdocument_type%2Ctype_of_material%2Cday_of_week\n",
        "... last_date = 1992-03-28T00:00:00Z\n",
        "\n",
        "... n_results ="
       ]
      },
      {
       "output_type": "stream",
       "stream": "stdout",
       "text": [
        " 70\n",
        "... url = http://api.nytimes.com/svc/search/v2/articlesearch.json?q=%22thomas+l.+friedman%22&sort=newest&begin_date=18510918&api-key=f28d40af5370f79078fc5eb7ffd97049%3A17%3A49171679&end_date=19920905&facet_filter=true&fl=web_url%2Csnippet%2Clead_paragraph%2Cabstract%2Cprint_page%2Cblog%2Csource%2Cmultimedia%2Cheadline%2Ckeywords%2Cpub_date%2Cdocument_type%2Cnews_desk%2Cbyline%2Ctype_of_material%2C_id%2Cword_count&page=7&facet_field=source%2Csection_name%2Cdocument_type%2Ctype_of_material%2Cday_of_week\n",
        "... last_date = 1992-03-10T00:00:00Z\n",
        "\n",
        "... n_results ="
       ]
      },
      {
       "output_type": "stream",
       "stream": "stdout",
       "text": [
        " 80\n",
        "... url = http://api.nytimes.com/svc/search/v2/articlesearch.json?q=%22thomas+l.+friedman%22&sort=newest&begin_date=18510918&api-key=f28d40af5370f79078fc5eb7ffd97049%3A17%3A49171679&end_date=19920905&facet_filter=true&fl=web_url%2Csnippet%2Clead_paragraph%2Cabstract%2Cprint_page%2Cblog%2Csource%2Cmultimedia%2Cheadline%2Ckeywords%2Cpub_date%2Cdocument_type%2Cnews_desk%2Cbyline%2Ctype_of_material%2C_id%2Cword_count&page=8&facet_field=source%2Csection_name%2Cdocument_type%2Ctype_of_material%2Cday_of_week\n",
        "... last_date = 1992-02-20T00:00:00Z\n",
        "\n",
        "... n_results ="
       ]
      },
      {
       "output_type": "stream",
       "stream": "stdout",
       "text": [
        " 90\n",
        "... url = http://api.nytimes.com/svc/search/v2/articlesearch.json?q=%22thomas+l.+friedman%22&sort=newest&begin_date=18510918&api-key=f28d40af5370f79078fc5eb7ffd97049%3A17%3A49171679&end_date=19920905&facet_filter=true&fl=web_url%2Csnippet%2Clead_paragraph%2Cabstract%2Cprint_page%2Cblog%2Csource%2Cmultimedia%2Cheadline%2Ckeywords%2Cpub_date%2Cdocument_type%2Cnews_desk%2Cbyline%2Ctype_of_material%2C_id%2Cword_count&page=9&facet_field=source%2Csection_name%2Cdocument_type%2Ctype_of_material%2Cday_of_week\n",
        "... last_date = 1992-02-08T00:00:00Z\n",
        "\n",
        "... n_results ="
       ]
      },
      {
       "output_type": "stream",
       "stream": "stdout",
       "text": [
        " 100\n",
        "... url = http://api.nytimes.com/svc/search/v2/articlesearch.json?q=%22thomas+l.+friedman%22&sort=newest&begin_date=18510918&api-key=f28d40af5370f79078fc5eb7ffd97049%3A17%3A49171679&end_date=19920905&facet_filter=true&fl=web_url%2Csnippet%2Clead_paragraph%2Cabstract%2Cprint_page%2Cblog%2Csource%2Cmultimedia%2Cheadline%2Ckeywords%2Cpub_date%2Cdocument_type%2Cnews_desk%2Cbyline%2Ctype_of_material%2C_id%2Cword_count&page=10&facet_field=source%2Csection_name%2Cdocument_type%2Ctype_of_material%2Cday_of_week\n",
        "... last_date = 1992-01-24T00:00:00Z\n",
        "\n",
        "... n_results ="
       ]
      },
      {
       "output_type": "stream",
       "stream": "stdout",
       "text": [
        " 110\n",
        "... url = http://api.nytimes.com/svc/search/v2/articlesearch.json?q=%22thomas+l.+friedman%22&sort=newest&begin_date=18510918&api-key=f28d40af5370f79078fc5eb7ffd97049%3A17%3A49171679&end_date=19920905&facet_filter=true&fl=web_url%2Csnippet%2Clead_paragraph%2Cabstract%2Cprint_page%2Cblog%2Csource%2Cmultimedia%2Cheadline%2Ckeywords%2Cpub_date%2Cdocument_type%2Cnews_desk%2Cbyline%2Ctype_of_material%2C_id%2Cword_count&page=11&facet_field=source%2Csection_name%2Cdocument_type%2Ctype_of_material%2Cday_of_week\n",
        "... last_date = 1992-01-08T00:00:00Z\n",
        "\n",
        "... n_results ="
       ]
      },
      {
       "output_type": "stream",
       "stream": "stdout",
       "text": [
        " 120\n",
        "... url = http://api.nytimes.com/svc/search/v2/articlesearch.json?q=%22thomas+l.+friedman%22&sort=newest&begin_date=18510918&api-key=f28d40af5370f79078fc5eb7ffd97049%3A17%3A49171679&end_date=19920905&facet_filter=true&fl=web_url%2Csnippet%2Clead_paragraph%2Cabstract%2Cprint_page%2Cblog%2Csource%2Cmultimedia%2Cheadline%2Ckeywords%2Cpub_date%2Cdocument_type%2Cnews_desk%2Cbyline%2Ctype_of_material%2C_id%2Cword_count&page=12&facet_field=source%2Csection_name%2Cdocument_type%2Ctype_of_material%2Cday_of_week\n",
        "... last_date = 1991-12-13T00:00:00Z\n",
        "\n",
        "... n_results ="
       ]
      },
      {
       "output_type": "stream",
       "stream": "stdout",
       "text": [
        " 130\n",
        "... url = http://api.nytimes.com/svc/search/v2/articlesearch.json?q=%22thomas+l.+friedman%22&sort=newest&begin_date=18510918&api-key=f28d40af5370f79078fc5eb7ffd97049%3A17%3A49171679&end_date=19920905&facet_filter=true&fl=web_url%2Csnippet%2Clead_paragraph%2Cabstract%2Cprint_page%2Cblog%2Csource%2Cmultimedia%2Cheadline%2Ckeywords%2Cpub_date%2Cdocument_type%2Cnews_desk%2Cbyline%2Ctype_of_material%2C_id%2Cword_count&page=13&facet_field=source%2Csection_name%2Cdocument_type%2Ctype_of_material%2Cday_of_week\n",
        "... last_date = 1991-11-22T00:00:00Z\n",
        "\n",
        "... n_results ="
       ]
      },
      {
       "output_type": "stream",
       "stream": "stdout",
       "text": [
        " 140\n",
        "... url = http://api.nytimes.com/svc/search/v2/articlesearch.json?q=%22thomas+l.+friedman%22&sort=newest&begin_date=18510918&api-key=f28d40af5370f79078fc5eb7ffd97049%3A17%3A49171679&end_date=19920905&facet_filter=true&fl=web_url%2Csnippet%2Clead_paragraph%2Cabstract%2Cprint_page%2Cblog%2Csource%2Cmultimedia%2Cheadline%2Ckeywords%2Cpub_date%2Cdocument_type%2Cnews_desk%2Cbyline%2Ctype_of_material%2C_id%2Cword_count&page=14&facet_field=source%2Csection_name%2Cdocument_type%2Ctype_of_material%2Cday_of_week\n",
        "... last_date = 1991-11-04T00:00:00Z\n",
        "\n",
        "... n_results ="
       ]
      },
      {
       "output_type": "stream",
       "stream": "stdout",
       "text": [
        " 150\n",
        "... url = http://api.nytimes.com/svc/search/v2/articlesearch.json?q=%22thomas+l.+friedman%22&sort=newest&begin_date=18510918&api-key=f28d40af5370f79078fc5eb7ffd97049%3A17%3A49171679&end_date=19920905&facet_filter=true&fl=web_url%2Csnippet%2Clead_paragraph%2Cabstract%2Cprint_page%2Cblog%2Csource%2Cmultimedia%2Cheadline%2Ckeywords%2Cpub_date%2Cdocument_type%2Cnews_desk%2Cbyline%2Ctype_of_material%2C_id%2Cword_count&page=15&facet_field=source%2Csection_name%2Cdocument_type%2Ctype_of_material%2Cday_of_week\n",
        "... last_date = 1991-10-20T00:00:00Z\n",
        "\n",
        "... n_results ="
       ]
      },
      {
       "output_type": "stream",
       "stream": "stdout",
       "text": [
        " 160\n",
        "... url = http://api.nytimes.com/svc/search/v2/articlesearch.json?q=%22thomas+l.+friedman%22&sort=newest&begin_date=18510918&api-key=f28d40af5370f79078fc5eb7ffd97049%3A17%3A49171679&end_date=19920905&facet_filter=true&fl=web_url%2Csnippet%2Clead_paragraph%2Cabstract%2Cprint_page%2Cblog%2Csource%2Cmultimedia%2Cheadline%2Ckeywords%2Cpub_date%2Cdocument_type%2Cnews_desk%2Cbyline%2Ctype_of_material%2C_id%2Cword_count&page=16&facet_field=source%2Csection_name%2Cdocument_type%2Ctype_of_material%2Cday_of_week\n",
        "... last_date = 1991-10-08T00:00:00Z\n",
        "\n",
        "... n_results ="
       ]
      },
      {
       "output_type": "stream",
       "stream": "stdout",
       "text": [
        " 170\n",
        "... url = http://api.nytimes.com/svc/search/v2/articlesearch.json?q=%22thomas+l.+friedman%22&sort=newest&begin_date=18510918&api-key=f28d40af5370f79078fc5eb7ffd97049%3A17%3A49171679&end_date=19920905&facet_filter=true&fl=web_url%2Csnippet%2Clead_paragraph%2Cabstract%2Cprint_page%2Cblog%2Csource%2Cmultimedia%2Cheadline%2Ckeywords%2Cpub_date%2Cdocument_type%2Cnews_desk%2Cbyline%2Ctype_of_material%2C_id%2Cword_count&page=17&facet_field=source%2Csection_name%2Cdocument_type%2Ctype_of_material%2Cday_of_week\n",
        "... last_date = 1991-09-21T00:00:00Z\n",
        "\n",
        "... n_results ="
       ]
      },
      {
       "output_type": "stream",
       "stream": "stdout",
       "text": [
        " 180\n",
        "... url = http://api.nytimes.com/svc/search/v2/articlesearch.json?q=%22thomas+l.+friedman%22&sort=newest&begin_date=18510918&api-key=f28d40af5370f79078fc5eb7ffd97049%3A17%3A49171679&end_date=19920905&facet_filter=true&fl=web_url%2Csnippet%2Clead_paragraph%2Cabstract%2Cprint_page%2Cblog%2Csource%2Cmultimedia%2Cheadline%2Ckeywords%2Cpub_date%2Cdocument_type%2Cnews_desk%2Cbyline%2Ctype_of_material%2C_id%2Cword_count&page=18&facet_field=source%2Csection_name%2Cdocument_type%2Ctype_of_material%2Cday_of_week\n",
        "... last_date = 1991-09-08T00:00:00Z\n",
        "\n",
        "... n_results ="
       ]
      },
      {
       "output_type": "stream",
       "stream": "stdout",
       "text": [
        " 190\n",
        "... url = http://api.nytimes.com/svc/search/v2/articlesearch.json?q=%22thomas+l.+friedman%22&sort=newest&begin_date=18510918&api-key=f28d40af5370f79078fc5eb7ffd97049%3A17%3A49171679&end_date=19920905&facet_filter=true&fl=web_url%2Csnippet%2Clead_paragraph%2Cabstract%2Cprint_page%2Cblog%2Csource%2Cmultimedia%2Cheadline%2Ckeywords%2Cpub_date%2Cdocument_type%2Cnews_desk%2Cbyline%2Ctype_of_material%2C_id%2Cword_count&page=19&facet_field=source%2Csection_name%2Cdocument_type%2Ctype_of_material%2Cday_of_week\n",
        "... last_date = 1991-07-25T00:00:00Z\n",
        "\n",
        "... n_results ="
       ]
      },
      {
       "output_type": "stream",
       "stream": "stdout",
       "text": [
        " 200\n",
        "... url = http://api.nytimes.com/svc/search/v2/articlesearch.json?q=%22thomas+l.+friedman%22&sort=newest&begin_date=18510918&api-key=f28d40af5370f79078fc5eb7ffd97049%3A17%3A49171679&end_date=19920905&facet_filter=true&fl=web_url%2Csnippet%2Clead_paragraph%2Cabstract%2Cprint_page%2Cblog%2Csource%2Cmultimedia%2Cheadline%2Ckeywords%2Cpub_date%2Cdocument_type%2Cnews_desk%2Cbyline%2Ctype_of_material%2C_id%2Cword_count&page=20&facet_field=source%2Csection_name%2Cdocument_type%2Ctype_of_material%2Cday_of_week\n",
        "... last_date = 1991-07-17T00:00:00Z\n",
        "\n",
        "... n_results ="
       ]
      },
      {
       "output_type": "stream",
       "stream": "stdout",
       "text": [
        " 210\n",
        "... url = http://api.nytimes.com/svc/search/v2/articlesearch.json?q=%22thomas+l.+friedman%22&sort=newest&begin_date=18510918&api-key=f28d40af5370f79078fc5eb7ffd97049%3A17%3A49171679&end_date=19920905&facet_filter=true&fl=web_url%2Csnippet%2Clead_paragraph%2Cabstract%2Cprint_page%2Cblog%2Csource%2Cmultimedia%2Cheadline%2Ckeywords%2Cpub_date%2Cdocument_type%2Cnews_desk%2Cbyline%2Ctype_of_material%2C_id%2Cword_count&page=21&facet_field=source%2Csection_name%2Cdocument_type%2Ctype_of_material%2Cday_of_week\n",
        "... last_date = 1991-07-04T00:00:00Z\n",
        "\n",
        "... n_results ="
       ]
      },
      {
       "output_type": "stream",
       "stream": "stdout",
       "text": [
        " 220\n",
        "... url = http://api.nytimes.com/svc/search/v2/articlesearch.json?q=%22thomas+l.+friedman%22&sort=newest&begin_date=18510918&api-key=f28d40af5370f79078fc5eb7ffd97049%3A17%3A49171679&end_date=19920905&facet_filter=true&fl=web_url%2Csnippet%2Clead_paragraph%2Cabstract%2Cprint_page%2Cblog%2Csource%2Cmultimedia%2Cheadline%2Ckeywords%2Cpub_date%2Cdocument_type%2Cnews_desk%2Cbyline%2Ctype_of_material%2C_id%2Cword_count&page=22&facet_field=source%2Csection_name%2Cdocument_type%2Ctype_of_material%2Cday_of_week\n",
        "... last_date = 1991-06-19T00:00:00Z\n",
        "\n",
        "... n_results ="
       ]
      },
      {
       "output_type": "stream",
       "stream": "stdout",
       "text": [
        " 230\n",
        "... url = http://api.nytimes.com/svc/search/v2/articlesearch.json?q=%22thomas+l.+friedman%22&sort=newest&begin_date=18510918&api-key=f28d40af5370f79078fc5eb7ffd97049%3A17%3A49171679&end_date=19920905&facet_filter=true&fl=web_url%2Csnippet%2Clead_paragraph%2Cabstract%2Cprint_page%2Cblog%2Csource%2Cmultimedia%2Cheadline%2Ckeywords%2Cpub_date%2Cdocument_type%2Cnews_desk%2Cbyline%2Ctype_of_material%2C_id%2Cword_count&page=23&facet_field=source%2Csection_name%2Cdocument_type%2Ctype_of_material%2Cday_of_week\n",
        "... last_date = 1991-06-06T00:00:00Z\n",
        "\n",
        "... n_results ="
       ]
      },
      {
       "output_type": "stream",
       "stream": "stdout",
       "text": [
        " 240\n",
        "... url = http://api.nytimes.com/svc/search/v2/articlesearch.json?q=%22thomas+l.+friedman%22&sort=newest&begin_date=18510918&api-key=f28d40af5370f79078fc5eb7ffd97049%3A17%3A49171679&end_date=19920905&facet_filter=true&fl=web_url%2Csnippet%2Clead_paragraph%2Cabstract%2Cprint_page%2Cblog%2Csource%2Cmultimedia%2Cheadline%2Ckeywords%2Cpub_date%2Cdocument_type%2Cnews_desk%2Cbyline%2Ctype_of_material%2C_id%2Cword_count&page=24&facet_field=source%2Csection_name%2Cdocument_type%2Ctype_of_material%2Cday_of_week\n",
        "... last_date = 1991-05-24T00:00:00Z\n",
        "\n",
        "... n_results ="
       ]
      },
      {
       "output_type": "stream",
       "stream": "stdout",
       "text": [
        " 250\n",
        "... url = http://api.nytimes.com/svc/search/v2/articlesearch.json?q=%22thomas+l.+friedman%22&sort=newest&begin_date=18510918&api-key=f28d40af5370f79078fc5eb7ffd97049%3A17%3A49171679&end_date=19920905&facet_filter=true&fl=web_url%2Csnippet%2Clead_paragraph%2Cabstract%2Cprint_page%2Cblog%2Csource%2Cmultimedia%2Cheadline%2Ckeywords%2Cpub_date%2Cdocument_type%2Cnews_desk%2Cbyline%2Ctype_of_material%2C_id%2Cword_count&page=25&facet_field=source%2Csection_name%2Cdocument_type%2Ctype_of_material%2Cday_of_week\n",
        "... last_date = 1991-05-12T00:00:00Z\n",
        "\n",
        "... n_results ="
       ]
      },
      {
       "output_type": "stream",
       "stream": "stdout",
       "text": [
        " 260\n",
        "... url = http://api.nytimes.com/svc/search/v2/articlesearch.json?q=%22thomas+l.+friedman%22&sort=newest&begin_date=18510918&api-key=f28d40af5370f79078fc5eb7ffd97049%3A17%3A49171679&end_date=19920905&facet_filter=true&fl=web_url%2Csnippet%2Clead_paragraph%2Cabstract%2Cprint_page%2Cblog%2Csource%2Cmultimedia%2Cheadline%2Ckeywords%2Cpub_date%2Cdocument_type%2Cnews_desk%2Cbyline%2Ctype_of_material%2C_id%2Cword_count&page=26&facet_field=source%2Csection_name%2Cdocument_type%2Ctype_of_material%2Cday_of_week\n",
        "... last_date = 1991-04-26T00:00:00Z\n",
        "\n",
        "... n_results ="
       ]
      },
      {
       "output_type": "stream",
       "stream": "stdout",
       "text": [
        " 270\n",
        "... url = http://api.nytimes.com/svc/search/v2/articlesearch.json?q=%22thomas+l.+friedman%22&sort=newest&begin_date=18510918&api-key=f28d40af5370f79078fc5eb7ffd97049%3A17%3A49171679&end_date=19920905&facet_filter=true&fl=web_url%2Csnippet%2Clead_paragraph%2Cabstract%2Cprint_page%2Cblog%2Csource%2Cmultimedia%2Cheadline%2Ckeywords%2Cpub_date%2Cdocument_type%2Cnews_desk%2Cbyline%2Ctype_of_material%2C_id%2Cword_count&page=27&facet_field=source%2Csection_name%2Cdocument_type%2Ctype_of_material%2Cday_of_week\n",
        "... last_date = 1991-04-14T00:00:00Z\n",
        "\n",
        "... n_results ="
       ]
      },
      {
       "output_type": "stream",
       "stream": "stdout",
       "text": [
        " 280\n",
        "... url = http://api.nytimes.com/svc/search/v2/articlesearch.json?q=%22thomas+l.+friedman%22&sort=newest&begin_date=18510918&api-key=f28d40af5370f79078fc5eb7ffd97049%3A17%3A49171679&end_date=19920905&facet_filter=true&fl=web_url%2Csnippet%2Clead_paragraph%2Cabstract%2Cprint_page%2Cblog%2Csource%2Cmultimedia%2Cheadline%2Ckeywords%2Cpub_date%2Cdocument_type%2Cnews_desk%2Cbyline%2Ctype_of_material%2C_id%2Cword_count&page=28&facet_field=source%2Csection_name%2Cdocument_type%2Ctype_of_material%2Cday_of_week\n",
        "... last_date = 1991-03-31T00:00:00Z\n",
        "\n",
        "... n_results ="
       ]
      },
      {
       "output_type": "stream",
       "stream": "stdout",
       "text": [
        " 290\n",
        "... url = http://api.nytimes.com/svc/search/v2/articlesearch.json?q=%22thomas+l.+friedman%22&sort=newest&begin_date=18510918&api-key=f28d40af5370f79078fc5eb7ffd97049%3A17%3A49171679&end_date=19920905&facet_filter=true&fl=web_url%2Csnippet%2Clead_paragraph%2Cabstract%2Cprint_page%2Cblog%2Csource%2Cmultimedia%2Cheadline%2Ckeywords%2Cpub_date%2Cdocument_type%2Cnews_desk%2Cbyline%2Ctype_of_material%2C_id%2Cword_count&page=29&facet_field=source%2Csection_name%2Cdocument_type%2Ctype_of_material%2Cday_of_week\n",
        "... last_date = 1991-03-15T00:00:00Z\n",
        "\n",
        "... n_results ="
       ]
      },
      {
       "output_type": "stream",
       "stream": "stdout",
       "text": [
        " 300\n",
        "... url = http://api.nytimes.com/svc/search/v2/articlesearch.json?q=%22thomas+l.+friedman%22&sort=newest&begin_date=18510918&api-key=f28d40af5370f79078fc5eb7ffd97049%3A17%3A49171679&end_date=19920905&facet_filter=true&fl=web_url%2Csnippet%2Clead_paragraph%2Cabstract%2Cprint_page%2Cblog%2Csource%2Cmultimedia%2Cheadline%2Ckeywords%2Cpub_date%2Cdocument_type%2Cnews_desk%2Cbyline%2Ctype_of_material%2C_id%2Cword_count&page=30&facet_field=source%2Csection_name%2Cdocument_type%2Ctype_of_material%2Cday_of_week\n",
        "... last_date = 1991-03-03T00:00:00Z\n",
        "\n",
        "... n_results ="
       ]
      },
      {
       "output_type": "stream",
       "stream": "stdout",
       "text": [
        " 310\n",
        "... url = http://api.nytimes.com/svc/search/v2/articlesearch.json?q=%22thomas+l.+friedman%22&sort=newest&begin_date=18510918&api-key=f28d40af5370f79078fc5eb7ffd97049%3A17%3A49171679&end_date=19920905&facet_filter=true&fl=web_url%2Csnippet%2Clead_paragraph%2Cabstract%2Cprint_page%2Cblog%2Csource%2Cmultimedia%2Cheadline%2Ckeywords%2Cpub_date%2Cdocument_type%2Cnews_desk%2Cbyline%2Ctype_of_material%2C_id%2Cword_count&page=31&facet_field=source%2Csection_name%2Cdocument_type%2Ctype_of_material%2Cday_of_week\n",
        "... last_date = 1991-02-20T00:00:00Z\n",
        "\n",
        "... n_results ="
       ]
      },
      {
       "output_type": "stream",
       "stream": "stdout",
       "text": [
        " 320\n",
        "... url = http://api.nytimes.com/svc/search/v2/articlesearch.json?q=%22thomas+l.+friedman%22&sort=newest&begin_date=18510918&api-key=f28d40af5370f79078fc5eb7ffd97049%3A17%3A49171679&end_date=19920905&facet_filter=true&fl=web_url%2Csnippet%2Clead_paragraph%2Cabstract%2Cprint_page%2Cblog%2Csource%2Cmultimedia%2Cheadline%2Ckeywords%2Cpub_date%2Cdocument_type%2Cnews_desk%2Cbyline%2Ctype_of_material%2C_id%2Cword_count&page=32&facet_field=source%2Csection_name%2Cdocument_type%2Ctype_of_material%2Cday_of_week\n",
        "... last_date = 1991-02-07T00:00:00Z\n",
        "\n",
        "... n_results ="
       ]
      },
      {
       "output_type": "stream",
       "stream": "stdout",
       "text": [
        " 330\n",
        "... url = http://api.nytimes.com/svc/search/v2/articlesearch.json?q=%22thomas+l.+friedman%22&sort=newest&begin_date=18510918&api-key=f28d40af5370f79078fc5eb7ffd97049%3A17%3A49171679&end_date=19920905&facet_filter=true&fl=web_url%2Csnippet%2Clead_paragraph%2Cabstract%2Cprint_page%2Cblog%2Csource%2Cmultimedia%2Cheadline%2Ckeywords%2Cpub_date%2Cdocument_type%2Cnews_desk%2Cbyline%2Ctype_of_material%2C_id%2Cword_count&page=33&facet_field=source%2Csection_name%2Cdocument_type%2Ctype_of_material%2Cday_of_week\n",
        "... last_date = 1991-01-27T00:00:00Z\n",
        "\n",
        "... n_results ="
       ]
      },
      {
       "output_type": "stream",
       "stream": "stdout",
       "text": [
        " 340\n",
        "... url = http://api.nytimes.com/svc/search/v2/articlesearch.json?q=%22thomas+l.+friedman%22&sort=newest&begin_date=18510918&api-key=f28d40af5370f79078fc5eb7ffd97049%3A17%3A49171679&end_date=19920905&facet_filter=true&fl=web_url%2Csnippet%2Clead_paragraph%2Cabstract%2Cprint_page%2Cblog%2Csource%2Cmultimedia%2Cheadline%2Ckeywords%2Cpub_date%2Cdocument_type%2Cnews_desk%2Cbyline%2Ctype_of_material%2C_id%2Cword_count&page=34&facet_field=source%2Csection_name%2Cdocument_type%2Ctype_of_material%2Cday_of_week\n",
        "... last_date = 1991-01-13T00:00:00Z\n",
        "\n",
        "... n_results ="
       ]
      },
      {
       "output_type": "stream",
       "stream": "stdout",
       "text": [
        " 350\n",
        "... url = http://api.nytimes.com/svc/search/v2/articlesearch.json?q=%22thomas+l.+friedman%22&sort=newest&begin_date=18510918&api-key=f28d40af5370f79078fc5eb7ffd97049%3A17%3A49171679&end_date=19920905&facet_filter=true&fl=web_url%2Csnippet%2Clead_paragraph%2Cabstract%2Cprint_page%2Cblog%2Csource%2Cmultimedia%2Cheadline%2Ckeywords%2Cpub_date%2Cdocument_type%2Cnews_desk%2Cbyline%2Ctype_of_material%2C_id%2Cword_count&page=35&facet_field=source%2Csection_name%2Cdocument_type%2Ctype_of_material%2Cday_of_week\n",
        "... last_date = 1991-01-06T00:00:00Z\n",
        "\n",
        "... n_results ="
       ]
      },
      {
       "output_type": "stream",
       "stream": "stdout",
       "text": [
        " 360\n",
        "... url = http://api.nytimes.com/svc/search/v2/articlesearch.json?q=%22thomas+l.+friedman%22&sort=newest&begin_date=18510918&api-key=f28d40af5370f79078fc5eb7ffd97049%3A17%3A49171679&end_date=19920905&facet_filter=true&fl=web_url%2Csnippet%2Clead_paragraph%2Cabstract%2Cprint_page%2Cblog%2Csource%2Cmultimedia%2Cheadline%2Ckeywords%2Cpub_date%2Cdocument_type%2Cnews_desk%2Cbyline%2Ctype_of_material%2C_id%2Cword_count&page=36&facet_field=source%2Csection_name%2Cdocument_type%2Ctype_of_material%2Cday_of_week\n",
        "... last_date = 1990-12-17T00:00:00Z\n",
        "\n",
        "... n_results ="
       ]
      },
      {
       "output_type": "stream",
       "stream": "stdout",
       "text": [
        " 370\n",
        "... url = http://api.nytimes.com/svc/search/v2/articlesearch.json?q=%22thomas+l.+friedman%22&sort=newest&begin_date=18510918&api-key=f28d40af5370f79078fc5eb7ffd97049%3A17%3A49171679&end_date=19920905&facet_filter=true&fl=web_url%2Csnippet%2Clead_paragraph%2Cabstract%2Cprint_page%2Cblog%2Csource%2Cmultimedia%2Cheadline%2Ckeywords%2Cpub_date%2Cdocument_type%2Cnews_desk%2Cbyline%2Ctype_of_material%2C_id%2Cword_count&page=37&facet_field=source%2Csection_name%2Cdocument_type%2Ctype_of_material%2Cday_of_week\n",
        "... last_date = 1990-12-07T00:00:00Z\n",
        "\n",
        "... n_results ="
       ]
      },
      {
       "output_type": "stream",
       "stream": "stdout",
       "text": [
        " 380\n",
        "... url = http://api.nytimes.com/svc/search/v2/articlesearch.json?q=%22thomas+l.+friedman%22&sort=newest&begin_date=18510918&api-key=f28d40af5370f79078fc5eb7ffd97049%3A17%3A49171679&end_date=19920905&facet_filter=true&fl=web_url%2Csnippet%2Clead_paragraph%2Cabstract%2Cprint_page%2Cblog%2Csource%2Cmultimedia%2Cheadline%2Ckeywords%2Cpub_date%2Cdocument_type%2Cnews_desk%2Cbyline%2Ctype_of_material%2C_id%2Cword_count&page=38&facet_field=source%2Csection_name%2Cdocument_type%2Ctype_of_material%2Cday_of_week\n",
        "... last_date = 1990-11-18T00:00:00Z\n",
        "\n",
        "... n_results ="
       ]
      },
      {
       "output_type": "stream",
       "stream": "stdout",
       "text": [
        " 390\n",
        "... url = http://api.nytimes.com/svc/search/v2/articlesearch.json?q=%22thomas+l.+friedman%22&sort=newest&begin_date=18510918&api-key=f28d40af5370f79078fc5eb7ffd97049%3A17%3A49171679&end_date=19920905&facet_filter=true&fl=web_url%2Csnippet%2Clead_paragraph%2Cabstract%2Cprint_page%2Cblog%2Csource%2Cmultimedia%2Cheadline%2Ckeywords%2Cpub_date%2Cdocument_type%2Cnews_desk%2Cbyline%2Ctype_of_material%2C_id%2Cword_count&page=39&facet_field=source%2Csection_name%2Cdocument_type%2Ctype_of_material%2Cday_of_week\n",
        "... last_date = 1990-11-06T00:00:00Z\n",
        "\n",
        "... n_results ="
       ]
      },
      {
       "output_type": "stream",
       "stream": "stdout",
       "text": [
        " 400\n",
        "... url = http://api.nytimes.com/svc/search/v2/articlesearch.json?q=%22thomas+l.+friedman%22&sort=newest&begin_date=18510918&api-key=f28d40af5370f79078fc5eb7ffd97049%3A17%3A49171679&end_date=19920905&facet_filter=true&fl=web_url%2Csnippet%2Clead_paragraph%2Cabstract%2Cprint_page%2Cblog%2Csource%2Cmultimedia%2Cheadline%2Ckeywords%2Cpub_date%2Cdocument_type%2Cnews_desk%2Cbyline%2Ctype_of_material%2C_id%2Cword_count&page=40&facet_field=source%2Csection_name%2Cdocument_type%2Ctype_of_material%2Cday_of_week\n",
        "... last_date = 1990-10-21T00:00:00Z\n",
        "\n",
        "... n_results ="
       ]
      },
      {
       "output_type": "stream",
       "stream": "stdout",
       "text": [
        " 410\n",
        "... url = http://api.nytimes.com/svc/search/v2/articlesearch.json?q=%22thomas+l.+friedman%22&sort=newest&begin_date=18510918&api-key=f28d40af5370f79078fc5eb7ffd97049%3A17%3A49171679&end_date=19920905&facet_filter=true&fl=web_url%2Csnippet%2Clead_paragraph%2Cabstract%2Cprint_page%2Cblog%2Csource%2Cmultimedia%2Cheadline%2Ckeywords%2Cpub_date%2Cdocument_type%2Cnews_desk%2Cbyline%2Ctype_of_material%2C_id%2Cword_count&page=41&facet_field=source%2Csection_name%2Cdocument_type%2Ctype_of_material%2Cday_of_week\n",
        "... last_date = 1990-10-10T00:00:00Z\n",
        "\n",
        "... n_results ="
       ]
      },
      {
       "output_type": "stream",
       "stream": "stdout",
       "text": [
        " 420\n",
        "... url = http://api.nytimes.com/svc/search/v2/articlesearch.json?q=%22thomas+l.+friedman%22&sort=newest&begin_date=18510918&api-key=f28d40af5370f79078fc5eb7ffd97049%3A17%3A49171679&end_date=19920905&facet_filter=true&fl=web_url%2Csnippet%2Clead_paragraph%2Cabstract%2Cprint_page%2Cblog%2Csource%2Cmultimedia%2Cheadline%2Ckeywords%2Cpub_date%2Cdocument_type%2Cnews_desk%2Cbyline%2Ctype_of_material%2C_id%2Cword_count&page=42&facet_field=source%2Csection_name%2Cdocument_type%2Ctype_of_material%2Cday_of_week\n",
        "... last_date = 1990-09-26T00:00:00Z\n",
        "\n",
        "... n_results ="
       ]
      },
      {
       "output_type": "stream",
       "stream": "stdout",
       "text": [
        " 430\n",
        "... url = http://api.nytimes.com/svc/search/v2/articlesearch.json?q=%22thomas+l.+friedman%22&sort=newest&begin_date=18510918&api-key=f28d40af5370f79078fc5eb7ffd97049%3A17%3A49171679&end_date=19920905&facet_filter=true&fl=web_url%2Csnippet%2Clead_paragraph%2Cabstract%2Cprint_page%2Cblog%2Csource%2Cmultimedia%2Cheadline%2Ckeywords%2Cpub_date%2Cdocument_type%2Cnews_desk%2Cbyline%2Ctype_of_material%2C_id%2Cword_count&page=43&facet_field=source%2Csection_name%2Cdocument_type%2Ctype_of_material%2Cday_of_week\n",
        "... last_date = 1990-09-13T00:00:00Z\n",
        "\n",
        "... n_results ="
       ]
      },
      {
       "output_type": "stream",
       "stream": "stdout",
       "text": [
        " 440\n",
        "... url = http://api.nytimes.com/svc/search/v2/articlesearch.json?q=%22thomas+l.+friedman%22&sort=newest&begin_date=18510918&api-key=f28d40af5370f79078fc5eb7ffd97049%3A17%3A49171679&end_date=19920905&facet_filter=true&fl=web_url%2Csnippet%2Clead_paragraph%2Cabstract%2Cprint_page%2Cblog%2Csource%2Cmultimedia%2Cheadline%2Ckeywords%2Cpub_date%2Cdocument_type%2Cnews_desk%2Cbyline%2Ctype_of_material%2C_id%2Cword_count&page=44&facet_field=source%2Csection_name%2Cdocument_type%2Ctype_of_material%2Cday_of_week\n",
        "... last_date = 1990-09-06T00:00:00Z\n",
        "\n",
        "... n_results ="
       ]
      },
      {
       "output_type": "stream",
       "stream": "stdout",
       "text": [
        " 450\n",
        "... url = http://api.nytimes.com/svc/search/v2/articlesearch.json?q=%22thomas+l.+friedman%22&sort=newest&begin_date=18510918&api-key=f28d40af5370f79078fc5eb7ffd97049%3A17%3A49171679&end_date=19920905&facet_filter=true&fl=web_url%2Csnippet%2Clead_paragraph%2Cabstract%2Cprint_page%2Cblog%2Csource%2Cmultimedia%2Cheadline%2Ckeywords%2Cpub_date%2Cdocument_type%2Cnews_desk%2Cbyline%2Ctype_of_material%2C_id%2Cword_count&page=45&facet_field=source%2Csection_name%2Cdocument_type%2Ctype_of_material%2Cday_of_week\n",
        "... last_date = 1990-08-14T00:00:00Z\n",
        "\n",
        "... n_results ="
       ]
      },
      {
       "output_type": "stream",
       "stream": "stdout",
       "text": [
        " 460\n",
        "... url = http://api.nytimes.com/svc/search/v2/articlesearch.json?q=%22thomas+l.+friedman%22&sort=newest&begin_date=18510918&api-key=f28d40af5370f79078fc5eb7ffd97049%3A17%3A49171679&end_date=19920905&facet_filter=true&fl=web_url%2Csnippet%2Clead_paragraph%2Cabstract%2Cprint_page%2Cblog%2Csource%2Cmultimedia%2Cheadline%2Ckeywords%2Cpub_date%2Cdocument_type%2Cnews_desk%2Cbyline%2Ctype_of_material%2C_id%2Cword_count&page=46&facet_field=source%2Csection_name%2Cdocument_type%2Ctype_of_material%2Cday_of_week\n",
        "... last_date = 1990-08-05T00:00:00Z\n",
        "\n",
        "... n_results ="
       ]
      },
      {
       "output_type": "stream",
       "stream": "stdout",
       "text": [
        " 470\n",
        "... url = http://api.nytimes.com/svc/search/v2/articlesearch.json?q=%22thomas+l.+friedman%22&sort=newest&begin_date=18510918&api-key=f28d40af5370f79078fc5eb7ffd97049%3A17%3A49171679&end_date=19920905&facet_filter=true&fl=web_url%2Csnippet%2Clead_paragraph%2Cabstract%2Cprint_page%2Cblog%2Csource%2Cmultimedia%2Cheadline%2Ckeywords%2Cpub_date%2Cdocument_type%2Cnews_desk%2Cbyline%2Ctype_of_material%2C_id%2Cword_count&page=47&facet_field=source%2Csection_name%2Cdocument_type%2Ctype_of_material%2Cday_of_week\n",
        "... last_date = 1990-07-13T00:00:00Z\n",
        "\n",
        "... n_results ="
       ]
      },
      {
       "output_type": "stream",
       "stream": "stdout",
       "text": [
        " 480\n",
        "... url = http://api.nytimes.com/svc/search/v2/articlesearch.json?q=%22thomas+l.+friedman%22&sort=newest&begin_date=18510918&api-key=f28d40af5370f79078fc5eb7ffd97049%3A17%3A49171679&end_date=19920905&facet_filter=true&fl=web_url%2Csnippet%2Clead_paragraph%2Cabstract%2Cprint_page%2Cblog%2Csource%2Cmultimedia%2Cheadline%2Ckeywords%2Cpub_date%2Cdocument_type%2Cnews_desk%2Cbyline%2Ctype_of_material%2C_id%2Cword_count&page=48&facet_field=source%2Csection_name%2Cdocument_type%2Ctype_of_material%2Cday_of_week\n",
        "... last_date = 1990-06-22T00:00:00Z\n",
        "\n",
        "... n_results ="
       ]
      },
      {
       "output_type": "stream",
       "stream": "stdout",
       "text": [
        " 490\n",
        "... url = http://api.nytimes.com/svc/search/v2/articlesearch.json?q=%22thomas+l.+friedman%22&sort=newest&begin_date=18510918&api-key=f28d40af5370f79078fc5eb7ffd97049%3A17%3A49171679&end_date=19920905&facet_filter=true&fl=web_url%2Csnippet%2Clead_paragraph%2Cabstract%2Cprint_page%2Cblog%2Csource%2Cmultimedia%2Cheadline%2Ckeywords%2Cpub_date%2Cdocument_type%2Cnews_desk%2Cbyline%2Ctype_of_material%2C_id%2Cword_count&page=49&facet_field=source%2Csection_name%2Cdocument_type%2Ctype_of_material%2Cday_of_week\n",
        "... last_date = 1990-06-06T00:00:00Z\n",
        "\n",
        "... n_results ="
       ]
      },
      {
       "output_type": "stream",
       "stream": "stdout",
       "text": [
        " 500\n",
        "... url = http://api.nytimes.com/svc/search/v2/articlesearch.json?q=%22thomas+l.+friedman%22&sort=newest&begin_date=18510918&api-key=f28d40af5370f79078fc5eb7ffd97049%3A17%3A49171679&end_date=19920905&facet_filter=true&fl=web_url%2Csnippet%2Clead_paragraph%2Cabstract%2Cprint_page%2Cblog%2Csource%2Cmultimedia%2Cheadline%2Ckeywords%2Cpub_date%2Cdocument_type%2Cnews_desk%2Cbyline%2Ctype_of_material%2C_id%2Cword_count&page=50&facet_field=source%2Csection_name%2Cdocument_type%2Ctype_of_material%2Cday_of_week\n",
        "... last_date = 1990-05-23T00:00:00Z\n",
        "\n",
        "... n_results ="
       ]
      },
      {
       "output_type": "stream",
       "stream": "stdout",
       "text": [
        " 510\n",
        "... url = http://api.nytimes.com/svc/search/v2/articlesearch.json?q=%22thomas+l.+friedman%22&sort=newest&begin_date=18510918&api-key=f28d40af5370f79078fc5eb7ffd97049%3A17%3A49171679&end_date=19920905&facet_filter=true&fl=web_url%2Csnippet%2Clead_paragraph%2Cabstract%2Cprint_page%2Cblog%2Csource%2Cmultimedia%2Cheadline%2Ckeywords%2Cpub_date%2Cdocument_type%2Cnews_desk%2Cbyline%2Ctype_of_material%2C_id%2Cword_count&page=51&facet_field=source%2Csection_name%2Cdocument_type%2Ctype_of_material%2Cday_of_week\n",
        "... last_date = 1990-05-10T00:00:00Z\n",
        "\n",
        "... n_results ="
       ]
      },
      {
       "output_type": "stream",
       "stream": "stdout",
       "text": [
        " 520\n",
        "... url = http://api.nytimes.com/svc/search/v2/articlesearch.json?q=%22thomas+l.+friedman%22&sort=newest&begin_date=18510918&api-key=f28d40af5370f79078fc5eb7ffd97049%3A17%3A49171679&end_date=19920905&facet_filter=true&fl=web_url%2Csnippet%2Clead_paragraph%2Cabstract%2Cprint_page%2Cblog%2Csource%2Cmultimedia%2Cheadline%2Ckeywords%2Cpub_date%2Cdocument_type%2Cnews_desk%2Cbyline%2Ctype_of_material%2C_id%2Cword_count&page=52&facet_field=source%2Csection_name%2Cdocument_type%2Ctype_of_material%2Cday_of_week\n",
        "... last_date = 1990-04-23T00:00:00Z\n",
        "\n",
        "... n_results ="
       ]
      },
      {
       "output_type": "stream",
       "stream": "stdout",
       "text": [
        " 530\n",
        "... url = http://api.nytimes.com/svc/search/v2/articlesearch.json?q=%22thomas+l.+friedman%22&sort=newest&begin_date=18510918&api-key=f28d40af5370f79078fc5eb7ffd97049%3A17%3A49171679&end_date=19920905&facet_filter=true&fl=web_url%2Csnippet%2Clead_paragraph%2Cabstract%2Cprint_page%2Cblog%2Csource%2Cmultimedia%2Cheadline%2Ckeywords%2Cpub_date%2Cdocument_type%2Cnews_desk%2Cbyline%2Ctype_of_material%2C_id%2Cword_count&page=53&facet_field=source%2Csection_name%2Cdocument_type%2Ctype_of_material%2Cday_of_week\n",
        "... last_date = 1990-03-26T00:00:00Z\n",
        "\n",
        "... n_results ="
       ]
      },
      {
       "output_type": "stream",
       "stream": "stdout",
       "text": [
        " 540\n",
        "... url = http://api.nytimes.com/svc/search/v2/articlesearch.json?q=%22thomas+l.+friedman%22&sort=newest&begin_date=18510918&api-key=f28d40af5370f79078fc5eb7ffd97049%3A17%3A49171679&end_date=19920905&facet_filter=true&fl=web_url%2Csnippet%2Clead_paragraph%2Cabstract%2Cprint_page%2Cblog%2Csource%2Cmultimedia%2Cheadline%2Ckeywords%2Cpub_date%2Cdocument_type%2Cnews_desk%2Cbyline%2Ctype_of_material%2C_id%2Cword_count&page=54&facet_field=source%2Csection_name%2Cdocument_type%2Ctype_of_material%2Cday_of_week\n",
        "... last_date = 1990-03-13T00:00:00Z\n",
        "\n",
        "... n_results ="
       ]
      },
      {
       "output_type": "stream",
       "stream": "stdout",
       "text": [
        " 550\n",
        "... url = http://api.nytimes.com/svc/search/v2/articlesearch.json?q=%22thomas+l.+friedman%22&sort=newest&begin_date=18510918&api-key=f28d40af5370f79078fc5eb7ffd97049%3A17%3A49171679&end_date=19920905&facet_filter=true&fl=web_url%2Csnippet%2Clead_paragraph%2Cabstract%2Cprint_page%2Cblog%2Csource%2Cmultimedia%2Cheadline%2Ckeywords%2Cpub_date%2Cdocument_type%2Cnews_desk%2Cbyline%2Ctype_of_material%2C_id%2Cword_count&page=55&facet_field=source%2Csection_name%2Cdocument_type%2Ctype_of_material%2Cday_of_week\n",
        "... last_date = 1990-02-22T00:00:00Z\n",
        "\n",
        "... n_results ="
       ]
      },
      {
       "output_type": "stream",
       "stream": "stdout",
       "text": [
        " 560\n",
        "... url = http://api.nytimes.com/svc/search/v2/articlesearch.json?q=%22thomas+l.+friedman%22&sort=newest&begin_date=18510918&api-key=f28d40af5370f79078fc5eb7ffd97049%3A17%3A49171679&end_date=19920905&facet_filter=true&fl=web_url%2Csnippet%2Clead_paragraph%2Cabstract%2Cprint_page%2Cblog%2Csource%2Cmultimedia%2Cheadline%2Ckeywords%2Cpub_date%2Cdocument_type%2Cnews_desk%2Cbyline%2Ctype_of_material%2C_id%2Cword_count&page=56&facet_field=source%2Csection_name%2Cdocument_type%2Ctype_of_material%2Cday_of_week\n",
        "... last_date = 1990-02-10T00:00:00Z\n",
        "\n",
        "... n_results ="
       ]
      },
      {
       "output_type": "stream",
       "stream": "stdout",
       "text": [
        " 570\n",
        "... url = http://api.nytimes.com/svc/search/v2/articlesearch.json?q=%22thomas+l.+friedman%22&sort=newest&begin_date=18510918&api-key=f28d40af5370f79078fc5eb7ffd97049%3A17%3A49171679&end_date=19920905&facet_filter=true&fl=web_url%2Csnippet%2Clead_paragraph%2Cabstract%2Cprint_page%2Cblog%2Csource%2Cmultimedia%2Cheadline%2Ckeywords%2Cpub_date%2Cdocument_type%2Cnews_desk%2Cbyline%2Ctype_of_material%2C_id%2Cword_count&page=57&facet_field=source%2Csection_name%2Cdocument_type%2Ctype_of_material%2Cday_of_week\n",
        "... last_date = 1990-02-01T00:00:00Z\n",
        "\n",
        "... n_results ="
       ]
      },
      {
       "output_type": "stream",
       "stream": "stdout",
       "text": [
        " 580\n",
        "... url = http://api.nytimes.com/svc/search/v2/articlesearch.json?q=%22thomas+l.+friedman%22&sort=newest&begin_date=18510918&api-key=f28d40af5370f79078fc5eb7ffd97049%3A17%3A49171679&end_date=19920905&facet_filter=true&fl=web_url%2Csnippet%2Clead_paragraph%2Cabstract%2Cprint_page%2Cblog%2Csource%2Cmultimedia%2Cheadline%2Ckeywords%2Cpub_date%2Cdocument_type%2Cnews_desk%2Cbyline%2Ctype_of_material%2C_id%2Cword_count&page=58&facet_field=source%2Csection_name%2Cdocument_type%2Ctype_of_material%2Cday_of_week\n",
        "... last_date = 1990-01-20T00:00:00Z\n",
        "\n",
        "... n_results ="
       ]
      },
      {
       "output_type": "stream",
       "stream": "stdout",
       "text": [
        " 590\n",
        "... url = http://api.nytimes.com/svc/search/v2/articlesearch.json?q=%22thomas+l.+friedman%22&sort=newest&begin_date=18510918&api-key=f28d40af5370f79078fc5eb7ffd97049%3A17%3A49171679&end_date=19920905&facet_filter=true&fl=web_url%2Csnippet%2Clead_paragraph%2Cabstract%2Cprint_page%2Cblog%2Csource%2Cmultimedia%2Cheadline%2Ckeywords%2Cpub_date%2Cdocument_type%2Cnews_desk%2Cbyline%2Ctype_of_material%2C_id%2Cword_count&page=59&facet_field=source%2Csection_name%2Cdocument_type%2Ctype_of_material%2Cday_of_week\n",
        "... last_date = 1989-12-26T00:00:00Z\n",
        "\n",
        "... n_results ="
       ]
      },
      {
       "output_type": "stream",
       "stream": "stdout",
       "text": [
        " 600\n",
        "... url = http://api.nytimes.com/svc/search/v2/articlesearch.json?q=%22thomas+l.+friedman%22&sort=newest&begin_date=18510918&api-key=f28d40af5370f79078fc5eb7ffd97049%3A17%3A49171679&end_date=19920905&facet_filter=true&fl=web_url%2Csnippet%2Clead_paragraph%2Cabstract%2Cprint_page%2Cblog%2Csource%2Cmultimedia%2Cheadline%2Ckeywords%2Cpub_date%2Cdocument_type%2Cnews_desk%2Cbyline%2Ctype_of_material%2C_id%2Cword_count&page=60&facet_field=source%2Csection_name%2Cdocument_type%2Ctype_of_material%2Cday_of_week\n",
        "... last_date = 1989-12-14T00:00:00Z\n",
        "\n",
        "... n_results ="
       ]
      },
      {
       "output_type": "stream",
       "stream": "stdout",
       "text": [
        " 610\n",
        "... url = http://api.nytimes.com/svc/search/v2/articlesearch.json?q=%22thomas+l.+friedman%22&sort=newest&begin_date=18510918&api-key=f28d40af5370f79078fc5eb7ffd97049%3A17%3A49171679&end_date=19920905&facet_filter=true&fl=web_url%2Csnippet%2Clead_paragraph%2Cabstract%2Cprint_page%2Cblog%2Csource%2Cmultimedia%2Cheadline%2Ckeywords%2Cpub_date%2Cdocument_type%2Cnews_desk%2Cbyline%2Ctype_of_material%2C_id%2Cword_count&page=61&facet_field=source%2Csection_name%2Cdocument_type%2Ctype_of_material%2Cday_of_week\n",
        "... last_date = 1989-12-02T00:00:00Z\n",
        "\n",
        "... n_results ="
       ]
      },
      {
       "output_type": "stream",
       "stream": "stdout",
       "text": [
        " 620\n",
        "... url = http://api.nytimes.com/svc/search/v2/articlesearch.json?q=%22thomas+l.+friedman%22&sort=newest&begin_date=18510918&api-key=f28d40af5370f79078fc5eb7ffd97049%3A17%3A49171679&end_date=19920905&facet_filter=true&fl=web_url%2Csnippet%2Clead_paragraph%2Cabstract%2Cprint_page%2Cblog%2Csource%2Cmultimedia%2Cheadline%2Ckeywords%2Cpub_date%2Cdocument_type%2Cnews_desk%2Cbyline%2Ctype_of_material%2C_id%2Cword_count&page=62&facet_field=source%2Csection_name%2Cdocument_type%2Ctype_of_material%2Cday_of_week\n",
        "... last_date = 1989-11-17T00:00:00Z\n",
        "\n",
        "... n_results ="
       ]
      },
      {
       "output_type": "stream",
       "stream": "stdout",
       "text": [
        " 630\n",
        "... url = http://api.nytimes.com/svc/search/v2/articlesearch.json?q=%22thomas+l.+friedman%22&sort=newest&begin_date=18510918&api-key=f28d40af5370f79078fc5eb7ffd97049%3A17%3A49171679&end_date=19920905&facet_filter=true&fl=web_url%2Csnippet%2Clead_paragraph%2Cabstract%2Cprint_page%2Cblog%2Csource%2Cmultimedia%2Cheadline%2Ckeywords%2Cpub_date%2Cdocument_type%2Cnews_desk%2Cbyline%2Ctype_of_material%2C_id%2Cword_count&page=63&facet_field=source%2Csection_name%2Cdocument_type%2Ctype_of_material%2Cday_of_week\n",
        "... last_date = 1989-10-27T00:00:00Z\n",
        "\n",
        "... n_results ="
       ]
      },
      {
       "output_type": "stream",
       "stream": "stdout",
       "text": [
        " 640\n",
        "... url = http://api.nytimes.com/svc/search/v2/articlesearch.json?q=%22thomas+l.+friedman%22&sort=newest&begin_date=18510918&api-key=f28d40af5370f79078fc5eb7ffd97049%3A17%3A49171679&end_date=19920905&facet_filter=true&fl=web_url%2Csnippet%2Clead_paragraph%2Cabstract%2Cprint_page%2Cblog%2Csource%2Cmultimedia%2Cheadline%2Ckeywords%2Cpub_date%2Cdocument_type%2Cnews_desk%2Cbyline%2Ctype_of_material%2C_id%2Cword_count&page=64&facet_field=source%2Csection_name%2Cdocument_type%2Ctype_of_material%2Cday_of_week\n",
        "... last_date = 1989-10-11T00:00:00Z\n",
        "\n",
        "... n_results ="
       ]
      },
      {
       "output_type": "stream",
       "stream": "stdout",
       "text": [
        " 650\n",
        "... url = http://api.nytimes.com/svc/search/v2/articlesearch.json?q=%22thomas+l.+friedman%22&sort=newest&begin_date=18510918&api-key=f28d40af5370f79078fc5eb7ffd97049%3A17%3A49171679&end_date=19920905&facet_filter=true&fl=web_url%2Csnippet%2Clead_paragraph%2Cabstract%2Cprint_page%2Cblog%2Csource%2Cmultimedia%2Cheadline%2Ckeywords%2Cpub_date%2Cdocument_type%2Cnews_desk%2Cbyline%2Ctype_of_material%2C_id%2Cword_count&page=65&facet_field=source%2Csection_name%2Cdocument_type%2Ctype_of_material%2Cday_of_week\n",
        "... last_date = 1989-09-21T00:00:00Z\n",
        "\n",
        "... n_results ="
       ]
      },
      {
       "output_type": "stream",
       "stream": "stdout",
       "text": [
        " 660\n",
        "... url = http://api.nytimes.com/svc/search/v2/articlesearch.json?q=%22thomas+l.+friedman%22&sort=newest&begin_date=18510918&api-key=f28d40af5370f79078fc5eb7ffd97049%3A17%3A49171679&end_date=19920905&facet_filter=true&fl=web_url%2Csnippet%2Clead_paragraph%2Cabstract%2Cprint_page%2Cblog%2Csource%2Cmultimedia%2Cheadline%2Ckeywords%2Cpub_date%2Cdocument_type%2Cnews_desk%2Cbyline%2Ctype_of_material%2C_id%2Cword_count&page=66&facet_field=source%2Csection_name%2Cdocument_type%2Ctype_of_material%2Cday_of_week\n",
        "... last_date = 1989-09-07T00:00:00Z\n",
        "\n",
        "... n_results ="
       ]
      },
      {
       "output_type": "stream",
       "stream": "stdout",
       "text": [
        " 670\n",
        "... url = http://api.nytimes.com/svc/search/v2/articlesearch.json?q=%22thomas+l.+friedman%22&sort=newest&begin_date=18510918&api-key=f28d40af5370f79078fc5eb7ffd97049%3A17%3A49171679&end_date=19920905&facet_filter=true&fl=web_url%2Csnippet%2Clead_paragraph%2Cabstract%2Cprint_page%2Cblog%2Csource%2Cmultimedia%2Cheadline%2Ckeywords%2Cpub_date%2Cdocument_type%2Cnews_desk%2Cbyline%2Ctype_of_material%2C_id%2Cword_count&page=67&facet_field=source%2Csection_name%2Cdocument_type%2Ctype_of_material%2Cday_of_week\n",
        "... last_date = 1989-07-15T00:00:00Z\n",
        "\n",
        "... n_results ="
       ]
      },
      {
       "output_type": "stream",
       "stream": "stdout",
       "text": [
        " 680\n",
        "... url = http://api.nytimes.com/svc/search/v2/articlesearch.json?q=%22thomas+l.+friedman%22&sort=newest&begin_date=18510918&api-key=f28d40af5370f79078fc5eb7ffd97049%3A17%3A49171679&end_date=19920905&facet_filter=true&fl=web_url%2Csnippet%2Clead_paragraph%2Cabstract%2Cprint_page%2Cblog%2Csource%2Cmultimedia%2Cheadline%2Ckeywords%2Cpub_date%2Cdocument_type%2Cnews_desk%2Cbyline%2Ctype_of_material%2C_id%2Cword_count&page=68&facet_field=source%2Csection_name%2Cdocument_type%2Ctype_of_material%2Cday_of_week\n",
        "... last_date = 1989-07-02T00:00:00Z\n",
        "\n",
        "... n_results ="
       ]
      },
      {
       "output_type": "stream",
       "stream": "stdout",
       "text": [
        " 690\n",
        "... url = http://api.nytimes.com/svc/search/v2/articlesearch.json?q=%22thomas+l.+friedman%22&sort=newest&begin_date=18510918&api-key=f28d40af5370f79078fc5eb7ffd97049%3A17%3A49171679&end_date=19920905&facet_filter=true&fl=web_url%2Csnippet%2Clead_paragraph%2Cabstract%2Cprint_page%2Cblog%2Csource%2Cmultimedia%2Cheadline%2Ckeywords%2Cpub_date%2Cdocument_type%2Cnews_desk%2Cbyline%2Ctype_of_material%2C_id%2Cword_count&page=69&facet_field=source%2Csection_name%2Cdocument_type%2Ctype_of_material%2Cday_of_week\n",
        "... last_date = 1989-06-14T00:00:00Z\n",
        "\n",
        "... n_results ="
       ]
      },
      {
       "output_type": "stream",
       "stream": "stdout",
       "text": [
        " 700\n",
        "... url = http://api.nytimes.com/svc/search/v2/articlesearch.json?q=%22thomas+l.+friedman%22&sort=newest&begin_date=18510918&api-key=f28d40af5370f79078fc5eb7ffd97049%3A17%3A49171679&end_date=19920905&facet_filter=true&fl=web_url%2Csnippet%2Clead_paragraph%2Cabstract%2Cprint_page%2Cblog%2Csource%2Cmultimedia%2Cheadline%2Ckeywords%2Cpub_date%2Cdocument_type%2Cnews_desk%2Cbyline%2Ctype_of_material%2C_id%2Cword_count&page=70&facet_field=source%2Csection_name%2Cdocument_type%2Ctype_of_material%2Cday_of_week\n",
        "... last_date = 1989-05-28T00:00:00Z\n",
        "\n",
        "... n_results ="
       ]
      },
      {
       "output_type": "stream",
       "stream": "stdout",
       "text": [
        " 710\n",
        "... url = http://api.nytimes.com/svc/search/v2/articlesearch.json?q=%22thomas+l.+friedman%22&sort=newest&begin_date=18510918&api-key=f28d40af5370f79078fc5eb7ffd97049%3A17%3A49171679&end_date=19920905&facet_filter=true&fl=web_url%2Csnippet%2Clead_paragraph%2Cabstract%2Cprint_page%2Cblog%2Csource%2Cmultimedia%2Cheadline%2Ckeywords%2Cpub_date%2Cdocument_type%2Cnews_desk%2Cbyline%2Ctype_of_material%2C_id%2Cword_count&page=71&facet_field=source%2Csection_name%2Cdocument_type%2Ctype_of_material%2Cday_of_week\n",
        "... last_date = 1989-05-09T00:00:00Z\n",
        "\n",
        "... n_results ="
       ]
      },
      {
       "output_type": "stream",
       "stream": "stdout",
       "text": [
        " 720\n",
        "... url = http://api.nytimes.com/svc/search/v2/articlesearch.json?q=%22thomas+l.+friedman%22&sort=newest&begin_date=18510918&api-key=f28d40af5370f79078fc5eb7ffd97049%3A17%3A49171679&end_date=19920905&facet_filter=true&fl=web_url%2Csnippet%2Clead_paragraph%2Cabstract%2Cprint_page%2Cblog%2Csource%2Cmultimedia%2Cheadline%2Ckeywords%2Cpub_date%2Cdocument_type%2Cnews_desk%2Cbyline%2Ctype_of_material%2C_id%2Cword_count&page=72&facet_field=source%2Csection_name%2Cdocument_type%2Ctype_of_material%2Cday_of_week\n",
        "... last_date = 1989-04-25T00:00:00Z\n",
        "\n",
        "... n_results ="
       ]
      },
      {
       "output_type": "stream",
       "stream": "stdout",
       "text": [
        " 730\n",
        "... url = http://api.nytimes.com/svc/search/v2/articlesearch.json?q=%22thomas+l.+friedman%22&sort=newest&begin_date=18510918&api-key=f28d40af5370f79078fc5eb7ffd97049%3A17%3A49171679&end_date=19920905&facet_filter=true&fl=web_url%2Csnippet%2Clead_paragraph%2Cabstract%2Cprint_page%2Cblog%2Csource%2Cmultimedia%2Cheadline%2Ckeywords%2Cpub_date%2Cdocument_type%2Cnews_desk%2Cbyline%2Ctype_of_material%2C_id%2Cword_count&page=73&facet_field=source%2Csection_name%2Cdocument_type%2Ctype_of_material%2Cday_of_week\n",
        "... last_date = 1989-04-04T00:00:00Z\n",
        "\n",
        "... n_results ="
       ]
      },
      {
       "output_type": "stream",
       "stream": "stdout",
       "text": [
        " 740\n",
        "... url = http://api.nytimes.com/svc/search/v2/articlesearch.json?q=%22thomas+l.+friedman%22&sort=newest&begin_date=18510918&api-key=f28d40af5370f79078fc5eb7ffd97049%3A17%3A49171679&end_date=19920905&facet_filter=true&fl=web_url%2Csnippet%2Clead_paragraph%2Cabstract%2Cprint_page%2Cblog%2Csource%2Cmultimedia%2Cheadline%2Ckeywords%2Cpub_date%2Cdocument_type%2Cnews_desk%2Cbyline%2Ctype_of_material%2C_id%2Cword_count&page=74&facet_field=source%2Csection_name%2Cdocument_type%2Ctype_of_material%2Cday_of_week\n",
        "... last_date = 1989-03-24T00:00:00Z\n",
        "\n",
        "... n_results ="
       ]
      },
      {
       "output_type": "stream",
       "stream": "stdout",
       "text": [
        " 750\n",
        "... url = http://api.nytimes.com/svc/search/v2/articlesearch.json?q=%22thomas+l.+friedman%22&sort=newest&begin_date=18510918&api-key=f28d40af5370f79078fc5eb7ffd97049%3A17%3A49171679&end_date=19920905&facet_filter=true&fl=web_url%2Csnippet%2Clead_paragraph%2Cabstract%2Cprint_page%2Cblog%2Csource%2Cmultimedia%2Cheadline%2Ckeywords%2Cpub_date%2Cdocument_type%2Cnews_desk%2Cbyline%2Ctype_of_material%2C_id%2Cword_count&page=75&facet_field=source%2Csection_name%2Cdocument_type%2Ctype_of_material%2Cday_of_week\n",
        "... last_date = 1989-03-07T00:00:00Z\n",
        "\n",
        "... n_results ="
       ]
      },
      {
       "output_type": "stream",
       "stream": "stdout",
       "text": [
        " 760\n",
        "... url = http://api.nytimes.com/svc/search/v2/articlesearch.json?q=%22thomas+l.+friedman%22&sort=newest&begin_date=18510918&api-key=f28d40af5370f79078fc5eb7ffd97049%3A17%3A49171679&end_date=19920905&facet_filter=true&fl=web_url%2Csnippet%2Clead_paragraph%2Cabstract%2Cprint_page%2Cblog%2Csource%2Cmultimedia%2Cheadline%2Ckeywords%2Cpub_date%2Cdocument_type%2Cnews_desk%2Cbyline%2Ctype_of_material%2C_id%2Cword_count&page=76&facet_field=source%2Csection_name%2Cdocument_type%2Ctype_of_material%2Cday_of_week\n",
        "... last_date = 1989-02-17T00:00:00Z\n",
        "\n",
        "... n_results ="
       ]
      },
      {
       "output_type": "stream",
       "stream": "stdout",
       "text": [
        " 770\n",
        "... url = http://api.nytimes.com/svc/search/v2/articlesearch.json?q=%22thomas+l.+friedman%22&sort=newest&begin_date=18510918&api-key=f28d40af5370f79078fc5eb7ffd97049%3A17%3A49171679&end_date=19920905&facet_filter=true&fl=web_url%2Csnippet%2Clead_paragraph%2Cabstract%2Cprint_page%2Cblog%2Csource%2Cmultimedia%2Cheadline%2Ckeywords%2Cpub_date%2Cdocument_type%2Cnews_desk%2Cbyline%2Ctype_of_material%2C_id%2Cword_count&page=77&facet_field=source%2Csection_name%2Cdocument_type%2Ctype_of_material%2Cday_of_week\n",
        "... last_date = 1989-02-01T00:00:00Z\n",
        "\n",
        "... n_results ="
       ]
      },
      {
       "output_type": "stream",
       "stream": "stdout",
       "text": [
        " 780\n",
        "... url = http://api.nytimes.com/svc/search/v2/articlesearch.json?q=%22thomas+l.+friedman%22&sort=newest&begin_date=18510918&api-key=f28d40af5370f79078fc5eb7ffd97049%3A17%3A49171679&end_date=19920905&facet_filter=true&fl=web_url%2Csnippet%2Clead_paragraph%2Cabstract%2Cprint_page%2Cblog%2Csource%2Cmultimedia%2Cheadline%2Ckeywords%2Cpub_date%2Cdocument_type%2Cnews_desk%2Cbyline%2Ctype_of_material%2C_id%2Cword_count&page=78&facet_field=source%2Csection_name%2Cdocument_type%2Ctype_of_material%2Cday_of_week\n",
        "... last_date = 1989-01-08T00:00:00Z\n",
        "\n",
        "... n_results ="
       ]
      },
      {
       "output_type": "stream",
       "stream": "stdout",
       "text": [
        " 790\n",
        "... url = http://api.nytimes.com/svc/search/v2/articlesearch.json?q=%22thomas+l.+friedman%22&sort=newest&begin_date=18510918&api-key=f28d40af5370f79078fc5eb7ffd97049%3A17%3A49171679&end_date=19920905&facet_filter=true&fl=web_url%2Csnippet%2Clead_paragraph%2Cabstract%2Cprint_page%2Cblog%2Csource%2Cmultimedia%2Cheadline%2Ckeywords%2Cpub_date%2Cdocument_type%2Cnews_desk%2Cbyline%2Ctype_of_material%2C_id%2Cword_count&page=79&facet_field=source%2Csection_name%2Cdocument_type%2Ctype_of_material%2Cday_of_week\n",
        "... last_date = 1988-03-06T00:00:00Z\n",
        "\n",
        "... n_results ="
       ]
      },
      {
       "output_type": "stream",
       "stream": "stdout",
       "text": [
        " 800\n",
        "... url = http://api.nytimes.com/svc/search/v2/articlesearch.json?q=%22thomas+l.+friedman%22&sort=newest&begin_date=18510918&api-key=f28d40af5370f79078fc5eb7ffd97049%3A17%3A49171679&end_date=19920905&facet_filter=true&fl=web_url%2Csnippet%2Clead_paragraph%2Cabstract%2Cprint_page%2Cblog%2Csource%2Cmultimedia%2Cheadline%2Ckeywords%2Cpub_date%2Cdocument_type%2Cnews_desk%2Cbyline%2Ctype_of_material%2C_id%2Cword_count&page=80&facet_field=source%2Csection_name%2Cdocument_type%2Ctype_of_material%2Cday_of_week\n",
        "... last_date = 1987-12-31T00:00:00Z\n",
        "\n",
        "... n_results ="
       ]
      },
      {
       "output_type": "stream",
       "stream": "stdout",
       "text": [
        " 810\n",
        "... url = http://api.nytimes.com/svc/search/v2/articlesearch.json?q=%22thomas+l.+friedman%22&sort=newest&begin_date=18510918&api-key=f28d40af5370f79078fc5eb7ffd97049%3A17%3A49171679&end_date=19920905&facet_filter=true&fl=web_url%2Csnippet%2Clead_paragraph%2Cabstract%2Cprint_page%2Cblog%2Csource%2Cmultimedia%2Cheadline%2Ckeywords%2Cpub_date%2Cdocument_type%2Cnews_desk%2Cbyline%2Ctype_of_material%2C_id%2Cword_count&page=81&facet_field=source%2Csection_name%2Cdocument_type%2Ctype_of_material%2Cday_of_week\n",
        "... last_date = 1987-12-06T00:00:00Z\n",
        "\n",
        "... n_results ="
       ]
      },
      {
       "output_type": "stream",
       "stream": "stdout",
       "text": [
        " 820\n",
        "... url = http://api.nytimes.com/svc/search/v2/articlesearch.json?q=%22thomas+l.+friedman%22&sort=newest&begin_date=18510918&api-key=f28d40af5370f79078fc5eb7ffd97049%3A17%3A49171679&end_date=19920905&facet_filter=true&fl=web_url%2Csnippet%2Clead_paragraph%2Cabstract%2Cprint_page%2Cblog%2Csource%2Cmultimedia%2Cheadline%2Ckeywords%2Cpub_date%2Cdocument_type%2Cnews_desk%2Cbyline%2Ctype_of_material%2C_id%2Cword_count&page=82&facet_field=source%2Csection_name%2Cdocument_type%2Ctype_of_material%2Cday_of_week\n",
        "... last_date = 1987-11-08T00:00:00Z\n",
        "\n",
        "... n_results ="
       ]
      },
      {
       "output_type": "stream",
       "stream": "stdout",
       "text": [
        " 830\n",
        "... url = http://api.nytimes.com/svc/search/v2/articlesearch.json?q=%22thomas+l.+friedman%22&sort=newest&begin_date=18510918&api-key=f28d40af5370f79078fc5eb7ffd97049%3A17%3A49171679&end_date=19920905&facet_filter=true&fl=web_url%2Csnippet%2Clead_paragraph%2Cabstract%2Cprint_page%2Cblog%2Csource%2Cmultimedia%2Cheadline%2Ckeywords%2Cpub_date%2Cdocument_type%2Cnews_desk%2Cbyline%2Ctype_of_material%2C_id%2Cword_count&page=83&facet_field=source%2Csection_name%2Cdocument_type%2Ctype_of_material%2Cday_of_week\n",
        "... last_date = 1987-10-16T00:00:00Z\n",
        "\n",
        "... n_results ="
       ]
      },
      {
       "output_type": "stream",
       "stream": "stdout",
       "text": [
        " 840\n",
        "... url = http://api.nytimes.com/svc/search/v2/articlesearch.json?q=%22thomas+l.+friedman%22&sort=newest&begin_date=18510918&api-key=f28d40af5370f79078fc5eb7ffd97049%3A17%3A49171679&end_date=19920905&facet_filter=true&fl=web_url%2Csnippet%2Clead_paragraph%2Cabstract%2Cprint_page%2Cblog%2Csource%2Cmultimedia%2Cheadline%2Ckeywords%2Cpub_date%2Cdocument_type%2Cnews_desk%2Cbyline%2Ctype_of_material%2C_id%2Cword_count&page=84&facet_field=source%2Csection_name%2Cdocument_type%2Ctype_of_material%2Cday_of_week\n",
        "... last_date = 1987-09-12T00:00:00Z\n",
        "\n",
        "... n_results ="
       ]
      },
      {
       "output_type": "stream",
       "stream": "stdout",
       "text": [
        " 850\n",
        "... url = http://api.nytimes.com/svc/search/v2/articlesearch.json?q=%22thomas+l.+friedman%22&sort=newest&begin_date=18510918&api-key=f28d40af5370f79078fc5eb7ffd97049%3A17%3A49171679&end_date=19920905&facet_filter=true&fl=web_url%2Csnippet%2Clead_paragraph%2Cabstract%2Cprint_page%2Cblog%2Csource%2Cmultimedia%2Cheadline%2Ckeywords%2Cpub_date%2Cdocument_type%2Cnews_desk%2Cbyline%2Ctype_of_material%2C_id%2Cword_count&page=85&facet_field=source%2Csection_name%2Cdocument_type%2Ctype_of_material%2Cday_of_week\n",
        "... last_date = 1987-08-16T00:00:00Z\n",
        "\n",
        "... n_results ="
       ]
      },
      {
       "output_type": "stream",
       "stream": "stdout",
       "text": [
        " 860\n",
        "... url = http://api.nytimes.com/svc/search/v2/articlesearch.json?q=%22thomas+l.+friedman%22&sort=newest&begin_date=18510918&api-key=f28d40af5370f79078fc5eb7ffd97049%3A17%3A49171679&end_date=19920905&facet_filter=true&fl=web_url%2Csnippet%2Clead_paragraph%2Cabstract%2Cprint_page%2Cblog%2Csource%2Cmultimedia%2Cheadline%2Ckeywords%2Cpub_date%2Cdocument_type%2Cnews_desk%2Cbyline%2Ctype_of_material%2C_id%2Cword_count&page=86&facet_field=source%2Csection_name%2Cdocument_type%2Ctype_of_material%2Cday_of_week\n",
        "... last_date = 1987-07-31T00:00:00Z\n",
        "\n",
        "... n_results ="
       ]
      },
      {
       "output_type": "stream",
       "stream": "stdout",
       "text": [
        " 870\n",
        "... url = http://api.nytimes.com/svc/search/v2/articlesearch.json?q=%22thomas+l.+friedman%22&sort=newest&begin_date=18510918&api-key=f28d40af5370f79078fc5eb7ffd97049%3A17%3A49171679&end_date=19920905&facet_filter=true&fl=web_url%2Csnippet%2Clead_paragraph%2Cabstract%2Cprint_page%2Cblog%2Csource%2Cmultimedia%2Cheadline%2Ckeywords%2Cpub_date%2Cdocument_type%2Cnews_desk%2Cbyline%2Ctype_of_material%2C_id%2Cword_count&page=87&facet_field=source%2Csection_name%2Cdocument_type%2Ctype_of_material%2Cday_of_week\n",
        "... last_date = 1987-07-09T00:00:00Z\n",
        "\n",
        "... n_results ="
       ]
      },
      {
       "output_type": "stream",
       "stream": "stdout",
       "text": [
        " 880\n",
        "... url = http://api.nytimes.com/svc/search/v2/articlesearch.json?q=%22thomas+l.+friedman%22&sort=newest&begin_date=18510918&api-key=f28d40af5370f79078fc5eb7ffd97049%3A17%3A49171679&end_date=19920905&facet_filter=true&fl=web_url%2Csnippet%2Clead_paragraph%2Cabstract%2Cprint_page%2Cblog%2Csource%2Cmultimedia%2Cheadline%2Ckeywords%2Cpub_date%2Cdocument_type%2Cnews_desk%2Cbyline%2Ctype_of_material%2C_id%2Cword_count&page=88&facet_field=source%2Csection_name%2Cdocument_type%2Ctype_of_material%2Cday_of_week\n",
        "... last_date = 1987-06-08T00:00:00Z\n",
        "\n",
        "... n_results ="
       ]
      },
      {
       "output_type": "stream",
       "stream": "stdout",
       "text": [
        " 890\n",
        "... url = http://api.nytimes.com/svc/search/v2/articlesearch.json?q=%22thomas+l.+friedman%22&sort=newest&begin_date=18510918&api-key=f28d40af5370f79078fc5eb7ffd97049%3A17%3A49171679&end_date=19920905&facet_filter=true&fl=web_url%2Csnippet%2Clead_paragraph%2Cabstract%2Cprint_page%2Cblog%2Csource%2Cmultimedia%2Cheadline%2Ckeywords%2Cpub_date%2Cdocument_type%2Cnews_desk%2Cbyline%2Ctype_of_material%2C_id%2Cword_count&page=89&facet_field=source%2Csection_name%2Cdocument_type%2Ctype_of_material%2Cday_of_week\n",
        "... last_date = 1987-05-15T00:00:00Z\n",
        "\n",
        "... n_results ="
       ]
      },
      {
       "output_type": "stream",
       "stream": "stdout",
       "text": [
        " 900\n",
        "... url = http://api.nytimes.com/svc/search/v2/articlesearch.json?q=%22thomas+l.+friedman%22&sort=newest&begin_date=18510918&api-key=f28d40af5370f79078fc5eb7ffd97049%3A17%3A49171679&end_date=19920905&facet_filter=true&fl=web_url%2Csnippet%2Clead_paragraph%2Cabstract%2Cprint_page%2Cblog%2Csource%2Cmultimedia%2Cheadline%2Ckeywords%2Cpub_date%2Cdocument_type%2Cnews_desk%2Cbyline%2Ctype_of_material%2C_id%2Cword_count&page=90&facet_field=source%2Csection_name%2Cdocument_type%2Ctype_of_material%2Cday_of_week\n",
        "... last_date = 1987-04-20T00:00:00Z\n",
        "\n",
        "... n_results ="
       ]
      },
      {
       "output_type": "stream",
       "stream": "stdout",
       "text": [
        " 910\n",
        "... url = http://api.nytimes.com/svc/search/v2/articlesearch.json?q=%22thomas+l.+friedman%22&sort=newest&begin_date=18510918&api-key=f28d40af5370f79078fc5eb7ffd97049%3A17%3A49171679&end_date=19920905&facet_filter=true&fl=web_url%2Csnippet%2Clead_paragraph%2Cabstract%2Cprint_page%2Cblog%2Csource%2Cmultimedia%2Cheadline%2Ckeywords%2Cpub_date%2Cdocument_type%2Cnews_desk%2Cbyline%2Ctype_of_material%2C_id%2Cword_count&page=91&facet_field=source%2Csection_name%2Cdocument_type%2Ctype_of_material%2Cday_of_week\n",
        "... last_date = 1987-03-31T00:00:00Z\n",
        "\n",
        "... n_results ="
       ]
      },
      {
       "output_type": "stream",
       "stream": "stdout",
       "text": [
        " 920\n",
        "... url = http://api.nytimes.com/svc/search/v2/articlesearch.json?q=%22thomas+l.+friedman%22&sort=newest&begin_date=18510918&api-key=f28d40af5370f79078fc5eb7ffd97049%3A17%3A49171679&end_date=19920905&facet_filter=true&fl=web_url%2Csnippet%2Clead_paragraph%2Cabstract%2Cprint_page%2Cblog%2Csource%2Cmultimedia%2Cheadline%2Ckeywords%2Cpub_date%2Cdocument_type%2Cnews_desk%2Cbyline%2Ctype_of_material%2C_id%2Cword_count&page=92&facet_field=source%2Csection_name%2Cdocument_type%2Ctype_of_material%2Cday_of_week\n",
        "... last_date = 1987-03-17T00:00:00Z\n",
        "\n",
        "... n_results ="
       ]
      },
      {
       "output_type": "stream",
       "stream": "stdout",
       "text": [
        " 930\n",
        "... url = http://api.nytimes.com/svc/search/v2/articlesearch.json?q=%22thomas+l.+friedman%22&sort=newest&begin_date=18510918&api-key=f28d40af5370f79078fc5eb7ffd97049%3A17%3A49171679&end_date=19920905&facet_filter=true&fl=web_url%2Csnippet%2Clead_paragraph%2Cabstract%2Cprint_page%2Cblog%2Csource%2Cmultimedia%2Cheadline%2Ckeywords%2Cpub_date%2Cdocument_type%2Cnews_desk%2Cbyline%2Ctype_of_material%2C_id%2Cword_count&page=93&facet_field=source%2Csection_name%2Cdocument_type%2Ctype_of_material%2Cday_of_week\n",
        "... last_date = 1987-02-15T00:00:00Z\n",
        "\n",
        "... n_results ="
       ]
      },
      {
       "output_type": "stream",
       "stream": "stdout",
       "text": [
        " 940\n",
        "... url = http://api.nytimes.com/svc/search/v2/articlesearch.json?q=%22thomas+l.+friedman%22&sort=newest&begin_date=18510918&api-key=f28d40af5370f79078fc5eb7ffd97049%3A17%3A49171679&end_date=19920905&facet_filter=true&fl=web_url%2Csnippet%2Clead_paragraph%2Cabstract%2Cprint_page%2Cblog%2Csource%2Cmultimedia%2Cheadline%2Ckeywords%2Cpub_date%2Cdocument_type%2Cnews_desk%2Cbyline%2Ctype_of_material%2C_id%2Cword_count&page=94&facet_field=source%2Csection_name%2Cdocument_type%2Ctype_of_material%2Cday_of_week\n",
        "... last_date = 1987-01-12T00:00:00Z\n",
        "\n",
        "... n_results ="
       ]
      },
      {
       "output_type": "stream",
       "stream": "stdout",
       "text": [
        " 950\n",
        "... url = http://api.nytimes.com/svc/search/v2/articlesearch.json?q=%22thomas+l.+friedman%22&sort=newest&begin_date=18510918&api-key=f28d40af5370f79078fc5eb7ffd97049%3A17%3A49171679&end_date=19920905&facet_filter=true&fl=web_url%2Csnippet%2Clead_paragraph%2Cabstract%2Cprint_page%2Cblog%2Csource%2Cmultimedia%2Cheadline%2Ckeywords%2Cpub_date%2Cdocument_type%2Cnews_desk%2Cbyline%2Ctype_of_material%2C_id%2Cword_count&page=95&facet_field=source%2Csection_name%2Cdocument_type%2Ctype_of_material%2Cday_of_week\n",
        "... last_date = 1986-12-18T00:00:00Z\n",
        "\n",
        "... n_results ="
       ]
      },
      {
       "output_type": "stream",
       "stream": "stdout",
       "text": [
        " 960\n",
        "... url = http://api.nytimes.com/svc/search/v2/articlesearch.json?q=%22thomas+l.+friedman%22&sort=newest&begin_date=18510918&api-key=f28d40af5370f79078fc5eb7ffd97049%3A17%3A49171679&end_date=19920905&facet_filter=true&fl=web_url%2Csnippet%2Clead_paragraph%2Cabstract%2Cprint_page%2Cblog%2Csource%2Cmultimedia%2Cheadline%2Ckeywords%2Cpub_date%2Cdocument_type%2Cnews_desk%2Cbyline%2Ctype_of_material%2C_id%2Cword_count&page=96&facet_field=source%2Csection_name%2Cdocument_type%2Ctype_of_material%2Cday_of_week\n",
        "... last_date = 1986-12-03T00:00:00Z\n",
        "\n",
        "... n_results ="
       ]
      },
      {
       "output_type": "stream",
       "stream": "stdout",
       "text": [
        " 970\n",
        "... url = http://api.nytimes.com/svc/search/v2/articlesearch.json?q=%22thomas+l.+friedman%22&sort=newest&begin_date=18510918&api-key=f28d40af5370f79078fc5eb7ffd97049%3A17%3A49171679&end_date=19920905&facet_filter=true&fl=web_url%2Csnippet%2Clead_paragraph%2Cabstract%2Cprint_page%2Cblog%2Csource%2Cmultimedia%2Cheadline%2Ckeywords%2Cpub_date%2Cdocument_type%2Cnews_desk%2Cbyline%2Ctype_of_material%2C_id%2Cword_count&page=97&facet_field=source%2Csection_name%2Cdocument_type%2Ctype_of_material%2Cday_of_week\n",
        "... last_date = 1986-11-16T00:00:00Z\n",
        "\n",
        "... n_results ="
       ]
      },
      {
       "output_type": "stream",
       "stream": "stdout",
       "text": [
        " 980\n",
        "... url = http://api.nytimes.com/svc/search/v2/articlesearch.json?q=%22thomas+l.+friedman%22&sort=newest&begin_date=18510918&api-key=f28d40af5370f79078fc5eb7ffd97049%3A17%3A49171679&end_date=19920905&facet_filter=true&fl=web_url%2Csnippet%2Clead_paragraph%2Cabstract%2Cprint_page%2Cblog%2Csource%2Cmultimedia%2Cheadline%2Ckeywords%2Cpub_date%2Cdocument_type%2Cnews_desk%2Cbyline%2Ctype_of_material%2C_id%2Cword_count&page=98&facet_field=source%2Csection_name%2Cdocument_type%2Ctype_of_material%2Cday_of_week\n",
        "... last_date = 1986-10-21T00:00:00Z\n",
        "\n",
        "... n_results ="
       ]
      },
      {
       "output_type": "stream",
       "stream": "stdout",
       "text": [
        " 990\n",
        "... url = http://api.nytimes.com/svc/search/v2/articlesearch.json?q=%22thomas+l.+friedman%22&sort=newest&begin_date=18510918&api-key=f28d40af5370f79078fc5eb7ffd97049%3A17%3A49171679&end_date=19920905&facet_filter=true&fl=web_url%2Csnippet%2Clead_paragraph%2Cabstract%2Cprint_page%2Cblog%2Csource%2Cmultimedia%2Cheadline%2Ckeywords%2Cpub_date%2Cdocument_type%2Cnews_desk%2Cbyline%2Ctype_of_material%2C_id%2Cword_count&page=99&facet_field=source%2Csection_name%2Cdocument_type%2Ctype_of_material%2Cday_of_week\n",
        "... last_date = 1986-10-09T00:00:00Z\n",
        "\n",
        "... n_results ="
       ]
      },
      {
       "output_type": "stream",
       "stream": "stdout",
       "text": [
        " 1000\n",
        "... url = http://api.nytimes.com/svc/search/v2/articlesearch.json?q=%22thomas+l.+friedman%22&sort=newest&begin_date=18510918&api-key=f28d40af5370f79078fc5eb7ffd97049%3A17%3A49171679&end_date=19920905&facet_filter=true&fl=web_url%2Csnippet%2Clead_paragraph%2Cabstract%2Cprint_page%2Cblog%2Csource%2Cmultimedia%2Cheadline%2Ckeywords%2Cpub_date%2Cdocument_type%2Cnews_desk%2Cbyline%2Ctype_of_material%2C_id%2Cword_count&page=100&facet_field=source%2Csection_name%2Cdocument_type%2Ctype_of_material%2Cday_of_week\n",
        "... last_date = 1986-09-09T00:00:00Z\n",
        "***ERROR: status_code ="
       ]
      },
      {
       "output_type": "stream",
       "stream": "stdout",
       "text": [
        " 400 !\n",
        "http://api.nytimes.com/svc/search/v2/articlesearch.json?q=%22thomas+l.+friedman%22&sort=newest&begin_date=18510918&api-key=f28d40af5370f79078fc5eb7ffd97049%3A17%3A49171679&end_date=19920905&facet_filter=true&fl=web_url%2Csnippet%2Clead_paragraph%2Cabstract%2Cprint_page%2Cblog%2Csource%2Cmultimedia%2Cheadline%2Ckeywords%2Cpub_date%2Cdocument_type%2Cnews_desk%2Cbyline%2Ctype_of_material%2C_id%2Cword_count&page=101&facet_field=source%2Csection_name%2Cdocument_type%2Ctype_of_material%2Cday_of_week\n",
        "***ERROR: status_code ="
       ]
      },
      {
       "output_type": "stream",
       "stream": "stdout",
       "text": [
        " 400 !\n",
        "http://api.nytimes.com/svc/search/v2/articlesearch.json?q=%22thomas+l.+friedman%22&sort=newest&begin_date=18510918&api-key=f28d40af5370f79078fc5eb7ffd97049%3A17%3A49171679&end_date=19920905&facet_filter=true&fl=web_url%2Csnippet%2Clead_paragraph%2Cabstract%2Cprint_page%2Cblog%2Csource%2Cmultimedia%2Cheadline%2Ckeywords%2Cpub_date%2Cdocument_type%2Cnews_desk%2Cbyline%2Ctype_of_material%2C_id%2Cword_count&page=102&facet_field=source%2Csection_name%2Cdocument_type%2Ctype_of_material%2Cday_of_week\n",
        "***ERROR: status_code ="
       ]
      },
      {
       "output_type": "stream",
       "stream": "stdout",
       "text": [
        " 400 !\n",
        "http://api.nytimes.com/svc/search/v2/articlesearch.json?q=%22thomas+l.+friedman%22&sort=newest&begin_date=18510918&api-key=f28d40af5370f79078fc5eb7ffd97049%3A17%3A49171679&end_date=19920905&facet_filter=true&fl=web_url%2Csnippet%2Clead_paragraph%2Cabstract%2Cprint_page%2Cblog%2Csource%2Cmultimedia%2Cheadline%2Ckeywords%2Cpub_date%2Cdocument_type%2Cnews_desk%2Cbyline%2Ctype_of_material%2C_id%2Cword_count&page=103&facet_field=source%2Csection_name%2Cdocument_type%2Ctype_of_material%2Cday_of_week\n",
        "***ERROR: status_code ="
       ]
      },
      {
       "output_type": "stream",
       "stream": "stdout",
       "text": [
        " 400 !\n",
        "http://api.nytimes.com/svc/search/v2/articlesearch.json?q=%22thomas+l.+friedman%22&sort=newest&begin_date=18510918&api-key=f28d40af5370f79078fc5eb7ffd97049%3A17%3A49171679&end_date=19920905&facet_filter=true&fl=web_url%2Csnippet%2Clead_paragraph%2Cabstract%2Cprint_page%2Cblog%2Csource%2Cmultimedia%2Cheadline%2Ckeywords%2Cpub_date%2Cdocument_type%2Cnews_desk%2Cbyline%2Ctype_of_material%2C_id%2Cword_count&page=104&facet_field=source%2Csection_name%2Cdocument_type%2Ctype_of_material%2Cday_of_week\n",
        "***ERROR: status_code ="
       ]
      },
      {
       "output_type": "stream",
       "stream": "stdout",
       "text": [
        " 400 !\n",
        "http://api.nytimes.com/svc/search/v2/articlesearch.json?q=%22thomas+l.+friedman%22&sort=newest&begin_date=18510918&api-key=f28d40af5370f79078fc5eb7ffd97049%3A17%3A49171679&end_date=19920905&facet_filter=true&fl=web_url%2Csnippet%2Clead_paragraph%2Cabstract%2Cprint_page%2Cblog%2Csource%2Cmultimedia%2Cheadline%2Ckeywords%2Cpub_date%2Cdocument_type%2Cnews_desk%2Cbyline%2Ctype_of_material%2C_id%2Cword_count&page=105&facet_field=source%2Csection_name%2Cdocument_type%2Ctype_of_material%2Cday_of_week\n",
        "***ERROR: status_code ="
       ]
      },
      {
       "output_type": "stream",
       "stream": "stdout",
       "text": [
        " 400 !\n",
        "http://api.nytimes.com/svc/search/v2/articlesearch.json?q=%22thomas+l.+friedman%22&sort=newest&begin_date=18510918&api-key=f28d40af5370f79078fc5eb7ffd97049%3A17%3A49171679&end_date=19920905&facet_filter=true&fl=web_url%2Csnippet%2Clead_paragraph%2Cabstract%2Cprint_page%2Cblog%2Csource%2Cmultimedia%2Cheadline%2Ckeywords%2Cpub_date%2Cdocument_type%2Cnews_desk%2Cbyline%2Ctype_of_material%2C_id%2Cword_count&page=106&facet_field=source%2Csection_name%2Cdocument_type%2Ctype_of_material%2Cday_of_week\n",
        "***ERROR: status_code ="
       ]
      },
      {
       "output_type": "stream",
       "stream": "stdout",
       "text": [
        " 400 !\n",
        "http://api.nytimes.com/svc/search/v2/articlesearch.json?q=%22thomas+l.+friedman%22&sort=newest&begin_date=18510918&api-key=f28d40af5370f79078fc5eb7ffd97049%3A17%3A49171679&end_date=19920905&facet_filter=true&fl=web_url%2Csnippet%2Clead_paragraph%2Cabstract%2Cprint_page%2Cblog%2Csource%2Cmultimedia%2Cheadline%2Ckeywords%2Cpub_date%2Cdocument_type%2Cnews_desk%2Cbyline%2Ctype_of_material%2C_id%2Cword_count&page=107&facet_field=source%2Csection_name%2Cdocument_type%2Ctype_of_material%2Cday_of_week\n",
        "***ERROR: status_code ="
       ]
      },
      {
       "output_type": "stream",
       "stream": "stdout",
       "text": [
        " 400 !\n",
        "http://api.nytimes.com/svc/search/v2/articlesearch.json?q=%22thomas+l.+friedman%22&sort=newest&begin_date=18510918&api-key=f28d40af5370f79078fc5eb7ffd97049%3A17%3A49171679&end_date=19920905&facet_filter=true&fl=web_url%2Csnippet%2Clead_paragraph%2Cabstract%2Cprint_page%2Cblog%2Csource%2Cmultimedia%2Cheadline%2Ckeywords%2Cpub_date%2Cdocument_type%2Cnews_desk%2Cbyline%2Ctype_of_material%2C_id%2Cword_count&page=108&facet_field=source%2Csection_name%2Cdocument_type%2Ctype_of_material%2Cday_of_week\n",
        "***ERROR: status_code ="
       ]
      },
      {
       "output_type": "stream",
       "stream": "stdout",
       "text": [
        " 400 !\n",
        "http://api.nytimes.com/svc/search/v2/articlesearch.json?q=%22thomas+l.+friedman%22&sort=newest&begin_date=18510918&api-key=f28d40af5370f79078fc5eb7ffd97049%3A17%3A49171679&end_date=19920905&facet_filter=true&fl=web_url%2Csnippet%2Clead_paragraph%2Cabstract%2Cprint_page%2Cblog%2Csource%2Cmultimedia%2Cheadline%2Ckeywords%2Cpub_date%2Cdocument_type%2Cnews_desk%2Cbyline%2Ctype_of_material%2C_id%2Cword_count&page=109&facet_field=source%2Csection_name%2Cdocument_type%2Ctype_of_material%2Cday_of_week\n",
        "***ERROR: status_code ="
       ]
      },
      {
       "output_type": "stream",
       "stream": "stdout",
       "text": [
        " 400 !\n",
        "http://api.nytimes.com/svc/search/v2/articlesearch.json?q=%22thomas+l.+friedman%22&sort=newest&begin_date=18510918&api-key=f28d40af5370f79078fc5eb7ffd97049%3A17%3A49171679&end_date=19920905&facet_filter=true&fl=web_url%2Csnippet%2Clead_paragraph%2Cabstract%2Cprint_page%2Cblog%2Csource%2Cmultimedia%2Cheadline%2Ckeywords%2Cpub_date%2Cdocument_type%2Cnews_desk%2Cbyline%2Ctype_of_material%2C_id%2Cword_count&page=110&facet_field=source%2Csection_name%2Cdocument_type%2Ctype_of_material%2Cday_of_week\n",
        "***ERROR: status_code ="
       ]
      },
      {
       "output_type": "stream",
       "stream": "stdout",
       "text": [
        " 400 !\n",
        "http://api.nytimes.com/svc/search/v2/articlesearch.json?q=%22thomas+l.+friedman%22&sort=newest&begin_date=18510918&api-key=f28d40af5370f79078fc5eb7ffd97049%3A17%3A49171679&end_date=19920905&facet_filter=true&fl=web_url%2Csnippet%2Clead_paragraph%2Cabstract%2Cprint_page%2Cblog%2Csource%2Cmultimedia%2Cheadline%2Ckeywords%2Cpub_date%2Cdocument_type%2Cnews_desk%2Cbyline%2Ctype_of_material%2C_id%2Cword_count&page=111&facet_field=source%2Csection_name%2Cdocument_type%2Ctype_of_material%2Cday_of_week\n",
        "***ERROR: status_code ="
       ]
      },
      {
       "output_type": "stream",
       "stream": "stdout",
       "text": [
        " 400 !\n",
        "http://api.nytimes.com/svc/search/v2/articlesearch.json?q=%22thomas+l.+friedman%22&sort=newest&begin_date=18510918&api-key=f28d40af5370f79078fc5eb7ffd97049%3A17%3A49171679&end_date=19920905&facet_filter=true&fl=web_url%2Csnippet%2Clead_paragraph%2Cabstract%2Cprint_page%2Cblog%2Csource%2Cmultimedia%2Cheadline%2Ckeywords%2Cpub_date%2Cdocument_type%2Cnews_desk%2Cbyline%2Ctype_of_material%2C_id%2Cword_count&page=112&facet_field=source%2Csection_name%2Cdocument_type%2Ctype_of_material%2Cday_of_week\n",
        "***ERROR: status_code ="
       ]
      },
      {
       "output_type": "stream",
       "stream": "stdout",
       "text": [
        " 400 !\n",
        "http://api.nytimes.com/svc/search/v2/articlesearch.json?q=%22thomas+l.+friedman%22&sort=newest&begin_date=18510918&api-key=f28d40af5370f79078fc5eb7ffd97049%3A17%3A49171679&end_date=19920905&facet_filter=true&fl=web_url%2Csnippet%2Clead_paragraph%2Cabstract%2Cprint_page%2Cblog%2Csource%2Cmultimedia%2Cheadline%2Ckeywords%2Cpub_date%2Cdocument_type%2Cnews_desk%2Cbyline%2Ctype_of_material%2C_id%2Cword_count&page=113&facet_field=source%2Csection_name%2Cdocument_type%2Ctype_of_material%2Cday_of_week\n",
        "***ERROR: status_code ="
       ]
      },
      {
       "output_type": "stream",
       "stream": "stdout",
       "text": [
        " 400 !\n",
        "http://api.nytimes.com/svc/search/v2/articlesearch.json?q=%22thomas+l.+friedman%22&sort=newest&begin_date=18510918&api-key=f28d40af5370f79078fc5eb7ffd97049%3A17%3A49171679&end_date=19920905&facet_filter=true&fl=web_url%2Csnippet%2Clead_paragraph%2Cabstract%2Cprint_page%2Cblog%2Csource%2Cmultimedia%2Cheadline%2Ckeywords%2Cpub_date%2Cdocument_type%2Cnews_desk%2Cbyline%2Ctype_of_material%2C_id%2Cword_count&page=114&facet_field=source%2Csection_name%2Cdocument_type%2Ctype_of_material%2Cday_of_week\n",
        "***ERROR: status_code ="
       ]
      },
      {
       "output_type": "stream",
       "stream": "stdout",
       "text": [
        " 400 !\n",
        "http://api.nytimes.com/svc/search/v2/articlesearch.json?q=%22thomas+l.+friedman%22&sort=newest&begin_date=18510918&api-key=f28d40af5370f79078fc5eb7ffd97049%3A17%3A49171679&end_date=19920905&facet_filter=true&fl=web_url%2Csnippet%2Clead_paragraph%2Cabstract%2Cprint_page%2Cblog%2Csource%2Cmultimedia%2Cheadline%2Ckeywords%2Cpub_date%2Cdocument_type%2Cnews_desk%2Cbyline%2Ctype_of_material%2C_id%2Cword_count&page=115&facet_field=source%2Csection_name%2Cdocument_type%2Ctype_of_material%2Cday_of_week\n",
        "***ERROR: status_code ="
       ]
      },
      {
       "output_type": "stream",
       "stream": "stdout",
       "text": [
        " 400 !\n",
        "http://api.nytimes.com/svc/search/v2/articlesearch.json?q=%22thomas+l.+friedman%22&sort=newest&begin_date=18510918&api-key=f28d40af5370f79078fc5eb7ffd97049%3A17%3A49171679&end_date=19920905&facet_filter=true&fl=web_url%2Csnippet%2Clead_paragraph%2Cabstract%2Cprint_page%2Cblog%2Csource%2Cmultimedia%2Cheadline%2Ckeywords%2Cpub_date%2Cdocument_type%2Cnews_desk%2Cbyline%2Ctype_of_material%2C_id%2Cword_count&page=116&facet_field=source%2Csection_name%2Cdocument_type%2Ctype_of_material%2Cday_of_week\n",
        "***ERROR: status_code ="
       ]
      },
      {
       "output_type": "stream",
       "stream": "stdout",
       "text": [
        " 400 !\n",
        "http://api.nytimes.com/svc/search/v2/articlesearch.json?q=%22thomas+l.+friedman%22&sort=newest&begin_date=18510918&api-key=f28d40af5370f79078fc5eb7ffd97049%3A17%3A49171679&end_date=19920905&facet_filter=true&fl=web_url%2Csnippet%2Clead_paragraph%2Cabstract%2Cprint_page%2Cblog%2Csource%2Cmultimedia%2Cheadline%2Ckeywords%2Cpub_date%2Cdocument_type%2Cnews_desk%2Cbyline%2Ctype_of_material%2C_id%2Cword_count&page=117&facet_field=source%2Csection_name%2Cdocument_type%2Ctype_of_material%2Cday_of_week\n",
        "***ERROR: status_code ="
       ]
      },
      {
       "output_type": "stream",
       "stream": "stdout",
       "text": [
        " 400 !\n",
        "http://api.nytimes.com/svc/search/v2/articlesearch.json?q=%22thomas+l.+friedman%22&sort=newest&begin_date=18510918&api-key=f28d40af5370f79078fc5eb7ffd97049%3A17%3A49171679&end_date=19920905&facet_filter=true&fl=web_url%2Csnippet%2Clead_paragraph%2Cabstract%2Cprint_page%2Cblog%2Csource%2Cmultimedia%2Cheadline%2Ckeywords%2Cpub_date%2Cdocument_type%2Cnews_desk%2Cbyline%2Ctype_of_material%2C_id%2Cword_count&page=118&facet_field=source%2Csection_name%2Cdocument_type%2Ctype_of_material%2Cday_of_week\n",
        "***ERROR: status_code ="
       ]
      },
      {
       "output_type": "stream",
       "stream": "stdout",
       "text": [
        " 400 !\n",
        "http://api.nytimes.com/svc/search/v2/articlesearch.json?q=%22thomas+l.+friedman%22&sort=newest&begin_date=18510918&api-key=f28d40af5370f79078fc5eb7ffd97049%3A17%3A49171679&end_date=19920905&facet_filter=true&fl=web_url%2Csnippet%2Clead_paragraph%2Cabstract%2Cprint_page%2Cblog%2Csource%2Cmultimedia%2Cheadline%2Ckeywords%2Cpub_date%2Cdocument_type%2Cnews_desk%2Cbyline%2Ctype_of_material%2C_id%2Cword_count&page=119&facet_field=source%2Csection_name%2Cdocument_type%2Ctype_of_material%2Cday_of_week\n",
        "***ERROR: status_code ="
       ]
      },
      {
       "output_type": "stream",
       "stream": "stdout",
       "text": [
        " 400 !\n",
        "http://api.nytimes.com/svc/search/v2/articlesearch.json?q=%22thomas+l.+friedman%22&sort=newest&begin_date=18510918&api-key=f28d40af5370f79078fc5eb7ffd97049%3A17%3A49171679&end_date=19920905&facet_filter=true&fl=web_url%2Csnippet%2Clead_paragraph%2Cabstract%2Cprint_page%2Cblog%2Csource%2Cmultimedia%2Cheadline%2Ckeywords%2Cpub_date%2Cdocument_type%2Cnews_desk%2Cbyline%2Ctype_of_material%2C_id%2Cword_count&page=120&facet_field=source%2Csection_name%2Cdocument_type%2Ctype_of_material%2Cday_of_week\n",
        "***ERROR: status_code ="
       ]
      },
      {
       "output_type": "stream",
       "stream": "stdout",
       "text": [
        " 400 !\n",
        "http://api.nytimes.com/svc/search/v2/articlesearch.json?q=%22thomas+l.+friedman%22&sort=newest&begin_date=18510918&api-key=f28d40af5370f79078fc5eb7ffd97049%3A17%3A49171679&end_date=19920905&facet_filter=true&fl=web_url%2Csnippet%2Clead_paragraph%2Cabstract%2Cprint_page%2Cblog%2Csource%2Cmultimedia%2Cheadline%2Ckeywords%2Cpub_date%2Cdocument_type%2Cnews_desk%2Cbyline%2Ctype_of_material%2C_id%2Cword_count&page=121&facet_field=source%2Csection_name%2Cdocument_type%2Ctype_of_material%2Cday_of_week\n",
        "***ERROR: status_code ="
       ]
      },
      {
       "output_type": "stream",
       "stream": "stdout",
       "text": [
        " 400 !\n",
        "http://api.nytimes.com/svc/search/v2/articlesearch.json?q=%22thomas+l.+friedman%22&sort=newest&begin_date=18510918&api-key=f28d40af5370f79078fc5eb7ffd97049%3A17%3A49171679&end_date=19920905&facet_filter=true&fl=web_url%2Csnippet%2Clead_paragraph%2Cabstract%2Cprint_page%2Cblog%2Csource%2Cmultimedia%2Cheadline%2Ckeywords%2Cpub_date%2Cdocument_type%2Cnews_desk%2Cbyline%2Ctype_of_material%2C_id%2Cword_count&page=122&facet_field=source%2Csection_name%2Cdocument_type%2Ctype_of_material%2Cday_of_week\n",
        "***ERROR: status_code ="
       ]
      },
      {
       "output_type": "stream",
       "stream": "stdout",
       "text": [
        " 400 !\n",
        "http://api.nytimes.com/svc/search/v2/articlesearch.json?q=%22thomas+l.+friedman%22&sort=newest&begin_date=18510918&api-key=f28d40af5370f79078fc5eb7ffd97049%3A17%3A49171679&end_date=19920905&facet_filter=true&fl=web_url%2Csnippet%2Clead_paragraph%2Cabstract%2Cprint_page%2Cblog%2Csource%2Cmultimedia%2Cheadline%2Ckeywords%2Cpub_date%2Cdocument_type%2Cnews_desk%2Cbyline%2Ctype_of_material%2C_id%2Cword_count&page=123&facet_field=source%2Csection_name%2Cdocument_type%2Ctype_of_material%2Cday_of_week\n",
        "***ERROR: status_code ="
       ]
      },
      {
       "output_type": "stream",
       "stream": "stdout",
       "text": [
        " 400 !\n",
        "http://api.nytimes.com/svc/search/v2/articlesearch.json?q=%22thomas+l.+friedman%22&sort=newest&begin_date=18510918&api-key=f28d40af5370f79078fc5eb7ffd97049%3A17%3A49171679&end_date=19920905&facet_filter=true&fl=web_url%2Csnippet%2Clead_paragraph%2Cabstract%2Cprint_page%2Cblog%2Csource%2Cmultimedia%2Cheadline%2Ckeywords%2Cpub_date%2Cdocument_type%2Cnews_desk%2Cbyline%2Ctype_of_material%2C_id%2Cword_count&page=124&facet_field=source%2Csection_name%2Cdocument_type%2Ctype_of_material%2Cday_of_week\n",
        "***ERROR: status_code ="
       ]
      },
      {
       "output_type": "stream",
       "stream": "stdout",
       "text": [
        " 400 !\n",
        "http://api.nytimes.com/svc/search/v2/articlesearch.json?q=%22thomas+l.+friedman%22&sort=newest&begin_date=18510918&api-key=f28d40af5370f79078fc5eb7ffd97049%3A17%3A49171679&end_date=19920905&facet_filter=true&fl=web_url%2Csnippet%2Clead_paragraph%2Cabstract%2Cprint_page%2Cblog%2Csource%2Cmultimedia%2Cheadline%2Ckeywords%2Cpub_date%2Cdocument_type%2Cnews_desk%2Cbyline%2Ctype_of_material%2C_id%2Cword_count&page=125&facet_field=source%2Csection_name%2Cdocument_type%2Ctype_of_material%2Cday_of_week\n",
        "***ERROR: too many consecutive errors (25)!\n"
       ]
      }
     ],
     "prompt_number": 27
    },
    {
     "cell_type": "code",
     "collapsed": false,
     "input": [
      "print len(all_docs_6)\n",
      "print min(doc['pub_date'] for doc in all_docs_6)"
     ],
     "language": "python",
     "metadata": {},
     "outputs": [
      {
       "output_type": "stream",
       "stream": "stdout",
       "text": [
        "1010\n",
        "1986-07-16T00:00:00Z\n"
       ]
      }
     ],
     "prompt_number": 28
    },
    {
     "cell_type": "code",
     "collapsed": false,
     "input": [
      "all_docs_7 = hi_nyt.query_nyt_article_search('\"thomas l. friedman\"',\n",
      "                                             config['nyt_api_key'],\n",
      "                                             end_date='1986-07-15',\n",
      "                                             max_pages=1000)"
     ],
     "language": "python",
     "metadata": {},
     "outputs": [
      {
       "output_type": "stream",
       "stream": "stdout",
       "text": [
        "\n",
        "*INFO: query = \"thomas l. friedman\"\n",
        "*INFO: url = http://api.nytimes.com/svc/search/v2/articlesearch.json?q=%22thomas+l.+friedman%22&sort=newest&begin_date=18510918&api-key=f28d40af5370f79078fc5eb7ffd97049%3A17%3A49171679&end_date=19860715&facet_filter=true&fl=web_url%2Csnippet%2Clead_paragraph%2Cabstract%2Cprint_page%2Cblog%2Csource%2Cmultimedia%2Cheadline%2Ckeywords%2Cpub_date%2Cdocument_type%2Cnews_desk%2Cbyline%2Ctype_of_material%2C_id%2Cword_count&page=0&facet_field=source%2Csection_name%2Cdocument_type%2Ctype_of_material%2Cday_of_week\n",
        "*INFO: n_total_results = 790 \n",
        "\n",
        "facet                           count \n",
        "-------------------------------------\n",
        "type_of_material..............    790\n",
        "   News.......................    718\n",
        "   An Analysis................     45\n",
        "   Series.....................      9\n",
        "   Interview..................      6\n",
        "   Letter.....................      4\n",
        "source........................    790\n",
        "   The New York Times.........    790\n",
        "document_type.................    790\n",
        "   article....................    790\n",
        "section_name..................    788\n",
        "   World......................    335\n",
        "   World; Front Page..........    136\n",
        "   Business...................     93\n",
        "   Week in Review.............     53\n",
        "   World; Washington..........     34\n",
        "day_of_week...................    790\n",
        "   Sunday.....................    159\n",
        "   Tuesday....................    111\n",
        "   Monday.....................    105\n",
        "   Friday.....................     89\n",
        "   Thursday...................     79\n",
        "\n",
        "... n_results = 0\n",
        "... url = http://api.nytimes.com/svc/search/v2/articlesearch.json?q=%22thomas+l.+friedman%22&sort=newest&begin_date=18510918&api-key=f28d40af5370f79078fc5eb7ffd97049%3A17%3A49171679&end_date=19860715&facet_filter=true&fl=web_url%2Csnippet%2Clead_paragraph%2Cabstract%2Cprint_page%2Cblog%2Csource%2Cmultimedia%2Cheadline%2Ckeywords%2Cpub_date%2Cdocument_type%2Cnews_desk%2Cbyline%2Ctype_of_material%2C_id%2Cword_count&page=0&facet_field=source%2Csection_name%2Cdocument_type%2Ctype_of_material%2Cday_of_week\n",
        "... last_date = 1986-07-15T00:00:00Z\n",
        "\n",
        "... n_results ="
       ]
      },
      {
       "output_type": "stream",
       "stream": "stdout",
       "text": [
        " 10\n",
        "... url = http://api.nytimes.com/svc/search/v2/articlesearch.json?q=%22thomas+l.+friedman%22&sort=newest&begin_date=18510918&api-key=f28d40af5370f79078fc5eb7ffd97049%3A17%3A49171679&end_date=19860715&facet_filter=true&fl=web_url%2Csnippet%2Clead_paragraph%2Cabstract%2Cprint_page%2Cblog%2Csource%2Cmultimedia%2Cheadline%2Ckeywords%2Cpub_date%2Cdocument_type%2Cnews_desk%2Cbyline%2Ctype_of_material%2C_id%2Cword_count&page=1&facet_field=source%2Csection_name%2Cdocument_type%2Ctype_of_material%2Cday_of_week\n",
        "... last_date = 1986-06-30T00:00:00Z\n",
        "\n",
        "... n_results ="
       ]
      },
      {
       "output_type": "stream",
       "stream": "stdout",
       "text": [
        " 20\n",
        "... url = http://api.nytimes.com/svc/search/v2/articlesearch.json?q=%22thomas+l.+friedman%22&sort=newest&begin_date=18510918&api-key=f28d40af5370f79078fc5eb7ffd97049%3A17%3A49171679&end_date=19860715&facet_filter=true&fl=web_url%2Csnippet%2Clead_paragraph%2Cabstract%2Cprint_page%2Cblog%2Csource%2Cmultimedia%2Cheadline%2Ckeywords%2Cpub_date%2Cdocument_type%2Cnews_desk%2Cbyline%2Ctype_of_material%2C_id%2Cword_count&page=2&facet_field=source%2Csection_name%2Cdocument_type%2Ctype_of_material%2Cday_of_week\n",
        "... last_date = 1986-06-12T00:00:00Z\n",
        "\n",
        "... n_results ="
       ]
      },
      {
       "output_type": "stream",
       "stream": "stdout",
       "text": [
        " 30\n",
        "... url = http://api.nytimes.com/svc/search/v2/articlesearch.json?q=%22thomas+l.+friedman%22&sort=newest&begin_date=18510918&api-key=f28d40af5370f79078fc5eb7ffd97049%3A17%3A49171679&end_date=19860715&facet_filter=true&fl=web_url%2Csnippet%2Clead_paragraph%2Cabstract%2Cprint_page%2Cblog%2Csource%2Cmultimedia%2Cheadline%2Ckeywords%2Cpub_date%2Cdocument_type%2Cnews_desk%2Cbyline%2Ctype_of_material%2C_id%2Cword_count&page=3&facet_field=source%2Csection_name%2Cdocument_type%2Ctype_of_material%2Cday_of_week\n",
        "... last_date = 1986-05-27T00:00:00Z\n",
        "\n",
        "... n_results ="
       ]
      },
      {
       "output_type": "stream",
       "stream": "stdout",
       "text": [
        " 40\n",
        "... url = http://api.nytimes.com/svc/search/v2/articlesearch.json?q=%22thomas+l.+friedman%22&sort=newest&begin_date=18510918&api-key=f28d40af5370f79078fc5eb7ffd97049%3A17%3A49171679&end_date=19860715&facet_filter=true&fl=web_url%2Csnippet%2Clead_paragraph%2Cabstract%2Cprint_page%2Cblog%2Csource%2Cmultimedia%2Cheadline%2Ckeywords%2Cpub_date%2Cdocument_type%2Cnews_desk%2Cbyline%2Ctype_of_material%2C_id%2Cword_count&page=4&facet_field=source%2Csection_name%2Cdocument_type%2Ctype_of_material%2Cday_of_week\n",
        "... last_date = 1986-05-05T00:00:00Z\n",
        "\n",
        "... n_results ="
       ]
      },
      {
       "output_type": "stream",
       "stream": "stdout",
       "text": [
        " 50\n",
        "... url = http://api.nytimes.com/svc/search/v2/articlesearch.json?q=%22thomas+l.+friedman%22&sort=newest&begin_date=18510918&api-key=f28d40af5370f79078fc5eb7ffd97049%3A17%3A49171679&end_date=19860715&facet_filter=true&fl=web_url%2Csnippet%2Clead_paragraph%2Cabstract%2Cprint_page%2Cblog%2Csource%2Cmultimedia%2Cheadline%2Ckeywords%2Cpub_date%2Cdocument_type%2Cnews_desk%2Cbyline%2Ctype_of_material%2C_id%2Cword_count&page=5&facet_field=source%2Csection_name%2Cdocument_type%2Ctype_of_material%2Cday_of_week\n",
        "... last_date = 1986-04-06T00:00:00Z\n",
        "\n",
        "... n_results ="
       ]
      },
      {
       "output_type": "stream",
       "stream": "stdout",
       "text": [
        " 60\n",
        "... url = http://api.nytimes.com/svc/search/v2/articlesearch.json?q=%22thomas+l.+friedman%22&sort=newest&begin_date=18510918&api-key=f28d40af5370f79078fc5eb7ffd97049%3A17%3A49171679&end_date=19860715&facet_filter=true&fl=web_url%2Csnippet%2Clead_paragraph%2Cabstract%2Cprint_page%2Cblog%2Csource%2Cmultimedia%2Cheadline%2Ckeywords%2Cpub_date%2Cdocument_type%2Cnews_desk%2Cbyline%2Ctype_of_material%2C_id%2Cword_count&page=6&facet_field=source%2Csection_name%2Cdocument_type%2Ctype_of_material%2Cday_of_week\n",
        "... last_date = 1986-03-11T00:00:00Z\n",
        "\n",
        "... n_results ="
       ]
      },
      {
       "output_type": "stream",
       "stream": "stdout",
       "text": [
        " 70\n",
        "... url = http://api.nytimes.com/svc/search/v2/articlesearch.json?q=%22thomas+l.+friedman%22&sort=newest&begin_date=18510918&api-key=f28d40af5370f79078fc5eb7ffd97049%3A17%3A49171679&end_date=19860715&facet_filter=true&fl=web_url%2Csnippet%2Clead_paragraph%2Cabstract%2Cprint_page%2Cblog%2Csource%2Cmultimedia%2Cheadline%2Ckeywords%2Cpub_date%2Cdocument_type%2Cnews_desk%2Cbyline%2Ctype_of_material%2C_id%2Cword_count&page=7&facet_field=source%2Csection_name%2Cdocument_type%2Ctype_of_material%2Cday_of_week\n",
        "... last_date = 1986-01-26T00:00:00Z\n",
        "\n",
        "... n_results ="
       ]
      },
      {
       "output_type": "stream",
       "stream": "stdout",
       "text": [
        " 80\n",
        "... url = http://api.nytimes.com/svc/search/v2/articlesearch.json?q=%22thomas+l.+friedman%22&sort=newest&begin_date=18510918&api-key=f28d40af5370f79078fc5eb7ffd97049%3A17%3A49171679&end_date=19860715&facet_filter=true&fl=web_url%2Csnippet%2Clead_paragraph%2Cabstract%2Cprint_page%2Cblog%2Csource%2Cmultimedia%2Cheadline%2Ckeywords%2Cpub_date%2Cdocument_type%2Cnews_desk%2Cbyline%2Ctype_of_material%2C_id%2Cword_count&page=8&facet_field=source%2Csection_name%2Cdocument_type%2Ctype_of_material%2Cday_of_week\n",
        "... last_date = 1986-01-05T00:00:00Z\n",
        "\n",
        "... n_results ="
       ]
      },
      {
       "output_type": "stream",
       "stream": "stdout",
       "text": [
        " 90\n",
        "... url = http://api.nytimes.com/svc/search/v2/articlesearch.json?q=%22thomas+l.+friedman%22&sort=newest&begin_date=18510918&api-key=f28d40af5370f79078fc5eb7ffd97049%3A17%3A49171679&end_date=19860715&facet_filter=true&fl=web_url%2Csnippet%2Clead_paragraph%2Cabstract%2Cprint_page%2Cblog%2Csource%2Cmultimedia%2Cheadline%2Ckeywords%2Cpub_date%2Cdocument_type%2Cnews_desk%2Cbyline%2Ctype_of_material%2C_id%2Cword_count&page=9&facet_field=source%2Csection_name%2Cdocument_type%2Ctype_of_material%2Cday_of_week\n",
        "... last_date = 1985-12-19T00:00:00Z\n",
        "\n",
        "... n_results ="
       ]
      },
      {
       "output_type": "stream",
       "stream": "stdout",
       "text": [
        " 100\n",
        "... url = http://api.nytimes.com/svc/search/v2/articlesearch.json?q=%22thomas+l.+friedman%22&sort=newest&begin_date=18510918&api-key=f28d40af5370f79078fc5eb7ffd97049%3A17%3A49171679&end_date=19860715&facet_filter=true&fl=web_url%2Csnippet%2Clead_paragraph%2Cabstract%2Cprint_page%2Cblog%2Csource%2Cmultimedia%2Cheadline%2Ckeywords%2Cpub_date%2Cdocument_type%2Cnews_desk%2Cbyline%2Ctype_of_material%2C_id%2Cword_count&page=10&facet_field=source%2Csection_name%2Cdocument_type%2Ctype_of_material%2Cday_of_week\n",
        "... last_date = 1985-12-02T00:00:00Z\n",
        "\n",
        "... n_results ="
       ]
      },
      {
       "output_type": "stream",
       "stream": "stdout",
       "text": [
        " 110\n",
        "... url = http://api.nytimes.com/svc/search/v2/articlesearch.json?q=%22thomas+l.+friedman%22&sort=newest&begin_date=18510918&api-key=f28d40af5370f79078fc5eb7ffd97049%3A17%3A49171679&end_date=19860715&facet_filter=true&fl=web_url%2Csnippet%2Clead_paragraph%2Cabstract%2Cprint_page%2Cblog%2Csource%2Cmultimedia%2Cheadline%2Ckeywords%2Cpub_date%2Cdocument_type%2Cnews_desk%2Cbyline%2Ctype_of_material%2C_id%2Cword_count&page=11&facet_field=source%2Csection_name%2Cdocument_type%2Ctype_of_material%2Cday_of_week\n",
        "... last_date = 1985-11-15T00:00:00Z\n",
        "\n",
        "... n_results ="
       ]
      },
      {
       "output_type": "stream",
       "stream": "stdout",
       "text": [
        " 120\n",
        "... url = http://api.nytimes.com/svc/search/v2/articlesearch.json?q=%22thomas+l.+friedman%22&sort=newest&begin_date=18510918&api-key=f28d40af5370f79078fc5eb7ffd97049%3A17%3A49171679&end_date=19860715&facet_filter=true&fl=web_url%2Csnippet%2Clead_paragraph%2Cabstract%2Cprint_page%2Cblog%2Csource%2Cmultimedia%2Cheadline%2Ckeywords%2Cpub_date%2Cdocument_type%2Cnews_desk%2Cbyline%2Ctype_of_material%2C_id%2Cword_count&page=12&facet_field=source%2Csection_name%2Cdocument_type%2Ctype_of_material%2Cday_of_week\n",
        "... last_date = 1985-10-23T00:00:00Z\n",
        "\n",
        "... n_results ="
       ]
      },
      {
       "output_type": "stream",
       "stream": "stdout",
       "text": [
        " 130\n",
        "... url = http://api.nytimes.com/svc/search/v2/articlesearch.json?q=%22thomas+l.+friedman%22&sort=newest&begin_date=18510918&api-key=f28d40af5370f79078fc5eb7ffd97049%3A17%3A49171679&end_date=19860715&facet_filter=true&fl=web_url%2Csnippet%2Clead_paragraph%2Cabstract%2Cprint_page%2Cblog%2Csource%2Cmultimedia%2Cheadline%2Ckeywords%2Cpub_date%2Cdocument_type%2Cnews_desk%2Cbyline%2Ctype_of_material%2C_id%2Cword_count&page=13&facet_field=source%2Csection_name%2Cdocument_type%2Ctype_of_material%2Cday_of_week\n",
        "... last_date = 1985-10-03T00:00:00Z\n",
        "\n",
        "... n_results ="
       ]
      },
      {
       "output_type": "stream",
       "stream": "stdout",
       "text": [
        " 140\n",
        "... url = http://api.nytimes.com/svc/search/v2/articlesearch.json?q=%22thomas+l.+friedman%22&sort=newest&begin_date=18510918&api-key=f28d40af5370f79078fc5eb7ffd97049%3A17%3A49171679&end_date=19860715&facet_filter=true&fl=web_url%2Csnippet%2Clead_paragraph%2Cabstract%2Cprint_page%2Cblog%2Csource%2Cmultimedia%2Cheadline%2Ckeywords%2Cpub_date%2Cdocument_type%2Cnews_desk%2Cbyline%2Ctype_of_material%2C_id%2Cword_count&page=14&facet_field=source%2Csection_name%2Cdocument_type%2Ctype_of_material%2Cday_of_week\n",
        "... last_date = 1985-08-21T00:00:00Z\n",
        "\n",
        "... n_results ="
       ]
      },
      {
       "output_type": "stream",
       "stream": "stdout",
       "text": [
        " 150\n",
        "... url = http://api.nytimes.com/svc/search/v2/articlesearch.json?q=%22thomas+l.+friedman%22&sort=newest&begin_date=18510918&api-key=f28d40af5370f79078fc5eb7ffd97049%3A17%3A49171679&end_date=19860715&facet_filter=true&fl=web_url%2Csnippet%2Clead_paragraph%2Cabstract%2Cprint_page%2Cblog%2Csource%2Cmultimedia%2Cheadline%2Ckeywords%2Cpub_date%2Cdocument_type%2Cnews_desk%2Cbyline%2Ctype_of_material%2C_id%2Cword_count&page=15&facet_field=source%2Csection_name%2Cdocument_type%2Ctype_of_material%2Cday_of_week\n",
        "... last_date = 1985-08-06T00:00:00Z\n",
        "\n",
        "... n_results ="
       ]
      },
      {
       "output_type": "stream",
       "stream": "stdout",
       "text": [
        " 160\n",
        "... url = http://api.nytimes.com/svc/search/v2/articlesearch.json?q=%22thomas+l.+friedman%22&sort=newest&begin_date=18510918&api-key=f28d40af5370f79078fc5eb7ffd97049%3A17%3A49171679&end_date=19860715&facet_filter=true&fl=web_url%2Csnippet%2Clead_paragraph%2Cabstract%2Cprint_page%2Cblog%2Csource%2Cmultimedia%2Cheadline%2Ckeywords%2Cpub_date%2Cdocument_type%2Cnews_desk%2Cbyline%2Ctype_of_material%2C_id%2Cword_count&page=16&facet_field=source%2Csection_name%2Cdocument_type%2Ctype_of_material%2Cday_of_week\n",
        "... last_date = 1985-07-18T00:00:00Z\n",
        "\n",
        "... n_results ="
       ]
      },
      {
       "output_type": "stream",
       "stream": "stdout",
       "text": [
        " 170\n",
        "... url = http://api.nytimes.com/svc/search/v2/articlesearch.json?q=%22thomas+l.+friedman%22&sort=newest&begin_date=18510918&api-key=f28d40af5370f79078fc5eb7ffd97049%3A17%3A49171679&end_date=19860715&facet_filter=true&fl=web_url%2Csnippet%2Clead_paragraph%2Cabstract%2Cprint_page%2Cblog%2Csource%2Cmultimedia%2Cheadline%2Ckeywords%2Cpub_date%2Cdocument_type%2Cnews_desk%2Cbyline%2Ctype_of_material%2C_id%2Cword_count&page=17&facet_field=source%2Csection_name%2Cdocument_type%2Ctype_of_material%2Cday_of_week\n",
        "... last_date = 1985-06-27T00:00:00Z\n",
        "\n",
        "... n_results ="
       ]
      },
      {
       "output_type": "stream",
       "stream": "stdout",
       "text": [
        " 180\n",
        "... url = http://api.nytimes.com/svc/search/v2/articlesearch.json?q=%22thomas+l.+friedman%22&sort=newest&begin_date=18510918&api-key=f28d40af5370f79078fc5eb7ffd97049%3A17%3A49171679&end_date=19860715&facet_filter=true&fl=web_url%2Csnippet%2Clead_paragraph%2Cabstract%2Cprint_page%2Cblog%2Csource%2Cmultimedia%2Cheadline%2Ckeywords%2Cpub_date%2Cdocument_type%2Cnews_desk%2Cbyline%2Ctype_of_material%2C_id%2Cword_count&page=18&facet_field=source%2Csection_name%2Cdocument_type%2Ctype_of_material%2Cday_of_week\n",
        "... last_date = 1985-06-19T00:00:00Z\n",
        "\n",
        "... n_results ="
       ]
      },
      {
       "output_type": "stream",
       "stream": "stdout",
       "text": [
        " 190\n",
        "... url = http://api.nytimes.com/svc/search/v2/articlesearch.json?q=%22thomas+l.+friedman%22&sort=newest&begin_date=18510918&api-key=f28d40af5370f79078fc5eb7ffd97049%3A17%3A49171679&end_date=19860715&facet_filter=true&fl=web_url%2Csnippet%2Clead_paragraph%2Cabstract%2Cprint_page%2Cblog%2Csource%2Cmultimedia%2Cheadline%2Ckeywords%2Cpub_date%2Cdocument_type%2Cnews_desk%2Cbyline%2Ctype_of_material%2C_id%2Cword_count&page=19&facet_field=source%2Csection_name%2Cdocument_type%2Ctype_of_material%2Cday_of_week\n",
        "... last_date = 1985-06-08T00:00:00Z\n",
        "\n",
        "... n_results ="
       ]
      },
      {
       "output_type": "stream",
       "stream": "stdout",
       "text": [
        " 200\n",
        "... url = http://api.nytimes.com/svc/search/v2/articlesearch.json?q=%22thomas+l.+friedman%22&sort=newest&begin_date=18510918&api-key=f28d40af5370f79078fc5eb7ffd97049%3A17%3A49171679&end_date=19860715&facet_filter=true&fl=web_url%2Csnippet%2Clead_paragraph%2Cabstract%2Cprint_page%2Cblog%2Csource%2Cmultimedia%2Cheadline%2Ckeywords%2Cpub_date%2Cdocument_type%2Cnews_desk%2Cbyline%2Ctype_of_material%2C_id%2Cword_count&page=20&facet_field=source%2Csection_name%2Cdocument_type%2Ctype_of_material%2Cday_of_week\n",
        "... last_date = 1985-05-21T00:00:00Z\n",
        "\n",
        "... n_results ="
       ]
      },
      {
       "output_type": "stream",
       "stream": "stdout",
       "text": [
        " 210\n",
        "... url = http://api.nytimes.com/svc/search/v2/articlesearch.json?q=%22thomas+l.+friedman%22&sort=newest&begin_date=18510918&api-key=f28d40af5370f79078fc5eb7ffd97049%3A17%3A49171679&end_date=19860715&facet_filter=true&fl=web_url%2Csnippet%2Clead_paragraph%2Cabstract%2Cprint_page%2Cblog%2Csource%2Cmultimedia%2Cheadline%2Ckeywords%2Cpub_date%2Cdocument_type%2Cnews_desk%2Cbyline%2Ctype_of_material%2C_id%2Cword_count&page=21&facet_field=source%2Csection_name%2Cdocument_type%2Ctype_of_material%2Cday_of_week\n",
        "... last_date = 1985-04-14T00:00:00Z\n",
        "\n",
        "... n_results ="
       ]
      },
      {
       "output_type": "stream",
       "stream": "stdout",
       "text": [
        " 220\n",
        "... url = http://api.nytimes.com/svc/search/v2/articlesearch.json?q=%22thomas+l.+friedman%22&sort=newest&begin_date=18510918&api-key=f28d40af5370f79078fc5eb7ffd97049%3A17%3A49171679&end_date=19860715&facet_filter=true&fl=web_url%2Csnippet%2Clead_paragraph%2Cabstract%2Cprint_page%2Cblog%2Csource%2Cmultimedia%2Cheadline%2Ckeywords%2Cpub_date%2Cdocument_type%2Cnews_desk%2Cbyline%2Ctype_of_material%2C_id%2Cword_count&page=22&facet_field=source%2Csection_name%2Cdocument_type%2Ctype_of_material%2Cday_of_week\n",
        "... last_date = 1985-03-20T00:00:00Z\n",
        "\n",
        "... n_results ="
       ]
      },
      {
       "output_type": "stream",
       "stream": "stdout",
       "text": [
        " 230\n",
        "... url = http://api.nytimes.com/svc/search/v2/articlesearch.json?q=%22thomas+l.+friedman%22&sort=newest&begin_date=18510918&api-key=f28d40af5370f79078fc5eb7ffd97049%3A17%3A49171679&end_date=19860715&facet_filter=true&fl=web_url%2Csnippet%2Clead_paragraph%2Cabstract%2Cprint_page%2Cblog%2Csource%2Cmultimedia%2Cheadline%2Ckeywords%2Cpub_date%2Cdocument_type%2Cnews_desk%2Cbyline%2Ctype_of_material%2C_id%2Cword_count&page=23&facet_field=source%2Csection_name%2Cdocument_type%2Ctype_of_material%2Cday_of_week\n",
        "... last_date = 1985-02-17T00:00:00Z\n",
        "\n",
        "... n_results ="
       ]
      },
      {
       "output_type": "stream",
       "stream": "stdout",
       "text": [
        " 240\n",
        "... url = http://api.nytimes.com/svc/search/v2/articlesearch.json?q=%22thomas+l.+friedman%22&sort=newest&begin_date=18510918&api-key=f28d40af5370f79078fc5eb7ffd97049%3A17%3A49171679&end_date=19860715&facet_filter=true&fl=web_url%2Csnippet%2Clead_paragraph%2Cabstract%2Cprint_page%2Cblog%2Csource%2Cmultimedia%2Cheadline%2Ckeywords%2Cpub_date%2Cdocument_type%2Cnews_desk%2Cbyline%2Ctype_of_material%2C_id%2Cword_count&page=24&facet_field=source%2Csection_name%2Cdocument_type%2Ctype_of_material%2Cday_of_week\n",
        "... last_date = 1985-01-28T00:00:00Z\n",
        "\n",
        "... n_results ="
       ]
      },
      {
       "output_type": "stream",
       "stream": "stdout",
       "text": [
        " 250\n",
        "... url = http://api.nytimes.com/svc/search/v2/articlesearch.json?q=%22thomas+l.+friedman%22&sort=newest&begin_date=18510918&api-key=f28d40af5370f79078fc5eb7ffd97049%3A17%3A49171679&end_date=19860715&facet_filter=true&fl=web_url%2Csnippet%2Clead_paragraph%2Cabstract%2Cprint_page%2Cblog%2Csource%2Cmultimedia%2Cheadline%2Ckeywords%2Cpub_date%2Cdocument_type%2Cnews_desk%2Cbyline%2Ctype_of_material%2C_id%2Cword_count&page=25&facet_field=source%2Csection_name%2Cdocument_type%2Ctype_of_material%2Cday_of_week\n",
        "... last_date = 1985-01-13T00:00:00Z\n",
        "\n",
        "... n_results ="
       ]
      },
      {
       "output_type": "stream",
       "stream": "stdout",
       "text": [
        " 260\n",
        "... url = http://api.nytimes.com/svc/search/v2/articlesearch.json?q=%22thomas+l.+friedman%22&sort=newest&begin_date=18510918&api-key=f28d40af5370f79078fc5eb7ffd97049%3A17%3A49171679&end_date=19860715&facet_filter=true&fl=web_url%2Csnippet%2Clead_paragraph%2Cabstract%2Cprint_page%2Cblog%2Csource%2Cmultimedia%2Cheadline%2Ckeywords%2Cpub_date%2Cdocument_type%2Cnews_desk%2Cbyline%2Ctype_of_material%2C_id%2Cword_count&page=26&facet_field=source%2Csection_name%2Cdocument_type%2Ctype_of_material%2Cday_of_week\n",
        "... last_date = 1984-12-23T00:00:00Z\n",
        "\n",
        "... n_results ="
       ]
      },
      {
       "output_type": "stream",
       "stream": "stdout",
       "text": [
        " 270\n",
        "... url = http://api.nytimes.com/svc/search/v2/articlesearch.json?q=%22thomas+l.+friedman%22&sort=newest&begin_date=18510918&api-key=f28d40af5370f79078fc5eb7ffd97049%3A17%3A49171679&end_date=19860715&facet_filter=true&fl=web_url%2Csnippet%2Clead_paragraph%2Cabstract%2Cprint_page%2Cblog%2Csource%2Cmultimedia%2Cheadline%2Ckeywords%2Cpub_date%2Cdocument_type%2Cnews_desk%2Cbyline%2Ctype_of_material%2C_id%2Cword_count&page=27&facet_field=source%2Csection_name%2Cdocument_type%2Ctype_of_material%2Cday_of_week\n",
        "... last_date = 1984-11-23T00:00:00Z\n",
        "\n",
        "... n_results ="
       ]
      },
      {
       "output_type": "stream",
       "stream": "stdout",
       "text": [
        " 280\n",
        "... url = http://api.nytimes.com/svc/search/v2/articlesearch.json?q=%22thomas+l.+friedman%22&sort=newest&begin_date=18510918&api-key=f28d40af5370f79078fc5eb7ffd97049%3A17%3A49171679&end_date=19860715&facet_filter=true&fl=web_url%2Csnippet%2Clead_paragraph%2Cabstract%2Cprint_page%2Cblog%2Csource%2Cmultimedia%2Cheadline%2Ckeywords%2Cpub_date%2Cdocument_type%2Cnews_desk%2Cbyline%2Ctype_of_material%2C_id%2Cword_count&page=28&facet_field=source%2Csection_name%2Cdocument_type%2Ctype_of_material%2Cday_of_week\n",
        "... last_date = 1984-11-04T00:00:00Z\n",
        "\n",
        "... n_results ="
       ]
      },
      {
       "output_type": "stream",
       "stream": "stdout",
       "text": [
        " 290\n",
        "... url = http://api.nytimes.com/svc/search/v2/articlesearch.json?q=%22thomas+l.+friedman%22&sort=newest&begin_date=18510918&api-key=f28d40af5370f79078fc5eb7ffd97049%3A17%3A49171679&end_date=19860715&facet_filter=true&fl=web_url%2Csnippet%2Clead_paragraph%2Cabstract%2Cprint_page%2Cblog%2Csource%2Cmultimedia%2Cheadline%2Ckeywords%2Cpub_date%2Cdocument_type%2Cnews_desk%2Cbyline%2Ctype_of_material%2C_id%2Cword_count&page=29&facet_field=source%2Csection_name%2Cdocument_type%2Ctype_of_material%2Cday_of_week\n",
        "... last_date = 1984-10-08T00:00:00Z\n",
        "\n",
        "... n_results ="
       ]
      },
      {
       "output_type": "stream",
       "stream": "stdout",
       "text": [
        " 300\n",
        "... url = http://api.nytimes.com/svc/search/v2/articlesearch.json?q=%22thomas+l.+friedman%22&sort=newest&begin_date=18510918&api-key=f28d40af5370f79078fc5eb7ffd97049%3A17%3A49171679&end_date=19860715&facet_filter=true&fl=web_url%2Csnippet%2Clead_paragraph%2Cabstract%2Cprint_page%2Cblog%2Csource%2Cmultimedia%2Cheadline%2Ckeywords%2Cpub_date%2Cdocument_type%2Cnews_desk%2Cbyline%2Ctype_of_material%2C_id%2Cword_count&page=30&facet_field=source%2Csection_name%2Cdocument_type%2Ctype_of_material%2Cday_of_week\n",
        "... last_date = 1984-07-16T00:00:00Z\n",
        "\n",
        "... n_results ="
       ]
      },
      {
       "output_type": "stream",
       "stream": "stdout",
       "text": [
        " 310\n",
        "... url = http://api.nytimes.com/svc/search/v2/articlesearch.json?q=%22thomas+l.+friedman%22&sort=newest&begin_date=18510918&api-key=f28d40af5370f79078fc5eb7ffd97049%3A17%3A49171679&end_date=19860715&facet_filter=true&fl=web_url%2Csnippet%2Clead_paragraph%2Cabstract%2Cprint_page%2Cblog%2Csource%2Cmultimedia%2Cheadline%2Ckeywords%2Cpub_date%2Cdocument_type%2Cnews_desk%2Cbyline%2Ctype_of_material%2C_id%2Cword_count&page=31&facet_field=source%2Csection_name%2Cdocument_type%2Ctype_of_material%2Cday_of_week\n",
        "... last_date = 1984-06-22T00:00:00Z\n",
        "\n",
        "... n_results ="
       ]
      },
      {
       "output_type": "stream",
       "stream": "stdout",
       "text": [
        " 320\n",
        "... url = http://api.nytimes.com/svc/search/v2/articlesearch.json?q=%22thomas+l.+friedman%22&sort=newest&begin_date=18510918&api-key=f28d40af5370f79078fc5eb7ffd97049%3A17%3A49171679&end_date=19860715&facet_filter=true&fl=web_url%2Csnippet%2Clead_paragraph%2Cabstract%2Cprint_page%2Cblog%2Csource%2Cmultimedia%2Cheadline%2Ckeywords%2Cpub_date%2Cdocument_type%2Cnews_desk%2Cbyline%2Ctype_of_material%2C_id%2Cword_count&page=32&facet_field=source%2Csection_name%2Cdocument_type%2Ctype_of_material%2Cday_of_week\n",
        "... last_date = 1984-05-04T00:00:00Z\n",
        "\n",
        "... n_results ="
       ]
      },
      {
       "output_type": "stream",
       "stream": "stdout",
       "text": [
        " 330\n",
        "... url = http://api.nytimes.com/svc/search/v2/articlesearch.json?q=%22thomas+l.+friedman%22&sort=newest&begin_date=18510918&api-key=f28d40af5370f79078fc5eb7ffd97049%3A17%3A49171679&end_date=19860715&facet_filter=true&fl=web_url%2Csnippet%2Clead_paragraph%2Cabstract%2Cprint_page%2Cblog%2Csource%2Cmultimedia%2Cheadline%2Ckeywords%2Cpub_date%2Cdocument_type%2Cnews_desk%2Cbyline%2Ctype_of_material%2C_id%2Cword_count&page=33&facet_field=source%2Csection_name%2Cdocument_type%2Ctype_of_material%2Cday_of_week\n",
        "... last_date = 1984-04-19T00:00:00Z\n",
        "\n",
        "... n_results ="
       ]
      },
      {
       "output_type": "stream",
       "stream": "stdout",
       "text": [
        " 340\n",
        "... url = http://api.nytimes.com/svc/search/v2/articlesearch.json?q=%22thomas+l.+friedman%22&sort=newest&begin_date=18510918&api-key=f28d40af5370f79078fc5eb7ffd97049%3A17%3A49171679&end_date=19860715&facet_filter=true&fl=web_url%2Csnippet%2Clead_paragraph%2Cabstract%2Cprint_page%2Cblog%2Csource%2Cmultimedia%2Cheadline%2Ckeywords%2Cpub_date%2Cdocument_type%2Cnews_desk%2Cbyline%2Ctype_of_material%2C_id%2Cword_count&page=34&facet_field=source%2Csection_name%2Cdocument_type%2Ctype_of_material%2Cday_of_week\n",
        "... last_date = 1984-03-19T00:00:00Z\n",
        "\n",
        "... n_results ="
       ]
      },
      {
       "output_type": "stream",
       "stream": "stdout",
       "text": [
        " 350\n",
        "... url = http://api.nytimes.com/svc/search/v2/articlesearch.json?q=%22thomas+l.+friedman%22&sort=newest&begin_date=18510918&api-key=f28d40af5370f79078fc5eb7ffd97049%3A17%3A49171679&end_date=19860715&facet_filter=true&fl=web_url%2Csnippet%2Clead_paragraph%2Cabstract%2Cprint_page%2Cblog%2Csource%2Cmultimedia%2Cheadline%2Ckeywords%2Cpub_date%2Cdocument_type%2Cnews_desk%2Cbyline%2Ctype_of_material%2C_id%2Cword_count&page=35&facet_field=source%2Csection_name%2Cdocument_type%2Ctype_of_material%2Cday_of_week\n",
        "... last_date = 1984-02-29T00:00:00Z\n",
        "\n",
        "... n_results ="
       ]
      },
      {
       "output_type": "stream",
       "stream": "stdout",
       "text": [
        " 360\n",
        "... url = http://api.nytimes.com/svc/search/v2/articlesearch.json?q=%22thomas+l.+friedman%22&sort=newest&begin_date=18510918&api-key=f28d40af5370f79078fc5eb7ffd97049%3A17%3A49171679&end_date=19860715&facet_filter=true&fl=web_url%2Csnippet%2Clead_paragraph%2Cabstract%2Cprint_page%2Cblog%2Csource%2Cmultimedia%2Cheadline%2Ckeywords%2Cpub_date%2Cdocument_type%2Cnews_desk%2Cbyline%2Ctype_of_material%2C_id%2Cword_count&page=36&facet_field=source%2Csection_name%2Cdocument_type%2Ctype_of_material%2Cday_of_week\n",
        "... last_date = 1984-02-17T00:00:00Z\n",
        "\n",
        "... n_results ="
       ]
      },
      {
       "output_type": "stream",
       "stream": "stdout",
       "text": [
        " 370\n",
        "... url = http://api.nytimes.com/svc/search/v2/articlesearch.json?q=%22thomas+l.+friedman%22&sort=newest&begin_date=18510918&api-key=f28d40af5370f79078fc5eb7ffd97049%3A17%3A49171679&end_date=19860715&facet_filter=true&fl=web_url%2Csnippet%2Clead_paragraph%2Cabstract%2Cprint_page%2Cblog%2Csource%2Cmultimedia%2Cheadline%2Ckeywords%2Cpub_date%2Cdocument_type%2Cnews_desk%2Cbyline%2Ctype_of_material%2C_id%2Cword_count&page=37&facet_field=source%2Csection_name%2Cdocument_type%2Ctype_of_material%2Cday_of_week\n",
        "... last_date = 1984-02-08T00:00:00Z\n",
        "\n",
        "... n_results ="
       ]
      },
      {
       "output_type": "stream",
       "stream": "stdout",
       "text": [
        " 380\n",
        "... url = http://api.nytimes.com/svc/search/v2/articlesearch.json?q=%22thomas+l.+friedman%22&sort=newest&begin_date=18510918&api-key=f28d40af5370f79078fc5eb7ffd97049%3A17%3A49171679&end_date=19860715&facet_filter=true&fl=web_url%2Csnippet%2Clead_paragraph%2Cabstract%2Cprint_page%2Cblog%2Csource%2Cmultimedia%2Cheadline%2Ckeywords%2Cpub_date%2Cdocument_type%2Cnews_desk%2Cbyline%2Ctype_of_material%2C_id%2Cword_count&page=38&facet_field=source%2Csection_name%2Cdocument_type%2Ctype_of_material%2Cday_of_week\n",
        "... last_date = 1984-01-19T00:00:00Z\n",
        "\n",
        "... n_results ="
       ]
      },
      {
       "output_type": "stream",
       "stream": "stdout",
       "text": [
        " 390\n",
        "... url = http://api.nytimes.com/svc/search/v2/articlesearch.json?q=%22thomas+l.+friedman%22&sort=newest&begin_date=18510918&api-key=f28d40af5370f79078fc5eb7ffd97049%3A17%3A49171679&end_date=19860715&facet_filter=true&fl=web_url%2Csnippet%2Clead_paragraph%2Cabstract%2Cprint_page%2Cblog%2Csource%2Cmultimedia%2Cheadline%2Ckeywords%2Cpub_date%2Cdocument_type%2Cnews_desk%2Cbyline%2Ctype_of_material%2C_id%2Cword_count&page=39&facet_field=source%2Csection_name%2Cdocument_type%2Ctype_of_material%2Cday_of_week\n",
        "... last_date = 1983-12-05T00:00:00Z\n",
        "\n",
        "... n_results ="
       ]
      },
      {
       "output_type": "stream",
       "stream": "stdout",
       "text": [
        " 400\n",
        "... url = http://api.nytimes.com/svc/search/v2/articlesearch.json?q=%22thomas+l.+friedman%22&sort=newest&begin_date=18510918&api-key=f28d40af5370f79078fc5eb7ffd97049%3A17%3A49171679&end_date=19860715&facet_filter=true&fl=web_url%2Csnippet%2Clead_paragraph%2Cabstract%2Cprint_page%2Cblog%2Csource%2Cmultimedia%2Cheadline%2Ckeywords%2Cpub_date%2Cdocument_type%2Cnews_desk%2Cbyline%2Ctype_of_material%2C_id%2Cword_count&page=40&facet_field=source%2Csection_name%2Cdocument_type%2Ctype_of_material%2Cday_of_week\n",
        "... last_date = 1983-11-18T00:00:00Z\n",
        "\n",
        "... n_results ="
       ]
      },
      {
       "output_type": "stream",
       "stream": "stdout",
       "text": [
        " 410\n",
        "... url = http://api.nytimes.com/svc/search/v2/articlesearch.json?q=%22thomas+l.+friedman%22&sort=newest&begin_date=18510918&api-key=f28d40af5370f79078fc5eb7ffd97049%3A17%3A49171679&end_date=19860715&facet_filter=true&fl=web_url%2Csnippet%2Clead_paragraph%2Cabstract%2Cprint_page%2Cblog%2Csource%2Cmultimedia%2Cheadline%2Ckeywords%2Cpub_date%2Cdocument_type%2Cnews_desk%2Cbyline%2Ctype_of_material%2C_id%2Cword_count&page=41&facet_field=source%2Csection_name%2Cdocument_type%2Ctype_of_material%2Cday_of_week\n",
        "... last_date = 1983-11-04T00:00:00Z\n",
        "\n",
        "... n_results ="
       ]
      },
      {
       "output_type": "stream",
       "stream": "stdout",
       "text": [
        " 420\n",
        "... url = http://api.nytimes.com/svc/search/v2/articlesearch.json?q=%22thomas+l.+friedman%22&sort=newest&begin_date=18510918&api-key=f28d40af5370f79078fc5eb7ffd97049%3A17%3A49171679&end_date=19860715&facet_filter=true&fl=web_url%2Csnippet%2Clead_paragraph%2Cabstract%2Cprint_page%2Cblog%2Csource%2Cmultimedia%2Cheadline%2Ckeywords%2Cpub_date%2Cdocument_type%2Cnews_desk%2Cbyline%2Ctype_of_material%2C_id%2Cword_count&page=42&facet_field=source%2Csection_name%2Cdocument_type%2Ctype_of_material%2Cday_of_week\n",
        "... last_date = 1983-10-23T00:00:00Z\n",
        "\n",
        "... n_results ="
       ]
      },
      {
       "output_type": "stream",
       "stream": "stdout",
       "text": [
        " 430\n",
        "... url = http://api.nytimes.com/svc/search/v2/articlesearch.json?q=%22thomas+l.+friedman%22&sort=newest&begin_date=18510918&api-key=f28d40af5370f79078fc5eb7ffd97049%3A17%3A49171679&end_date=19860715&facet_filter=true&fl=web_url%2Csnippet%2Clead_paragraph%2Cabstract%2Cprint_page%2Cblog%2Csource%2Cmultimedia%2Cheadline%2Ckeywords%2Cpub_date%2Cdocument_type%2Cnews_desk%2Cbyline%2Ctype_of_material%2C_id%2Cword_count&page=43&facet_field=source%2Csection_name%2Cdocument_type%2Ctype_of_material%2Cday_of_week\n",
        "... last_date = 1983-10-03T00:00:00Z\n",
        "\n",
        "... n_results ="
       ]
      },
      {
       "output_type": "stream",
       "stream": "stdout",
       "text": [
        " 440\n",
        "... url = http://api.nytimes.com/svc/search/v2/articlesearch.json?q=%22thomas+l.+friedman%22&sort=newest&begin_date=18510918&api-key=f28d40af5370f79078fc5eb7ffd97049%3A17%3A49171679&end_date=19860715&facet_filter=true&fl=web_url%2Csnippet%2Clead_paragraph%2Cabstract%2Cprint_page%2Cblog%2Csource%2Cmultimedia%2Cheadline%2Ckeywords%2Cpub_date%2Cdocument_type%2Cnews_desk%2Cbyline%2Ctype_of_material%2C_id%2Cword_count&page=44&facet_field=source%2Csection_name%2Cdocument_type%2Ctype_of_material%2Cday_of_week\n",
        "... last_date = 1983-09-23T00:00:00Z\n",
        "\n",
        "... n_results ="
       ]
      },
      {
       "output_type": "stream",
       "stream": "stdout",
       "text": [
        " 450\n",
        "... url = http://api.nytimes.com/svc/search/v2/articlesearch.json?q=%22thomas+l.+friedman%22&sort=newest&begin_date=18510918&api-key=f28d40af5370f79078fc5eb7ffd97049%3A17%3A49171679&end_date=19860715&facet_filter=true&fl=web_url%2Csnippet%2Clead_paragraph%2Cabstract%2Cprint_page%2Cblog%2Csource%2Cmultimedia%2Cheadline%2Ckeywords%2Cpub_date%2Cdocument_type%2Cnews_desk%2Cbyline%2Ctype_of_material%2C_id%2Cword_count&page=45&facet_field=source%2Csection_name%2Cdocument_type%2Ctype_of_material%2Cday_of_week\n",
        "... last_date = 1983-08-12T00:00:00Z\n",
        "\n",
        "... n_results ="
       ]
      },
      {
       "output_type": "stream",
       "stream": "stdout",
       "text": [
        " 460\n",
        "... url = http://api.nytimes.com/svc/search/v2/articlesearch.json?q=%22thomas+l.+friedman%22&sort=newest&begin_date=18510918&api-key=f28d40af5370f79078fc5eb7ffd97049%3A17%3A49171679&end_date=19860715&facet_filter=true&fl=web_url%2Csnippet%2Clead_paragraph%2Cabstract%2Cprint_page%2Cblog%2Csource%2Cmultimedia%2Cheadline%2Ckeywords%2Cpub_date%2Cdocument_type%2Cnews_desk%2Cbyline%2Ctype_of_material%2C_id%2Cword_count&page=46&facet_field=source%2Csection_name%2Cdocument_type%2Ctype_of_material%2Cday_of_week\n",
        "... last_date = 1983-07-30T00:00:00Z\n",
        "\n",
        "... n_results ="
       ]
      },
      {
       "output_type": "stream",
       "stream": "stdout",
       "text": [
        " 470\n",
        "... url = http://api.nytimes.com/svc/search/v2/articlesearch.json?q=%22thomas+l.+friedman%22&sort=newest&begin_date=18510918&api-key=f28d40af5370f79078fc5eb7ffd97049%3A17%3A49171679&end_date=19860715&facet_filter=true&fl=web_url%2Csnippet%2Clead_paragraph%2Cabstract%2Cprint_page%2Cblog%2Csource%2Cmultimedia%2Cheadline%2Ckeywords%2Cpub_date%2Cdocument_type%2Cnews_desk%2Cbyline%2Ctype_of_material%2C_id%2Cword_count&page=47&facet_field=source%2Csection_name%2Cdocument_type%2Ctype_of_material%2Cday_of_week\n",
        "... last_date = 1983-07-04T00:00:00Z\n",
        "\n",
        "... n_results ="
       ]
      },
      {
       "output_type": "stream",
       "stream": "stdout",
       "text": [
        " 480\n",
        "... url = http://api.nytimes.com/svc/search/v2/articlesearch.json?q=%22thomas+l.+friedman%22&sort=newest&begin_date=18510918&api-key=f28d40af5370f79078fc5eb7ffd97049%3A17%3A49171679&end_date=19860715&facet_filter=true&fl=web_url%2Csnippet%2Clead_paragraph%2Cabstract%2Cprint_page%2Cblog%2Csource%2Cmultimedia%2Cheadline%2Ckeywords%2Cpub_date%2Cdocument_type%2Cnews_desk%2Cbyline%2Ctype_of_material%2C_id%2Cword_count&page=48&facet_field=source%2Csection_name%2Cdocument_type%2Ctype_of_material%2Cday_of_week\n",
        "... last_date = 1983-06-22T00:00:00Z\n",
        "\n",
        "... n_results ="
       ]
      },
      {
       "output_type": "stream",
       "stream": "stdout",
       "text": [
        " 490\n",
        "... url = http://api.nytimes.com/svc/search/v2/articlesearch.json?q=%22thomas+l.+friedman%22&sort=newest&begin_date=18510918&api-key=f28d40af5370f79078fc5eb7ffd97049%3A17%3A49171679&end_date=19860715&facet_filter=true&fl=web_url%2Csnippet%2Clead_paragraph%2Cabstract%2Cprint_page%2Cblog%2Csource%2Cmultimedia%2Cheadline%2Ckeywords%2Cpub_date%2Cdocument_type%2Cnews_desk%2Cbyline%2Ctype_of_material%2C_id%2Cword_count&page=49&facet_field=source%2Csection_name%2Cdocument_type%2Ctype_of_material%2Cday_of_week\n",
        "... last_date = 1983-05-15T00:00:00Z\n",
        "\n",
        "... n_results ="
       ]
      },
      {
       "output_type": "stream",
       "stream": "stdout",
       "text": [
        " 500\n",
        "... url = http://api.nytimes.com/svc/search/v2/articlesearch.json?q=%22thomas+l.+friedman%22&sort=newest&begin_date=18510918&api-key=f28d40af5370f79078fc5eb7ffd97049%3A17%3A49171679&end_date=19860715&facet_filter=true&fl=web_url%2Csnippet%2Clead_paragraph%2Cabstract%2Cprint_page%2Cblog%2Csource%2Cmultimedia%2Cheadline%2Ckeywords%2Cpub_date%2Cdocument_type%2Cnews_desk%2Cbyline%2Ctype_of_material%2C_id%2Cword_count&page=50&facet_field=source%2Csection_name%2Cdocument_type%2Ctype_of_material%2Cday_of_week\n",
        "... last_date = 1983-04-24T00:00:00Z\n",
        "\n",
        "... n_results ="
       ]
      },
      {
       "output_type": "stream",
       "stream": "stdout",
       "text": [
        " 510\n",
        "... url = http://api.nytimes.com/svc/search/v2/articlesearch.json?q=%22thomas+l.+friedman%22&sort=newest&begin_date=18510918&api-key=f28d40af5370f79078fc5eb7ffd97049%3A17%3A49171679&end_date=19860715&facet_filter=true&fl=web_url%2Csnippet%2Clead_paragraph%2Cabstract%2Cprint_page%2Cblog%2Csource%2Cmultimedia%2Cheadline%2Ckeywords%2Cpub_date%2Cdocument_type%2Cnews_desk%2Cbyline%2Ctype_of_material%2C_id%2Cword_count&page=51&facet_field=source%2Csection_name%2Cdocument_type%2Ctype_of_material%2Cday_of_week\n",
        "... last_date = 1983-04-12T00:00:00Z\n",
        "\n",
        "... n_results ="
       ]
      },
      {
       "output_type": "stream",
       "stream": "stdout",
       "text": [
        " 520\n",
        "... url = http://api.nytimes.com/svc/search/v2/articlesearch.json?q=%22thomas+l.+friedman%22&sort=newest&begin_date=18510918&api-key=f28d40af5370f79078fc5eb7ffd97049%3A17%3A49171679&end_date=19860715&facet_filter=true&fl=web_url%2Csnippet%2Clead_paragraph%2Cabstract%2Cprint_page%2Cblog%2Csource%2Cmultimedia%2Cheadline%2Ckeywords%2Cpub_date%2Cdocument_type%2Cnews_desk%2Cbyline%2Ctype_of_material%2C_id%2Cword_count&page=52&facet_field=source%2Csection_name%2Cdocument_type%2Ctype_of_material%2Cday_of_week\n",
        "... last_date = 1983-04-01T00:00:00Z\n",
        "\n",
        "... n_results ="
       ]
      },
      {
       "output_type": "stream",
       "stream": "stdout",
       "text": [
        " 530\n",
        "... url = http://api.nytimes.com/svc/search/v2/articlesearch.json?q=%22thomas+l.+friedman%22&sort=newest&begin_date=18510918&api-key=f28d40af5370f79078fc5eb7ffd97049%3A17%3A49171679&end_date=19860715&facet_filter=true&fl=web_url%2Csnippet%2Clead_paragraph%2Cabstract%2Cprint_page%2Cblog%2Csource%2Cmultimedia%2Cheadline%2Ckeywords%2Cpub_date%2Cdocument_type%2Cnews_desk%2Cbyline%2Ctype_of_material%2C_id%2Cword_count&page=53&facet_field=source%2Csection_name%2Cdocument_type%2Ctype_of_material%2Cday_of_week\n",
        "... last_date = 1983-02-27T00:00:00Z\n",
        "\n",
        "... n_results ="
       ]
      },
      {
       "output_type": "stream",
       "stream": "stdout",
       "text": [
        " 540\n",
        "... url = http://api.nytimes.com/svc/search/v2/articlesearch.json?q=%22thomas+l.+friedman%22&sort=newest&begin_date=18510918&api-key=f28d40af5370f79078fc5eb7ffd97049%3A17%3A49171679&end_date=19860715&facet_filter=true&fl=web_url%2Csnippet%2Clead_paragraph%2Cabstract%2Cprint_page%2Cblog%2Csource%2Cmultimedia%2Cheadline%2Ckeywords%2Cpub_date%2Cdocument_type%2Cnews_desk%2Cbyline%2Ctype_of_material%2C_id%2Cword_count&page=54&facet_field=source%2Csection_name%2Cdocument_type%2Ctype_of_material%2Cday_of_week\n",
        "... last_date = 1983-02-13T00:00:00Z\n",
        "\n",
        "... n_results ="
       ]
      },
      {
       "output_type": "stream",
       "stream": "stdout",
       "text": [
        " 550\n",
        "... url = http://api.nytimes.com/svc/search/v2/articlesearch.json?q=%22thomas+l.+friedman%22&sort=newest&begin_date=18510918&api-key=f28d40af5370f79078fc5eb7ffd97049%3A17%3A49171679&end_date=19860715&facet_filter=true&fl=web_url%2Csnippet%2Clead_paragraph%2Cabstract%2Cprint_page%2Cblog%2Csource%2Cmultimedia%2Cheadline%2Ckeywords%2Cpub_date%2Cdocument_type%2Cnews_desk%2Cbyline%2Ctype_of_material%2C_id%2Cword_count&page=55&facet_field=source%2Csection_name%2Cdocument_type%2Ctype_of_material%2Cday_of_week\n",
        "... last_date = 1983-01-25T00:00:00Z\n",
        "\n",
        "... n_results ="
       ]
      },
      {
       "output_type": "stream",
       "stream": "stdout",
       "text": [
        " 560\n",
        "... url = http://api.nytimes.com/svc/search/v2/articlesearch.json?q=%22thomas+l.+friedman%22&sort=newest&begin_date=18510918&api-key=f28d40af5370f79078fc5eb7ffd97049%3A17%3A49171679&end_date=19860715&facet_filter=true&fl=web_url%2Csnippet%2Clead_paragraph%2Cabstract%2Cprint_page%2Cblog%2Csource%2Cmultimedia%2Cheadline%2Ckeywords%2Cpub_date%2Cdocument_type%2Cnews_desk%2Cbyline%2Ctype_of_material%2C_id%2Cword_count&page=56&facet_field=source%2Csection_name%2Cdocument_type%2Ctype_of_material%2Cday_of_week\n",
        "... last_date = 1982-11-22T00:00:00Z\n",
        "\n",
        "... n_results ="
       ]
      },
      {
       "output_type": "stream",
       "stream": "stdout",
       "text": [
        " 570\n",
        "... url = http://api.nytimes.com/svc/search/v2/articlesearch.json?q=%22thomas+l.+friedman%22&sort=newest&begin_date=18510918&api-key=f28d40af5370f79078fc5eb7ffd97049%3A17%3A49171679&end_date=19860715&facet_filter=true&fl=web_url%2Csnippet%2Clead_paragraph%2Cabstract%2Cprint_page%2Cblog%2Csource%2Cmultimedia%2Cheadline%2Ckeywords%2Cpub_date%2Cdocument_type%2Cnews_desk%2Cbyline%2Ctype_of_material%2C_id%2Cword_count&page=57&facet_field=source%2Csection_name%2Cdocument_type%2Ctype_of_material%2Cday_of_week\n",
        "... last_date = 1982-10-08T00:00:00Z\n",
        "\n",
        "... n_results ="
       ]
      },
      {
       "output_type": "stream",
       "stream": "stdout",
       "text": [
        " 580\n",
        "... url = http://api.nytimes.com/svc/search/v2/articlesearch.json?q=%22thomas+l.+friedman%22&sort=newest&begin_date=18510918&api-key=f28d40af5370f79078fc5eb7ffd97049%3A17%3A49171679&end_date=19860715&facet_filter=true&fl=web_url%2Csnippet%2Clead_paragraph%2Cabstract%2Cprint_page%2Cblog%2Csource%2Cmultimedia%2Cheadline%2Ckeywords%2Cpub_date%2Cdocument_type%2Cnews_desk%2Cbyline%2Ctype_of_material%2C_id%2Cword_count&page=58&facet_field=source%2Csection_name%2Cdocument_type%2Ctype_of_material%2Cday_of_week\n",
        "... last_date = 1982-08-19T00:00:00Z\n",
        "\n",
        "... n_results ="
       ]
      },
      {
       "output_type": "stream",
       "stream": "stdout",
       "text": [
        " 590\n",
        "... url = http://api.nytimes.com/svc/search/v2/articlesearch.json?q=%22thomas+l.+friedman%22&sort=newest&begin_date=18510918&api-key=f28d40af5370f79078fc5eb7ffd97049%3A17%3A49171679&end_date=19860715&facet_filter=true&fl=web_url%2Csnippet%2Clead_paragraph%2Cabstract%2Cprint_page%2Cblog%2Csource%2Cmultimedia%2Cheadline%2Ckeywords%2Cpub_date%2Cdocument_type%2Cnews_desk%2Cbyline%2Ctype_of_material%2C_id%2Cword_count&page=59&facet_field=source%2Csection_name%2Cdocument_type%2Ctype_of_material%2Cday_of_week\n",
        "... last_date = 1982-08-08T00:00:00Z\n",
        "\n",
        "... n_results ="
       ]
      },
      {
       "output_type": "stream",
       "stream": "stdout",
       "text": [
        " 600\n",
        "... url = http://api.nytimes.com/svc/search/v2/articlesearch.json?q=%22thomas+l.+friedman%22&sort=newest&begin_date=18510918&api-key=f28d40af5370f79078fc5eb7ffd97049%3A17%3A49171679&end_date=19860715&facet_filter=true&fl=web_url%2Csnippet%2Clead_paragraph%2Cabstract%2Cprint_page%2Cblog%2Csource%2Cmultimedia%2Cheadline%2Ckeywords%2Cpub_date%2Cdocument_type%2Cnews_desk%2Cbyline%2Ctype_of_material%2C_id%2Cword_count&page=60&facet_field=source%2Csection_name%2Cdocument_type%2Ctype_of_material%2Cday_of_week\n",
        "... last_date = 1982-07-28T00:00:00Z\n",
        "\n",
        "... n_results ="
       ]
      },
      {
       "output_type": "stream",
       "stream": "stdout",
       "text": [
        " 610\n",
        "... url = http://api.nytimes.com/svc/search/v2/articlesearch.json?q=%22thomas+l.+friedman%22&sort=newest&begin_date=18510918&api-key=f28d40af5370f79078fc5eb7ffd97049%3A17%3A49171679&end_date=19860715&facet_filter=true&fl=web_url%2Csnippet%2Clead_paragraph%2Cabstract%2Cprint_page%2Cblog%2Csource%2Cmultimedia%2Cheadline%2Ckeywords%2Cpub_date%2Cdocument_type%2Cnews_desk%2Cbyline%2Ctype_of_material%2C_id%2Cword_count&page=61&facet_field=source%2Csection_name%2Cdocument_type%2Ctype_of_material%2Cday_of_week\n",
        "... last_date = 1982-07-20T00:00:00Z\n",
        "\n",
        "... n_results ="
       ]
      },
      {
       "output_type": "stream",
       "stream": "stdout",
       "text": [
        " 620\n",
        "... url = http://api.nytimes.com/svc/search/v2/articlesearch.json?q=%22thomas+l.+friedman%22&sort=newest&begin_date=18510918&api-key=f28d40af5370f79078fc5eb7ffd97049%3A17%3A49171679&end_date=19860715&facet_filter=true&fl=web_url%2Csnippet%2Clead_paragraph%2Cabstract%2Cprint_page%2Cblog%2Csource%2Cmultimedia%2Cheadline%2Ckeywords%2Cpub_date%2Cdocument_type%2Cnews_desk%2Cbyline%2Ctype_of_material%2C_id%2Cword_count&page=62&facet_field=source%2Csection_name%2Cdocument_type%2Ctype_of_material%2Cday_of_week\n",
        "... last_date = 1982-07-06T00:00:00Z\n",
        "\n",
        "... n_results ="
       ]
      },
      {
       "output_type": "stream",
       "stream": "stdout",
       "text": [
        " 630\n",
        "... url = http://api.nytimes.com/svc/search/v2/articlesearch.json?q=%22thomas+l.+friedman%22&sort=newest&begin_date=18510918&api-key=f28d40af5370f79078fc5eb7ffd97049%3A17%3A49171679&end_date=19860715&facet_filter=true&fl=web_url%2Csnippet%2Clead_paragraph%2Cabstract%2Cprint_page%2Cblog%2Csource%2Cmultimedia%2Cheadline%2Ckeywords%2Cpub_date%2Cdocument_type%2Cnews_desk%2Cbyline%2Ctype_of_material%2C_id%2Cword_count&page=63&facet_field=source%2Csection_name%2Cdocument_type%2Ctype_of_material%2Cday_of_week\n",
        "... last_date = 1982-06-27T00:00:00Z\n",
        "\n",
        "... n_results ="
       ]
      },
      {
       "output_type": "stream",
       "stream": "stdout",
       "text": [
        " 640\n",
        "... url = http://api.nytimes.com/svc/search/v2/articlesearch.json?q=%22thomas+l.+friedman%22&sort=newest&begin_date=18510918&api-key=f28d40af5370f79078fc5eb7ffd97049%3A17%3A49171679&end_date=19860715&facet_filter=true&fl=web_url%2Csnippet%2Clead_paragraph%2Cabstract%2Cprint_page%2Cblog%2Csource%2Cmultimedia%2Cheadline%2Ckeywords%2Cpub_date%2Cdocument_type%2Cnews_desk%2Cbyline%2Ctype_of_material%2C_id%2Cword_count&page=64&facet_field=source%2Csection_name%2Cdocument_type%2Ctype_of_material%2Cday_of_week\n",
        "... last_date = 1982-06-19T00:00:00Z\n",
        "\n",
        "... n_results ="
       ]
      },
      {
       "output_type": "stream",
       "stream": "stdout",
       "text": [
        " 650\n",
        "... url = http://api.nytimes.com/svc/search/v2/articlesearch.json?q=%22thomas+l.+friedman%22&sort=newest&begin_date=18510918&api-key=f28d40af5370f79078fc5eb7ffd97049%3A17%3A49171679&end_date=19860715&facet_filter=true&fl=web_url%2Csnippet%2Clead_paragraph%2Cabstract%2Cprint_page%2Cblog%2Csource%2Cmultimedia%2Cheadline%2Ckeywords%2Cpub_date%2Cdocument_type%2Cnews_desk%2Cbyline%2Ctype_of_material%2C_id%2Cword_count&page=65&facet_field=source%2Csection_name%2Cdocument_type%2Ctype_of_material%2Cday_of_week\n",
        "... last_date = 1982-06-08T00:00:00Z\n",
        "\n",
        "... n_results ="
       ]
      },
      {
       "output_type": "stream",
       "stream": "stdout",
       "text": [
        " 660\n",
        "... url = http://api.nytimes.com/svc/search/v2/articlesearch.json?q=%22thomas+l.+friedman%22&sort=newest&begin_date=18510918&api-key=f28d40af5370f79078fc5eb7ffd97049%3A17%3A49171679&end_date=19860715&facet_filter=true&fl=web_url%2Csnippet%2Clead_paragraph%2Cabstract%2Cprint_page%2Cblog%2Csource%2Cmultimedia%2Cheadline%2Ckeywords%2Cpub_date%2Cdocument_type%2Cnews_desk%2Cbyline%2Ctype_of_material%2C_id%2Cword_count&page=66&facet_field=source%2Csection_name%2Cdocument_type%2Ctype_of_material%2Cday_of_week\n",
        "... last_date = 1982-05-13T00:00:00Z\n",
        "\n",
        "... n_results ="
       ]
      },
      {
       "output_type": "stream",
       "stream": "stdout",
       "text": [
        " 670\n",
        "... url = http://api.nytimes.com/svc/search/v2/articlesearch.json?q=%22thomas+l.+friedman%22&sort=newest&begin_date=18510918&api-key=f28d40af5370f79078fc5eb7ffd97049%3A17%3A49171679&end_date=19860715&facet_filter=true&fl=web_url%2Csnippet%2Clead_paragraph%2Cabstract%2Cprint_page%2Cblog%2Csource%2Cmultimedia%2Cheadline%2Ckeywords%2Cpub_date%2Cdocument_type%2Cnews_desk%2Cbyline%2Ctype_of_material%2C_id%2Cword_count&page=67&facet_field=source%2Csection_name%2Cdocument_type%2Ctype_of_material%2Cday_of_week\n",
        "... last_date = 1982-03-26T00:00:00Z\n",
        "\n",
        "... n_results ="
       ]
      },
      {
       "output_type": "stream",
       "stream": "stdout",
       "text": [
        " 680\n",
        "... url = http://api.nytimes.com/svc/search/v2/articlesearch.json?q=%22thomas+l.+friedman%22&sort=newest&begin_date=18510918&api-key=f28d40af5370f79078fc5eb7ffd97049%3A17%3A49171679&end_date=19860715&facet_filter=true&fl=web_url%2Csnippet%2Clead_paragraph%2Cabstract%2Cprint_page%2Cblog%2Csource%2Cmultimedia%2Cheadline%2Ckeywords%2Cpub_date%2Cdocument_type%2Cnews_desk%2Cbyline%2Ctype_of_material%2C_id%2Cword_count&page=68&facet_field=source%2Csection_name%2Cdocument_type%2Ctype_of_material%2Cday_of_week\n",
        "... last_date = 1982-02-17T00:00:00Z\n",
        "\n",
        "... n_results ="
       ]
      },
      {
       "output_type": "stream",
       "stream": "stdout",
       "text": [
        " 690\n",
        "... url = http://api.nytimes.com/svc/search/v2/articlesearch.json?q=%22thomas+l.+friedman%22&sort=newest&begin_date=18510918&api-key=f28d40af5370f79078fc5eb7ffd97049%3A17%3A49171679&end_date=19860715&facet_filter=true&fl=web_url%2Csnippet%2Clead_paragraph%2Cabstract%2Cprint_page%2Cblog%2Csource%2Cmultimedia%2Cheadline%2Ckeywords%2Cpub_date%2Cdocument_type%2Cnews_desk%2Cbyline%2Ctype_of_material%2C_id%2Cword_count&page=69&facet_field=source%2Csection_name%2Cdocument_type%2Ctype_of_material%2Cday_of_week\n",
        "... last_date = 1982-01-25T00:00:00Z\n",
        "\n",
        "... n_results ="
       ]
      },
      {
       "output_type": "stream",
       "stream": "stdout",
       "text": [
        " 700\n",
        "... url = http://api.nytimes.com/svc/search/v2/articlesearch.json?q=%22thomas+l.+friedman%22&sort=newest&begin_date=18510918&api-key=f28d40af5370f79078fc5eb7ffd97049%3A17%3A49171679&end_date=19860715&facet_filter=true&fl=web_url%2Csnippet%2Clead_paragraph%2Cabstract%2Cprint_page%2Cblog%2Csource%2Cmultimedia%2Cheadline%2Ckeywords%2Cpub_date%2Cdocument_type%2Cnews_desk%2Cbyline%2Ctype_of_material%2C_id%2Cword_count&page=70&facet_field=source%2Csection_name%2Cdocument_type%2Ctype_of_material%2Cday_of_week\n",
        "... last_date = 1981-12-21T00:00:00Z\n",
        "\n",
        "... n_results ="
       ]
      },
      {
       "output_type": "stream",
       "stream": "stdout",
       "text": [
        " 710\n",
        "... url = http://api.nytimes.com/svc/search/v2/articlesearch.json?q=%22thomas+l.+friedman%22&sort=newest&begin_date=18510918&api-key=f28d40af5370f79078fc5eb7ffd97049%3A17%3A49171679&end_date=19860715&facet_filter=true&fl=web_url%2Csnippet%2Clead_paragraph%2Cabstract%2Cprint_page%2Cblog%2Csource%2Cmultimedia%2Cheadline%2Ckeywords%2Cpub_date%2Cdocument_type%2Cnews_desk%2Cbyline%2Ctype_of_material%2C_id%2Cword_count&page=71&facet_field=source%2Csection_name%2Cdocument_type%2Ctype_of_material%2Cday_of_week\n",
        "... last_date = 1981-11-21T00:00:00Z\n",
        "\n",
        "... n_results ="
       ]
      },
      {
       "output_type": "stream",
       "stream": "stdout",
       "text": [
        " 720\n",
        "... url = http://api.nytimes.com/svc/search/v2/articlesearch.json?q=%22thomas+l.+friedman%22&sort=newest&begin_date=18510918&api-key=f28d40af5370f79078fc5eb7ffd97049%3A17%3A49171679&end_date=19860715&facet_filter=true&fl=web_url%2Csnippet%2Clead_paragraph%2Cabstract%2Cprint_page%2Cblog%2Csource%2Cmultimedia%2Cheadline%2Ckeywords%2Cpub_date%2Cdocument_type%2Cnews_desk%2Cbyline%2Ctype_of_material%2C_id%2Cword_count&page=72&facet_field=source%2Csection_name%2Cdocument_type%2Ctype_of_material%2Cday_of_week\n",
        "... last_date = 1981-10-27T00:00:00Z\n",
        "\n",
        "... n_results ="
       ]
      },
      {
       "output_type": "stream",
       "stream": "stdout",
       "text": [
        " 730\n",
        "... url = http://api.nytimes.com/svc/search/v2/articlesearch.json?q=%22thomas+l.+friedman%22&sort=newest&begin_date=18510918&api-key=f28d40af5370f79078fc5eb7ffd97049%3A17%3A49171679&end_date=19860715&facet_filter=true&fl=web_url%2Csnippet%2Clead_paragraph%2Cabstract%2Cprint_page%2Cblog%2Csource%2Cmultimedia%2Cheadline%2Ckeywords%2Cpub_date%2Cdocument_type%2Cnews_desk%2Cbyline%2Ctype_of_material%2C_id%2Cword_count&page=73&facet_field=source%2Csection_name%2Cdocument_type%2Ctype_of_material%2Cday_of_week\n",
        "... last_date = 1981-10-04T00:00:00Z\n",
        "\n",
        "... n_results ="
       ]
      },
      {
       "output_type": "stream",
       "stream": "stdout",
       "text": [
        " 740\n",
        "... url = http://api.nytimes.com/svc/search/v2/articlesearch.json?q=%22thomas+l.+friedman%22&sort=newest&begin_date=18510918&api-key=f28d40af5370f79078fc5eb7ffd97049%3A17%3A49171679&end_date=19860715&facet_filter=true&fl=web_url%2Csnippet%2Clead_paragraph%2Cabstract%2Cprint_page%2Cblog%2Csource%2Cmultimedia%2Cheadline%2Ckeywords%2Cpub_date%2Cdocument_type%2Cnews_desk%2Cbyline%2Ctype_of_material%2C_id%2Cword_count&page=74&facet_field=source%2Csection_name%2Cdocument_type%2Ctype_of_material%2Cday_of_week\n",
        "... last_date = 1981-09-11T00:00:00Z\n",
        "\n",
        "... n_results ="
       ]
      },
      {
       "output_type": "stream",
       "stream": "stdout",
       "text": [
        " 750\n",
        "... url = http://api.nytimes.com/svc/search/v2/articlesearch.json?q=%22thomas+l.+friedman%22&sort=newest&begin_date=18510918&api-key=f28d40af5370f79078fc5eb7ffd97049%3A17%3A49171679&end_date=19860715&facet_filter=true&fl=web_url%2Csnippet%2Clead_paragraph%2Cabstract%2Cprint_page%2Cblog%2Csource%2Cmultimedia%2Cheadline%2Ckeywords%2Cpub_date%2Cdocument_type%2Cnews_desk%2Cbyline%2Ctype_of_material%2C_id%2Cword_count&page=75&facet_field=source%2Csection_name%2Cdocument_type%2Ctype_of_material%2Cday_of_week\n",
        "... last_date = 1981-08-10T00:00:00Z\n",
        "\n",
        "... n_results ="
       ]
      },
      {
       "output_type": "stream",
       "stream": "stdout",
       "text": [
        " 760\n",
        "... url = http://api.nytimes.com/svc/search/v2/articlesearch.json?q=%22thomas+l.+friedman%22&sort=newest&begin_date=18510918&api-key=f28d40af5370f79078fc5eb7ffd97049%3A17%3A49171679&end_date=19860715&facet_filter=true&fl=web_url%2Csnippet%2Clead_paragraph%2Cabstract%2Cprint_page%2Cblog%2Csource%2Cmultimedia%2Cheadline%2Ckeywords%2Cpub_date%2Cdocument_type%2Cnews_desk%2Cbyline%2Ctype_of_material%2C_id%2Cword_count&page=76&facet_field=source%2Csection_name%2Cdocument_type%2Ctype_of_material%2Cday_of_week\n",
        "... last_date = 1981-07-17T00:00:00Z\n",
        "\n",
        "... n_results ="
       ]
      },
      {
       "output_type": "stream",
       "stream": "stdout",
       "text": [
        " 770\n",
        "... url = http://api.nytimes.com/svc/search/v2/articlesearch.json?q=%22thomas+l.+friedman%22&sort=newest&begin_date=18510918&api-key=f28d40af5370f79078fc5eb7ffd97049%3A17%3A49171679&end_date=19860715&facet_filter=true&fl=web_url%2Csnippet%2Clead_paragraph%2Cabstract%2Cprint_page%2Cblog%2Csource%2Cmultimedia%2Cheadline%2Ckeywords%2Cpub_date%2Cdocument_type%2Cnews_desk%2Cbyline%2Ctype_of_material%2C_id%2Cword_count&page=77&facet_field=source%2Csection_name%2Cdocument_type%2Ctype_of_material%2Cday_of_week\n",
        "... last_date = 1981-07-02T00:00:00Z\n",
        "\n",
        "... n_results ="
       ]
      },
      {
       "output_type": "stream",
       "stream": "stdout",
       "text": [
        " 780\n",
        "... url = http://api.nytimes.com/svc/search/v2/articlesearch.json?q=%22thomas+l.+friedman%22&sort=newest&begin_date=18510918&api-key=f28d40af5370f79078fc5eb7ffd97049%3A17%3A49171679&end_date=19860715&facet_filter=true&fl=web_url%2Csnippet%2Clead_paragraph%2Cabstract%2Cprint_page%2Cblog%2Csource%2Cmultimedia%2Cheadline%2Ckeywords%2Cpub_date%2Cdocument_type%2Cnews_desk%2Cbyline%2Ctype_of_material%2C_id%2Cword_count&page=78&facet_field=source%2Csection_name%2Cdocument_type%2Ctype_of_material%2Cday_of_week\n",
        "... last_date = 1981-06-11T00:00:00Z\n"
       ]
      }
     ],
     "prompt_number": 31
    },
    {
     "cell_type": "code",
     "collapsed": false,
     "input": [
      "print len(all_docs_7)\n",
      "print min(doc['pub_date'] for doc in all_docs_7)"
     ],
     "language": "python",
     "metadata": {},
     "outputs": [
      {
       "output_type": "stream",
       "stream": "stdout",
       "text": [
        "790\n",
        "1938-05-11T00:00:00Z\n"
       ]
      }
     ],
     "prompt_number": 32
    },
    {
     "cell_type": "code",
     "collapsed": false,
     "input": [
      "docs_chunks = [all_docs, all_docs_2, all_docs_3, all_docs_4, all_docs_5, all_docs_6, all_docs_7]\n",
      "all_all_docs = []\n",
      "for docs in docs_chunks:\n",
      "    all_all_docs.extend(docs)"
     ],
     "language": "python",
     "metadata": {},
     "outputs": [],
     "prompt_number": 34
    },
    {
     "cell_type": "code",
     "collapsed": false,
     "input": [
      "len(all_all_docs)"
     ],
     "language": "python",
     "metadata": {},
     "outputs": [
      {
       "metadata": {},
       "output_type": "pyout",
       "prompt_number": 35,
       "text": [
        "6840"
       ]
      }
     ],
     "prompt_number": 35
    },
    {
     "cell_type": "code",
     "collapsed": false,
     "input": [
      "cPickle.dump(all_all_docs, open('all_friedman_docs.pkl', 'w'))"
     ],
     "language": "python",
     "metadata": {},
     "outputs": [],
     "prompt_number": 36
    },
    {
     "cell_type": "markdown",
     "metadata": {},
     "source": [
      "### Scrape NYT Article Text"
     ]
    },
    {
     "cell_type": "code",
     "collapsed": false,
     "input": [
      "import cPickle\n",
      "from hiPy import hi_utilities\n",
      "import random\n",
      "from stem.connection import connect_port\n",
      "from stem import CircStatus, Signal\n",
      "import time\n",
      "from unidecode import unidecode"
     ],
     "language": "python",
     "metadata": {},
     "outputs": [],
     "prompt_number": 2
    },
    {
     "cell_type": "code",
     "collapsed": false,
     "input": [
      "help(controller.new_circuit)"
     ],
     "language": "python",
     "metadata": {},
     "outputs": [
      {
       "output_type": "stream",
       "stream": "stdout",
       "text": [
        "Help on method new_circuit in module stem.control:\n",
        "\n",
        "new_circuit(self, path=None, purpose='general', await_build=False) method of stem.control.Controller instance\n",
        "    Requests a new circuit. If the path isn't provided, one is automatically\n",
        "    selected.\n",
        "    \n",
        "    :param list,str path: one or more relays to make a circuit through\n",
        "    :param str purpose: \"general\" or \"controller\"\n",
        "    :param bool await_build: blocks until the circuit is built if **True**\n",
        "    \n",
        "    :returns: str of the circuit id of the newly created circuit\n",
        "    \n",
        "    :raises: :class:`stem.ControllerError` if the call fails\n",
        "\n"
       ]
      }
     ],
     "prompt_number": 13
    },
    {
     "cell_type": "code",
     "collapsed": false,
     "input": [
      "controller = connect_port(address='127.0.0.1',\n",
      "                          port=9151,\n",
      "                          password='bjd31415lucy3549')"
     ],
     "language": "python",
     "metadata": {},
     "outputs": [
      {
       "output_type": "stream",
       "stream": "stderr",
       "text": [
        "TRACE:stem:Sent to tor:\n",
        "PROTOCOLINFO 1\n"
       ]
      },
      {
       "output_type": "stream",
       "stream": "stderr",
       "text": [
        "TRACE:stem:Received from tor:\n",
        "250-PROTOCOLINFO 1\n",
        "250-AUTH METHODS=HASHEDPASSWORD\n",
        "250-VERSION Tor=\"0.2.3.25\"\n",
        "250 OK\n"
       ]
      },
      {
       "output_type": "stream",
       "stream": "stderr",
       "text": [
        "TRACE:stem:Sent to tor:\n",
        "AUTHENTICATE \"bjd31415lucy3549\"\n"
       ]
      },
      {
       "output_type": "stream",
       "stream": "stderr",
       "text": [
        "TRACE:stem:Received from tor:\n",
        "250 OK\n"
       ]
      }
     ],
     "prompt_number": 3
    },
    {
     "cell_type": "code",
     "collapsed": false,
     "input": [
      "controller.signal(Signal.NEWNYM)\n",
      "controller.get_info('address')"
     ],
     "language": "python",
     "metadata": {},
     "outputs": [
      {
       "output_type": "stream",
       "stream": "stderr",
       "text": [
        "TRACE:stem:Sent to tor:\n",
        "SIGNAL NEWNYM\n"
       ]
      },
      {
       "output_type": "stream",
       "stream": "stderr",
       "text": [
        "TRACE:stem:Received from tor:\n",
        "250 OK\n",
        "TRACE:stem:Sent to tor:\n",
        "GETINFO address\n"
       ]
      },
      {
       "output_type": "stream",
       "stream": "stderr",
       "text": [
        "TRACE:stem:Received from tor:\n",
        "250-address=66.108.0.125\n",
        "250 OK\n",
        "DEBUG:stem:GETINFO address (runtime: 0.0009)\n"
       ]
      },
      {
       "metadata": {},
       "output_type": "pyout",
       "prompt_number": 11,
       "text": [
        "'66.108.0.125'"
       ]
      }
     ],
     "prompt_number": 11
    },
    {
     "cell_type": "code",
     "collapsed": false,
     "input": [
      "all_docs = cPickle.load(open('all_friedman_docs.pkl', 'r'))\n",
      "print 'len(all_docs) =', len(all_docs)\n",
      "all_docs[0]"
     ],
     "language": "python",
     "metadata": {},
     "outputs": [
      {
       "output_type": "stream",
       "stream": "stdout",
       "text": [
        "len(all_docs) = 6840\n"
       ]
      },
      {
       "metadata": {},
       "output_type": "pyout",
       "prompt_number": 14,
       "text": [
        "{u'_id': u'521417be79881007d5912b31',\n",
        " u'abstract': u\"Thomas L Friedman Op-Ed column holds that the most terrible aspect of crisis in Egypt is that neither military nor Muslim Brotherhood, country's two most organized and trusted groups, have shown that they are competent enough to lead nation; questions whether the ruling military leaders will make way for a viable third option.\",\n",
        " u'blog': [],\n",
        " u'byline': {u'contributor': u'',\n",
        "  u'original': u'By THOMAS L. FRIEDMAN',\n",
        "  u'person': [{u'firstname': u'Thomas',\n",
        "    u'lastname': u'FRIEDMAN',\n",
        "    u'middlename': u'L.',\n",
        "    u'organization': u'',\n",
        "    u'rank': 1,\n",
        "    u'role': u'reported'}]},\n",
        " u'document_type': u'article',\n",
        " u'headline': {u'kicker': u'Op-Ed Columnist',\n",
        "  u'main': u'Close to the Edge',\n",
        "  u'print_headline': u'Close To the Edge'},\n",
        " u'keywords': [{u'is_major': u'N',\n",
        "   u'name': u'persons',\n",
        "   u'rank': u'5',\n",
        "   u'value': u'Sisi, Abdul-Fattah el-'},\n",
        "  {u'is_major': u'N',\n",
        "   u'name': u'subject',\n",
        "   u'rank': u'1',\n",
        "   u'value': u'Defense and Military Forces'},\n",
        "  {u'is_major': u'Y',\n",
        "   u'name': u'glocations',\n",
        "   u'rank': u'3',\n",
        "   u'value': u'Egypt'},\n",
        "  {u'is_major': u'N',\n",
        "   u'name': u'organizations',\n",
        "   u'rank': u'2',\n",
        "   u'value': u'Muslim Brotherhood (Egypt)'},\n",
        "  {u'is_major': u'N',\n",
        "   u'name': u'subject',\n",
        "   u'rank': u'4',\n",
        "   u'value': u'Middle East and North Africa Unrest (2010- )'}],\n",
        " u'lead_paragraph': u'Egyptians have two bad options to choose from right now. Will anyone offer a third?',\n",
        " u'multimedia': [{u'height': 75,\n",
        "   u'legacy': {u'thumbnail': u'images/2010/09/16/opinion/Friedman_New/Friedman_New-thumbStandard.jpg',\n",
        "    u'thumbnailheight': u'75',\n",
        "    u'thumbnailwidth': u'75'},\n",
        "   u'subtype': u'thumbnail',\n",
        "   u'type': u'image',\n",
        "   u'url': u'images/2010/09/16/opinion/Friedman_New/Friedman_New-thumbStandard.jpg',\n",
        "   u'width': 75}],\n",
        " u'news_desk': u'Editorial',\n",
        " u'print_page': u'19',\n",
        " u'pub_date': u'2013-08-21T00:00:00Z',\n",
        " u'snippet': u'Egyptians have two bad options to choose from right now. Will anyone offer a third?',\n",
        " u'source': u'The New York Times',\n",
        " u'type_of_material': u'Op-Ed',\n",
        " u'web_url': u'http://www.nytimes.com/2013/08/21/opinion/friedman-close-to-the-edge.html',\n",
        " u'word_count': u'851'}"
       ]
      }
     ],
     "prompt_number": 14
    },
    {
     "cell_type": "code",
     "collapsed": false,
     "input": [
      "random.shuffle(all_docs)"
     ],
     "language": "python",
     "metadata": {},
     "outputs": [],
     "prompt_number": 15
    },
    {
     "cell_type": "code",
     "collapsed": false,
     "input": [
      "one_percent = max(int(0.01*len(all_docs)), 1)\n",
      "for i,doc in enumerate(all_docs[:25]):\n",
      "    # get a new IP address, and print it out\n",
      "    controller.signal(Signal.NEWNYM)\n",
      "    controller.get_info('address')\n",
      "    # handy counter\n",
      "    if i % 10 == 0:\n",
      "        print '\\ni =', i\n",
      "    # scrape the article text\n",
      "    url = doc.get('web_url')\n",
      "    if not url:\n",
      "        print '\\n**WARNING: No url!'\n",
      "        time.sleep(2.5 + 5.0*random.random())\n",
      "        continue\n",
      "    text = hi_utilities.extract_article_text_from_url(url,\n",
      "                                                      host='www.nytimes.com',\n",
      "                                                      referrer='http://topics.nytimes.com/top/opinion/editorialsandoped/oped/columnists/thomaslfriedman/index.html')\n",
      "    if not text:\n",
      "        print '\\n**WARNING: No text!'\n",
      "        time.sleep(2.5 + 5.0*random.random())\n",
      "        continue\n",
      "    elif text.startswith('Page Not Found'):\n",
      "        print '\\n**WARNING: Page Not Found!'\n",
      "        time.sleep(2.5 + 5.0*random.random())\n",
      "        continue\n",
      "    if isinstance(text, unicode):\n",
      "        text = unidecode(text)\n",
      "    # add text to doc\n",
      "    doc['full_text'] = text\n",
      "    time.sleep(2.5 + 5.0*random.random())"
     ],
     "language": "python",
     "metadata": {},
     "outputs": [
      {
       "output_type": "stream",
       "stream": "stderr",
       "text": [
        "TRACE:stem:Sent to tor:\n",
        "SIGNAL NEWNYM\n"
       ]
      },
      {
       "output_type": "stream",
       "stream": "stderr",
       "text": [
        "TRACE:stem:Received from tor:\n",
        "250 OK\n",
        "TRACE:stem:Sent to tor:\n",
        "GETINFO address\n"
       ]
      },
      {
       "output_type": "stream",
       "stream": "stderr",
       "text": [
        "TRACE:stem:Received from tor:\n",
        "250-address=66.108.0.125\n",
        "250 OK\n",
        "DEBUG:stem:GETINFO address (runtime: 0.0008)\n"
       ]
      },
      {
       "output_type": "stream",
       "stream": "stderr",
       "text": [
        "INFO:requests.packages.urllib3.connectionpool:Starting new HTTP connection (1): friedman.blogs.nytimes.com\n"
       ]
      },
      {
       "output_type": "stream",
       "stream": "stderr",
       "text": [
        "DEBUG:requests.packages.urllib3.connectionpool:\"GET /2005/10/06/thoughts-on-gaza-a-reading-list-unity-in-iraq/ HTTP/1.1\" 303 0\n"
       ]
      },
      {
       "output_type": "stream",
       "stream": "stderr",
       "text": [
        "INFO:requests.packages.urllib3.connectionpool:Starting new HTTP connection (1): www.nytimes.com\n"
       ]
      },
      {
       "output_type": "stream",
       "stream": "stderr",
       "text": [
        "DEBUG:requests.packages.urllib3.connectionpool:\"GET /glogin?URI=http://www.nytimes.com/2005/10/06/thoughts-on-gaza-a-reading-list-unity-in-iraq/&OQ=_rQ3D0&OP=50f35a83Q2FQ22cCrQ22zswQ22fffQ223wQ7CQ5EQ227!!P HTTP/1.1\" 302 0\n"
       ]
      },
      {
       "output_type": "stream",
       "stream": "stderr",
       "text": [
        "DEBUG:requests.packages.urllib3.connectionpool:\"GET /2005/10/06/thoughts-on-gaza-a-reading-list-unity-in-iraq/?_r=0 HTTP/1.1\" 404 2393\n"
       ]
      },
      {
       "output_type": "stream",
       "stream": "stdout",
       "text": [
        "\n",
        "i = 0\n",
        "***ERROR: status_code ="
       ]
      },
      {
       "output_type": "stream",
       "stream": "stderr",
       "text": [
        "TRACE:stem:Sent to tor:\n",
        "SIGNAL NEWNYM\n"
       ]
      },
      {
       "output_type": "stream",
       "stream": "stderr",
       "text": [
        "TRACE:stem:Received from tor:\n",
        "250 OK\n",
        "TRACE:stem:Sent to tor:\n",
        "GETINFO address\n"
       ]
      },
      {
       "output_type": "stream",
       "stream": "stderr",
       "text": [
        "TRACE:stem:Received from tor:\n",
        "250-address=66.108.0.125\n",
        "250 OK\n",
        "DEBUG:stem:GETINFO address (runtime: 0.0010)\n"
       ]
      },
      {
       "output_type": "stream",
       "stream": "stderr",
       "text": [
        "INFO:requests.packages.urllib3.connectionpool:Starting new HTTP connection (1): www.nytimes.com\n"
       ]
      },
      {
       "output_type": "stream",
       "stream": "stderr",
       "text": [
        "DEBUG:requests.packages.urllib3.connectionpool:\"GET /2012/10/03/opinion/friedman-china-needs-its-own-dream.html HTTP/1.1\" 303 0\n"
       ]
      },
      {
       "output_type": "stream",
       "stream": "stderr",
       "text": [
        "DEBUG:requests.packages.urllib3.connectionpool:\"GET /glogin?URI=http://www.nytimes.com/2012/10/03/opinion/friedman-china-needs-its-own-dream.html&OQ=_rQ3D0&OP=9e5bb66bQ2FQ27Q22LwQ27Q5DowQ27GGGQ27JwQ60NQ27KQ22zD@Q22Q22wmQ27mqQ20mQ27Q20qQ27qIQ27Q22LQ26Q5DQ26Q22Q5DQ27Q5B@Q26XKQ60vQ5D-zJQ26Q5Dv-Q5DXXKD-Q26wD-Q22GQ5D-K@XvQ60(JwQ60N HTTP/1.1\" 302 0\n"
       ]
      },
      {
       "output_type": "stream",
       "stream": "stderr",
       "text": [
        "DEBUG:requests.packages.urllib3.connectionpool:\"GET /2012/10/03/opinion/friedman-china-needs-its-own-dream.html?_r=0 HTTP/1.1\" 200 14175\n"
       ]
      },
      {
       "output_type": "stream",
       "stream": "stderr",
       "text": [
        "TRACE:stem:Sent to tor:\n",
        "SIGNAL NEWNYM\n"
       ]
      },
      {
       "output_type": "stream",
       "stream": "stderr",
       "text": [
        "TRACE:stem:Received from tor:\n",
        "250 OK\n",
        "TRACE:stem:Sent to tor:\n",
        "GETINFO address\n"
       ]
      },
      {
       "output_type": "stream",
       "stream": "stderr",
       "text": [
        "TRACE:stem:Received from tor:\n",
        "250-address=66.108.0.125\n",
        "250 OK\n",
        "DEBUG:stem:GETINFO address (runtime: 0.0011)\n"
       ]
      },
      {
       "output_type": "stream",
       "stream": "stderr",
       "text": [
        "INFO:requests.packages.urllib3.connectionpool:Starting new HTTP connection (1): www.nytimes.com\n"
       ]
      },
      {
       "output_type": "stream",
       "stream": "stderr",
       "text": [
        "DEBUG:requests.packages.urllib3.connectionpool:\"GET /2010/01/20/opinion/20friedman.html HTTP/1.1\" 303 0\n"
       ]
      },
      {
       "output_type": "stream",
       "stream": "stderr",
       "text": [
        "DEBUG:requests.packages.urllib3.connectionpool:\"GET /glogin?URI=http://www.nytimes.com/2010/01/20/opinion/20friedman.html&OQ=_rQ3D0&OP=52f0e7bfQ2FDJ-Q2FDvwQ2FDoooDfQ2FQ7E9DKJagQ7BJJQ2FQ3BDQ3BIhIDIhDQ3BIDJ-Q2AvQ2AJvDQ3BITQ7BQ2AkKQ7EQ3DvAfQ2FQ7E9 HTTP/1.1\" 302 0\n"
       ]
      },
      {
       "output_type": "stream",
       "stream": "stderr",
       "text": [
        "DEBUG:requests.packages.urllib3.connectionpool:\"GET /2010/01/20/opinion/20friedman.html?_r=0 HTTP/1.1\" 200 14261\n"
       ]
      },
      {
       "output_type": "stream",
       "stream": "stderr",
       "text": [
        "TRACE:stem:Sent to tor:\n",
        "SIGNAL NEWNYM\n"
       ]
      },
      {
       "output_type": "stream",
       "stream": "stderr",
       "text": [
        "TRACE:stem:Received from tor:\n",
        "250 OK\n",
        "TRACE:stem:Sent to tor:\n",
        "GETINFO address\n"
       ]
      },
      {
       "output_type": "stream",
       "stream": "stderr",
       "text": [
        "TRACE:stem:Received from tor:\n",
        "250-address=66.108.0.125\n",
        "250 OK\n",
        "DEBUG:stem:GETINFO address (runtime: 0.0008)\n"
       ]
      },
      {
       "output_type": "stream",
       "stream": "stderr",
       "text": [
        "INFO:requests.packages.urllib3.connectionpool:Starting new HTTP connection (1): www.nytimes.com\n"
       ]
      },
      {
       "output_type": "stream",
       "stream": "stderr",
       "text": [
        "DEBUG:requests.packages.urllib3.connectionpool:\"GET /2003/09/30/opinion/l-iraq-and-lessons-still-not-learned-483036.html HTTP/1.1\" 200 None\n"
       ]
      },
      {
       "output_type": "stream",
       "stream": "stderr",
       "text": [
        "TRACE:stem:Sent to tor:\n",
        "SIGNAL NEWNYM\n"
       ]
      },
      {
       "output_type": "stream",
       "stream": "stderr",
       "text": [
        "TRACE:stem:Received from tor:\n",
        "250 OK\n",
        "TRACE:stem:Sent to tor:\n",
        "GETINFO address\n"
       ]
      },
      {
       "output_type": "stream",
       "stream": "stderr",
       "text": [
        "TRACE:stem:Received from tor:\n",
        "250-address=66.108.0.125\n",
        "250 OK\n",
        "DEBUG:stem:GETINFO address (runtime: 0.0012)\n"
       ]
      },
      {
       "output_type": "stream",
       "stream": "stderr",
       "text": [
        "INFO:requests.packages.urllib3.connectionpool:Starting new HTTP connection (1): www.nytimes.com\n"
       ]
      },
      {
       "output_type": "stream",
       "stream": "stderr",
       "text": [
        "DEBUG:requests.packages.urllib3.connectionpool:\"GET /2004/11/07/opinion/07friedman.html HTTP/1.1\" 303 0\n"
       ]
      },
      {
       "output_type": "stream",
       "stream": "stderr",
       "text": [
        "DEBUG:requests.packages.urllib3.connectionpool:\"GET /glogin?URI=http://www.nytimes.com/2004/11/07/opinion/07friedman.html&OQ=_rQ3D0&OP=f97aff63Q2FQ25l@qQ25Q5CyqQ25...Q25YqmQ5EQ25dlTrQ22llqvQ25vpp_Q25VVQ25pJQ25l@uQ5CulQ5CQ25pJ4Q22uQ26dm)Q5CQ23YqmQ5E HTTP/1.1\" 302 0\n"
       ]
      },
      {
       "output_type": "stream",
       "stream": "stderr",
       "text": [
        "DEBUG:requests.packages.urllib3.connectionpool:\"GET /2004/11/07/opinion/07friedman.html?_r=0 HTTP/1.1\" 200 10325\n"
       ]
      },
      {
       "output_type": "stream",
       "stream": "stderr",
       "text": [
        "TRACE:stem:Sent to tor:\n",
        "SIGNAL NEWNYM\n"
       ]
      },
      {
       "output_type": "stream",
       "stream": "stderr",
       "text": [
        "TRACE:stem:Received from tor:\n",
        "250 OK\n",
        "TRACE:stem:Sent to tor:\n",
        "GETINFO address\n"
       ]
      },
      {
       "output_type": "stream",
       "stream": "stderr",
       "text": [
        "TRACE:stem:Received from tor:\n",
        "250-address=66.108.0.125\n",
        "250 OK\n",
        "DEBUG:stem:GETINFO address (runtime: 0.0010)\n"
       ]
      },
      {
       "output_type": "stream",
       "stream": "stderr",
       "text": [
        "INFO:requests.packages.urllib3.connectionpool:Starting new HTTP connection (1): www.nytimes.com\n"
       ]
      },
      {
       "output_type": "stream",
       "stream": "stderr",
       "text": [
        "DEBUG:requests.packages.urllib3.connectionpool:\"GET /1982/11/30/world/lebanon-asks-three-nations-to-send-more-troops.html HTTP/1.1\" 200 None\n"
       ]
      },
      {
       "output_type": "stream",
       "stream": "stderr",
       "text": [
        "TRACE:stem:Sent to tor:\n",
        "SIGNAL NEWNYM\n"
       ]
      },
      {
       "output_type": "stream",
       "stream": "stderr",
       "text": [
        "TRACE:stem:Received from tor:\n",
        "250 OK\n",
        "TRACE:stem:Sent to tor:\n",
        "GETINFO address\n"
       ]
      },
      {
       "output_type": "stream",
       "stream": "stderr",
       "text": [
        "TRACE:stem:Received from tor:\n",
        "250-address=66.108.0.125\n",
        "250 OK\n",
        "DEBUG:stem:GETINFO address (runtime: 0.0011)\n"
       ]
      },
      {
       "output_type": "stream",
       "stream": "stderr",
       "text": [
        "INFO:requests.packages.urllib3.connectionpool:Starting new HTTP connection (1): www.nytimes.com\n"
       ]
      },
      {
       "output_type": "stream",
       "stream": "stderr",
       "text": [
        "DEBUG:requests.packages.urllib3.connectionpool:\"GET /2005/06/22/opinion/22friedman.html HTTP/1.1\" 303 0\n"
       ]
      },
      {
       "output_type": "stream",
       "stream": "stderr",
       "text": [
        "DEBUG:requests.packages.urllib3.connectionpool:\"GET /glogin?URI=http://www.nytimes.com/2005/06/22/opinion/22friedman.html&OQ=_rQ3D0&OP=eec90c31Q2FWIvQ24Wg.Q24WLLLWmQ24HQ7BWVI(oQ60IIQ24TWTQ22Q22Q26WQ22Q7CWTTWIvdgdIgWTTlQ60d2VHEgQ51mQ24HQ7B HTTP/1.1\" 302 0\n"
       ]
      },
      {
       "output_type": "stream",
       "stream": "stderr",
       "text": [
        "DEBUG:requests.packages.urllib3.connectionpool:\"GET /2005/06/22/opinion/22friedman.html?_r=0 HTTP/1.1\" 200 9596\n"
       ]
      },
      {
       "output_type": "stream",
       "stream": "stderr",
       "text": [
        "TRACE:stem:Sent to tor:\n",
        "SIGNAL NEWNYM\n"
       ]
      },
      {
       "output_type": "stream",
       "stream": "stderr",
       "text": [
        "TRACE:stem:Received from tor:\n",
        "250 OK\n",
        "TRACE:stem:Sent to tor:\n",
        "GETINFO address\n"
       ]
      },
      {
       "output_type": "stream",
       "stream": "stderr",
       "text": [
        "TRACE:stem:Received from tor:\n",
        "250-address=66.108.0.125\n",
        "250 OK\n",
        "DEBUG:stem:GETINFO address (runtime: 0.0011)\n"
       ]
      },
      {
       "output_type": "stream",
       "stream": "stderr",
       "text": [
        "INFO:requests.packages.urllib3.connectionpool:Starting new HTTP connection (1): www.nytimes.com\n"
       ]
      },
      {
       "output_type": "stream",
       "stream": "stderr",
       "text": [
        "DEBUG:requests.packages.urllib3.connectionpool:\"GET /1997/01/15/opinion/what-hebron-tells-us.html HTTP/1.1\" 200 None\n"
       ]
      },
      {
       "output_type": "stream",
       "stream": "stderr",
       "text": [
        "TRACE:stem:Sent to tor:\n",
        "SIGNAL NEWNYM\n"
       ]
      },
      {
       "output_type": "stream",
       "stream": "stderr",
       "text": [
        "TRACE:stem:Received from tor:\n",
        "250 OK\n",
        "TRACE:stem:Sent to tor:\n",
        "GETINFO address\n"
       ]
      },
      {
       "output_type": "stream",
       "stream": "stderr",
       "text": [
        "TRACE:stem:Received from tor:\n",
        "250-address=66.108.0.125\n",
        "250 OK\n",
        "DEBUG:stem:GETINFO address (runtime: 0.0011)\n"
       ]
      },
      {
       "output_type": "stream",
       "stream": "stderr",
       "text": [
        "INFO:requests.packages.urllib3.connectionpool:Starting new HTTP connection (1): query.nytimes.com\n"
       ]
      },
      {
       "output_type": "stream",
       "stream": "stderr",
       "text": [
        "DEBUG:requests.packages.urllib3.connectionpool:\"GET /gst/fullpage.html?res=9F03EFD61F3BF93AA35751C0A9639C8B63 HTTP/1.1\" 404 2393\n"
       ]
      },
      {
       "output_type": "stream",
       "stream": "stdout",
       "text": [
        " 404\n",
        "\n",
        "**WARNING: No text!\n",
        "***ERROR: status_code ="
       ]
      },
      {
       "output_type": "stream",
       "stream": "stderr",
       "text": [
        "TRACE:stem:Sent to tor:\n",
        "SIGNAL NEWNYM\n"
       ]
      },
      {
       "output_type": "stream",
       "stream": "stderr",
       "text": [
        "TRACE:stem:Received from tor:\n",
        "250 OK\n",
        "TRACE:stem:Sent to tor:\n",
        "GETINFO address\n"
       ]
      },
      {
       "output_type": "stream",
       "stream": "stderr",
       "text": [
        "TRACE:stem:Received from tor:\n",
        "250-address=66.108.0.125\n",
        "250 OK\n",
        "DEBUG:stem:GETINFO address (runtime: 0.0011)\n"
       ]
      },
      {
       "output_type": "stream",
       "stream": "stderr",
       "text": [
        "INFO:requests.packages.urllib3.connectionpool:Starting new HTTP connection (1): www.nytimes.com\n"
       ]
      },
      {
       "output_type": "stream",
       "stream": "stderr",
       "text": [
        "DEBUG:requests.packages.urllib3.connectionpool:\"GET /2000/10/31/opinion/foreign-affairs-ritual-sacrifice.html HTTP/1.1\" 200 None\n"
       ]
      },
      {
       "output_type": "stream",
       "stream": "stderr",
       "text": [
        "TRACE:stem:Sent to tor:\n",
        "SIGNAL NEWNYM\n"
       ]
      },
      {
       "output_type": "stream",
       "stream": "stderr",
       "text": [
        "TRACE:stem:Received from tor:\n",
        "250 OK\n",
        "TRACE:stem:Sent to tor:\n",
        "GETINFO address\n"
       ]
      },
      {
       "output_type": "stream",
       "stream": "stderr",
       "text": [
        "TRACE:stem:Received from tor:\n",
        "250-address=66.108.0.125\n",
        "250 OK\n",
        "DEBUG:stem:GETINFO address (runtime: 0.0010)\n"
       ]
      },
      {
       "output_type": "stream",
       "stream": "stdout",
       "text": [
        " 404\n",
        "\n",
        "**WARNING: No text!\n",
        "\n",
        "i ="
       ]
      },
      {
       "output_type": "stream",
       "stream": "stderr",
       "text": [
        "INFO:requests.packages.urllib3.connectionpool:Starting new HTTP connection (1): query.nytimes.com\n"
       ]
      },
      {
       "output_type": "stream",
       "stream": "stderr",
       "text": [
        "DEBUG:requests.packages.urllib3.connectionpool:\"GET /gst/fullpage.html?res=9B03E4DE133EF93AA25756C0A9609C8B63 HTTP/1.1\" 404 2393\n"
       ]
      },
      {
       "output_type": "stream",
       "stream": "stdout",
       "text": [
        " 10\n",
        "***ERROR: status_code ="
       ]
      },
      {
       "output_type": "stream",
       "stream": "stderr",
       "text": [
        "TRACE:stem:Sent to tor:\n",
        "SIGNAL NEWNYM\n"
       ]
      },
      {
       "output_type": "stream",
       "stream": "stderr",
       "text": [
        "TRACE:stem:Received from tor:\n",
        "250 OK\n",
        "TRACE:stem:Sent to tor:\n",
        "GETINFO address\n"
       ]
      },
      {
       "output_type": "stream",
       "stream": "stderr",
       "text": [
        "TRACE:stem:Received from tor:\n",
        "250-address=66.108.0.125\n",
        "250 OK\n",
        "DEBUG:stem:GETINFO address (runtime: 0.0008)\n"
       ]
      },
      {
       "output_type": "stream",
       "stream": "stderr",
       "text": [
        "INFO:requests.packages.urllib3.connectionpool:Starting new HTTP connection (1): www.nytimes.com\n"
       ]
      },
      {
       "output_type": "stream",
       "stream": "stderr",
       "text": [
        "DEBUG:requests.packages.urllib3.connectionpool:\"GET /2013/04/07/opinion/sunday/friedman-weve-wasted-our-timeout.html HTTP/1.1\" 303 0\n"
       ]
      },
      {
       "output_type": "stream",
       "stream": "stderr",
       "text": [
        "DEBUG:requests.packages.urllib3.connectionpool:\"GET /glogin?URI=http://www.nytimes.com/2013/04/07/opinion/sunday/friedman-weve-wasted-our-timeout.html&OQ=_rQ3D0&OP=70e00301Q2FQ2B8jmQ2B0tmQ2B(((Q2Bnmd!Q2BK8lbF88mRQ2BRcQ2FQ27Q2BcQ3EQ2Bc_Q2B8jQ7C0Q7C80Q2Bbo0K9tQ2BQ51FQ7CQ23Kd902(Q23TQ232(9bmQ23K28oF2mQ7CdQ238omQ60nmd! HTTP/1.1\" 302 0\n"
       ]
      },
      {
       "output_type": "stream",
       "stream": "stderr",
       "text": [
        "DEBUG:requests.packages.urllib3.connectionpool:\"GET /2013/04/07/opinion/sunday/friedman-weve-wasted-our-timeout.html?_r=0 HTTP/1.1\" 200 13946\n"
       ]
      },
      {
       "output_type": "stream",
       "stream": "stderr",
       "text": [
        "TRACE:stem:Sent to tor:\n",
        "SIGNAL NEWNYM\n"
       ]
      },
      {
       "output_type": "stream",
       "stream": "stderr",
       "text": [
        "TRACE:stem:Received from tor:\n",
        "250 OK\n",
        "TRACE:stem:Sent to tor:\n",
        "GETINFO address\n"
       ]
      },
      {
       "output_type": "stream",
       "stream": "stderr",
       "text": [
        "TRACE:stem:Received from tor:\n",
        "250-address=66.108.0.125\n",
        "250 OK\n",
        "DEBUG:stem:GETINFO address (runtime: 0.0011)\n"
       ]
      },
      {
       "output_type": "stream",
       "stream": "stderr",
       "text": [
        "INFO:requests.packages.urllib3.connectionpool:Starting new HTTP connection (1): www.nytimes.com\n"
       ]
      },
      {
       "output_type": "stream",
       "stream": "stderr",
       "text": [
        "DEBUG:requests.packages.urllib3.connectionpool:\"GET /2001/07/15/books/l-henry-the-k-112810.html HTTP/1.1\" 200 None\n"
       ]
      },
      {
       "output_type": "stream",
       "stream": "stderr",
       "text": [
        "TRACE:stem:Sent to tor:\n",
        "SIGNAL NEWNYM\n"
       ]
      },
      {
       "output_type": "stream",
       "stream": "stderr",
       "text": [
        "TRACE:stem:Received from tor:\n",
        "250 OK\n",
        "TRACE:stem:Sent to tor:\n",
        "GETINFO address\n"
       ]
      },
      {
       "output_type": "stream",
       "stream": "stderr",
       "text": [
        "TRACE:stem:Received from tor:\n",
        "250-address=66.108.0.125\n",
        "250 OK\n",
        "DEBUG:stem:GETINFO address (runtime: 0.0010)\n"
       ]
      },
      {
       "output_type": "stream",
       "stream": "stderr",
       "text": [
        "INFO:requests.packages.urllib3.connectionpool:Starting new HTTP connection (1): www.nytimes.com\n"
       ]
      },
      {
       "output_type": "stream",
       "stream": "stderr",
       "text": [
        "DEBUG:requests.packages.urllib3.connectionpool:\"GET /1985/06/17/world/hijacking-flight-847-choice-for-israel-release-shiites-called-possible.html HTTP/1.1\" 200 None\n"
       ]
      },
      {
       "output_type": "stream",
       "stream": "stderr",
       "text": [
        "TRACE:stem:Sent to tor:\n",
        "SIGNAL NEWNYM\n"
       ]
      },
      {
       "output_type": "stream",
       "stream": "stderr",
       "text": [
        "TRACE:stem:Received from tor:\n",
        "250 OK\n",
        "TRACE:stem:Sent to tor:\n",
        "GETINFO address\n"
       ]
      },
      {
       "output_type": "stream",
       "stream": "stderr",
       "text": [
        "TRACE:stem:Received from tor:\n",
        "250-address=66.108.0.125\n",
        "250 OK\n",
        "DEBUG:stem:GETINFO address (runtime: 0.0010)\n"
       ]
      },
      {
       "output_type": "stream",
       "stream": "stderr",
       "text": [
        "INFO:requests.packages.urllib3.connectionpool:Starting new HTTP connection (1): www.nytimes.com\n"
       ]
      },
      {
       "output_type": "stream",
       "stream": "stderr",
       "text": [
        "DEBUG:requests.packages.urllib3.connectionpool:\"GET /1982/01/26/business/3-big-oil-companies-report-large-gains.html HTTP/1.1\" 200 None\n"
       ]
      },
      {
       "output_type": "stream",
       "stream": "stderr",
       "text": [
        "TRACE:stem:Sent to tor:\n",
        "SIGNAL NEWNYM\n"
       ]
      },
      {
       "output_type": "stream",
       "stream": "stderr",
       "text": [
        "TRACE:stem:Received from tor:\n",
        "250 OK\n",
        "TRACE:stem:Sent to tor:\n",
        "GETINFO address\n"
       ]
      },
      {
       "output_type": "stream",
       "stream": "stderr",
       "text": [
        "TRACE:stem:Received from tor:\n",
        "250-address=66.108.0.125\n",
        "250 OK\n",
        "DEBUG:stem:GETINFO address (runtime: 0.0011)\n"
       ]
      },
      {
       "output_type": "stream",
       "stream": "stderr",
       "text": [
        "INFO:requests.packages.urllib3.connectionpool:Starting new HTTP connection (1): www.nytimes.com\n"
       ]
      },
      {
       "output_type": "stream",
       "stream": "stderr",
       "text": [
        "DEBUG:requests.packages.urllib3.connectionpool:\"GET /2001/10/09/opinion/foreign-affairs-it-s-freedom-stupid.html HTTP/1.1\" 200 None\n"
       ]
      },
      {
       "output_type": "stream",
       "stream": "stderr",
       "text": [
        "TRACE:stem:Sent to tor:\n",
        "SIGNAL NEWNYM\n"
       ]
      },
      {
       "output_type": "stream",
       "stream": "stderr",
       "text": [
        "TRACE:stem:Received from tor:\n",
        "250 OK\n",
        "TRACE:stem:Sent to tor:\n",
        "GETINFO address\n"
       ]
      },
      {
       "output_type": "stream",
       "stream": "stderr",
       "text": [
        "TRACE:stem:Received from tor:\n",
        "250-address=66.108.0.125\n",
        "250 OK\n",
        "DEBUG:stem:GETINFO address (runtime: 0.0011)\n"
       ]
      },
      {
       "output_type": "stream",
       "stream": "stderr",
       "text": [
        "INFO:requests.packages.urllib3.connectionpool:Starting new HTTP connection (1): www.nytimes.com\n"
       ]
      },
      {
       "output_type": "stream",
       "stream": "stderr",
       "text": [
        "DEBUG:requests.packages.urllib3.connectionpool:\"GET /2009/03/29/opinion/29friedman.html HTTP/1.1\" 303 0\n"
       ]
      },
      {
       "output_type": "stream",
       "stream": "stderr",
       "text": [
        "DEBUG:requests.packages.urllib3.connectionpool:\"GET /glogin?URI=http://www.nytimes.com/2009/03/29/opinion/29friedman.html&OQ=_rQ3D0&OP=20317a5bQ2F0_OL0vrL0nnn0KL870Q3E_iXZ__L202wwN0wP02N0_OCvC_v02NoZCQ2FQ3E86vqKL87 HTTP/1.1\" 302 0\n"
       ]
      },
      {
       "output_type": "stream",
       "stream": "stderr",
       "text": [
        "DEBUG:requests.packages.urllib3.connectionpool:\"GET /2009/03/29/opinion/29friedman.html?_r=0 HTTP/1.1\" 200 14700\n"
       ]
      },
      {
       "output_type": "stream",
       "stream": "stderr",
       "text": [
        "TRACE:stem:Sent to tor:\n",
        "SIGNAL NEWNYM\n"
       ]
      },
      {
       "output_type": "stream",
       "stream": "stderr",
       "text": [
        "TRACE:stem:Received from tor:\n",
        "250 OK\n",
        "TRACE:stem:Sent to tor:\n",
        "GETINFO address\n"
       ]
      },
      {
       "output_type": "stream",
       "stream": "stderr",
       "text": [
        "TRACE:stem:Received from tor:\n",
        "250-address=66.108.0.125\n",
        "250 OK\n",
        "DEBUG:stem:GETINFO address (runtime: 0.0011)\n"
       ]
      },
      {
       "output_type": "stream",
       "stream": "stderr",
       "text": [
        "INFO:requests.packages.urllib3.connectionpool:Starting new HTTP connection (1): www.nytimes.com\n"
       ]
      },
      {
       "output_type": "stream",
       "stream": "stderr",
       "text": [
        "DEBUG:requests.packages.urllib3.connectionpool:\"GET /1985/09/04/world/west-bank-stabbing-kills-israel-soldier.html HTTP/1.1\" 200 None\n"
       ]
      },
      {
       "output_type": "stream",
       "stream": "stderr",
       "text": [
        "TRACE:stem:Sent to tor:\n",
        "SIGNAL NEWNYM\n"
       ]
      },
      {
       "output_type": "stream",
       "stream": "stderr",
       "text": [
        "TRACE:stem:Received from tor:\n",
        "250 OK\n",
        "TRACE:stem:Sent to tor:\n",
        "GETINFO address\n"
       ]
      },
      {
       "output_type": "stream",
       "stream": "stderr",
       "text": [
        "TRACE:stem:Received from tor:\n",
        "250-address=66.108.0.125\n",
        "250 OK\n",
        "DEBUG:stem:GETINFO address (runtime: 0.0010)\n"
       ]
      },
      {
       "output_type": "stream",
       "stream": "stderr",
       "text": [
        "INFO:requests.packages.urllib3.connectionpool:Starting new HTTP connection (1): www.nytimes.com\n"
       ]
      },
      {
       "output_type": "stream",
       "stream": "stderr",
       "text": [
        "DEBUG:requests.packages.urllib3.connectionpool:\"GET /1984/04/27/world/karami-is-asked-to-form-new-lebanon-cabinet.html HTTP/1.1\" 200 None\n"
       ]
      },
      {
       "output_type": "stream",
       "stream": "stderr",
       "text": [
        "TRACE:stem:Sent to tor:\n",
        "SIGNAL NEWNYM\n"
       ]
      },
      {
       "output_type": "stream",
       "stream": "stderr",
       "text": [
        "TRACE:stem:Received from tor:\n",
        "250 OK\n",
        "TRACE:stem:Sent to tor:\n",
        "GETINFO address\n"
       ]
      },
      {
       "output_type": "stream",
       "stream": "stderr",
       "text": [
        "TRACE:stem:Received from tor:\n",
        "250-address=66.108.0.125\n",
        "250 OK\n",
        "DEBUG:stem:GETINFO address (runtime: 0.0012)\n"
       ]
      },
      {
       "output_type": "stream",
       "stream": "stderr",
       "text": [
        "INFO:requests.packages.urllib3.connectionpool:Starting new HTTP connection (1): www.nytimes.com\n"
       ]
      },
      {
       "output_type": "stream",
       "stream": "stderr",
       "text": [
        "DEBUG:requests.packages.urllib3.connectionpool:\"GET /1994/03/18/business/us-approach-to-japan-economic-acupuncture.html HTTP/1.1\" 200 None\n"
       ]
      },
      {
       "output_type": "stream",
       "stream": "stderr",
       "text": [
        "TRACE:stem:Sent to tor:\n",
        "SIGNAL NEWNYM\n"
       ]
      },
      {
       "output_type": "stream",
       "stream": "stderr",
       "text": [
        "TRACE:stem:Received from tor:\n",
        "250 OK\n",
        "TRACE:stem:Sent to tor:\n",
        "GETINFO address\n"
       ]
      },
      {
       "output_type": "stream",
       "stream": "stderr",
       "text": [
        "TRACE:stem:Received from tor:\n",
        "250-address=66.108.0.125\n",
        "250 OK\n",
        "DEBUG:stem:GETINFO address (runtime: 0.0009)\n"
       ]
      },
      {
       "output_type": "stream",
       "stream": "stdout",
       "text": [
        " 404\n",
        "\n",
        "**WARNING: No text!\n",
        "\n",
        "i ="
       ]
      },
      {
       "output_type": "stream",
       "stream": "stderr",
       "text": [
        "INFO:requests.packages.urllib3.connectionpool:Starting new HTTP connection (1): www.nytimes.com\n"
       ]
      },
      {
       "output_type": "stream",
       "stream": "stderr",
       "text": [
        "DEBUG:requests.packages.urllib3.connectionpool:\"GET /1983/05/10/world/soviet-orders-embassy-dependents-to-leave-beirut.html HTTP/1.1\" 200 None\n"
       ]
      },
      {
       "output_type": "stream",
       "stream": "stderr",
       "text": [
        "TRACE:stem:Sent to tor:\n",
        "SIGNAL NEWNYM\n"
       ]
      },
      {
       "output_type": "stream",
       "stream": "stderr",
       "text": [
        "TRACE:stem:Received from tor:\n",
        "250 OK\n",
        "TRACE:stem:Sent to tor:\n",
        "GETINFO address\n"
       ]
      },
      {
       "output_type": "stream",
       "stream": "stderr",
       "text": [
        "TRACE:stem:Received from tor:\n",
        "250-address=66.108.0.125\n",
        "250 OK\n",
        "DEBUG:stem:GETINFO address (runtime: 0.0009)\n"
       ]
      },
      {
       "output_type": "stream",
       "stream": "stderr",
       "text": [
        "INFO:requests.packages.urllib3.connectionpool:Starting new HTTP connection (1): query.nytimes.com\n"
       ]
      },
      {
       "output_type": "stream",
       "stream": "stderr",
       "text": [
        "DEBUG:requests.packages.urllib3.connectionpool:\"GET /gst/fullpage.html?res=9A02E0D61F3AF935A25751C1A9619C8B63 HTTP/1.1\" 404 2393\n"
       ]
      },
      {
       "output_type": "stream",
       "stream": "stdout",
       "text": [
        " 20\n",
        "***ERROR: status_code ="
       ]
      },
      {
       "output_type": "stream",
       "stream": "stderr",
       "text": [
        "TRACE:stem:Sent to tor:\n",
        "SIGNAL NEWNYM\n"
       ]
      },
      {
       "output_type": "stream",
       "stream": "stderr",
       "text": [
        "TRACE:stem:Received from tor:\n",
        "250 OK\n",
        "TRACE:stem:Sent to tor:\n",
        "GETINFO address\n"
       ]
      },
      {
       "output_type": "stream",
       "stream": "stderr",
       "text": [
        "TRACE:stem:Received from tor:\n",
        "250-address=66.108.0.125\n",
        "250 OK\n",
        "DEBUG:stem:GETINFO address (runtime: 0.0010)\n"
       ]
      },
      {
       "output_type": "stream",
       "stream": "stderr",
       "text": [
        "INFO:requests.packages.urllib3.connectionpool:Starting new HTTP connection (1): query.nytimes.com\n"
       ]
      },
      {
       "output_type": "stream",
       "stream": "stderr",
       "text": [
        "DEBUG:requests.packages.urllib3.connectionpool:\"GET /gst/fullpage.html?res=9F00E3DE133BF933A2575AC0A96E9C8B63 HTTP/1.1\" 404 2393\n"
       ]
      },
      {
       "output_type": "stream",
       "stream": "stdout",
       "text": [
        " 404\n",
        "\n",
        "**WARNING: No text!\n",
        "***ERROR: status_code ="
       ]
      },
      {
       "output_type": "stream",
       "stream": "stderr",
       "text": [
        "TRACE:stem:Sent to tor:\n",
        "SIGNAL NEWNYM\n"
       ]
      },
      {
       "output_type": "stream",
       "stream": "stderr",
       "text": [
        "TRACE:stem:Received from tor:\n",
        "250 OK\n",
        "TRACE:stem:Sent to tor:\n",
        "GETINFO address\n"
       ]
      },
      {
       "output_type": "stream",
       "stream": "stderr",
       "text": [
        "TRACE:stem:Received from tor:\n",
        "250-address=66.108.0.125\n",
        "250 OK\n",
        "DEBUG:stem:GETINFO address (runtime: 0.0010)\n"
       ]
      },
      {
       "output_type": "stream",
       "stream": "stderr",
       "text": [
        "INFO:requests.packages.urllib3.connectionpool:Starting new HTTP connection (1): www.nytimes.com\n"
       ]
      },
      {
       "output_type": "stream",
       "stream": "stderr",
       "text": [
        "DEBUG:requests.packages.urllib3.connectionpool:\"GET /2012/03/25/opinion/sunday/friedman-a-festival-of-lies.html HTTP/1.1\" 303 0\n"
       ]
      },
      {
       "output_type": "stream",
       "stream": "stderr",
       "text": [
        "DEBUG:requests.packages.urllib3.connectionpool:\"GET /glogin?URI=http://www.nytimes.com/2012/03/25/opinion/sunday/friedman-a-festival-of-lies.html&OQ=_rQ3D0&OP=39c95870Q2FQ24vQ51wQ24Q5DcwQ24JJJQ24Q7Bw1Q3FQ24Q3AvQ5CFkvvw6Q246Q3BQ5B6Q24Q3BAQ246,Q24vQ51HQ5DHvQ5DQ24FQ60Q5DQ3AScQ24Q26kHCQ3A1SQ5D-S-Q26CFwHQ20SQ3F-vQ26-Q3FHCFsQ7Bw1Q3F HTTP/1.1\" 302 0\n"
       ]
      },
      {
       "output_type": "stream",
       "stream": "stderr",
       "text": [
        "DEBUG:requests.packages.urllib3.connectionpool:\"GET /2012/03/25/opinion/sunday/friedman-a-festival-of-lies.html?_r=0 HTTP/1.1\" 200 14593\n"
       ]
      },
      {
       "output_type": "stream",
       "stream": "stderr",
       "text": [
        "TRACE:stem:Sent to tor:\n",
        "SIGNAL NEWNYM\n"
       ]
      },
      {
       "output_type": "stream",
       "stream": "stderr",
       "text": [
        "TRACE:stem:Received from tor:\n",
        "250 OK\n",
        "TRACE:stem:Sent to tor:\n",
        "GETINFO address\n"
       ]
      },
      {
       "output_type": "stream",
       "stream": "stderr",
       "text": [
        "TRACE:stem:Received from tor:\n",
        "250-address=66.108.0.125\n",
        "250 OK\n",
        "DEBUG:stem:GETINFO address (runtime: 0.0010)\n"
       ]
      },
      {
       "output_type": "stream",
       "stream": "stderr",
       "text": [
        "INFO:requests.packages.urllib3.connectionpool:Starting new HTTP connection (1): www.nytimes.com\n"
       ]
      },
      {
       "output_type": "stream",
       "stream": "stderr",
       "text": [
        "DEBUG:requests.packages.urllib3.connectionpool:\"GET /1985/06/18/world/hostages-in-lebanon-israelis-say-us-must-ask-if-it-wants-shiites-released.html HTTP/1.1\" 200 None\n"
       ]
      },
      {
       "output_type": "stream",
       "stream": "stdout",
       "text": [
        " 404\n",
        "\n",
        "**WARNING: No text!\n"
       ]
      }
     ],
     "prompt_number": 16
    },
    {
     "cell_type": "code",
     "collapsed": false,
     "input": [
      "for i,doc in enumerate(all_docs):\n",
      "    #if doc.get('pub_date') and doc['pub_date'] < '2011-09-28':\n",
      "    #    break\n",
      "    if doc.get('full_text'):\n",
      "        print '\\n\\n', doc['full_text']"
     ],
     "language": "python",
     "metadata": {},
     "outputs": [
      {
       "output_type": "stream",
       "stream": "stdout",
       "text": [
        "\n",
        "\n",
        "On Nov. 8, China is set to hold the 18th National Congress of the Communist Party. We already know who will be the next party leader: Vice President Xi Jinping. What we donat know is what matters: Does Xi have a aChinese Dreama that is different from the aAmerican Dream?a Because if Xias dream for Chinaas emerging middle class a 300 million people expected to grow to 800 million by 2025A  a is just like the American Dream (a big car, a big house and Big Macs for all) then we need another planet. Spend a week in China and youall see why. Hereas a Shanghai Daily headline from Sept. 7: aCity Warned of Water Resource Shortage.a The article said: aShanghai may face a shortage of water resources if the population continues to soar. ... The current capacity of the cityas water supply was about 16 million tons per day, which is able to cover the demand of 26 million people. However, once the population reaches 30 million, the demand would rise to 18 million tons per day, exceeding the current capacity.a Shanghai will hit 30 million in about seven years! aSuccess in the aAmerican Dream,a a notesA Peggy Liu, the founder of the Joint U.S.-China Collaboration on Clean Energy, or Juccce, aused to just mean a house, a family of four, and two cars, but now itas escalated to conspicuous consumption as epitomized by Kim Kardashian. China simply cannot follow that path a or the planet will be stripped bareA of natural resources to make all that the Chinese consumers want to consume.a Liu, an M.I.T. graduate and former McKinsey consultant, argues that Chinese today are yearning to create a new national identity, one that merges traditional Chinese values, like balance, respect and flow, with its modern urban reality. She believes that the creation of a sustainable aChinese Dreama that breaks the historic link between income growth and rising resource consumption could be a part of that new identity, one that could resonate around the world. So Juccce has been working with Chinese mayors and social networks, sustainability experts and Western advertising agencies to catalyze sustainable habits in the emergent consuming class by redefining personal prosperity a which so many more Chinese are gaining access to for the first time a as amore access to better products and services, not necessarily by owning them, but also by sharing a so everyone gets a piece of a better pie.a That means, among other things, better public transportation, better public spaces and better housing that encourages dense vertical buildings, which are more energy efficient and make shared services easier to deliver, and more e-learning and e-commerce opportunities that reduce commuting.A Emphasizing access versus ownership isnat just more sustainable, it helps ease friction from the differences between rich and poor. Indeed, Juccce translates Chinese Dream as aHarmonious and Happy Dreama in Mandarin. (aGreena doesnat sell in China.) A Chinese are more open to this than ever. A decade ago, the prevailing attitude was, aHey, you Americans got to grow dirty for 150 years. Now it is our turn.a A couple of weeks ago, though, I took part in the opening day of Tongji Universityas Urban Planning and Design Institute in Shanghai and asked students whether they still felt that way. I got a very different answer. Zhou Lin, a graduate student studying energy systems, stood up and declared, with classmates nodding, aYou can politicize this issue as much as you want, but, in the end, it doesnat do us any good.a It is not about fairness anymore, he said. It is in Chinaas best interest to find a acleanera growth path. To say China needs its own dream in no way excuses Americans or Europeans from redefining theirs. We all need to be rethinking how we sustain rising middle classes with rising incomes in a warming world, otherwise the convergence of warming, consuming and crowding will mean we grow ourselves to death. Chinaas latest five-year plan a A 2011-15 a has set impressive sustainability goals for cutting energy and water intensity per unit of G.D.P.A All of these goals are critical to the greening of China, but they are not sufficient, argues Liu. With retail sales growing 17 percent a year since 2005 and urban incomes up 150 percent in the last decade, athe government must also have a plan to steer consumer behavior toward a sustainable path,a adds Liu. aBut it doesnat yet.aA  So Xi Jinping has two very different challenges from his predecessor. He needs to ensure that the Communist Party continues to rule a despite awakened citizen pressure for reform a and that requires more high growth to keep the population satisfied with party control. But he also needs to manage all the downsides of that growth a from widening income gaps to massive rural-urban migration to choking pollution and environmental destruction. The only way to square all that is with a new Chinese Dream that marries peopleas expectations of prosperity with a more sustainable China. Does Xi know that, and, if he does, can he move the system fast enough? So much is riding on the answers to those questions.\n",
        "\n",
        "\n",
        "Last week, I wrote a column suggesting that while some overheated Chinese markets, like real estate, may offer shorting opportunities, I'd be wary of the argument that China's economy today is just one big short-inviting bubble, a la Dubai. Your honor, I'd like to now revise and amend my remarks. There is one short position, one big short, that does intrigue me in China. I am not sure who makes a market in this area, but here goes: If China forces out Google, I'd like to short the Chinese Communist Party. Here is why: Chinese companies today are both more backward and more advanced than most Americans realize. There are actually two Chinese economies today. There is the Communist Party and its affiliates; let's call them Command China. These are the very traditional state-owned enterprises. Alongside them, there is a second China, largely concentrated in coastal cities like Shanghai and Hong Kong. This is a highly entrepreneurial sector that has developed sophisticated techniques to generate and participate in diverse, high-value flows of business knowledge. I call that Network China. What is so important about knowledge flows? This, for me, is the key to understanding the Google story and why one might decide to short the Chinese Communist Party. John Hagel, the noted business writer and management consultant argues in his recently released \"Shift Index\" that we're in the midst of \"The Big Shift.\" We are shifting from a world where the key source of strategic advantage was in protecting and extracting value from a given set of knowledge stocks  the sum total of what we know at any point in time, which is now depreciating at an accelerating pace  into a world in which the focus of value creation is effective participation in knowledge flows , which are constantly being renewed. \"Finding ways to connect with people and institutions possessing new knowledge becomes increasingly important,\" says Hagel. \"Since there are far more smart people outside any one organization than inside.\" And in today's flat world, you can now access them all. Therefore, the more your company or country can connect with relevant and diverse sources to create new knowledge, the more it will thrive. And if you don't, others will. I would argue that Command China, in its efforts to suppress, curtail and channel knowledge flows into politically acceptable domains that will indefinitely sustain the control of the Communist Party  i.e., censoring Google  is increasingly at odds with Network China, which is thriving by participating in global knowledge flows. That is what the war over Google is really all about: It is a proxy and a symbol for whether the Chinese will be able to freely search and connect wherever their imaginations and creative impulses take them, which is critical for the future of Network China. Have no doubt, China has some world-class networked companies that are \"in the flow\" already, such as Li &amp; Fung, a $14 billion apparel company with a network of 10,000 specialized business partners, and Dachangjiang, the motorcycle maker. The flows occurring on a daily basis in the networks of these Chinese companies to do design, product innovation and supply-chain management and to pool the best global expertise \"are unlike anything that U.S. companies have figured out,\" said Hagel. The orchestrators of these networks, he added, \"encourage participants to gather among themselves in an ad hoc fashion to address unexpected performance challenges, learn from each other and pull in outsiders as they need them. More traditional companies driven by a desire to protect and exploit knowledge stocks carefully limit the partners they deal with.\" Command China has thrived up to now largely by perfecting the 20th-century model for low-cost manufacturing based on mining knowledge stocks and limiting flows. But China will only thrive in the 21st century  and the Communist Party survive in power  if it can get more of its firms to shift to the 21st-century model of Network China. That means enabling more and more Chinese people, universities and companies to participate in the world's great knowledge flows, especially ones that connect well beyond the established industry and market boundaries. Alas, though, China seems to be betting that it can straddle three impulses  control flows for political reasons, maintain 20th-century Command Chinese factories for employment reasons and expand 21st-century Network China for growth reasons. But the contradictions within this straddle could undermine all three. The 20th-century Command model will be under pressure. The future belongs to those who promote richer and ever more diverse knowledge flows and develop the institutions and practices required to harness them. So there you have it: Command China, which wants to censor Google, is working against Network China, which thrives on Google. For now, it looks as if Command China will have its way. If that turns out to be the case, then I'd like to short the Communist Party.\n",
        "\n",
        "\n",
        "To the Editor: Re ''2 Servings of Reality, Please'' (column, Sept. 28): Thomas L. Friedman reached the right conclusion, that for the time being, the United States will be stabilizing Iraq largely on its own. But he got there by the wrong means: his theory that the rest of the world is playing ''free rider.'' Other countries viewed the Iraq war as the first test case of the Bush doctrine of pre-emption, which they find deeply troubling. What those countries were looking for when the president spoke at the United Nations last week was some sign that his administration had drawn the lesson from Iraq that it needs to collaborate with its partners to devise other ways of responding to the twin threats of terrorism and weapons of mass destruction. The president chose to address his domestic audience instead, merely reasserting the validity of his past policies. It shouldn't be surprising that the rest of the world chose, in turn, to take a pass. JOHN G. RUGGIE Cambridge, Mass., Sept. 28, 2003 The writer, a professor of international affairs at Harvard, was assistant United Nations secretary general, 1997-2001.\n",
        "\n",
        "\n",
        "t is a sad but fitting coda to Yasir Arafat's career that the prospect of his death seemed to unlock more hope and possibilities than the reality of his life. His corrupt, self-interested rule had created a situation whereby Palestinian aspirations seemed to have gotten locked away with him, under house arrest in Ramallah, well beyond the reach of creative diplomacy. Only human biology could liberate them again - and so it has. In the early 1990's, I sided with those Israelis who, though no fans of Arafat, were ready to deal with him at Oslo in the name of normalcy for both Israelis and Palestinians. But once it became clear, after the collapse of the Camp David talks, that no deal was possible with Arafat, I wished for his speedy disappearance. He was a bad man, not simply for the way he introduced a whole new level of terrorism to world politics, but because of the crimes he committed against his own people. There, history will judge him very harshly. Google is a wonderful tool. I spent time the other day Googling every variation I could of the words: \"Yasir Arafat and Palestine and education.\" I couldn't come up with a single speech, or even full paragraph, in which Arafat laid out his vision for how Palestinians would educate their youth and nurture their talents. Maybe all his speeches on that subject were never translated from Arabic. Or maybe they just don't exist - because this was never his priority. His obsession was with Palestinian \"land,\" not Palestinian \"life.\" Google the words \"Yasir Arafat and martyrdom and jihad,\" and the matches go on for pages. After every defeat, Arafat stood on the ruins and flashed a victory sign. While his wife lived in Paris and his cronies lined their pockets, two generations of Palestinians remained in their poverty and displacement, because he never had the courage to tell them the truth: \"Palestine will have to be divided with the Jews forever. We must make the best final deal we can over the West Bank, Gaza and East Jerusalem - without double talk about getting the rest later - and then build the finest society that we can.\" Had he ever given that speech - in Arabic - had he ever adopted the nonviolence of Gandhi, Arafat would have had three Palestinian states by now - Israel's reckless settlements notwithstanding. The fact that he didn't was not a mistake in judgment but an expression of character. For him, it was better to die in Paris, and have two generations of Palestinians die in exile, than be the Arab leader who officially and unambiguously agreed to share Jerusalem with the Jews. I can understand why stateless Palestinians would revere Arafat for the way he put their cause on the world map - but that became an end for him rather than a means, which is why his historical impact will be as lasting as a footprint in the desert. Arafat's exit from the stage, combined with the downfall of Saddam Hussein, is a real moment of opportunity for the Arab world: Under Saddam and Arafat, Iraqi and Palestinian nationalisms were devoid of any positive agenda for developing all the men and women in those two societies. They were focused on the negative agendas of resisting outsiders and buying more weapons than computers - because that is what served their one-man rulers. This negative nationalism kept their people mobilized, externally focused and never able to ask about education budgets, let alone democracy. As the Arabic saying went, \"No voice should be louder than the battle.\" And no voices were louder in insisting on that than Arafat's and Saddam's. But if you have societies held together by a voluntary social contract among its constituent populations, and by institutions, you don't need one-man rule. You don't need to mobilize the whole society around resistance to outsiders. And you don't need the suppression of every group in the society, other than the tribe of the one-man ruler - with all the violence and extremism that such suppression brings. And that's why so much is riding on how Palestinians and Iraqis replace the one-man rulers who so distorted their societies. Will they each use this moment to hold elections and build a bridge to a society of institutions and laws, or will they simply build a bridge to another one-man ruler? If it is the latter, then the U.N. is going to continue putting out reports about the lack of human development in the Arab world. If it is the former, I am certain that within a decade when you Google the words \"Iraq, Palestine, educational innovation and scientific breakthroughs,\" you will actually come up with some matches.\n",
        "\n",
        "\n",
        "BEIRUT, Lebanon, Nov. 29-- President Amin Gemayel formally asked the United States, France and Italy today to increase the size of their peacekeeping contingents to help the Government end deterioration in his country's internal security. Meeting with the a liaison committee from the three embassies that oversees the 4,100-man force, President Gemayel asked them to convey his appeal for more troops ''to help the Lebanese Army spread its authority and end the turmoil in the mountains,'' the state-run beirut radio reported. The President did not say how many more troops he wanted, but senior Government sources said Mr. Gemayel was hoping for at least 5,000 more. The force, which includes 1,300 United States marines, is stationed in the greater Beirut area. While the capital is relatively quiet, the situation in the countryside has been crumbling steadily for the last month. In the Shuf Mountains southeast of Beirut, an area still occupied by the Israeli Army, gunfights, kidnappings and artillery duels between rival militias of Maronite Christians and Druse have become a regular feature of life. Israeli Withdrawal at Issue The fighting between the mountain villagers for control of the area not only theatens to undermine the credibility of the Gemayel Government but is also taking much of the President's time and energy that, Government officials said, should be devoted to reconstruction and the larger question of removing Israeli, Syrian and Palestine Liberation Organization forces. Concerning the withdrawal of foreign troops, President Gemayel met today with Prime Minister Shafik al-Wazzan and his top foreign policy advisers to discuss the Israeli Cabinet's demands that negotiations on an Israeli withdrawal from Lebanon take place in Beirut and Jerusalem and that they deal with matters of a ''political and security nature.'' Government sources said there was agreement at the meeting that negotiating in the two capitals, rather than along the border or at another midpoint, as the Lebanese have requested, was unacceptable since it would imply recognition of Jerusalem as Israel's capital. There is mounting frustration among President's Gemayel's foreign policy advisers over what they believe to be either the inability or unwillingness of the Reagan Administration to persuade Israel to restrict the negotiations to security matters and hold them in a framework that will not cause Lebanon problems with its Arab neighbors, senior Government officials said. What Israel Might Seek The Lebanese officials fear that without some action by the Reagan Administration, the momentum for withdrawal will be lost. They recognize that they are powerless to compel the Israelis to ease their demands and must depend upon Washington. There is a widespread feeling among senior Lebanese officials that the Israelis are trying to link negotiations for their withdrawal from Lebanon with the Reagan peace plan. The officials believe that in return for a more conciliatory Israeli posture on Lebanon, the Israelis want concessions from the Reagan Administration on its demands for an Israeli pullout from the West Bank and Gaza Strip. Failing that, the officials believe the Israelis will drag out the negotiations on Lebanon into the 1984 Presidential election year, when they will be less vulnerable to Administration pressures. Some of the Lebanese frustration came to the surface today when Prime Minister Wazzan told reporters after his meeting with President Gemayel that ''the United States must increase its efforts to achieve the withdrawal'' of Israeli troops. If something does not happen soon, he said, Lebanon will consider unspecified alternatives. As for political talks, Mr. Wazzan said, ''We are not dealing with political talks.'' He added, ''Israel did not enter Lebanon on the basis of political pretexts but on the basis of security pretexts.'' He said his country ''would not be blackmailed into making political concessions.''\n",
        "\n",
        "\n",
        "George Bush has a Dick Cheney problem. It's not the one you think: an overbearing, archconservative vice president imposing his will and ideas on a less-seasoned president. No, George Bush has a different V.P. problem. It is the fact that his vice president has made clear that he is not running for president after Mr. Bush's term expires in 2008. So Mr. Bush has no heir apparent. And that explains, in part, why his second term is drifting aimlessly, disconnected from the problems facing the country. \"If President Bush had a vice president, or someone who was clearly designated as heir apparent to his administration, [the president] would have a more immediate incentive to widen his political base, to offer policies that would appeal more to the center,\" argued Don Baer, a former senior adviser to President Clinton. But if one looks at the sorts of policies that Mr. Bush has chosen, or not chosen, for his second term, it suggests that Mr. Bush \"is not thinking of the bigger implications\" for three years down the road, Mr. Baer added. For instance, the spending and tax cutting by the Bush team is ridiculously out of control. It will be a miracle if there is no market-induced implosion in the economy or the housing market in the next three years. But you can bet the farm there will have to be a huge correction after 2008 to get taxes and spending back in line. If Mr. Bush had a V.P. who was clearly anointed to succeed him, and whose success would be viewed as part of Mr. Bush's own legacy, it is hard to believe the president wouldn't be interested in a more sane fiscal policy. One thing for sure, his vice president would be. Instead, Mr. Bush seems to be governing as though he were on a permanent campaign - much like Bill Clinton did. But Bill Clinton was on a permanent presidential campaign. Mr. Bush seems to be governing as if he were on a permanent primary campaign against John McCain in South Carolina. So far, the second Bush term, to the extent that it has any discernible agenda, seems to be to cater to the far-right wing of his party - period. It's been urgent midnight meetings about Terri Schiavo and barely a daylight session about energy. With gasoline prices soaring, and the biggest beneficiaries being the very Arab dictatorships who are tacitly sponsoring the terrorists killing Americans in Iraq, it is blindingly obvious that our country needs a comprehensive strategy for reducing our energy consumption and developing alternative fuel systems. The president has utterly failed in this regard. To travel around America today is to find a country also deeply concerned about education, competition, health care and pensions. It is a country worried about how its kids are going to find jobs, retire and take care of elderly parents. But instead of focusing on a new New Deal to address the insecurities of the age of globalization, the president set off on his second term to take apart the old New Deal, trying to privatize Social Security, only feeding people's anxiety. It won't fly. Yes, Mr. Bush has laid down a bold proposal for also fixing Social Security, but by not putting that front and center, it has gotten lost behind his private accounts obsession, which is not the country's priority. A president with a V.P. running behind him never would have let that happen. Mr. Bush would also not be taking the head-in-sand positions he has in opposition to stem cell research, climate change, population control and evolution - positions from which centrist Republicans are now distancing themselves. Just last week, the Senate's top Republican energy-bill negotiator, Senator Pete Domenici, split from Mr. Bush and indicated that he believes the science is clear - climate change is occurring - and we need to do something about it. If Mr. Bush's hope is to make the Republican Party into a permanent majority party and sustain his legacy, he would have picked a handful of significant proposals to widen the party's circle - especially with the Democrats so clearly out of ideas. But instead of widening and broadening, by focusing on getting things accomplished that would benefit the vast middle of the country, Mr. Bush is catering to right-wing fetishes. If this is how he intends to use his political capital, that's his business. But if Mr. Bush had a vice president with an eye on 2008, I have to believe he or she would be saying to the president right now: \"Hey boss. What are you doing? Where are you going? How am I going to get elected running on this dog's breakfast of antiscience, head-in-the-sand policies?\"\n",
        "\n",
        "\n",
        "There are many ways to define the importance of the Hebron deal forged between Benjamin Netanyahu and Yasir Arafat, but for me it comes down to this: The conservative right in Israel has finally recognized what the center and left have known for years -- there is only one peace process, there was only one peace process and there will be only one peace process. It is the Oslo process that Yitzhak Rabin began, that Shimon Peres advanced and that Mr. Netanyahu has now embraced. Israel's Labor Party leaders say the Hebron deal that Mr. Netanyahu has signed is the same as the one they negotiated, with only minor improvements. They are wrong. This version is vastly superior, for one reason: It was signed by Mr. Netanyahu. In doing so, he brought the other half of Israel (or at least half of the other half, making a 75 percent majority) into Oslo. This puts Mr. Netanyahu in a very different position. Ever since Oslo was signed he has tried to prove it was a bad, dangerous agreement, and his tacit allies were those Israelis, American Jews and Arabs who also wanted Oslo scuttled. From here on, he becomes an owner of Oslo, even if only a conditional owner -- conditional on better P.L.O. compliance. Instead of always looking to point out deficiencies in Oslo, he will now have a stake in also highlighting its strengths. Mr. Netanyahu's tacit allies will be the 75 percent of Israelis who want Oslo to succeed, and his enemies will be those Arabs and Jews who still want Oslo to fail. So Mr. Netanyahu is coming into the Oslo tent, and by bringing half his coalition with him he is making that tent sturdier. It was the right thing for him to do, and, within his own political context, the courageous thing to do. But let's have no illusions: Mr. Netanyahu is still ambivalent about all this. And he and Mr. Arafat still have a highly dysfunctional relationship that U.S. mediation has masked. They will both have to be watched closely for compliance. But here's the good news: In seven months a man elected Prime Minister of Israel on a right-wing platform ends up implementing the basic platform of his left-wing opponents. How come? Because he's acting on the will of Israel's silent majority, the same will that propelled Mr. Rabin. That Israeli silent majority wants separation, with security, from the Palestinians and integration, with prosperity, with the world. And it wants a peace process that will carefully, cautiously continue testing whether there is a Palestinian partner for such a deal. When the Israeli silent majority felt that Mr. Peres was going too quickly and incautiously in that test, it yanked him back, and when it felt Mr. Netanyahu was going too reluctantly into that test, it yanked him forward. If Mr. Netanyahu wants to better control this process in the future, though, he can't allow himself to continue being dragged along by the silent majority. He's got to shape a positive, realistic vision of a final settlement; otherwise it will be shaped for him by circumstance, by the Arabs or by other Israelis. But what the Arabs have to understand is that the only way Mr. Netanyahu and the Israeli silent majority will take Oslo to its logical conclusion -- into a Palestinian state in Gaza and the West Bank -- is if the Arabs now step up and really make peace meaningful to the new constituencies that Mr. Netanyahu has brought into the Oslo tent. It's time that Egypt's President came to Israel for more than just a funeral.\n",
        "\n",
        "\n",
        "Here's a day in the life of Israel and Palestine: I arrive in Jerusalem from Hong Kong at 5 a.m. The taxi drops me at the door of the King David Hotel. I walk in. The lobby is completely dark and empty. Not a soul, not a bellhop, is stirring, not even a mouse. ''Hello,'' I shout into the dark, wondering if my travel agent has made a mistake and the hotel has been closed. ''Is anybody home? Hello!'' Finally a desk clerk emerges from a dark corner, where he has been sleeping on a couch. The hotel has laid off most of its employees, because tourism is dead. ''Am I the only one staying here?'' I ask. The clerk just chuckles. The following morning I drive to Ramallah with a Palestinian journalist friend. When we arrive at the back entrance to the city, a ''clash'' is underway. There is a long, wide street. The Israeli soldiers are on our end hiding behind three armored cars, popping out to fire tear gas, rubber bullets and real bullets at the Palestinian youths, who are pelting the soldiers with rocks and marbles from behind a pile of burned-out cars. Behind the Palestinians, five Palestinian ambulances are parked. When a Palestinian youth goes down, an ambulance races out, siren screaming, and the wounded boy is bundled off to the hospital, like a Roman gladiator scraped up off the ring. Behind them, a crowd of 300 Palestinians, of various ages, are simply watching the scene. A vendor is selling kebabs. We then drive around a few blocks and come up and watch from the Palestinian side. Soon after we get there a bullet from an Israeli sniper ricochets and hits a Palestinian girl in the leg. The ambulance scoops her away. Palestinian boys in leather jackets -- armed with automatic rifles and looking like extras from the movie ''West Beirut'' -- roam around firing back at the Israelis. On a rooftop, a crew from Qatar's Al-Jazira satellite TV station is broadcasting the whole scene live all over the Arab world. Around the corner, older Palestinian men are smoking water pipes at a coffee house, taking no notice. You feel as if you are watching a modern form of ritual sacrifice. The Palestinians seem to have no qualms about putting up their youths to be shot at, and the Israeli soldiers seem to have no qualms about shooting them. We go to Ramallah Hospital. A crowd of 20 people is in the emergency ward, watching as each youth is brought in. The mood is a mix of pride and horror. One boy, lying wounded on a stretcher, seems happy to have acquired his bullet badge of honor and still be alive. The next boy is not so lucky. He is shot in the face and chest. The doctors are cutting off his clothes. The crowd cranes to see what's going on. More ambulances arrive. More ''martyrs.'' Wounded are O.K., but martyrs are better -- because martyrs produce the media images that create the most pressure on Israel. This war is sick, but it has exposed some basic truths. First, the Israeli propaganda that the Palestinians mostly rule themselves in the West Bank is fatuous nonsense. Sure, the Palestinians control their own towns, but the Israelis control all the roads connecting these towns and therefore all their movements. Israeli confiscation of Palestinian land for more settlements is going on to this day -- seven years into Oslo. There's no hope for peace here without a Palestinian state in Gaza and the West Bank.\n",
        "\n",
        "\n",
        "YES, itas true a a crisis is a terrible thing to waste. But a atimeouta is also a terrible thing to waste, and as I look at the world today I wonder if thatas exactly what weave just done. Weave wasted a five-year timeout from geopolitics, and if we donat wake up and get our act together as a country a and if the Chinese, Russians and Europeans donat do the same a weare all really going to regret it. Think about what a relative luxury weave enjoyed since the Great Recession hit in 2008. We, the Europeans and the worldas other major powers all have been able to focus almost entirely on healing our own economies a without having to worry about a major war or globe-rattling conflict that would snuff out our fragile economic recoveries or require extensive new defense spending. Relatively speaking, the world in the last five years has had a geopolitical timeout. But now, everywhere you turn, you see different actors standing with their toes on red lines, seemingly ready and willing, even itching, to cross them at any moment. North Koreaas boy king, Kim Jong-un, who seems totally off the grid, has ordered his strategic rocket forces to be on standby, ready to hit U.S. and South Korean targets at a momentas notice. Which is why you see the South Koreans starting to wonder aloud whether they should stay on this side of the red line and not be building their own nuclear bomb. Iran is also steadily getting closer to a similar combination of a homemade nuclear weapon and delivery system, and so far no sanctions have deterred Tehran. Meanwhile, Egypt is running out of money to buy bread for its people and is perilously close to crossing the red line into failed-state status, which would destabilize the whole region. At the same time, Syriaas mad leader, Bashar al-Assad, having been given the choice of arule or ruin,a has chosen ruin for his country, which is also approaching state collapse, raising the prospect of jihadist militias picking through the rubble to obtain chemical weapons and sophisticated surface-to-air missiles a with no adult supervision. Finally, the bailed-out euro zone states just had to bail out Cyprus a a bailout by the bailed-out a leading one to wonder just how many more Band-Aids the European Union has left. Maybe you can bail out Cyprus and its people will accept the haircut on their bank accounts, but we are one thin red line away from Spaniardsa waking up one morning and asking why they should keep their money in euros in their banks, when there is a real possibility they could get a similar haircut. Warren Buffett likes to say that if you ever walk by a bank and there is a long line of people out front, aget in it.a A bank run is a terrible thing to miss. If any one of these red lines, let alone all of them together, get crossed, we will rue the day that we did not use these last five years to make our own economy more resilient. After all, in sports, timeouts are when you catch your breath, try to make sense of what is coming at you at high speed, figure out what has been working and what has not, design a play to win the game and then collaborate on its execution. Future historians will surely ask how we in America could not agree on sensible near-term infrastructure investment a to upgrade our country with cheap money a paired with a long-term package of tax reforms and spending cuts, phased in gradually as the economy improves, so we have a much sturdier balance sheet to survive any geopolitical storms. Weare now driving around without a bumper and a spare tire, just when the world seems poised to turn into a crash ana smash derby. (Kudos to President Obama for still trying for a Grand Bargain. Will the G.O.P. step up?) But historians will also ask China: What were you thinking? When will you realize that whatever is bad for America is not necessarily good for you? Will it take South Korea, Japan, Vietnam and Taiwan all getting nuclear weapons? China controls food and fuel going into North Korea. It could end the freak show there anytime it wants, by cutting off both and opening its border to refugees. Yes, it is worried about a united, nuclear Korea and a flood of refugees, but America could help facilitate a united, nonnuclear Korea and dealing with refugees. Then there is the Russian president, Vladimir Putin a the man who was born on third base and thinks he hit a triple, because his country has so much oil and gas. Refusing to ease Assad out in Syria, rather than hanging tough with him, at best could alienate Russia from the next generation of rulers in Syria and at worst could help Syria turn into another Afghanistan. Do the Russians really believe that indulging Iranas covert nuclear program, to spite us, wonat come back to haunt them with a nuclear-armed Iranian Islamist regime on its border? In many ways Russia and China are more irresponsible than we are. We need to make ourselves resilient but are not. We are being shortsighted. They are being downright harmful. But the net result is that we could all look back one day and wish we had used this timeout from any global geopolitical contagion more wisely. I hope historians wonat say that for five years we were lucky. And then we werenat.\n",
        "\n",
        "\n",
        "To the Editor: Thomas L. Friedman compares Henry Kissinger's new book to ''The Prince.'' I would liken it to ''Political Testament,'' by Prince Metternich, who had a profound influence on Kissinger's thinking. I agree with Friedman's observation that ''you ignore Kissinger's take on the world at your peril.'' The same may be said of Metternich, whom the world chose to ignore. The perils of the post-Metternich era are well documented. John C. Turley Plymouth, Mich.\n",
        "\n",
        "\n",
        "JERUSALEM, June 16-- The Israeli Government would be willing to ''consider'' a request from the United States, if one is made, for Israel to free the more than 700 Lebanese Shiites it is holding in exchange for the American hostages being held on board the hijacked Trans World Airlines jetliner in Beirut, an Israeli source very close to the decision-making process here said late tonight. ''Israel itself will not enter into any negotiations for an exchange of Lebanese Shiite detainees for the American hostages held by the terrorists,'' the source said. ''However, if the United States Government, on a senior level, will turn to the Israeli Government and request that it release the Lebanese detainees, the Government of Israel will consider such a request.'' The source emphasized that as of late tonight the Reagan Administration had made no appeal to the Israeli Government to release the Lebanese Shiites that it is holding. The hijackers have made the freeing of the captives their main demand, although it is not clear anymore if it is the only one. While the source did not say so either directly or indirectly, the general thrust of his remarks appeared to suggest that if it turns out that the release of the Shiite captives will lead to a direct resolution of the hijacking, and the immediate release of all the hostages, the Israeli Government would probably view such a request with favor. No Request From U.S. Although the Americans have reporedly not asked that Israel release the Shiites yet, officials here are increasingly feeling an unspoken moral pressure to do something if it appears that the freeing of the captives is the key to a resolution. This would be even more the case if it is confirmed that passengers with Jewish names have been taken off the plane and held separately in Beirut. Israeli officials said today that Israel had been planning to release ''very shortly'' the Shiite captives in the hope that this would improve relations with the Shiites of southern Lebanon. For the last two weeks Israeli military sources have been saying release of the detainees was imminent. But once the hijackers of the T.W.A. jetliner demanded the freedom of the Shiite prisoners as their main condition for releasing the remaining passengers of the T.W.A. jetliner, Israel was put into something of a quandary, according to senior officials. They said now it could not carry out its planned release without appearing to be giving in to terrorist demands. Israeli Cabinet Briefed The Israeli Cabinet was briefed today on the latest developments in the hijacking by Defense Minister Yitzhak Rabin, but a communique following the Cabinet session said there would be no statements from any Israeli officials. Senior Israeli officials say they are in close contact with the Americans. For Israel, the prospect of having to free the Shiite captives under these conditions is not particularly welcome and not a decision that will go through the Cabinet without heated debate. The captives were picked up in southern Lebanon over the past year for various ''security offenses'' against Israeli occupation forces. Israel had been planning to quietly let the men go during the next few weeks in small groups in southern Lebanon, hoping that they would be ''chastened'' by their experience of months in Israeli prisons, Israeli security sources said. But the last thing Israel wanted was to have the captives freed as heros of the anti-Israeli Shiite resistance - and worse to have their release be credited not even to the moderate Amal militia but to the most extreme Shiite faction, Islamic Holy War, defense analysts here noted. In addition to all of these considerations, to give into the Shiite terrorists, after having just given up 1,150 Palestinian prisoners to gain the return of 3 Israeli soldiers, would probably wipe out the last vestiges of credibiity for Israel's counterterrorism policy, security experts here said. 'A Circumstantial Connection' ''I have no doubt that there is at least a circumstantial connection between the release of the terrorists in Israel and the present case of blackmail,'' Meir Amit, the former head of the Israeli secret service, Mossad, said in a radio interview today. ''I am sorry to say that when weakness or an opening are felt by the other side, it increases considerably the chances that blackmail will occur again and that is, I believe, what happened this time.'' Zeev Schiff, the military editor of the newspaper Haaretz, said that this latest taking of hostages and the demands being put on Israel, only serve to underline how the latest Israeli-Palestinian prisoner exchange ''solved nothing'' and was ''a clear mistake.'' ''The Shiites are now passing through the same stages as the Palestinians,'' said Mr. Schiff, ''only they are a little more cruel. Israel is the focus and they are trying to put pressure through third parties.'' A New Cycle of Violence Mr. Schiff added that the danger now is that military planners in Israel might out of frustration suggest large-scale retaliation or other pre-emptive attacks against Shiite targets in Lebanon and the whole cycle of Shiite-Israeli violence, which Israel has been trying to end by withdrawing from Lebanon, will only begin anew. Israeli terrorism experts suggested on television tonight that a military attack against the groups behind the hijacking should be considered. Rehavam Zeevi, a former Israeli adviser to the Prime Minister on terrorism, said this evening on Israeli television that Israel should refuse any American request to release the Shiite captives. He said that an operation to free the hostages at the Beirut airport would be very difficult. But, he added, it might be possible to retaliate against the people who sent the hijackers on their mission. There are targets, besides the hijackers themselves, which would be ''no less painful,'' Mr. Zeevi said. photo of guard keeping watch over airliner (AP)\n",
        "\n",
        "\n",
        "Three of America's leading oil companies yesterday announced sharply higher earnings for the fourth quarter of 1981, despite the current sluggish state of the petroleum products market. Oil analysts said the Atlantic Richfield Company, the Union Oil Company of California and Ashland Oil Inc. were all able to improve profitability by widening margins on their refining and retail sales operations and by bringing inventories back into balance with the reduced market demand. Although refined product prices have been falling in the last six months, crude oil prices have begun to fall even faster after remaining stable in the first half of the year, enabling oil companies to restore their traditional profit margins. The companies' av erage cost of crude oil has fallen by about $4 a barrel since March 1 981, said Barry C. Good, oil analyst for Morgan Stanley &amp; Company, bu t the price of their gasoline at the pump has slipped byonly half as much. ''The impression exists that the oil business has somehow fallen to pieces, but that is not true at all,'' remarked Todd L. Bergman, oil analyst for Goldman, Sachs &amp; Company. ''The companies that properly perform the basics of the oil business - production and refining - are still in very good shape, despite the softness of the market.'' Industry analysts note, however, that the erosion of product prices appeared to be gaining strength in the closing weeks of 1981, as the recession began biting deeper into the American economy. Henry L. Wojtyla, an analyst for the brokerage firm Rosenkrantz, Ehrenkrantz, Lyon &amp; Ross Inc., predicted that the downward spiral of product prices would gain speed in 1982 and significantly erode oil companies' profits. Union Oil The Union Oil Company of California, the nation's 15th-largest oil company, said its earnings for the fourth quarter of 1981 ended Dec. 31, were up 33.2 percent, to $236 million, or $1.36 a share, from $177.2 million, or $1.02 a share, in the similar period last year. Fourth-quarter revenues rose 7.4 percent, to $2.9 billion, from $2.7 billion. For the year, Union earned a record $791.4 million, or $4.56 a share, up 22 percent from the $647 million, or $3.73 a share, posted in 1980. Sales for the year were up 8 percent, to $11.3 billion, from $10.5 billion in 1980. Union's chairman and president, Fred L. Hartley, said the increase in net income for the year was due primarily to higher oil and gas production earnings, both domestic and overseas, as well as higher investment tax credits resulting from greater capital expenditures. Atlantic Richfield Atlantic Richfield said its fourth-quarter earnings rose 18 percent, to $469.8 million, or $1.86 a share, compared with $398.2 million, or $1.60 a share, in 1980. Quarterly sales fell 4 percent, to $7.1 billion, from $7.4 billion. For 1981, America's seventh-largest oil concern earned $1.67 billion, or $6.66 a share, up only a fraction from last year's $1.65 billion, or $6.64 a share. Revenues rose 17 percent, to $28.2 billion, from $24.1 billion. Robert O. Anderson, Atlantic Richfield's chairman, noted that ''refining and marketing activities showed a strong earnings improvement during the second half of the yea r due to improved margins and higher utilization of operable re fining capacity.'' Ashland Oil Ashland Oil Inc. reported earnings for the first quarter of its fiscal year 1982 calendar. It said net income for the three months ended Dec. 31 was up 135.1 percent, to $47.5 million, or $1.40 a share, from $20.2 million, or 55 cents a share. Revenues jumped 16 percent, to $2.3 billion, from $1.9 billion. Analysts noted that the large percentage increase in profit must be seen in light of the company's poor profits during the same quarter a year ago. Getty Oil The Getty Oil Company, the 14th largest in the United Statets, said its fourth-quarter net income was up 2.6 percent, to $216.5 million, or $2.63 a share, from $211.1 million, or 2.57 a share. Sales for the quarter rose 17 percent, to $3.47 billion, from $2.97 billion. For the year 1981, net income fell 2 percent, to $856.9 million, or $10.42 a share, from $871.9 million, or $10.60 a share. Revenue for 1981 increased 27 percent, to $13.25 billion from $10.44 billion. Getty said the drop in 1981 earnings resulted principally from higher British taxes, where it has substantial operations, and increased exploration and production costs. Ethyl Corporation The Ethyl Corporation, a leading manufacturer of petrochemicals, plastics and specialty industrial chemicals, reported that earnings for the fourth quarter of 1981 declined 4 percent, to $23.9 million, or $1.20 a share, from $24.7 million, or $1.24 a share. Revenue was also off slightly, to $430.3 million, compared with $431.5 million. Net income for the year rose 1 percent, to $90.8 million, or $4.56 a share, against $89.6 million, or $4.49 a share. Total sales were up marginally, to $1.75 billion, from $1.74 billion.\n",
        "\n",
        "\n",
        "I happened to be reading Richard Reeves's compelling new biography of Richard Nixon last week, when a paragraph about Israel caught my eye. It was a memo that Nixon wrote to Henry Kissinger in 1969, describing his, and America's, feelings about Israel: ''[The Israelis] must recognize that our interests are basically pro-freedom and not just pro-Israel because of the Jewish vote. . . . [Golda] Meir . . . must trust [Nixon] completely. He will see to it that Israel always has 'an edge.' This is going to be the policy of this country. Unless [Israelis] understand it, and act as if they understood it right now, they are down the tubes.'' I find this quote so revealing because Nixon didn't like Jews, but he understood Americans -- you don't get elected president without that. And what he understood was that the animating vision of America in the world is the promotion and protection of freedom -- freedom of speech, freedom of religion, freedom of markets and freedom of politics. And that while America might align itself with all sorts of countries for economic or strategic reasons, in the end it was those who were ''basically pro-freedom'' whom America would never abandon and with whom America would always share a special bond. I am not sure all our coalition partners in the war against Osama bin Laden understand that. The truth is, our real coalition partners can be counted on a few fingers: the British, France, Canada, Germany, Australia, Japan. The Saudis, Egyptians and Syrians are not, and will not be, members of this coalition in any equal sense -- not because they don't have military power to contribute, but because deep down these Arab regimes do not share the values that we're trying to defend. These Arab regimes are whispering members of the coalition -- they whisper their support in our ear -- but they cannot be full-throated members, they cannot openly tell their people they are on our side. Because our side is out for the defense of freedom, and their goal is not the preservation of freedom -- for their own societies or for others. Their goal is self-preservation. ''Regimes such as Egypt, Saudi Arabia or the Palestinian Authority have a legitimate fear of democracy -- they fear that free elections would be exploited by Islamist extremists who are basically undemocratic,'' said the Mideast specialist Stephen P. Cohen. ''But these Arab leaders have to understand that if we root out these extremists -- who've been produced by their own bad governance -- we are not doing it so these regimes can keep their countries free of democracy for everyone else. We want to make the world safe for democracy, and they want to make the Arab world safe from democracy.'' The other guy who doesn't get it is Prime Minister Ariel Sharon of Israel. His suggestion that America was in danger of acting like those who appeased Hitler on the eve of World War II -- because Mr. Bush reiterated U.S. support for a Palestinian state -- was stupid and offensive. Yes, Mr. Bush should have elaborated, by saying that ''We favor a Palestinian state, but after the last year we don't know whether we have a serious Palestinian leader ready to live in peace with Israel in such a state.'' Still, it's outrageous to suggest that after all the military, diplomatic and economic support America has given Israel over decades that America is now going to sell Israel out. Attention, Mr. Sharon: America is now fighting for its freedom -- the same battle we have aided Israel in all these years -- and when we are fighting for our freedom there is only one thing for Israel to say: How can we help? Period. There's one more thing Mr. Sharon needs to understand: Americans want to destroy this terrorist menace so that we and all other free nations, including Israel, can really enjoy our freedom. That's what it's all about. But we are not out to destroy this extremist menace so that Israel will be free to build more settlements or to eat up more Palestinian land. Today the Palestinians are literally at war with each other over whether to make peace with Israel. But if and when the Palestinians ever get their peace act together, Mr. Sharon needs to realize that we are out to make the world safe for Israel to be free, not safe for Israel to occupy the West Bank according to his biblical map -- and saying that is not appeasement, it's American.\n",
        "\n",
        "\n",
        "While I'm convinced that our current financial crisis is the product of both The Market and Mother Nature hitting the wall at once  telling us we need to grow in more sustainable ways  some might ask this: We know when the market hits a wall. It shows up in red numbers on the Dow. But Mother Nature doesn't have a Dow. What makes you think she's hitting a wall, too? And even if she is: Who cares? When my 401(k) is collapsing, it's hard to worry about my sea level rising. It's true, Mother Nature doesn't tell us with one simple number how she's feeling. But if you follow climate science, what has been striking is how insistently some of the world's best scientists have been warning  in just the past few months  that climate change is happening faster and will bring bigger changes quicker than we anticipated just a few years ago. Indeed, if Mother Nature had a Dow, you could say that it, too, has been breaking into new (scientific) lows. Consider just two recent articles: The Washington Post reported on Feb. 1, that \"the pace of global warming is likely to be much faster than recent predictions, because industrial greenhouse gas emissions have increased more quickly than expected and higher temperatures are triggering self-reinforcing feedback mechanisms in global ecosystems, scientists said. 'We are basically looking now at a future climate that's beyond anything we've considered seriously in climate model simulations,' Christopher Field, director of the Carnegie Institution's Department of Global Ecology at Stanford University, said.\" The physicist and climate expert Joe Romm recently noted on his blog , climateprogress.org , that in January, M.I.T.'s Joint Program on the Science and Policy of Global Change quietly updated its Integrated Global System Model that tracks and predicts climate change from 1861 to 2100. Its revised projection indicates that if we stick with business as usual, in terms of carbon-dioxide emissions, average surface temperatures on Earth by 2100 will hit levels far beyond anything humans have ever experienced. \"In our more recent global model simulations,\" explained M.I.T., \"the ocean heat-uptake is slower than previously estimated, the ocean uptake of carbon is weaker, feedbacks from the land system as temperature rises are stronger, cumulative emissions of greenhouse gases over the century are higher, and offsetting cooling from aerosol emissions is lower. Not one of these effects is very strong on its own, and even adding each separately together would not fully explain the higher temperatures. [But,] rather than interacting additively, these different effects appear to interact multiplicatively, with feedbacks among the contributing factors, leading to the surprisingly large increase in the chance of much higher temperatures.\" What to do? It would be nice to say, \"Hey, Mother Nature, we're having a credit crisis, could you take a couple years off?\" But as the environmental consultant Rob Watson likes to say, \"Mother Nature is just chemistry, biology and physics,\" and she is going to do whatever they dictate. You can't sweet talk Mother Nature or the market. You have to change the economics to affect the Dow and the chemistry, biology and physics to affect Mother Nature. That's why we need a climate bailout along with our economic bailout. Hal Harvey is the C.E.O. of a new $1 billion foundation, ClimateWorks , set up to accelerate the policy changes that can avoid climate catastrophe by taking climate policies from where they are working the best to the places where they are needed the most. \"There are five policies that can help us win the energy-climate battle, and each has been proven somewhere,\" Harvey explained. First, building codes: California's energy-efficient building and appliance codes now save Californians $6 billion per year,\" he said. Second, better vehicle fuel-efficiency standards: \"The European Union's fuel-efficiency fleet average for new cars now stands at 41 miles per gallon, and is rising steadily,\" he added. Third, we need a national renewable portfolio standard, mandating that power utilities produce 15 or 20 percent of their energy from renewables by 2020. Right now, only about half our states have these. \"Whenever utilities are required to purchase electricity from renewable sources,\" said Harvey, \"clean energy booms.\" (See Germany's solar business or Texas's wind power.) The fourth is decoupling  the program begun in California that turns the utility business on its head. Under decoupling, power utilities make money by helping homeowners save energy rather than by encouraging them to consume it. \"Finally,\" said Harvey, \"we need a price on carbon.\" Polluting the atmosphere can't be free. These are the pillars of a climate bailout. Yes, some have upfront costs. But all of them would pay long-term dividends, because they would foster massive U.S. innovation in new clean technologies that would stimulate the real Dow and much lower emissions that would stimulate the Climate Dow.\n",
        "\n",
        "\n",
        "JERUSALEM, Sept. 3-- An Israeli soldier was stabbed to death and another seriously wounded today as they stood guard at an apartment in the West Bank, the Israeli Army spokesman announced. Israeli military sources said the stabbings had been carried out by one or two ''local residents,'' which they said ''obviously means Arabs.'' The apartment, in the old marketplace of Hebron, was recently occupied by three Israeli members of Parliament who sought to demonstrate that Jews were free to live anywhere in the Israeli-occupied West Bank. A third Israeli soldier guarding the building opened fire on the crowded street after the attack, wounding a young Arab woman and an Arab man who were apparently not involved in the incident, military sources said. Hebron Is Closed Off Hebron, situated 20 miles south of Jerusalem, was immediately declared a ''closed military area,'' meaning no one could go in or out. A curfew was imposed on the marketplace, so no one there was allowed to leave their homes. A reporter for the Israeli Army radio described the streets of Hebron as being virtually deserted shortly after the attack. No one has yet been charged with the killing, although many people have been detained. The stabbing was the latest in a new wave of violence between Arabs and Jews in Israel and the occupied West Bank. Only 10 days ago, an Israeli was shot dead as he entered a jewelry store in the West Bank town of Tulkarm, and another Israeli was shot and wounded on the same day in nearby Jenin. With the decline of the Palestine Liberation Organization as a military force, young West Bank Arabs have increasingly taken up the conflict. In the last year more than dozen Israeli Jews have been killed in attacks by individual Arabs, using either a pistol or home-made weapons and knives. The police have found that some of the Arab attackers acted on orders from abroad but that most acted out of their own nationalistic motivation. 'Hatred Pure and Simple' On Monday, the Israeli daily newspaper Maariv quoted Mayor Elias Freij of Behtlehem as describing the new situation between Arabs and Jews as ''taking on the form of a fight between Bedouin tribes.'' ''The people are tearing each other apart, killing each other on individual initiative, out of hatred pure and simple,'' he said. As part of the continuing Israeli crackdown on West Bank Arabs, 20 more Palestinians were put under administrative detention Monday night, military sources said. This brought the total number of Palestinians that the Israeli Army is holding - without trial for up to six months - to more than 50 in the last three weeks. According to the army spokesman, the two soldiers stabbed today were sitting at the entrance to the rundown two-story apartment in the narrow alleyway of the Hebron casbah, or marketplace, when they were knifed in the side shortly before 11 A.M. It is highly unsual for an Arab armed only with a knife to walk up and attack two Israeli soldiers armed with grenades and assault rifles - which is probably why the soldiers were apparently caught off guard. Soldier Tells What Happened Another soldier, identified only as David, was sitting on the roof of the apartment and later described the incident to the Israeli Army radio. ''We heard a noise downstairs where the two soldiers were standing guard,'' he said. ''I ran down the stairs. On the way I bumped into one of the wounded, who said he had been stabbed. The other soldier who was on the roof with me treated him, and I continued down the stairs and saw another wounded man lying in the doorway. I fired a few shots in the air to disperse some people in the area. Both men had been stabbed once in the side.'' The dead Israeli was identified as Avraham Sorek, a 37-year-old reservist and recent immigrant from Chile who was the father of three children. The apartment the soldiers were guarding had been purchased by Jewish settlers last year and was the center of a recent controversy. There are two pockets of Jewish settlers living in the middle of Hebron, whose population is almost entirely Arab. photo of soldiers walking through street (AP)\n",
        "\n",
        "\n",
        "BEIRUT, Lebanon, April 26-- President Amin Gemayel today called on former Prime Minister Rashid Karami, a pro-Syrian Moslem leader, to form a government of national unity. The Prime Minister-designate, who is 62 years old and has previously served as head of government nine times, is expected to include in his new cabinet representatives of all of Lebanon's main religious and political factions as well as the country's top militia leaders. The hope is that they might be able to resolve their differences in debates around the cabinet table and not through shootouts. Mr. Karami was named to replace Prime Minister Shafik al-Wazzan, who submitted his Cabinet's resignation on Feb. 5 in the midst of widescale fighting between the Lebanese Army and Moslem militia forces. Mr. Wazzan has been Prime Minister throughout Mr. Gemayel's presidency, which began in September 1982. Under the Lebanese system, the President, who is always a Maronite Christian, is elected by Parliament for a six-year term and has the right to appoint and dismiss his own Prime Minister, who must be a Sunni Moslem. Political Leader of Tripoli Mr. Karami, the political leader of the northern port city of Tripoli, was appointed Prime Minister by Mr. Gemayel at a meeting this morning in the presidential palace in suburban Baabda. The appointment was strongly backed by the Syrian President, Hafez al-Assad, when Mr. Gemayel visited him in Damascus two weeks ago. In exchange for Mr. Karami's appointment the Syrians reportedly promised to put pressure on their allies among the array of Lebanese forces to cooperate with the Lebanese President. After two hours of talks this morning between President Gemayel and Mr. Karami, the Prime Minister-designate told reporters: ''As a result of consultations undertaken by the President, he entrusted me today with the task of forming a Government of National Unity. I accepted thankfully.'' Mr. Karami also called on all Lebanese to ''cast weapons aside'' and ''to renounce grudges and intolerance in order to cooperate and save Lebanon.'' Outlines General Objectives Mr. Karami outlined the general objectives of his cabinet as the removal of the Israeli occupation force from southern Lebanon, the carrying out of political changes and the insuring of security for all citizens. He made no mention, however, of seeking a withdrawal of the Syrian troops that also occupy large parts of Lebanon. Mr. Karami immediately began the traditional process of consulting with former Prime Ministers and Members of Parliament over the selection of the ministers to make up his cabinet. Mr. Karami said he hoped to be able to present a full cabinet list to President Gemayel by Saturday. Thanks to the backing of American and Israeli troops around Beirut in the first 18 months of Mr. Gemayel's rule, the Lebanese President was able to appoint Mr. Wazzan Prime Minister, much to the disgruntlement of the Syrians and hard-line Moslem opposition figures. They viewed Mr. Wazzan as a weak and docile politician. Although the Lebanese system envisages a rough balance of power between the President and the Prime Minister, Mr. Gemayel rarely paid any heed to Mr. Wazzan in making critical decisions and appointments and completely ignored his reservations about the May 17 Israel-Lebanon withdrawal accord. The agreement, which Syria denounced, called for the withdrawal of Israeli troops along with those of Syria and provided for the establishment of joint Israeli-Lebanese security measures for southern Lebanon. Moslems Turned to Syria With Mr. Wazzan in office, Lebanese Moslems generally felt left out of decision-making and as a result felt encouraged to turn to Syria for support in opposing Mr. Gemayel. The second category of ministers would consist of those holding specific portfolios. Mr. Karami is expected to take the Ministry of Finance for himself. The Minister of Finance has to take part in virtually every government decision, giving Mr. Karami an added hold over the bureaucracy. The other key posts, such as defense, foreign affairs and the interior, are expected to be divided between Christian and Moslem figures. In addition to restoring the pro- Syrian Moslems' influence in the Lebanese government, Mr. Karami is expected to purge the army and the state bureaucracy of those of Mr. Gemayel's appointments who were most objectionable to Syria and the Moslem opposition. photo of Rashid Abdul Hamid Karami\n",
        "\n",
        "\n",
        "Having succeeded in its efforts to pressure Japan to open its most lucrative cellular phone market to Motorola Inc., the Clinton Administration plans to keep up the pressure on Tokyo to unilaterally open other markets with a strategy that some disdainfully call \"managed trade,\" but that might best be thought of as \"economic acupuncture.\" That policy seeks to bring down Japan's trade barriers not with a single, big blow that would destabilize the whole United States-Japan relationship, but instead through a series of carefully targeted pressure points aimed at loosening some of Japan's other tightly constricted markets. Critics charge that this approach constitutes managed trade, which inevitably requires more regulation, benefits certain companies over others, and undercuts arguments for free trade elsewhere. Despite such criticisms, however, the Clinton Administration's targeted policy seems to be producing results for the United States, and officials say it is actually reversing managed trade practices that already exist. No sooner had President Clinton brandished the possibility of sanctions under the Super 301 trade law, than Prime Minister Morihiro Hosokawa promised Washington that by the end of March he would produce a package of unilateral Japanese initiatives to open the other closed markets to which the United States has spent the last eight months fruitlessly trying to negotiate access: autos, medical equipment, insurance and telecommunications. This issue will no doubt be a topic of discussion between Treasury Secretary Lloyd Bentsen and Japanese economic officials attending the meetings here this weekend of the Asia-Pacific Economic Cooperation forum, known as APEC. For all the Administration's tough rhetoric, though, it is proceeding very cautiously with Tokyo, so as not to derail other aspects of the relationship or ignite a tit-for-tat trade war. For now, American officials seem satisfied that their speak-loudly-and-carry-a-small-needle strategy is working. \"Any time you maintain a strong and consistent position with the Japanese, it is helpful,\" Mickey Kantor, the United States trade representative, said. President Clinton's approach to Japan, Mr. Kantor added, is very much colored by the fact that he was a governor, who accompanied Arkansas businessmen on trade missions to Japan in an effort to win them access. He looks at Japan as much through the narrow lens of a typical American exporter as he does through the wide-angle lens of a global strategist worried about cooperation with Japan on issues like Korea and Russia. The American public, Mr. Kantor said, \"wants a realistic trade policy grounded in practical experience, not in theory.\" But if the public is pleased with the results, economists still contend that the absence of sound theoretical grounding will ultimately undo the pragmatic Clinton approach. Trade Balance One of the economists' complaints is that the President and his aides often hold up the $60 billion trade surplus of Japan with the United States as proof that it is closing its markets to American goods. That $60 billion figure may make a nice emotional banner to gather under, economists say, but as any student of Economics 101 knows, the trade balance is not a measure of how open markets are between countries. Rather, it is a reflection of how much a country is saving and investing. If the United States spends too much, instead of saving, it must make up the difference by getting capital from abroad. The United States buys lots of Japanese cars and the Japanese then lend the dollars they earn back to the United States Treasury.\n",
        "\n",
        "\n",
        "BEIRUT, Lebanon, May 9-- Wives and children of Soviet diplomats in Lebanon left Beirut unexpectedly today on board a special Aeroflot flight, officials at the Soviet Embassy said. An official attached to the Soviet mission said 39 women and 48 children, all of them dependents of Soviet diplomats in Beirut, were flown out of the Lebanese capital ''on the orders of the Soviet Ambassador,'' Aleksandr A. Soldatov. The official said the women and children were being sent out ''so they could have a safe place to spend their summer vacation.'' He added, ''We were afraid something might happen.'' Today's action marked the third time in the last three years that the Russians have evacuated dependents of their diplomats. In June of 1982, immediately after the start of the Israeli invasion, Soviet families were evacuated, as well as in April 1981 during the Syrian missile crisis and the fighting in Zahle. A Lebanese Government source said it may be true that the Russians felt the recent fighting in the Shuf Mountains between Christians and Druse presaged a ''hot'' summer in Lebanon. However, Arab analysts argued that the Soviet move appeared to be deliberately provocative. They noted that the school year was still not over, that many of the Soviet diplomats, including the Ambassador, returned to Beirut only in March and that the security situation is no worse now than it was then. The analysts suggested that the Soviet move could be aimed at poisoning the atmosphere and creating tension in the aftermath of Secretary of State George P. Shultz's success at winning a tentative security accord between Lebanon and Israel. Syria has rejected the Israel-Lebanon withdrawal accord and Foreign Minister Abdel Halim Khaddam of Syria was reported to have told a news conference in Saudi Arabia today that he expects a war in the Middle East in the near future. The Syrian Foreign Minister accompanied President Hafez al-Assad on a short visit to Jidda in an effort to persuade King Fahd to join them in spurning the Lebanon-Israel accord. (The state-run Damascus radio reported that Mr. Assad and King Fahd agreed ''on the need to counter the dangers provided by the Israeliimposed agreement with Lebanon,'' according to United Press International. The Damascus radio report said the two men also agreed ''to confront those dangers should the Lebanese-Israeli plan become a full-fledged agreement.'' Saudi Arabia had no official comment on the talks between Mr. Assad and King Fahd.) Senior aides to President Amin Gemayel of Lebanon admit to being at a loss at this point as to how to deal with the Syrians. The officials are convinced that the Russians are encouraging Damascus to stand firm in Lebanon to block any American foreign policy ''victories'' here - at least until Washington agrees to include Moscow in the peace process. Before Lebanon begins formal negotiations with the Syrians, however, it wants to have a signed agreement with the Israelis, so that the Syrians can't introduce changes in it and open the whole negotiating process anew, the official said. However, Lebanese negotiators said they were ''extremely annoyed'' by the eight pages of requested clarifications the American special envoy Philip C. Habib brought from Israel. Israel accepted the American-sponsored agreement ''in principle'' last Friday but said it wanted certain clarifications in the agreement. A senior Lebanese official said the clarifications being sought by the Israelis ranged from a suggestion that the legend attached to the map in the agreement be printed in English only, to substantive changes on some of the security points. ''What the Israelis couldn't get at the negotiating table they are trying to get through clarifications,'' said the senior Lebanese official.\n",
        "\n",
        "\n",
        "THE historian Victor Davis Hanson recently wrote a brutally clear-eyed piece in The National Review, looking back at America's different approaches to Iraq, Iran, Libya, Syria, Egypt, Pakistan and Afghanistan and how, sadly, none of them could be said to have worked yet. \"Let us review the various American policy options for the Middle East over the last few decades,\" Hanson wrote . \"Military assistance or punitive intervention without follow-up mostly failed. The verdict on far more costly nation-building is still out. Trying to help popular insurgents topple unpopular dictators does not guarantee anything better. Propping up dictators with military aid is both odious and counterproductive. Keeping clear of maniacal regimes leads to either nuclear acquisition or genocide -- or 16 acres of rubble in Manhattan. What have we learned? Tribalism, oil, and Islamic fundamentalism are a bad mix that leaves Americans sick and tired of the Middle East -- both when they get in it and when they try to stay out of it.\" And that is why it's time to rethink everything we're doing out there. What the Middle East needs most from America today are modern schools and hard truths, and we haven't found a way to offer either. Because Hanson is right: What ails the Middle East today truly is a toxic mix of tribalism, Shiite-Sunni sectarianism, fundamentalism and oil -- oil that constantly tempts us to intervene or to prop up dictators. This cocktail erodes all the requirements of a forward-looking society -- which are institutions that deliver decent government, consensual politics that provide for rotations in power, women's rights and an ethic of pluralism that protects minorities and allows for modern education. The United Nations Arab Human Development Report published in 2002 by some brave Arab social scientists also said something similar: What ails the Arab world is a deficit of freedom, a deficit of modern education and a deficit of women's empowerment. So helping to overcome those deficits should be what U.S. policy is about, yet we seem unable to sustain that. Look at Egypt: More than half of its women and a quarter of its men can't read. The young Egyptians who drove the revolution are desperate for the educational tools and freedom to succeed in the modern world. Our response should have been to shift our aid money from military equipment to building science-and-technology high schools and community colleges across Egypt. Yet, instead, a year later, we're in the crazy situation of paying $5 million in bail to an Egyptian junta to get U.S. democracy workers out of jail there, while likely certifying that this junta is liberalizing and merits another $1.3 billion in arms aid. We're going to give $1.3 billion more in guns to a country whose only predators are illiteracy and poverty. In Afghanistan, I laugh out loud whenever I hear Obama administration officials explaining that we just need to train more Afghan soldiers to fight and then we can leave. Is there anything funnier? Afghan men need to be trained to fight? They defeated the British and the Soviets ! The problem is that we turned a blind eye as President Hamid Karzai stole the election and operated a corrupt regime. Then President Obama declared that our policy was to surge U.S. troops to clear out the Taliban so \"good\" Afghan government could come in and take our place. There is no such government. Our problem is not that Afghans don't know the way to fight. It is that not enough have the will to fight for the government they have. How many would fight for Karzai if we didn't pay them? And so it goes. In Pakistan, we pay the Pakistani Army to be two-faced, otherwise it would be only one-faced and totally against us. In Bahrain, we looked the other way while ruling Sunni hard-liners crushed a Shiite-led movement for more power-sharing, and we silently watch our ally Israel build more settlements in the West Bank that we know are a disaster for its Jewish democracy. But we don't tell Pakistan the truth because it has nukes. We don't tell the Saudis the truth because we're addicted to their oil. We don't tell Bahrain the truth because we need its naval base. We don't tell Egypt the truth because we're afraid it will walk from Camp David. We don't tell Israel the truth because it has votes. And we don't tell Karzai the truth because Obama is afraid John McCain will call him a wimp. Sorry, but nothing good can be built on a soil so rich with lies on our side and so rich with sectarianism, tribalism and oil-fueled fundamentalism on their side. Don't get me wrong. I believe change is possible and am ready to invest in it. But it has got to start with them wanting it. I'll support anyone in that region who truly shares our values -- and the agenda of the Arab Human Development Report -- and is ready to fight for them. But I am fed up with supporting people just because they look less awful than the other guys and eventually turn out to be just as bad. Where people don't share our values, we should insulate ourselves by reducing our dependence on oil. But we must stop wanting good government more than they do, looking the other way at bad behavior, telling ourselves that next year will be different, sticking with a bad war for fear of being called wimps and selling more tanks to people who can't read.\n",
        "\n",
        "\n",
        "JERUSALEM, June 17-- Israeli officials stressed again today that, unless the Reagan Administration made a public appeal, they had no intention of releasing more than 700 Lebanese Shiite detainees in exchange for more than 40 American hostages. The freeing of the Lebanese Shiites is the principal demand of the airline hijackers who are holding more than 40 Americans who were aboard a Trans World Airlines aircraft commandeered Friday during a flight from Athens to Rome. The Israeli radio said a ''cat and mouse game, unspoken between friends'' was now taking place between Washington and Jerusalem on the question of Israel releasing the Shiite captives. One senior official, who asked that he not be identified, said Israel was not going to allow the Reagan Administration to sit back and publicly declare its unwillingness to give into terrorism, while privately allowing moral pressure to build on Israel to free the Shiite captives in return for the American hostages on the T.W.A. jetliner. 'Have to Say So Publicly' ''If the Americans want Israel to give in to the hijackers' demands, they are going to have to say so publicly and at the highest levels,'' said the official. ''We were criticized by the Americans for exchanging 1,150 Palestinians for 3 Israeli soldiers, so now let us see what they do in this position.'' Israeli officials quickly add, however, that they are very pleased with the hard line Washington has taken so far and certainly have no intention of freeing the Shiite prisoners under the pressure of the hijackers without an American request. Israeli officials made it clear that they sympathize with the predicament in which the Reagan Administration now finds itself. They indicated that they now want to make certain that if they release the Shiite prisoners, that it appear the United States is the party making the concessions to the terrorists, not Israel - that Israel is only doing a favor to the United States. As the Minister of Police, Chaim Bar-Lev, put it in a radio interview: ''The plane is an American plane, the hostages are American citizens, the crew is an American crew and it is parked in Beirut. We don't have to take any initiative. If there is an approach from the United States, directly and at an appropriate level, and they come with some questions or proposals, we will have to consider them seriously. But up to this moment there has been no request and we don't have to take any initiatives.'' Release Already Planned Israel had been planning to release the Shiite prisoners, all of whom were picked up in South Lebanon since Nov. 1983 on suspicion of carrying out attacks on Israeli troops or the Israeli-backed militia known as the South Lebanon Army. They are all being held in the Atlit prison south of Haifa. Israel had planned to free most of them last week, but the operation was delayed because of techinical problems with the Red Cross and because of the incident between the South Lebanon Army and the Finnish battalion of the United Nations Interim Force in Lebanon. Israeli officials have been trying to figure out the exact role of Nabih Berri, leader of the Shiite Amal militia, in this hijacking affair, since it could reflect on their relations with Amal in the south. Some analysts here believe that Mr. Berri was not responsible for the original hijacking. But either because he feared for the lives of the hostages or because he wanted to be in a position to benefit politically from the incident, Mr. Berri has maneuvered himself into the position of chief negotiator for the hijackers. At the same time, the Shiite leader is involved in an intense political battle with more extreme elements within his own Amal movement and other rival Shiite groups for leadership of Lebanon's Shiite community. ''I don't think it matters anymore whether Berri initiated the hijacking or has taken responsiblity for it after the fact,'' said Yossi Olmert, an expert on Israel at Tel Aviv University. ''The point is that he cannot allow himself to be outflanked by the more extreme fundamentalist Shiites.'' But Mr. Berri may have outflanked himself. Now that he has taken responsibility for the hostages, as a minister in the Lebanese Cabinet and as someone with close ties with the United States, he could never allow any harm to come to them. But if the Israelis are convinced that there is no threat to the American hostages, said Mr. Olmert, they will probably be even less inclined to free the prisoner as part of any deal. As a result, Mr. Berri could find himself trapped, unable to harm the hostages and unable to muster a credible enough threat to gain any of concessions to the hijackers. If he should decide to do the Americans a favor and play the role of the ''good guy'' by freeing the hostages without getting anything in return, his extremist rivals would immediately use it against him. ''Berri has taken the hijackers off the hook,'' said Mr. Olmert. ''Now it is he who is in the difficult position.'' photo of Shiite Moslem in cockpit of captured TWA plane (Reuters)\n"
       ]
      }
     ],
     "prompt_number": 18
    },
    {
     "cell_type": "code",
     "collapsed": false,
     "input": [],
     "language": "python",
     "metadata": {},
     "outputs": []
    }
   ],
   "metadata": {}
  }
 ]
}