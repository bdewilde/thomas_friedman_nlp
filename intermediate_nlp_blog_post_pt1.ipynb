{
 "metadata": {
  "name": "intermediate_nlp_blog_post_pt1"
 },
 "nbformat": 3,
 "nbformat_minor": 0,
 "worksheets": [
  {
   "cells": [
    {
     "cell_type": "markdown",
     "metadata": {},
     "source": [
      "---\n",
      "\n",
      "## Intermediate Natural Language Processing, Part 1\n",
      "\n",
      "---"
     ]
    },
    {
     "cell_type": "code",
     "collapsed": false,
     "input": [
      "from hiPy import hi_nyt"
     ],
     "language": "python",
     "metadata": {},
     "outputs": [],
     "prompt_number": 2
    },
    {
     "cell_type": "code",
     "collapsed": false,
     "input": [
      "df = hi_nyt.query_nyt_article_search('byline:\"thomas l. friedman\"',\n",
      "                                     nyt_api_key,\n",
      "                                     max_iters=1)"
     ],
     "language": "python",
     "metadata": {},
     "outputs": [
      {
       "output_type": "stream",
       "stream": "stdout",
       "text": [
        "\n",
        "*INFO: query = byline:\"thomas l. friedman\"\n",
        "*INFO: url = http://api.nytimes.com/svc/search/v1/article?begin_date=19810101&fields=date%2Curl%2Ctitle%2Cbyline%2Cbody%2Cabstract%2Cword_count%2Cmultimedia%2Cdes_facet%2Cgeo_facet%2Cper_facet%2Corg_facet%2Cnytd_section_facet%2Ccolumn_facet%2Cclassifiers_facet%2Cpage_facet&end_date=20130715&offset=0&query=byline%3A%22thomas+l.+friedman%22&facets=des_facet%2Cgeo_facet%2Corg_facet%2Cper_facet&api-key=f28d40af5370f79078fc5eb7ffd97049%3A17%3A49171679&rank=newest\n",
        "*INFO: n_all_results = 3204\n",
        "\n",
        "... des_facet : [{u'count': 1340, u'term': u'UNITED STATES INTERNATIONAL RELATIONS'}, {u'count': 608, u'term': u'INTERNATIONAL RELATIONS'}, {u'count': 576, u'term': u'PALESTINIANS'}, {u'count': 512, u'term': u'UNITED STATES ARMAMENT AND DEFENSE'}, {u'count': 428, u'term': u'ARMAMENT, DEFENSE AND MILITARY FORCES'}, {u'count': 395, u'term': u'POLITICS AND GOVERNMENT'}, {u'count': 317, u'term': u'TERRORISM'}, {u'count': 267, u'term': u'ECONOMIC CONDITIONS AND TRENDS'}, {u'count': 211, u'term': u'INTERNATIONAL TRADE AND WORLD MARKET'}, {u'count': 178, u'term': u'CIVIL WAR AND GUERRILLA WARFARE'}, {u'count': 134, u'term': u'FOREIGN AID'}, {u'count': 126, u'term': u'MILITARY ACTION'}, {u'count': 122, u'term': u'OIL (PETROLEUM) AND GASOLINE'}, {u'count': 120, u'term': u'ISLAM'}, {u'count': 119, u'term': u'ELECTIONS'}]\n",
        "\n",
        "... geo_facet : [{u'count': 978, u'term': u'MIDDLE EAST'}, {u'count': 633, u'term': u'ISRAEL, STATE OF'}, {u'count': 458, u'term': u'ISRAEL'}, {u'count': 429, u'term': u'LEBANON'}, {u'count': 385, u'term': u'IRAQ'}, {u'count': 242, u'term': u'SYRIA'}, {u'count': 191, u'term': u'UNION OF SOVIET SOCIALIST REPUBLICS (USSR)'}, {u'count': 162, u'term': u'CHINA'}, {u'count': 162, u'term': u'UNITED STATES'}, {u'count': 158, u'term': u'BEIRUT (LEBANON)'}, {u'count': 149, u'term': u'EUROPE'}, {u'count': 122, u'term': u'IRAN'}, {u'count': 113, u'term': u'SAUDI ARABIA'}, {u'count': 107, u'term': u'GAZA STRIP'}, {u'count': 93, u'term': u'RUSSIA'}]\n",
        "\n",
        "... per_facet : [{u'count': 370, u'term': u'CLINTON, BILL'}, {u'count': 361, u'term': u'BUSH, GEORGE'}, {u'count': 327, u'term': u'BAKER, JAMES A 3D'}, {u'count': 242, u'term': u'BUSH, GEORGE W'}, {u'count': 123, u'term': u'HUSSEIN, SADDAM'}, {u'count': 101, u'term': u'SHAMIR, YITZHAK'}, {u'count': 96, u'term': u'ARAFAT, YASIR'}, {u'count': 89, u'term': u'PERES, SHIMON'}, {u'count': 83, u'term': u'GORBACHEV, MIKHAIL S'}, {u'count': 49, u'term': u'SHARON, ARIEL'}, {u'count': 48, u'term': u'REAGAN, RONALD WILSON'}, {u'count': 43, u'term': u'NETANYAHU, BENJAMIN'}, {u'count': 40, u'term': u'YELTSIN, BORIS N'}, {u'count': 36, u'term': u'RABIN, YITZHAK'}, {u'count': 32, u'term': u'ASSAD, HAFEZ AL-'}]\n",
        "\n",
        "... org_facet : [{u'count': 148, u'term': u'UNITED NATIONS'}, {u'count': 114, u'term': u'NORTH ATLANTIC TREATY ORGANIZATION'}, {u'count': 103, u'term': u'PALESTINE LIBERATION ORGANIZATION'}, {u'count': 23, u'term': u'DEMOCRATIC PARTY'}, {u'count': 20, u'term': u'EUROPEAN UNION'}, {u'count': 20, u'term': u'HAMAS'}, {u'count': 20, u'term': u'STATE DEPARTMENT'}, {u'count': 18, u'term': u'AL QAEDA'}, {u'count': 18, u'term': u'TRANS WORLD AIRLINES'}, {u'count': 16, u'term': u'REPUBLICAN PARTY'}, {u'count': 15, u'term': u'GENERAL AGREEMENT ON TARIFFS AND TRADE'}, {u'count': 15, u'term': u'STATE, DEPARTMENT OF'}, {u'count': 14, u'term': u'HEZBOLLAH'}, {u'count': 13, u'term': u'CONGRESS'}, {u'count': 12, u'term': u'ARAB LEAGUE'}]\n"
       ]
      }
     ],
     "prompt_number": 4
    },
    {
     "cell_type": "code",
     "collapsed": false,
     "input": [
      "print df"
     ],
     "language": "python",
     "metadata": {},
     "outputs": [
      {
       "output_type": "stream",
       "stream": "stdout",
       "text": [
        "         date                                                url  \\\n",
        "0  2007-12-23  http://www.nytimes.com/2007/12/23/opinion/23fr...   \n",
        "1  2007-12-19  http://www.nytimes.com/2007/12/19/opinion/19fr...   \n",
        "2  2007-12-16  http://www.nytimes.com/2007/12/16/opinion/16fr...   \n",
        "3  2007-12-12  http://www.nytimes.com/2007/12/12/opinion/12fr...   \n",
        "4  2007-12-09  http://www.nytimes.com/2007/12/09/opinion/09fr...   \n",
        "5  2007-12-05  http://www.nytimes.com/2007/12/05/opinion/05fr...   \n",
        "6  2007-12-02  http://www.nytimes.com/2007/12/02/business/col...   \n",
        "7  2007-11-28  http://www.nytimes.com/2007/11/28/opinion/28fr...   \n",
        "8  2007-11-25  http://www.nytimes.com/2007/11/25/opinion/25fr...   \n",
        "9  2007-11-21  http://www.nytimes.com/2007/11/21/opinion/21fr...   \n",
        "\n",
        "                                               title                 byline  \\\n",
        "0                OP-ED COLUMNIST; In The Age Of Noah  By THOMAS L. FRIEDMAN   \n",
        "1          OP-ED COLUMNIST; What Was That All About?  By THOMAS L. FRIEDMAN   \n",
        "2           OP-ED COLUMNIST; It's Too Late for Later  By THOMAS L. FRIEDMAN   \n",
        "3         OP-ED COLUMNIST; Losing Weight In the Gulf  By THOMAS L. FRIEDMAN   \n",
        "4          OP-ED COLUMNIST; Making Peace With Pieces  By THOMAS L. FRIEDMAN   \n",
        "5  OP-ED COLUMNIST; Intercepting Iran's Take On A...  By THOMAS L. FRIEDMAN   \n",
        "6  OP-ED COLUMNIST; The People We Have Been Waiti...  By THOMAS L. FRIEDMAN   \n",
        "7                  OP-ED COLUMNIST; Oasis Or Mirage?  By THOMAS L. FRIEDMAN   \n",
        "8     OP-ED COLUMNIST; The Case For Illegal Mingling  By THOMAS L. FRIEDMAN   \n",
        "9        OP-ED COLUMNIST; Debating Iraq's Transition  By THOMAS L. FRIEDMAN   \n",
        "\n",
        "                                                body  \\\n",
        "0  A couple of weeks ago, The Times's Jim Yardley...   \n",
        "1  As readers of this column know, I have a rule ...   \n",
        "2  The negotiators at the United Nations climate ...   \n",
        "3  Growing up in Minnesota, one of my favorite th...   \n",
        "4  One of the most telling but little-noted ironi...   \n",
        "5  There are two intelligence analyses that are r...   \n",
        "6  It was 60 degrees on Thursday in Washington, w...   \n",
        "7  The Middle East is experiencing something we h...   \n",
        "8  One of the most talked about stories in the Mi...   \n",
        "9  Watching Secretary of State Condoleezza Rice m...   \n",
        "\n",
        "                                            abstract word_count  multimedia  \\\n",
        "0  Thomas L Friedman Op-Ed column holds that with...        820         NaN   \n",
        "1  Thomas L Friedman Op-Ed article holds that rec...        839         NaN   \n",
        "2  Thomas L Friedman Op-Ed column on United Natio...        819         NaN   \n",
        "3  Thomas L Friedman Op-Ed column holds that Arab...        843         NaN   \n",
        "4  Thomas L Friedman Op-Ed column holds that abse...        789         NaN   \n",
        "5  Thomas L Friedman Op-Ed column imagines fictio...        768         NaN   \n",
        "6  Thomas L Friedman Op-Ed column notes that UN's...        795         NaN   \n",
        "7  Thomas L Friedman Op-Ed column welcomes news t...        837         NaN   \n",
        "8  Thomas L Friedman Op-Ed column holds that cent...        846         NaN   \n",
        "9  Thomas L Friedman Op-Ed column wonders why Sec...        834         NaN   \n",
        "\n",
        "                                           des_facet  \\\n",
        "0  ENDANGERED AND EXTINCT SPECIES; ANIMALS; CARBO...   \n",
        "1  ENERGY AND POWER; CARBON DIOXIDE; GLOBAL WARMI...   \n",
        "2       ENVIRONMENT; FLOODS; WEATHER; GLOBAL WARMING   \n",
        "3  EMBARGOES AND ECONOMIC SANCTIONS; INTERNATIONA...   \n",
        "4  POLITICS AND GOVERNMENT; CONVENTIONS AND CONFE...   \n",
        "5  UNITED STATES ARMAMENT AND DEFENSE; INTELLIGEN...   \n",
        "6                            WEATHER; GLOBAL WARMING   \n",
        "7  POLITICS AND GOVERNMENT; TERRORISM; UNITED STA...   \n",
        "8  SUNNI MUSLIMS; INTERNATIONAL RELATIONS; UNITED...   \n",
        "9  UNITED STATES ARMAMENT AND DEFENSE; TERRORISM;...   \n",
        "\n",
        "                                           geo_facet          per_facet  \\\n",
        "0                                              CHINA                NaN   \n",
        "1                                   BALI (INDONESIA)     BUSH, GEORGE W   \n",
        "2                        BALI (INDONESIA); INDONESIA                NaN   \n",
        "3                   CHINA; IRAN; RUSSIA; MIDDLE EAST     BUSH, GEORGE W   \n",
        "4  KUWAIT; ISRAEL; IRAQ; MIDDLE EAST; ANNAPOLIS (MD)                NaN   \n",
        "5                                UNITED STATES; IRAN                NaN   \n",
        "6                                                NaN                NaN   \n",
        "7                                ISRAEL; MIDDLE EAST     BUSH, GEORGE W   \n",
        "8                    SAUDI ARABIA; IRAQ; MIDDLE EAST                NaN   \n",
        "9                                       ISRAEL; IRAQ  RICE, CONDOLEEZZA   \n",
        "\n",
        "                                           org_facet       nytd_section_facet  \\\n",
        "0                                                NaN                  Opinion   \n",
        "1                                                NaN                  Opinion   \n",
        "2                                     UNITED NATIONS                  Opinion   \n",
        "3                                                NaN                  Opinion   \n",
        "4                                                NaN                  Opinion   \n",
        "5                                                NaN                  Opinion   \n",
        "6  INTERGOVERNMENTAL PANEL ON CLIMATE CHANGE; UNI...                  Opinion   \n",
        "7                                                NaN                  Opinion   \n",
        "8                                                NaN  Week in Review; Opinion   \n",
        "9                                                NaN                  Opinion   \n",
        "\n",
        "      column_facet                                  classifiers_facet  \\\n",
        "0  OP-ED COLUMNIST  Top/Opinion; Top/News; Top/News/World/Countrie...   \n",
        "1  OP-ED COLUMNIST  Top/Features/Travel/Guides/Destinations/Asia/I...   \n",
        "2  OP-ED COLUMNIST  Top/Features/Travel/Guides/Destinations/Asia/I...   \n",
        "3  OP-ED COLUMNIST  Top/Opinion; Top/Features/Travel/Guides/Destin...   \n",
        "4  OP-ED COLUMNIST  Top/Features/Travel/Guides/Destinations/Middle...   \n",
        "5  OP-ED COLUMNIST  Top/News/World/Countries and Territories/Unite...   \n",
        "6  OP-ED COLUMNIST  Top/Opinion; Top/Opinion/Opinion/Op-Ed/Columni...   \n",
        "7  OP-ED COLUMNIST  Top/Features/Travel/Guides/Destinations/Middle...   \n",
        "8  OP-ED COLUMNIST  Top/Features/Travel/Guides/Destinations/Middle...   \n",
        "9  OP-ED COLUMNIST  Top/Features/Travel/Guides/Destinations/Middle...   \n",
        "\n",
        "  page_facet  \n",
        "0          8  \n",
        "1         37  \n",
        "2         10  \n",
        "3         35  \n",
        "4         10  \n",
        "5         31  \n",
        "6         11  \n",
        "7         31  \n",
        "8         11  \n",
        "9         27  \n"
       ]
      }
     ],
     "prompt_number": 6
    },
    {
     "cell_type": "code",
     "collapsed": false,
     "input": [],
     "language": "python",
     "metadata": {},
     "outputs": []
    }
   ],
   "metadata": {}
  }
 ]
}