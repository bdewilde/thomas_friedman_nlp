{
 "metadata": {
  "name": ""
 },
 "nbformat": 3,
 "nbformat_minor": 0,
 "worksheets": [
  {
   "cells": [
    {
     "cell_type": "markdown",
     "metadata": {},
     "source": [
      "---\n",
      "\n",
      "## Intermediate Natural Language Processing, Part 1\n",
      "\n",
      "---"
     ]
    },
    {
     "cell_type": "code",
     "collapsed": false,
     "input": [
      "from hiPy import hi_nyt\n",
      "reload(hi_nyt)\n",
      "import yaml"
     ],
     "language": "python",
     "metadata": {},
     "outputs": [],
     "prompt_number": 146
    },
    {
     "cell_type": "code",
     "collapsed": false,
     "input": [
      "config = yaml.load(open('config.yaml').read())"
     ],
     "language": "python",
     "metadata": {},
     "outputs": [],
     "prompt_number": 8
    },
    {
     "cell_type": "code",
     "collapsed": false,
     "input": [
      "all_docs = hi_nyt.query_nyt_article_search('\"thomas l. friedman\"',\n",
      "                                           config['nyt_api_key'],\n",
      "                                           max_pages=20)"
     ],
     "language": "python",
     "metadata": {},
     "outputs": [
      {
       "output_type": "stream",
       "stream": "stdout",
       "text": [
        "\n",
        "*INFO: query = \"thomas l. friedman\"\n",
        "*INFO: url = http://api.nytimes.com/svc/search/v2/articlesearch.json?q=%22thomas+l.+friedman%22&sort=newest&begin_date=18510918&api-key=f28d40af5370f79078fc5eb7ffd97049%3A17%3A49171679&end_date=20130820&facet_filter=true&fl=web_url%2Csnippet%2Clead_paragraph%2Cabstract%2Cprint_page%2Cblog%2Csource%2Cmultimedia%2Cheadline%2Ckeywords%2Cpub_date%2Cdocument_type%2Cnews_desk%2Cbyline%2Ctype_of_material%2C_id%2Cword_count&page=0&facet_field=source%2Csection_name%2Cdocument_type%2Ctype_of_material%2Cday_of_week\n",
        "*INFO: n_total_results = 6852 \n",
        "\n",
        "facet                           count \n",
        "-------------------------------------\n",
        "type_of_material..............   6846\n",
        "   News.......................   1977\n",
        "   Op-Ed......................   1911\n",
        "   Letter.....................   1089\n",
        "   Summary....................   1073\n",
        "   List.......................    304\n",
        "source........................   6846\n",
        "   The New York Times.........   6840\n",
        "   ...........................      3\n",
        "   International Herald Tribu*      2\n",
        "   CNBC.......................      1\n",
        "document_type.................   6852\n",
        "   article....................   6650\n",
        "   blogpost...................    187\n",
        "   multimedia.................     15\n",
        "section_name..................   6837\n",
        "   Opinion....................   3118\n",
        "   New York and Region........   1097\n",
        "   World......................    553\n",
        "   World; Washington..........    483\n",
        "   Arts; Books................    361\n",
        "day_of_week...................   6852\n",
        "   Sunday.....................   1755\n",
        "   Wednesday..................   1558\n",
        "   Friday.....................   1049\n",
        "   Tuesday....................    833\n",
        "   Thursday...................    748\n",
        "\n",
        "... n_results = 0\n",
        "... url = http://api.nytimes.com/svc/search/v2/articlesearch.json?q=%22thomas+l.+friedman%22&sort=newest&begin_date=18510918&api-key=f28d40af5370f79078fc5eb7ffd97049%3A17%3A49171679&end_date=20130820&facet_filter=true&fl=web_url%2Csnippet%2Clead_paragraph%2Cabstract%2Cprint_page%2Cblog%2Csource%2Cmultimedia%2Cheadline%2Ckeywords%2Cpub_date%2Cdocument_type%2Cnews_desk%2Cbyline%2Ctype_of_material%2C_id%2Cword_count&page=0&facet_field=source%2Csection_name%2Cdocument_type%2Ctype_of_material%2Cday_of_week\n",
        "... last_date = 2013-08-14T00:00:00Z\n",
        "\n",
        "... n_results ="
       ]
      },
      {
       "output_type": "stream",
       "stream": "stdout",
       "text": [
        " 60\n",
        "... url = http://api.nytimes.com/svc/search/v2/articlesearch.json?q=%22thomas+l.+friedman%22&sort=newest&begin_date=18510918&api-key=f28d40af5370f79078fc5eb7ffd97049%3A17%3A49171679&end_date=20130820&facet_filter=true&fl=web_url%2Csnippet%2Clead_paragraph%2Cabstract%2Cprint_page%2Cblog%2Csource%2Cmultimedia%2Cheadline%2Ckeywords%2Cpub_date%2Cdocument_type%2Cnews_desk%2Cbyline%2Ctype_of_material%2C_id%2Cword_count&page=6&facet_field=source%2Csection_name%2Cdocument_type%2Ctype_of_material%2Cday_of_week\n",
        "... last_date = 2013-02-03T00:00:00Z\n",
        "\n",
        "... n_results ="
       ]
      },
      {
       "output_type": "stream",
       "stream": "stdout",
       "text": [
        " 120\n",
        "... url = http://api.nytimes.com/svc/search/v2/articlesearch.json?q=%22thomas+l.+friedman%22&sort=newest&begin_date=18510918&api-key=f28d40af5370f79078fc5eb7ffd97049%3A17%3A49171679&end_date=20130820&facet_filter=true&fl=web_url%2Csnippet%2Clead_paragraph%2Cabstract%2Cprint_page%2Cblog%2Csource%2Cmultimedia%2Cheadline%2Ckeywords%2Cpub_date%2Cdocument_type%2Cnews_desk%2Cbyline%2Ctype_of_material%2C_id%2Cword_count&page=12&facet_field=source%2Csection_name%2Cdocument_type%2Ctype_of_material%2Cday_of_week\n",
        "... last_date = 2012-08-28T00:00:00Z\n",
        "\n",
        "... n_results ="
       ]
      },
      {
       "output_type": "stream",
       "stream": "stdout",
       "text": [
        " 180\n",
        "... url = http://api.nytimes.com/svc/search/v2/articlesearch.json?q=%22thomas+l.+friedman%22&sort=newest&begin_date=18510918&api-key=f28d40af5370f79078fc5eb7ffd97049%3A17%3A49171679&end_date=20130820&facet_filter=true&fl=web_url%2Csnippet%2Clead_paragraph%2Cabstract%2Cprint_page%2Cblog%2Csource%2Cmultimedia%2Cheadline%2Ckeywords%2Cpub_date%2Cdocument_type%2Cnews_desk%2Cbyline%2Ctype_of_material%2C_id%2Cword_count&page=18&facet_field=source%2Csection_name%2Cdocument_type%2Ctype_of_material%2Cday_of_week\n",
        "... last_date = 2012-05-29T00:00:00Z\n"
       ]
      }
     ],
     "prompt_number": 147
    }
   ],
   "metadata": {}
  }
 ]
}