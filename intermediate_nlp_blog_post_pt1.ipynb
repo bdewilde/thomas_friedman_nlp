{
 "metadata": {
  "name": "intermediate_nlp_blog_post_pt1"
 },
 "nbformat": 3,
 "nbformat_minor": 0,
 "worksheets": [
  {
   "cells": [
    {
     "cell_type": "markdown",
     "metadata": {},
     "source": [
      "---\n",
      "\n",
      "## Intermediate Natural Language Processing, Part 1\n",
      "\n",
      "---"
     ]
    },
    {
     "cell_type": "code",
     "collapsed": false,
     "input": [
      "from hiPy import hi_nyt"
     ],
     "language": "python",
     "metadata": {},
     "outputs": [],
     "prompt_number": 2
    },
    {
     "cell_type": "code",
     "collapsed": false,
     "input": [
      "df = hi_nyt.query_nyt_article_search('byline:\"thomas l. friedman\"',\n",
      "                                     nyt_api_key,\n",
      "                                     max_iters=1)"
     ],
     "language": "python",
     "metadata": {},
     "outputs": [
      {
       "ename": "NameError",
       "evalue": "name 'nyt_api_key' is not defined",
       "output_type": "pyerr",
       "traceback": [
        "\u001b[0;31m---------------------------------------------------------------------------\u001b[0m\n\u001b[0;31mNameError\u001b[0m                                 Traceback (most recent call last)",
        "\u001b[0;32m<ipython-input-7-7431056a4c80>\u001b[0m in \u001b[0;36m<module>\u001b[0;34m()\u001b[0m\n\u001b[1;32m      1\u001b[0m df = hi_nyt.query_nyt_article_search('byline:\"thomas l. friedman\"',\n\u001b[0;32m----> 2\u001b[0;31m                                      \u001b[0mnyt_api_key\u001b[0m\u001b[0;34m,\u001b[0m\u001b[0;34m\u001b[0m\u001b[0m\n\u001b[0m\u001b[1;32m      3\u001b[0m                                      max_iters=1)\n",
        "\u001b[0;31mNameError\u001b[0m: name 'nyt_api_key' is not defined"
       ]
      }
     ],
     "prompt_number": 7
    },
    {
     "cell_type": "code",
     "collapsed": false,
     "input": [
      "print df"
     ],
     "language": "python",
     "metadata": {},
     "outputs": [
      {
       "output_type": "stream",
       "stream": "stdout",
       "text": [
        "         date                                                url  \\\n",
        "0  2007-12-23  http://www.nytimes.com/2007/12/23/opinion/23fr...   \n",
        "1  2007-12-19  http://www.nytimes.com/2007/12/19/opinion/19fr...   \n",
        "2  2007-12-16  http://www.nytimes.com/2007/12/16/opinion/16fr...   \n",
        "3  2007-12-12  http://www.nytimes.com/2007/12/12/opinion/12fr...   \n",
        "4  2007-12-09  http://www.nytimes.com/2007/12/09/opinion/09fr...   \n",
        "5  2007-12-05  http://www.nytimes.com/2007/12/05/opinion/05fr...   \n",
        "6  2007-12-02  http://www.nytimes.com/2007/12/02/business/col...   \n",
        "7  2007-11-28  http://www.nytimes.com/2007/11/28/opinion/28fr...   \n",
        "8  2007-11-25  http://www.nytimes.com/2007/11/25/opinion/25fr...   \n",
        "9  2007-11-21  http://www.nytimes.com/2007/11/21/opinion/21fr...   \n",
        "\n",
        "                                               title                 byline  \\\n",
        "0                OP-ED COLUMNIST; In The Age Of Noah  By THOMAS L. FRIEDMAN   \n",
        "1          OP-ED COLUMNIST; What Was That All About?  By THOMAS L. FRIEDMAN   \n",
        "2           OP-ED COLUMNIST; It's Too Late for Later  By THOMAS L. FRIEDMAN   \n",
        "3         OP-ED COLUMNIST; Losing Weight In the Gulf  By THOMAS L. FRIEDMAN   \n",
        "4          OP-ED COLUMNIST; Making Peace With Pieces  By THOMAS L. FRIEDMAN   \n",
        "5  OP-ED COLUMNIST; Intercepting Iran's Take On A...  By THOMAS L. FRIEDMAN   \n",
        "6  OP-ED COLUMNIST; The People We Have Been Waiti...  By THOMAS L. FRIEDMAN   \n",
        "7                  OP-ED COLUMNIST; Oasis Or Mirage?  By THOMAS L. FRIEDMAN   \n",
        "8     OP-ED COLUMNIST; The Case For Illegal Mingling  By THOMAS L. FRIEDMAN   \n",
        "9        OP-ED COLUMNIST; Debating Iraq's Transition  By THOMAS L. FRIEDMAN   \n",
        "\n",
        "                                                body  \\\n",
        "0  A couple of weeks ago, The Times's Jim Yardley...   \n",
        "1  As readers of this column know, I have a rule ...   \n",
        "2  The negotiators at the United Nations climate ...   \n",
        "3  Growing up in Minnesota, one of my favorite th...   \n",
        "4  One of the most telling but little-noted ironi...   \n",
        "5  There are two intelligence analyses that are r...   \n",
        "6  It was 60 degrees on Thursday in Washington, w...   \n",
        "7  The Middle East is experiencing something we h...   \n",
        "8  One of the most talked about stories in the Mi...   \n",
        "9  Watching Secretary of State Condoleezza Rice m...   \n",
        "\n",
        "                                            abstract word_count  multimedia  \\\n",
        "0  Thomas L Friedman Op-Ed column holds that with...        820         NaN   \n",
        "1  Thomas L Friedman Op-Ed article holds that rec...        839         NaN   \n",
        "2  Thomas L Friedman Op-Ed column on United Natio...        819         NaN   \n",
        "3  Thomas L Friedman Op-Ed column holds that Arab...        843         NaN   \n",
        "4  Thomas L Friedman Op-Ed column holds that abse...        789         NaN   \n",
        "5  Thomas L Friedman Op-Ed column imagines fictio...        768         NaN   \n",
        "6  Thomas L Friedman Op-Ed column notes that UN's...        795         NaN   \n",
        "7  Thomas L Friedman Op-Ed column welcomes news t...        837         NaN   \n",
        "8  Thomas L Friedman Op-Ed column holds that cent...        846         NaN   \n",
        "9  Thomas L Friedman Op-Ed column wonders why Sec...        834         NaN   \n",
        "\n",
        "                                           des_facet  \\\n",
        "0  ENDANGERED AND EXTINCT SPECIES; ANIMALS; CARBO...   \n",
        "1  ENERGY AND POWER; CARBON DIOXIDE; GLOBAL WARMI...   \n",
        "2       ENVIRONMENT; FLOODS; WEATHER; GLOBAL WARMING   \n",
        "3  EMBARGOES AND ECONOMIC SANCTIONS; INTERNATIONA...   \n",
        "4  POLITICS AND GOVERNMENT; CONVENTIONS AND CONFE...   \n",
        "5  UNITED STATES ARMAMENT AND DEFENSE; INTELLIGEN...   \n",
        "6                            WEATHER; GLOBAL WARMING   \n",
        "7  POLITICS AND GOVERNMENT; TERRORISM; UNITED STA...   \n",
        "8  SUNNI MUSLIMS; INTERNATIONAL RELATIONS; UNITED...   \n",
        "9  UNITED STATES ARMAMENT AND DEFENSE; TERRORISM;...   \n",
        "\n",
        "                                           geo_facet          per_facet  \\\n",
        "0                                              CHINA                NaN   \n",
        "1                                   BALI (INDONESIA)     BUSH, GEORGE W   \n",
        "2                        BALI (INDONESIA); INDONESIA                NaN   \n",
        "3                   CHINA; IRAN; RUSSIA; MIDDLE EAST     BUSH, GEORGE W   \n",
        "4  KUWAIT; ISRAEL; IRAQ; MIDDLE EAST; ANNAPOLIS (MD)                NaN   \n",
        "5                                UNITED STATES; IRAN                NaN   \n",
        "6                                                NaN                NaN   \n",
        "7                                ISRAEL; MIDDLE EAST     BUSH, GEORGE W   \n",
        "8                    SAUDI ARABIA; IRAQ; MIDDLE EAST                NaN   \n",
        "9                                       ISRAEL; IRAQ  RICE, CONDOLEEZZA   \n",
        "\n",
        "                                           org_facet       nytd_section_facet  \\\n",
        "0                                                NaN                  Opinion   \n",
        "1                                                NaN                  Opinion   \n",
        "2                                     UNITED NATIONS                  Opinion   \n",
        "3                                                NaN                  Opinion   \n",
        "4                                                NaN                  Opinion   \n",
        "5                                                NaN                  Opinion   \n",
        "6  INTERGOVERNMENTAL PANEL ON CLIMATE CHANGE; UNI...                  Opinion   \n",
        "7                                                NaN                  Opinion   \n",
        "8                                                NaN  Week in Review; Opinion   \n",
        "9                                                NaN                  Opinion   \n",
        "\n",
        "      column_facet                                  classifiers_facet  \\\n",
        "0  OP-ED COLUMNIST  Top/Opinion; Top/News; Top/News/World/Countrie...   \n",
        "1  OP-ED COLUMNIST  Top/Features/Travel/Guides/Destinations/Asia/I...   \n",
        "2  OP-ED COLUMNIST  Top/Features/Travel/Guides/Destinations/Asia/I...   \n",
        "3  OP-ED COLUMNIST  Top/Opinion; Top/Features/Travel/Guides/Destin...   \n",
        "4  OP-ED COLUMNIST  Top/Features/Travel/Guides/Destinations/Middle...   \n",
        "5  OP-ED COLUMNIST  Top/News/World/Countries and Territories/Unite...   \n",
        "6  OP-ED COLUMNIST  Top/Opinion; Top/Opinion/Opinion/Op-Ed/Columni...   \n",
        "7  OP-ED COLUMNIST  Top/Features/Travel/Guides/Destinations/Middle...   \n",
        "8  OP-ED COLUMNIST  Top/Features/Travel/Guides/Destinations/Middle...   \n",
        "9  OP-ED COLUMNIST  Top/Features/Travel/Guides/Destinations/Middle...   \n",
        "\n",
        "  page_facet  \n",
        "0          8  \n",
        "1         37  \n",
        "2         10  \n",
        "3         35  \n",
        "4         10  \n",
        "5         31  \n",
        "6         11  \n",
        "7         31  \n",
        "8         11  \n",
        "9         27  \n"
       ]
      }
     ],
     "prompt_number": 6
    },
    {
     "cell_type": "code",
     "collapsed": false,
     "input": [],
     "language": "python",
     "metadata": {},
     "outputs": []
    }
   ],
   "metadata": {}
  }
 ]
}